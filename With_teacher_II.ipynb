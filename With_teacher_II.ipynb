{
 "cells": [
  {
   "cell_type": "markdown",
   "metadata": {},
   "source": [
    "<span style=\"color: blue; font-size: 20px; font-weight: bold;\">Комментарий ревьюера</span>\n",
    "\n",
    "<span style=\"color: blue\">Привет, Павел! Меня зовут Павел Григорьев, и я буду проверять этот проект.<br>Моя основная цель - не указать на совершённые тобой ошибки, а поделиться своим опытом и помочь тебе совершенствоваться как профессионалу.<br>Спасибо за проделанную работу! Предлагаю общаться на «ты».</span>\n",
    "<details>\n",
    "\t<summary><u>Инструкция по организационным моментам (кликабельно)</u>⤵</summary>\n",
    "<span style=\"color: blue\">Я буду использовать различные цвета, чтобы было удобнее воспринимать мои комментарии:</span>\n",
    "\n",
    "\n",
    "---\n",
    "\n",
    "\n",
    "<span style=\"color: blue\">синий текст - просто текст комментария</span>\n",
    "\n",
    "<span style=\"color: green\">✔️ и зеленый текст - все отлично</span>\n",
    "\n",
    "<span style=\"color: orange\">⚠️ и оранжевый текст - сделано все правильно, однако есть рекомендации, на что стоит обратить внимание</span>\n",
    "\n",
    "<span style=\"color: red\">❌ и красный текст - есть недочеты</span>\n",
    "\n",
    "\n",
    "</details>    \n",
    "</br>\n",
    "<span style=\"color: blue\">Пожалуйста, не удаляй мои комментарии в случае возврата работы, так будет проще разобраться, какие были недочеты, а также сразу увидеть исправленное.</span>\n",
    "\n",
    "<span style=\"color: blue\">Ответы на мои комментарии лучше тоже помечать.<br>\n",
    "Например: </span><br><span style=\"color: purple; font-weight: bold\">Комментарий студента</span>\n",
    "\n",
    "<span style=\"color: blue; font-weight: bold;\">Давай смотреть, что получилось!</span>"
   ]
  },
  {
   "cell_type": "markdown",
   "metadata": {},
   "source": [
    "<span style=\"color: blue; font-size: 18px; font-weight: bold;\">Комментарий ревьюера 2</span>\n",
    "\n",
    "<span style=\"color: blue\">Привет еще раз. Спасибо, за исправления. Оформление комментариев по работе сохраняется. Только обозначим, что это вторая итерация.</span> "
   ]
  },
  {
   "cell_type": "markdown",
   "metadata": {},
   "source": [
    "# Исследование для магазина \"В один клик\"\n",
    "\n",
    "Интернет магазин занимается продажей различных товаров, отчёты показывают снижение покупательской активности. Необходимо провести исследование, построить модель и с её помощью предсказать изменение покупательской активности, далее сегментировать покупателей и выработать рекомендации для увеличения покупательской активности."
   ]
  },
  {
   "cell_type": "markdown",
   "metadata": {},
   "source": [
    "## Открываем данные"
   ]
  },
  {
   "cell_type": "markdown",
   "metadata": {},
   "source": [
    "Данные предоставленные заказчиком содержаться в четырёх файлах, в первом общие данные о покупателях, во втором и в третьем данные о времени проведённом на сайте и потраченных деньгах. В четвёртом файле содержится информация о совокупной выручке."
   ]
  },
  {
   "cell_type": "markdown",
   "metadata": {},
   "source": [
    "Импортируем все инструменты необходимые для работы."
   ]
  },
  {
   "cell_type": "code",
   "execution_count": 1,
   "metadata": {
    "ExecuteTime": {
     "end_time": "2025-01-19T08:02:00.868330Z",
     "start_time": "2025-01-19T08:02:00.315243Z"
    }
   },
   "outputs": [],
   "source": [
    "import pandas as pd\n",
    "import matplotlib.pyplot as plt\n",
    "import numpy as np\n",
    "import os\n",
    "import scipy as sp\n",
    "import seaborn as sns\n",
    "import sklearn\n",
    "try:\n",
    "  import shap\n",
    "except:\n",
    "  !pip install shap\n",
    "  import shap\n",
    "\n",
    "# from holoviews.ipython import display\n",
    "\n",
    "try:\n",
    "    import statsmodels\n",
    "except:\n",
    "    !pip install statsmodels\n",
    "\n",
    "from statsmodels.sandbox.panel.sandwich_covariance_generic import kernel"
   ]
  },
  {
   "cell_type": "markdown",
   "metadata": {},
   "source": [
    "<font color='blue'><b>Комментарий ревьюера: </b></font> ❌\\\n",
    "<font color='red'> Ошибка исполнения кода - не все модули установлены!</font>"
   ]
  },
  {
   "cell_type": "markdown",
   "metadata": {},
   "source": [
    "<font color='blue'><b>Комментарий ревьюера 2: </b></font> ❌\\\n",
    "<font color='red'>\n",
    "Павел, при перезапуске кода на платформе он упал с ошибкой. Перед отправкой проекта стоит проверять работоспособность кода — это можно сделать, нажав на панели Jupiter Hub ``Kernel`` и ``Restart & Run All`` (см скриншот ниже).\n",
    "\n",
    "![](https://i.postimg.cc/yd19rYf6/Screenshot-428.png)\n",
    "        \n",
    "Важно также убедиться, что все ячейки проекта исполнились - можно просто пролистать работу до конца и убедиться, что последняя ячейка исполнена. Такая проверка поможет тебе убедиться, что твоё решение будет должным образом воспроизведено во время ревью или во время передачи его заказчику - это очень важный этап, пренебрегать которым не стоит:)\n",
    "    \n",
    "Обрати также внимание, что если твой проект без ошибок работает локально, это не значит, что на платформе будет так же - есть разные окружения, платформа имитирует окружение заказчика, и мы должны обеспечить работоспособность нашего решения на окружении заказчика в первую очередь.\n",
    "\n",
    "Так же, в начале курса, выдаётся файл для установки копии окружения Практикума, можно поднимать ядро для проверки локально. https://code.s3.yandex.net/data-analyst/da_practicum_env.yml </font>"
   ]
  },
  {
   "cell_type": "code",
   "execution_count": 2,
   "metadata": {
    "ExecuteTime": {
     "end_time": "2025-01-18T17:24:19.597697Z",
     "start_time": "2025-01-18T17:24:19.594554Z"
    }
   },
   "outputs": [],
   "source": [
    "from sklearn.model_selection import train_test_split\n",
    "from sklearn.pipeline import Pipeline\n",
    "from sklearn.compose import ColumnTransformer\n",
    "from sklearn.impute import SimpleImputer\n",
    "\n",
    "from sklearn.preprocessing import (\n",
    "    OneHotEncoder,\n",
    "    OrdinalEncoder,\n",
    "    StandardScaler,\n",
    "    MinMaxScaler,\n",
    "    RobustScaler\n",
    ")\n",
    "from sklearn.model_selection import GridSearchCV\n",
    "\n",
    "# загружаем класс для работы с пропусками\n",
    "from sklearn.impute import SimpleImputer\n",
    "\n",
    "# загружаем нужные метрики\n",
    "from sklearn.metrics import roc_auc_score\n",
    "from sklearn.metrics import f1_score\n",
    "from sklearn.tree import DecisionTreeClassifier\n",
    "from sklearn.neighbors import KNeighborsClassifier\n",
    "from sklearn.svm import SVC\n",
    "from sklearn.linear_model import LogisticRegression\n",
    "from sklearn.inspection import permutation_importance\n",
    "\n",
    "from sklearn.cluster import KMeans"
   ]
  },
  {
   "cell_type": "code",
   "execution_count": 3,
   "metadata": {
    "ExecuteTime": {
     "end_time": "2025-01-18T16:30:41.671659Z",
     "start_time": "2025-01-18T16:30:41.581949Z"
    }
   },
   "outputs": [],
   "source": [
    "import phik\n",
    "from phik.report import plot_correlation_matrix"
   ]
  },
  {
   "cell_type": "markdown",
   "metadata": {},
   "source": [
    "<font color='blue'><b>Комментарий ревьюера: </b></font> ✔️\\\n",
    "<font color='green'> Хорошее оформление импортов! \\\n",
    "Но их лучше собрать в одной ячейке и разделить на функциональные группы пустой строкой.</font>"
   ]
  },
  {
   "cell_type": "markdown",
   "metadata": {},
   "source": [
    "Импорт данных"
   ]
  },
  {
   "cell_type": "code",
   "execution_count": 4,
   "metadata": {
    "ExecuteTime": {
     "end_time": "2025-01-18T16:30:41.711887Z",
     "start_time": "2025-01-18T16:30:41.695601Z"
    }
   },
   "outputs": [],
   "source": [
    "try:\n",
    "    market = pd.read_csv('/datasets/market_file.csv', sep=',', decimal='.')\n",
    "    market_money = pd.read_csv('/datasets/market_money.csv', sep=',', decimal='.')\n",
    "    market_time = pd.read_csv('/datasets/market_time.csv', sep=',', decimal='.')\n",
    "    money = pd.read_csv('/datasets/money.csv', sep=';', decimal=',')\n",
    "except:\n",
    "    market = pd.read_csv('market_file.csv', sep=',', decimal='.')\n",
    "    market_money = pd.read_csv('market_money.csv', sep=',', decimal='.')\n",
    "    market_time = pd.read_csv('market_time.csv', sep=',', decimal='.')\n",
    "    money = pd.read_csv('money.csv', sep=';', decimal=',')"
   ]
  },
  {
   "cell_type": "markdown",
   "metadata": {},
   "source": [
    "<font color='blue'><b>Комментарий ревьюера: </b></font> ✔️\\\n",
    "<font color='green'>Отлично, что есть вариативность по источникам загрузки данных!</font>"
   ]
  },
  {
   "cell_type": "code",
   "execution_count": 5,
   "metadata": {
    "ExecuteTime": {
     "end_time": "2025-01-18T16:30:41.791465Z",
     "start_time": "2025-01-18T16:30:41.775020Z"
    }
   },
   "outputs": [
    {
     "data": {
      "text/html": [
       "<div>\n",
       "<style scoped>\n",
       "    .dataframe tbody tr th:only-of-type {\n",
       "        vertical-align: middle;\n",
       "    }\n",
       "\n",
       "    .dataframe tbody tr th {\n",
       "        vertical-align: top;\n",
       "    }\n",
       "\n",
       "    .dataframe thead th {\n",
       "        text-align: right;\n",
       "    }\n",
       "</style>\n",
       "<table border=\"1\" class=\"dataframe\">\n",
       "  <thead>\n",
       "    <tr style=\"text-align: right;\">\n",
       "      <th></th>\n",
       "      <th>id</th>\n",
       "      <th>Маркет_актив_6_мес</th>\n",
       "      <th>Маркет_актив_тек_мес</th>\n",
       "      <th>Длительность</th>\n",
       "      <th>Акционные_покупки</th>\n",
       "      <th>Средний_просмотр_категорий_за_визит</th>\n",
       "      <th>Неоплаченные_продукты_штук_квартал</th>\n",
       "      <th>Ошибка_сервиса</th>\n",
       "      <th>Страниц_за_визит</th>\n",
       "    </tr>\n",
       "  </thead>\n",
       "  <tbody>\n",
       "    <tr>\n",
       "      <th>count</th>\n",
       "      <td>1300.000000</td>\n",
       "      <td>1300.000000</td>\n",
       "      <td>1300.000000</td>\n",
       "      <td>1300.000000</td>\n",
       "      <td>1300.000000</td>\n",
       "      <td>1300.00000</td>\n",
       "      <td>1300.000000</td>\n",
       "      <td>1300.000000</td>\n",
       "      <td>1300.000000</td>\n",
       "    </tr>\n",
       "    <tr>\n",
       "      <th>mean</th>\n",
       "      <td>215997.500000</td>\n",
       "      <td>4.253769</td>\n",
       "      <td>4.011538</td>\n",
       "      <td>601.898462</td>\n",
       "      <td>0.319808</td>\n",
       "      <td>3.27000</td>\n",
       "      <td>2.840000</td>\n",
       "      <td>4.185385</td>\n",
       "      <td>8.176923</td>\n",
       "    </tr>\n",
       "    <tr>\n",
       "      <th>std</th>\n",
       "      <td>375.421985</td>\n",
       "      <td>1.014814</td>\n",
       "      <td>0.696868</td>\n",
       "      <td>249.856289</td>\n",
       "      <td>0.249843</td>\n",
       "      <td>1.35535</td>\n",
       "      <td>1.971451</td>\n",
       "      <td>1.955298</td>\n",
       "      <td>3.978126</td>\n",
       "    </tr>\n",
       "    <tr>\n",
       "      <th>min</th>\n",
       "      <td>215348.000000</td>\n",
       "      <td>0.900000</td>\n",
       "      <td>3.000000</td>\n",
       "      <td>110.000000</td>\n",
       "      <td>0.000000</td>\n",
       "      <td>1.00000</td>\n",
       "      <td>0.000000</td>\n",
       "      <td>0.000000</td>\n",
       "      <td>1.000000</td>\n",
       "    </tr>\n",
       "    <tr>\n",
       "      <th>25%</th>\n",
       "      <td>215672.750000</td>\n",
       "      <td>3.700000</td>\n",
       "      <td>4.000000</td>\n",
       "      <td>405.500000</td>\n",
       "      <td>0.170000</td>\n",
       "      <td>2.00000</td>\n",
       "      <td>1.000000</td>\n",
       "      <td>3.000000</td>\n",
       "      <td>5.000000</td>\n",
       "    </tr>\n",
       "    <tr>\n",
       "      <th>50%</th>\n",
       "      <td>215997.500000</td>\n",
       "      <td>4.200000</td>\n",
       "      <td>4.000000</td>\n",
       "      <td>606.000000</td>\n",
       "      <td>0.240000</td>\n",
       "      <td>3.00000</td>\n",
       "      <td>3.000000</td>\n",
       "      <td>4.000000</td>\n",
       "      <td>8.000000</td>\n",
       "    </tr>\n",
       "    <tr>\n",
       "      <th>75%</th>\n",
       "      <td>216322.250000</td>\n",
       "      <td>4.900000</td>\n",
       "      <td>4.000000</td>\n",
       "      <td>806.000000</td>\n",
       "      <td>0.300000</td>\n",
       "      <td>4.00000</td>\n",
       "      <td>4.000000</td>\n",
       "      <td>6.000000</td>\n",
       "      <td>11.000000</td>\n",
       "    </tr>\n",
       "    <tr>\n",
       "      <th>max</th>\n",
       "      <td>216647.000000</td>\n",
       "      <td>6.600000</td>\n",
       "      <td>5.000000</td>\n",
       "      <td>1079.000000</td>\n",
       "      <td>0.990000</td>\n",
       "      <td>6.00000</td>\n",
       "      <td>10.000000</td>\n",
       "      <td>9.000000</td>\n",
       "      <td>20.000000</td>\n",
       "    </tr>\n",
       "  </tbody>\n",
       "</table>\n",
       "</div>"
      ],
      "text/plain": [
       "                  id  Маркет_актив_6_мес  Маркет_актив_тек_мес  Длительность  \\\n",
       "count    1300.000000         1300.000000           1300.000000   1300.000000   \n",
       "mean   215997.500000            4.253769              4.011538    601.898462   \n",
       "std       375.421985            1.014814              0.696868    249.856289   \n",
       "min    215348.000000            0.900000              3.000000    110.000000   \n",
       "25%    215672.750000            3.700000              4.000000    405.500000   \n",
       "50%    215997.500000            4.200000              4.000000    606.000000   \n",
       "75%    216322.250000            4.900000              4.000000    806.000000   \n",
       "max    216647.000000            6.600000              5.000000   1079.000000   \n",
       "\n",
       "       Акционные_покупки  Средний_просмотр_категорий_за_визит  \\\n",
       "count        1300.000000                           1300.00000   \n",
       "mean            0.319808                              3.27000   \n",
       "std             0.249843                              1.35535   \n",
       "min             0.000000                              1.00000   \n",
       "25%             0.170000                              2.00000   \n",
       "50%             0.240000                              3.00000   \n",
       "75%             0.300000                              4.00000   \n",
       "max             0.990000                              6.00000   \n",
       "\n",
       "       Неоплаченные_продукты_штук_квартал  Ошибка_сервиса  Страниц_за_визит  \n",
       "count                         1300.000000     1300.000000       1300.000000  \n",
       "mean                             2.840000        4.185385          8.176923  \n",
       "std                              1.971451        1.955298          3.978126  \n",
       "min                              0.000000        0.000000          1.000000  \n",
       "25%                              1.000000        3.000000          5.000000  \n",
       "50%                              3.000000        4.000000          8.000000  \n",
       "75%                              4.000000        6.000000         11.000000  \n",
       "max                             10.000000        9.000000         20.000000  "
      ]
     },
     "execution_count": 5,
     "metadata": {},
     "output_type": "execute_result"
    }
   ],
   "source": [
    "market.describe()"
   ]
  },
  {
   "cell_type": "code",
   "execution_count": 6,
   "metadata": {
    "ExecuteTime": {
     "end_time": "2025-01-18T16:30:41.869200Z",
     "start_time": "2025-01-18T16:30:41.860024Z"
    }
   },
   "outputs": [
    {
     "data": {
      "text/html": [
       "<div>\n",
       "<style scoped>\n",
       "    .dataframe tbody tr th:only-of-type {\n",
       "        vertical-align: middle;\n",
       "    }\n",
       "\n",
       "    .dataframe tbody tr th {\n",
       "        vertical-align: top;\n",
       "    }\n",
       "\n",
       "    .dataframe thead th {\n",
       "        text-align: right;\n",
       "    }\n",
       "</style>\n",
       "<table border=\"1\" class=\"dataframe\">\n",
       "  <thead>\n",
       "    <tr style=\"text-align: right;\">\n",
       "      <th></th>\n",
       "      <th>id</th>\n",
       "      <th>Выручка</th>\n",
       "    </tr>\n",
       "  </thead>\n",
       "  <tbody>\n",
       "    <tr>\n",
       "      <th>count</th>\n",
       "      <td>3900.000000</td>\n",
       "      <td>3900.000000</td>\n",
       "    </tr>\n",
       "    <tr>\n",
       "      <th>mean</th>\n",
       "      <td>215997.500000</td>\n",
       "      <td>5025.696051</td>\n",
       "    </tr>\n",
       "    <tr>\n",
       "      <th>std</th>\n",
       "      <td>375.325686</td>\n",
       "      <td>1777.704104</td>\n",
       "    </tr>\n",
       "    <tr>\n",
       "      <th>min</th>\n",
       "      <td>215348.000000</td>\n",
       "      <td>0.000000</td>\n",
       "    </tr>\n",
       "    <tr>\n",
       "      <th>25%</th>\n",
       "      <td>215672.750000</td>\n",
       "      <td>4590.150000</td>\n",
       "    </tr>\n",
       "    <tr>\n",
       "      <th>50%</th>\n",
       "      <td>215997.500000</td>\n",
       "      <td>4957.500000</td>\n",
       "    </tr>\n",
       "    <tr>\n",
       "      <th>75%</th>\n",
       "      <td>216322.250000</td>\n",
       "      <td>5363.000000</td>\n",
       "    </tr>\n",
       "    <tr>\n",
       "      <th>max</th>\n",
       "      <td>216647.000000</td>\n",
       "      <td>106862.200000</td>\n",
       "    </tr>\n",
       "  </tbody>\n",
       "</table>\n",
       "</div>"
      ],
      "text/plain": [
       "                  id        Выручка\n",
       "count    3900.000000    3900.000000\n",
       "mean   215997.500000    5025.696051\n",
       "std       375.325686    1777.704104\n",
       "min    215348.000000       0.000000\n",
       "25%    215672.750000    4590.150000\n",
       "50%    215997.500000    4957.500000\n",
       "75%    216322.250000    5363.000000\n",
       "max    216647.000000  106862.200000"
      ]
     },
     "execution_count": 6,
     "metadata": {},
     "output_type": "execute_result"
    }
   ],
   "source": [
    "market_money.describe()"
   ]
  },
  {
   "cell_type": "code",
   "execution_count": 7,
   "metadata": {
    "ExecuteTime": {
     "end_time": "2025-01-18T16:30:42.031828Z",
     "start_time": "2025-01-18T16:30:42.024537Z"
    }
   },
   "outputs": [
    {
     "data": {
      "text/html": [
       "<div>\n",
       "<style scoped>\n",
       "    .dataframe tbody tr th:only-of-type {\n",
       "        vertical-align: middle;\n",
       "    }\n",
       "\n",
       "    .dataframe tbody tr th {\n",
       "        vertical-align: top;\n",
       "    }\n",
       "\n",
       "    .dataframe thead th {\n",
       "        text-align: right;\n",
       "    }\n",
       "</style>\n",
       "<table border=\"1\" class=\"dataframe\">\n",
       "  <thead>\n",
       "    <tr style=\"text-align: right;\">\n",
       "      <th></th>\n",
       "      <th>id</th>\n",
       "      <th>минут</th>\n",
       "    </tr>\n",
       "  </thead>\n",
       "  <tbody>\n",
       "    <tr>\n",
       "      <th>count</th>\n",
       "      <td>2600.000000</td>\n",
       "      <td>2600.000000</td>\n",
       "    </tr>\n",
       "    <tr>\n",
       "      <th>mean</th>\n",
       "      <td>215997.500000</td>\n",
       "      <td>13.336154</td>\n",
       "    </tr>\n",
       "    <tr>\n",
       "      <th>std</th>\n",
       "      <td>375.349754</td>\n",
       "      <td>4.080198</td>\n",
       "    </tr>\n",
       "    <tr>\n",
       "      <th>min</th>\n",
       "      <td>215348.000000</td>\n",
       "      <td>4.000000</td>\n",
       "    </tr>\n",
       "    <tr>\n",
       "      <th>25%</th>\n",
       "      <td>215672.750000</td>\n",
       "      <td>10.000000</td>\n",
       "    </tr>\n",
       "    <tr>\n",
       "      <th>50%</th>\n",
       "      <td>215997.500000</td>\n",
       "      <td>13.000000</td>\n",
       "    </tr>\n",
       "    <tr>\n",
       "      <th>75%</th>\n",
       "      <td>216322.250000</td>\n",
       "      <td>16.000000</td>\n",
       "    </tr>\n",
       "    <tr>\n",
       "      <th>max</th>\n",
       "      <td>216647.000000</td>\n",
       "      <td>23.000000</td>\n",
       "    </tr>\n",
       "  </tbody>\n",
       "</table>\n",
       "</div>"
      ],
      "text/plain": [
       "                  id        минут\n",
       "count    2600.000000  2600.000000\n",
       "mean   215997.500000    13.336154\n",
       "std       375.349754     4.080198\n",
       "min    215348.000000     4.000000\n",
       "25%    215672.750000    10.000000\n",
       "50%    215997.500000    13.000000\n",
       "75%    216322.250000    16.000000\n",
       "max    216647.000000    23.000000"
      ]
     },
     "execution_count": 7,
     "metadata": {},
     "output_type": "execute_result"
    }
   ],
   "source": [
    "market_time.describe()"
   ]
  },
  {
   "cell_type": "code",
   "execution_count": 8,
   "metadata": {
    "ExecuteTime": {
     "end_time": "2025-01-18T16:30:42.259909Z",
     "start_time": "2025-01-18T16:30:42.245063Z"
    }
   },
   "outputs": [
    {
     "data": {
      "text/html": [
       "<div>\n",
       "<style scoped>\n",
       "    .dataframe tbody tr th:only-of-type {\n",
       "        vertical-align: middle;\n",
       "    }\n",
       "\n",
       "    .dataframe tbody tr th {\n",
       "        vertical-align: top;\n",
       "    }\n",
       "\n",
       "    .dataframe thead th {\n",
       "        text-align: right;\n",
       "    }\n",
       "</style>\n",
       "<table border=\"1\" class=\"dataframe\">\n",
       "  <thead>\n",
       "    <tr style=\"text-align: right;\">\n",
       "      <th></th>\n",
       "      <th>id</th>\n",
       "      <th>Прибыль</th>\n",
       "    </tr>\n",
       "  </thead>\n",
       "  <tbody>\n",
       "    <tr>\n",
       "      <th>count</th>\n",
       "      <td>1300.000000</td>\n",
       "      <td>1300.000000</td>\n",
       "    </tr>\n",
       "    <tr>\n",
       "      <th>mean</th>\n",
       "      <td>215997.500000</td>\n",
       "      <td>3.996631</td>\n",
       "    </tr>\n",
       "    <tr>\n",
       "      <th>std</th>\n",
       "      <td>375.421985</td>\n",
       "      <td>1.013722</td>\n",
       "    </tr>\n",
       "    <tr>\n",
       "      <th>min</th>\n",
       "      <td>215348.000000</td>\n",
       "      <td>0.860000</td>\n",
       "    </tr>\n",
       "    <tr>\n",
       "      <th>25%</th>\n",
       "      <td>215672.750000</td>\n",
       "      <td>3.300000</td>\n",
       "    </tr>\n",
       "    <tr>\n",
       "      <th>50%</th>\n",
       "      <td>215997.500000</td>\n",
       "      <td>4.045000</td>\n",
       "    </tr>\n",
       "    <tr>\n",
       "      <th>75%</th>\n",
       "      <td>216322.250000</td>\n",
       "      <td>4.670000</td>\n",
       "    </tr>\n",
       "    <tr>\n",
       "      <th>max</th>\n",
       "      <td>216647.000000</td>\n",
       "      <td>7.430000</td>\n",
       "    </tr>\n",
       "  </tbody>\n",
       "</table>\n",
       "</div>"
      ],
      "text/plain": [
       "                  id      Прибыль\n",
       "count    1300.000000  1300.000000\n",
       "mean   215997.500000     3.996631\n",
       "std       375.421985     1.013722\n",
       "min    215348.000000     0.860000\n",
       "25%    215672.750000     3.300000\n",
       "50%    215997.500000     4.045000\n",
       "75%    216322.250000     4.670000\n",
       "max    216647.000000     7.430000"
      ]
     },
     "execution_count": 8,
     "metadata": {},
     "output_type": "execute_result"
    }
   ],
   "source": [
    "money.describe()"
   ]
  },
  {
   "cell_type": "markdown",
   "metadata": {},
   "source": [
    "<font color='blue'><b>Комментарий ревьюера: </b></font> ✔️\\\n",
    "<font color='green'>Данные загружены корректно, первичный осмотр проведен.</font>"
   ]
  },
  {
   "cell_type": "markdown",
   "metadata": {},
   "source": [
    "## Шаг 2 Предобработка данных"
   ]
  },
  {
   "cell_type": "markdown",
   "metadata": {},
   "source": [
    "Проверим данные на наличие дупликатов, пропусков и проверим общее количество данных"
   ]
  },
  {
   "cell_type": "markdown",
   "metadata": {},
   "source": [
    "Сначала для данных из файла market_data.csv"
   ]
  },
  {
   "cell_type": "code",
   "execution_count": 9,
   "metadata": {
    "ExecuteTime": {
     "end_time": "2025-01-18T16:30:42.512874Z",
     "start_time": "2025-01-18T16:30:42.506297Z"
    }
   },
   "outputs": [
    {
     "name": "stdout",
     "output_type": "stream",
     "text": [
      "<class 'pandas.core.frame.DataFrame'>\n",
      "RangeIndex: 1300 entries, 0 to 1299\n",
      "Data columns (total 13 columns):\n",
      " #   Column                               Non-Null Count  Dtype  \n",
      "---  ------                               --------------  -----  \n",
      " 0   id                                   1300 non-null   int64  \n",
      " 1   Покупательская активность            1300 non-null   object \n",
      " 2   Тип сервиса                          1300 non-null   object \n",
      " 3   Разрешить сообщать                   1300 non-null   object \n",
      " 4   Маркет_актив_6_мес                   1300 non-null   float64\n",
      " 5   Маркет_актив_тек_мес                 1300 non-null   int64  \n",
      " 6   Длительность                         1300 non-null   int64  \n",
      " 7   Акционные_покупки                    1300 non-null   float64\n",
      " 8   Популярная_категория                 1300 non-null   object \n",
      " 9   Средний_просмотр_категорий_за_визит  1300 non-null   int64  \n",
      " 10  Неоплаченные_продукты_штук_квартал   1300 non-null   int64  \n",
      " 11  Ошибка_сервиса                       1300 non-null   int64  \n",
      " 12  Страниц_за_визит                     1300 non-null   int64  \n",
      "dtypes: float64(2), int64(7), object(4)\n",
      "memory usage: 132.2+ KB\n"
     ]
    }
   ],
   "source": [
    "market.info()"
   ]
  },
  {
   "cell_type": "code",
   "execution_count": 10,
   "metadata": {
    "ExecuteTime": {
     "end_time": "2025-01-18T16:30:42.764806Z",
     "start_time": "2025-01-18T16:30:42.762141Z"
    }
   },
   "outputs": [],
   "source": [
    "market.columns = market.columns.str.replace(' ', '_', regex=True)"
   ]
  },
  {
   "cell_type": "code",
   "execution_count": 11,
   "metadata": {
    "ExecuteTime": {
     "end_time": "2025-01-18T16:30:42.914581Z",
     "start_time": "2025-01-18T16:30:42.912293Z"
    }
   },
   "outputs": [],
   "source": [
    "# market.rename(columns={'Покупательская активность': 'Покупательская_активность',\n",
    "                       # 'Тип сервиса': 'Тип_сервиса', 'Разрешить сообщать': 'Разрешить_сообщать'}, inplace=True)"
   ]
  },
  {
   "cell_type": "markdown",
   "metadata": {
    "ExecuteTime": {
     "end_time": "2025-01-12T12:02:05.644678Z",
     "start_time": "2025-01-12T12:02:05.642804Z"
    }
   },
   "source": [
    "<font color='blue'><b>Комментарий ревьюера: </b></font> ⚠️\\\n",
    "<font color='darkorange'> Пробелы можно заменить прочерком методом replace.</font>"
   ]
  },
  {
   "cell_type": "markdown",
   "metadata": {},
   "source": [
    "Комментарий студента: </span><br><span style=\"color: purple; font-weight: bold\">Заменил rename на replace</span>"
   ]
  },
  {
   "cell_type": "markdown",
   "metadata": {},
   "source": [
    "<span style=\"color: blue; font-weight: bold\">Комментарий ревьюера 2: </span> ✔️\\\n",
    "<span style=\"color: green\"> 👍</span>"
   ]
  },
  {
   "cell_type": "code",
   "execution_count": 12,
   "metadata": {
    "ExecuteTime": {
     "end_time": "2025-01-18T16:30:42.993154Z",
     "start_time": "2025-01-18T16:30:42.988522Z"
    }
   },
   "outputs": [
    {
     "name": "stdout",
     "output_type": "stream",
     "text": [
      "id                                     1300\n",
      "Покупательская_активность                 2\n",
      "Тип_сервиса                               3\n",
      "Разрешить_сообщать                        2\n",
      "Маркет_актив_6_мес                       41\n",
      "Маркет_актив_тек_мес                      3\n",
      "Длительность                            658\n",
      "Акционные_покупки                        42\n",
      "Популярная_категория                      6\n",
      "Средний_просмотр_категорий_за_визит       6\n",
      "Неоплаченные_продукты_штук_квартал       11\n",
      "Ошибка_сервиса                           10\n",
      "Страниц_за_визит                         20\n",
      "dtype: int64\n"
     ]
    }
   ],
   "source": [
    "print(market.nunique())"
   ]
  },
  {
   "cell_type": "code",
   "execution_count": 13,
   "metadata": {
    "ExecuteTime": {
     "end_time": "2025-01-18T16:30:43.101770Z",
     "start_time": "2025-01-18T16:30:43.098936Z"
    }
   },
   "outputs": [
    {
     "name": "stdout",
     "output_type": "stream",
     "text": [
      "стандарт     914\n",
      "премиум      376\n",
      "стандартт     10\n",
      "Name: Тип_сервиса, dtype: int64\n"
     ]
    }
   ],
   "source": [
    "print(market['Тип_сервиса'].value_counts())"
   ]
  },
  {
   "cell_type": "code",
   "execution_count": 14,
   "metadata": {
    "ExecuteTime": {
     "end_time": "2025-01-18T16:30:43.189634Z",
     "start_time": "2025-01-18T16:30:43.186255Z"
    }
   },
   "outputs": [],
   "source": [
    "market.loc[market['Тип_сервиса'] == 'стандартт', 'Тип_сервиса'] = 'стандарт'"
   ]
  },
  {
   "cell_type": "markdown",
   "metadata": {},
   "source": [
    "<span style=\"color: blue; font-weight: bold\">Комментарий ревьюера : </span> ✔️\\\n",
    "<span style=\"color: green\"> 👍</span>"
   ]
  },
  {
   "cell_type": "code",
   "execution_count": 15,
   "metadata": {
    "ExecuteTime": {
     "end_time": "2025-01-18T16:30:43.274631Z",
     "start_time": "2025-01-18T16:30:43.271300Z"
    }
   },
   "outputs": [
    {
     "name": "stdout",
     "output_type": "stream",
     "text": [
      "Прежний уровень    802\n",
      "Снизилась          498\n",
      "Name: Покупательская_активность, dtype: int64\n"
     ]
    }
   ],
   "source": [
    "print(market['Покупательская_активность'].value_counts())"
   ]
  },
  {
   "cell_type": "code",
   "execution_count": 16,
   "metadata": {
    "ExecuteTime": {
     "end_time": "2025-01-18T16:30:43.361986Z",
     "start_time": "2025-01-18T16:30:43.356697Z"
    }
   },
   "outputs": [
    {
     "name": "stdout",
     "output_type": "stream",
     "text": [
      "id                                     0\n",
      "Покупательская_активность              0\n",
      "Тип_сервиса                            0\n",
      "Разрешить_сообщать                     0\n",
      "Маркет_актив_6_мес                     0\n",
      "Маркет_актив_тек_мес                   0\n",
      "Длительность                           0\n",
      "Акционные_покупки                      0\n",
      "Популярная_категория                   0\n",
      "Средний_просмотр_категорий_за_визит    0\n",
      "Неоплаченные_продукты_штук_квартал     0\n",
      "Ошибка_сервиса                         0\n",
      "Страниц_за_визит                       0\n",
      "dtype: int64\n"
     ]
    }
   ],
   "source": [
    "print(market.isna().sum())"
   ]
  },
  {
   "cell_type": "code",
   "execution_count": 2,
   "metadata": {
    "ExecuteTime": {
     "end_time": "2025-01-19T08:17:13.377007Z",
     "start_time": "2025-01-19T08:17:13.367240Z"
    }
   },
   "outputs": [
    {
     "data": {
      "text/plain": [
       "'1.3.0'"
      ]
     },
     "execution_count": 2,
     "metadata": {},
     "output_type": "execute_result"
    }
   ],
   "source": [
    "sklearn.__version__"
   ]
  },
  {
   "cell_type": "code",
   "execution_count": 17,
   "metadata": {
    "ExecuteTime": {
     "end_time": "2025-01-18T16:30:43.436387Z",
     "start_time": "2025-01-18T16:30:43.431816Z"
    }
   },
   "outputs": [
    {
     "name": "stdout",
     "output_type": "stream",
     "text": [
      "0\n"
     ]
    }
   ],
   "source": [
    "print(market.duplicated().sum())"
   ]
  },
  {
   "cell_type": "markdown",
   "metadata": {},
   "source": [
    "Дупликатов и пропусков нет, данные выглядят прилично. Гистограммы и сатистические свойства посмотрим в исследовательском анализе данных. Целевым признаком является колонка Покупательская_активность, в результате работы нужно будет дать ответ - какова вероятность снижения покупательской активности и дать рекомендации по её снижению. ID не повторяются. В данных, помимо целевого признака, есть ещё строковых записи - Популярная_категория, Тип_сервиса и Разрешить_сообщать. Большую часть даннызх так или иначе можно будет использовать как категориальные так как уникальных значений ограниченное число"
   ]
  },
  {
   "cell_type": "markdown",
   "metadata": {},
   "source": [
    "Теперь посмотрим что в данных market_money"
   ]
  },
  {
   "cell_type": "code",
   "execution_count": 18,
   "metadata": {
    "ExecuteTime": {
     "end_time": "2025-01-18T16:30:43.539442Z",
     "start_time": "2025-01-18T16:30:43.525440Z"
    }
   },
   "outputs": [
    {
     "name": "stdout",
     "output_type": "stream",
     "text": [
      "<class 'pandas.core.frame.DataFrame'>\n",
      "RangeIndex: 3900 entries, 0 to 3899\n",
      "Data columns (total 3 columns):\n",
      " #   Column   Non-Null Count  Dtype  \n",
      "---  ------   --------------  -----  \n",
      " 0   id       3900 non-null   int64  \n",
      " 1   Период   3900 non-null   object \n",
      " 2   Выручка  3900 non-null   float64\n",
      "dtypes: float64(1), int64(1), object(1)\n",
      "memory usage: 91.5+ KB\n"
     ]
    }
   ],
   "source": [
    "market_money.info()"
   ]
  },
  {
   "cell_type": "code",
   "execution_count": 19,
   "metadata": {
    "ExecuteTime": {
     "end_time": "2025-01-18T16:30:43.666560Z",
     "start_time": "2025-01-18T16:30:43.662525Z"
    }
   },
   "outputs": [
    {
     "name": "stdout",
     "output_type": "stream",
     "text": [
      "id         1300\n",
      "Период        3\n",
      "Выручка    2776\n",
      "dtype: int64\n"
     ]
    }
   ],
   "source": [
    "print(market_money.nunique())"
   ]
  },
  {
   "cell_type": "code",
   "execution_count": 20,
   "metadata": {
    "ExecuteTime": {
     "end_time": "2025-01-18T16:30:43.758400Z",
     "start_time": "2025-01-18T16:30:43.754204Z"
    }
   },
   "outputs": [
    {
     "name": "stdout",
     "output_type": "stream",
     "text": [
      "id         0\n",
      "Период     0\n",
      "Выручка    0\n",
      "dtype: int64\n"
     ]
    }
   ],
   "source": [
    "print(market_money.isna().sum())"
   ]
  },
  {
   "cell_type": "code",
   "execution_count": 21,
   "metadata": {
    "ExecuteTime": {
     "end_time": "2025-01-18T16:30:43.825588Z",
     "start_time": "2025-01-18T16:30:43.822260Z"
    }
   },
   "outputs": [
    {
     "name": "stdout",
     "output_type": "stream",
     "text": [
      "0\n"
     ]
    }
   ],
   "source": [
    "print(market_money.duplicated().sum())"
   ]
  },
  {
   "cell_type": "markdown",
   "metadata": {},
   "source": [
    "данных втрое больше чем количество ID в исходном сэте. При этом функция не выявила дупликатов. Необходимо выяснить в чём дело"
   ]
  },
  {
   "cell_type": "code",
   "execution_count": 22,
   "metadata": {
    "ExecuteTime": {
     "end_time": "2025-01-18T16:30:43.859504Z",
     "start_time": "2025-01-18T16:30:43.854445Z"
    }
   },
   "outputs": [
    {
     "data": {
      "text/html": [
       "<div>\n",
       "<style scoped>\n",
       "    .dataframe tbody tr th:only-of-type {\n",
       "        vertical-align: middle;\n",
       "    }\n",
       "\n",
       "    .dataframe tbody tr th {\n",
       "        vertical-align: top;\n",
       "    }\n",
       "\n",
       "    .dataframe thead th {\n",
       "        text-align: right;\n",
       "    }\n",
       "</style>\n",
       "<table border=\"1\" class=\"dataframe\">\n",
       "  <thead>\n",
       "    <tr style=\"text-align: right;\">\n",
       "      <th></th>\n",
       "      <th>id</th>\n",
       "      <th>Период</th>\n",
       "      <th>Выручка</th>\n",
       "    </tr>\n",
       "  </thead>\n",
       "  <tbody>\n",
       "    <tr>\n",
       "      <th>0</th>\n",
       "      <td>215348</td>\n",
       "      <td>препредыдущий_месяц</td>\n",
       "      <td>0.0</td>\n",
       "    </tr>\n",
       "    <tr>\n",
       "      <th>1</th>\n",
       "      <td>215348</td>\n",
       "      <td>текущий_месяц</td>\n",
       "      <td>3293.1</td>\n",
       "    </tr>\n",
       "    <tr>\n",
       "      <th>2</th>\n",
       "      <td>215348</td>\n",
       "      <td>предыдущий_месяц</td>\n",
       "      <td>0.0</td>\n",
       "    </tr>\n",
       "    <tr>\n",
       "      <th>3</th>\n",
       "      <td>215349</td>\n",
       "      <td>препредыдущий_месяц</td>\n",
       "      <td>4472.0</td>\n",
       "    </tr>\n",
       "    <tr>\n",
       "      <th>4</th>\n",
       "      <td>215349</td>\n",
       "      <td>текущий_месяц</td>\n",
       "      <td>4971.6</td>\n",
       "    </tr>\n",
       "    <tr>\n",
       "      <th>5</th>\n",
       "      <td>215349</td>\n",
       "      <td>предыдущий_месяц</td>\n",
       "      <td>5216.0</td>\n",
       "    </tr>\n",
       "    <tr>\n",
       "      <th>6</th>\n",
       "      <td>215350</td>\n",
       "      <td>препредыдущий_месяц</td>\n",
       "      <td>4826.0</td>\n",
       "    </tr>\n",
       "    <tr>\n",
       "      <th>7</th>\n",
       "      <td>215350</td>\n",
       "      <td>текущий_месяц</td>\n",
       "      <td>5058.4</td>\n",
       "    </tr>\n",
       "    <tr>\n",
       "      <th>8</th>\n",
       "      <td>215350</td>\n",
       "      <td>предыдущий_месяц</td>\n",
       "      <td>5457.5</td>\n",
       "    </tr>\n",
       "    <tr>\n",
       "      <th>9</th>\n",
       "      <td>215351</td>\n",
       "      <td>текущий_месяц</td>\n",
       "      <td>6610.4</td>\n",
       "    </tr>\n",
       "  </tbody>\n",
       "</table>\n",
       "</div>"
      ],
      "text/plain": [
       "       id               Период  Выручка\n",
       "0  215348  препредыдущий_месяц      0.0\n",
       "1  215348        текущий_месяц   3293.1\n",
       "2  215348     предыдущий_месяц      0.0\n",
       "3  215349  препредыдущий_месяц   4472.0\n",
       "4  215349        текущий_месяц   4971.6\n",
       "5  215349     предыдущий_месяц   5216.0\n",
       "6  215350  препредыдущий_месяц   4826.0\n",
       "7  215350        текущий_месяц   5058.4\n",
       "8  215350     предыдущий_месяц   5457.5\n",
       "9  215351        текущий_месяц   6610.4"
      ]
     },
     "metadata": {},
     "output_type": "display_data"
    }
   ],
   "source": [
    "display(market_money.head(10))"
   ]
  },
  {
   "cell_type": "markdown",
   "metadata": {},
   "source": [
    "<font color='blue'><b>Комментарий ревьюера: </b></font> ⚠️\\\n",
    "<font color='darkorange'>Датафреймы лучше выводить метдом `display()`</font>"
   ]
  },
  {
   "cell_type": "markdown",
   "metadata": {},
   "source": [
    "<font color='blue'><b>Комментарий ревьюера: </b></font> ⚠️\\\n",
    "<font color='darkorange'>Датафреймы лучше всегда ограничивать методами .head(), .tail(), sample(). Иначе в выводах ячейки записывается весь Датафрейм, хоть он и не выводится на экран полностью. Такие Аутпуты сильно перегружают тетрадку.</font>"
   ]
  },
  {
   "cell_type": "markdown",
   "metadata": {},
   "source": [
    "Комментарий студента: </span><br><span style=\"color: purple; font-weight: bold\">Поменял print на display, стало лучше, ограничил вывод by head</span>"
   ]
  },
  {
   "cell_type": "markdown",
   "metadata": {},
   "source": [
    "<span style=\"color: blue; font-weight: bold\">Комментарий ревьюера 2: </span> ✔️\\\n",
    "<span style=\"color: green\"> 👍</span>"
   ]
  },
  {
   "cell_type": "markdown",
   "metadata": {},
   "source": [
    "Всё понятно, для каждого ID имеется 3 записи - препредыдущий_месяц, предыдущий_месяц и текущий_месяц. Преобразуем массив чтобы потом его можно было мёрджить"
   ]
  },
  {
   "cell_type": "code",
   "execution_count": 23,
   "metadata": {
    "ExecuteTime": {
     "end_time": "2025-01-18T16:30:43.927703Z",
     "start_time": "2025-01-18T16:30:43.925120Z"
    }
   },
   "outputs": [],
   "source": [
    "market_money = market_money.set_index('id')"
   ]
  },
  {
   "cell_type": "code",
   "execution_count": 24,
   "metadata": {
    "ExecuteTime": {
     "end_time": "2025-01-18T16:30:44.027391Z",
     "start_time": "2025-01-18T16:30:44.024490Z"
    }
   },
   "outputs": [],
   "source": [
    "# df1 = pd.DataFrame()\n",
    "# df1['препредыдущий_месяц'] = market_money.loc[market_money['Период'] == 'препредыдущий_месяц']['Выручка']\n",
    "# df2 = pd.DataFrame()\n",
    "# df2['предыдущий_месяц'] = market_money.loc[market_money['Период'] == 'предыдущий_месяц']['Выручка']\n",
    "# df3 = pd.DataFrame()\n",
    "# df3['текущий_месяц'] = market_money.loc[market_money['Период'] == 'текущий_месяц']['Выручка']"
   ]
  },
  {
   "cell_type": "code",
   "execution_count": 25,
   "metadata": {
    "ExecuteTime": {
     "end_time": "2025-01-18T16:30:44.135835Z",
     "start_time": "2025-01-18T16:30:44.119939Z"
    }
   },
   "outputs": [],
   "source": [
    "pivot = market_money.pivot_table(\n",
    "    index='id',\n",
    "    columns='Период',\n",
    "    values='Выручка',\n",
    "    aggfunc='sum',\n",
    "    fill_value=0\n",
    ")"
   ]
  },
  {
   "cell_type": "code",
   "execution_count": 26,
   "metadata": {
    "ExecuteTime": {
     "end_time": "2025-01-18T16:30:44.251153Z",
     "start_time": "2025-01-18T16:30:44.244721Z"
    }
   },
   "outputs": [
    {
     "data": {
      "text/html": [
       "<div>\n",
       "<style scoped>\n",
       "    .dataframe tbody tr th:only-of-type {\n",
       "        vertical-align: middle;\n",
       "    }\n",
       "\n",
       "    .dataframe tbody tr th {\n",
       "        vertical-align: top;\n",
       "    }\n",
       "\n",
       "    .dataframe thead th {\n",
       "        text-align: right;\n",
       "    }\n",
       "</style>\n",
       "<table border=\"1\" class=\"dataframe\">\n",
       "  <thead>\n",
       "    <tr style=\"text-align: right;\">\n",
       "      <th>Период</th>\n",
       "      <th>предыдущий_месяц</th>\n",
       "      <th>препредыдущий_месяц</th>\n",
       "      <th>текущий_месяц</th>\n",
       "    </tr>\n",
       "    <tr>\n",
       "      <th>id</th>\n",
       "      <th></th>\n",
       "      <th></th>\n",
       "      <th></th>\n",
       "    </tr>\n",
       "  </thead>\n",
       "  <tbody>\n",
       "    <tr>\n",
       "      <th>215348</th>\n",
       "      <td>0.0</td>\n",
       "      <td>0</td>\n",
       "      <td>3293.1</td>\n",
       "    </tr>\n",
       "    <tr>\n",
       "      <th>215349</th>\n",
       "      <td>5216.0</td>\n",
       "      <td>4472</td>\n",
       "      <td>4971.6</td>\n",
       "    </tr>\n",
       "    <tr>\n",
       "      <th>215350</th>\n",
       "      <td>5457.5</td>\n",
       "      <td>4826</td>\n",
       "      <td>5058.4</td>\n",
       "    </tr>\n",
       "    <tr>\n",
       "      <th>215351</th>\n",
       "      <td>6158.0</td>\n",
       "      <td>4793</td>\n",
       "      <td>6610.4</td>\n",
       "    </tr>\n",
       "    <tr>\n",
       "      <th>215352</th>\n",
       "      <td>5807.5</td>\n",
       "      <td>4594</td>\n",
       "      <td>5872.5</td>\n",
       "    </tr>\n",
       "    <tr>\n",
       "      <th>...</th>\n",
       "      <td>...</td>\n",
       "      <td>...</td>\n",
       "      <td>...</td>\n",
       "    </tr>\n",
       "    <tr>\n",
       "      <th>216643</th>\n",
       "      <td>3664.0</td>\n",
       "      <td>4704</td>\n",
       "      <td>4741.7</td>\n",
       "    </tr>\n",
       "    <tr>\n",
       "      <th>216644</th>\n",
       "      <td>4729.0</td>\n",
       "      <td>5299</td>\n",
       "      <td>5353.0</td>\n",
       "    </tr>\n",
       "    <tr>\n",
       "      <th>216645</th>\n",
       "      <td>5160.0</td>\n",
       "      <td>5334</td>\n",
       "      <td>5139.2</td>\n",
       "    </tr>\n",
       "    <tr>\n",
       "      <th>216646</th>\n",
       "      <td>4923.0</td>\n",
       "      <td>4725</td>\n",
       "      <td>5224.6</td>\n",
       "    </tr>\n",
       "    <tr>\n",
       "      <th>216647</th>\n",
       "      <td>4720.0</td>\n",
       "      <td>5183</td>\n",
       "      <td>4448.3</td>\n",
       "    </tr>\n",
       "  </tbody>\n",
       "</table>\n",
       "<p>1300 rows × 3 columns</p>\n",
       "</div>"
      ],
      "text/plain": [
       "Период  предыдущий_месяц  препредыдущий_месяц  текущий_месяц\n",
       "id                                                          \n",
       "215348               0.0                    0         3293.1\n",
       "215349            5216.0                 4472         4971.6\n",
       "215350            5457.5                 4826         5058.4\n",
       "215351            6158.0                 4793         6610.4\n",
       "215352            5807.5                 4594         5872.5\n",
       "...                  ...                  ...            ...\n",
       "216643            3664.0                 4704         4741.7\n",
       "216644            4729.0                 5299         5353.0\n",
       "216645            5160.0                 5334         5139.2\n",
       "216646            4923.0                 4725         5224.6\n",
       "216647            4720.0                 5183         4448.3\n",
       "\n",
       "[1300 rows x 3 columns]"
      ]
     },
     "execution_count": 26,
     "metadata": {},
     "output_type": "execute_result"
    }
   ],
   "source": [
    "pivot"
   ]
  },
  {
   "cell_type": "markdown",
   "metadata": {},
   "source": [
    "<font color='blue'><b>Комментарий ревьюера: </b></font> ⚠️\\\n",
    "<font color='darkorange'> Таблицы можно \"развернуть вширь\" по id  методом pivot_table. Необязательно прописывать каждую колонку.</font>"
   ]
  },
  {
   "cell_type": "markdown",
   "metadata": {},
   "source": [
    "Комментарий студента: </span><br><span style=\"color: purple; font-weight: bold\">Использовал pivot_table. Действительно, так удобнее</span>"
   ]
  },
  {
   "cell_type": "markdown",
   "metadata": {},
   "source": [
    "<span style=\"color: blue; font-weight: bold\">Комментарий ревьюера 2: </span> ✔️\\\n",
    "<span style=\"color: green\"> 👍</span>"
   ]
  },
  {
   "cell_type": "markdown",
   "metadata": {},
   "source": [
    "<font color='blue'><b>Комментарий ревьюера 2: </b></font> ⚠️\\\n",
    "<font color='darkorange'>Датафреймы лучше всегда ограничивать методами .head(), .tail(), sample(). Иначе в выводах ячейки записывается весь Датафрейм, хоть он и не выводится на экран полностью. Такие Аутпуты сильно перегружают тетрадку.</font>"
   ]
  },
  {
   "cell_type": "code",
   "execution_count": 27,
   "metadata": {
    "ExecuteTime": {
     "end_time": "2025-01-18T16:30:44.329598Z",
     "start_time": "2025-01-18T16:30:44.327203Z"
    }
   },
   "outputs": [],
   "source": [
    "# market_money = pd.concat([df1, df2, df3], axis=1)\n",
    "market_money = pivot"
   ]
  },
  {
   "cell_type": "markdown",
   "metadata": {},
   "source": [
    "Теперь выручка записана в разные колонки, ID теперь совпадает"
   ]
  },
  {
   "cell_type": "markdown",
   "metadata": {},
   "source": [
    "Теперь рассмотрим данные market_time"
   ]
  },
  {
   "cell_type": "code",
   "execution_count": 28,
   "metadata": {
    "ExecuteTime": {
     "end_time": "2025-01-18T16:30:44.423040Z",
     "start_time": "2025-01-18T16:30:44.417714Z"
    }
   },
   "outputs": [
    {
     "name": "stdout",
     "output_type": "stream",
     "text": [
      "<class 'pandas.core.frame.DataFrame'>\n",
      "RangeIndex: 2600 entries, 0 to 2599\n",
      "Data columns (total 3 columns):\n",
      " #   Column  Non-Null Count  Dtype \n",
      "---  ------  --------------  ----- \n",
      " 0   id      2600 non-null   int64 \n",
      " 1   Период  2600 non-null   object\n",
      " 2   минут   2600 non-null   int64 \n",
      "dtypes: int64(2), object(1)\n",
      "memory usage: 61.1+ KB\n"
     ]
    }
   ],
   "source": [
    "market_time.info()"
   ]
  },
  {
   "cell_type": "code",
   "execution_count": 29,
   "metadata": {
    "ExecuteTime": {
     "end_time": "2025-01-18T16:30:44.506920Z",
     "start_time": "2025-01-18T16:30:44.501203Z"
    }
   },
   "outputs": [
    {
     "name": "stdout",
     "output_type": "stream",
     "text": [
      "id        1300\n",
      "Период       2\n",
      "минут       20\n",
      "dtype: int64\n"
     ]
    }
   ],
   "source": [
    "print(market_time.nunique())"
   ]
  },
  {
   "cell_type": "code",
   "execution_count": 30,
   "metadata": {
    "ExecuteTime": {
     "end_time": "2025-01-18T16:30:44.590402Z",
     "start_time": "2025-01-18T16:30:44.587219Z"
    }
   },
   "outputs": [
    {
     "name": "stdout",
     "output_type": "stream",
     "text": [
      "id        0\n",
      "Период    0\n",
      "минут     0\n",
      "dtype: int64\n"
     ]
    }
   ],
   "source": [
    "print(market_time.isna().sum())"
   ]
  },
  {
   "cell_type": "code",
   "execution_count": 31,
   "metadata": {
    "ExecuteTime": {
     "end_time": "2025-01-18T16:30:44.666199Z",
     "start_time": "2025-01-18T16:30:44.660451Z"
    }
   },
   "outputs": [
    {
     "name": "stdout",
     "output_type": "stream",
     "text": [
      "0\n"
     ]
    }
   ],
   "source": [
    "print(market_time.duplicated().sum())"
   ]
  },
  {
   "cell_type": "markdown",
   "metadata": {},
   "source": [
    "Проверим почему данных больше"
   ]
  },
  {
   "cell_type": "code",
   "execution_count": 32,
   "metadata": {
    "ExecuteTime": {
     "end_time": "2025-01-18T16:30:44.701511Z",
     "start_time": "2025-01-18T16:30:44.697565Z"
    }
   },
   "outputs": [
    {
     "name": "stdout",
     "output_type": "stream",
     "text": [
      "          id            Период  минут\n",
      "0     215348     текущий_месяц     14\n",
      "1     215348  предыдцщий_месяц     13\n",
      "2     215349     текущий_месяц     10\n",
      "3     215349  предыдцщий_месяц     12\n",
      "4     215350     текущий_месяц     13\n",
      "...      ...               ...    ...\n",
      "2595  216645     текущий_месяц     18\n",
      "2596  216646  предыдцщий_месяц     18\n",
      "2597  216646     текущий_месяц      7\n",
      "2598  216647     текущий_месяц     10\n",
      "2599  216647  предыдцщий_месяц     15\n",
      "\n",
      "[2600 rows x 3 columns]\n"
     ]
    }
   ],
   "source": [
    "print(market_time)"
   ]
  },
  {
   "cell_type": "markdown",
   "metadata": {},
   "source": [
    "<font color='blue'><b>Комментарий ревьюера 2: </b></font> ⚠️\\\n",
    "<font color='darkorange'>Датафреймы лучше выводить метдом `display()`</font>"
   ]
  },
  {
   "cell_type": "markdown",
   "metadata": {},
   "source": [
    "Проделаем ту же операцию"
   ]
  },
  {
   "cell_type": "code",
   "execution_count": 33,
   "metadata": {
    "ExecuteTime": {
     "end_time": "2025-01-18T16:30:44.759547Z",
     "start_time": "2025-01-18T16:30:44.756735Z"
    }
   },
   "outputs": [],
   "source": [
    "market_time = market_time.set_index('id')"
   ]
  },
  {
   "cell_type": "code",
   "execution_count": 34,
   "metadata": {
    "ExecuteTime": {
     "end_time": "2025-01-18T16:30:44.854397Z",
     "start_time": "2025-01-18T16:30:44.851749Z"
    }
   },
   "outputs": [],
   "source": [
    "# df1 = pd.DataFrame()\n",
    "# df1['предыдущий_месяц'] = market_time.loc[market_time['Период'] == 'предыдцщий_месяц']['минут']\n",
    "# df2 = pd.DataFrame()\n",
    "# df2['текущий_месяц'] = market_time.loc[market_time['Период'] == 'текущий_месяц']['минут']"
   ]
  },
  {
   "cell_type": "code",
   "execution_count": 35,
   "metadata": {
    "ExecuteTime": {
     "end_time": "2025-01-18T16:30:44.921385Z",
     "start_time": "2025-01-18T16:30:44.912655Z"
    }
   },
   "outputs": [],
   "source": [
    "pivot_time = market_time.pivot_table(\n",
    "    index='id',\n",
    "    columns='Период',\n",
    "    values='минут',\n",
    "    aggfunc='sum',\n",
    "    fill_value=0\n",
    ")"
   ]
  },
  {
   "cell_type": "code",
   "execution_count": 36,
   "metadata": {
    "ExecuteTime": {
     "end_time": "2025-01-18T16:30:44.978541Z",
     "start_time": "2025-01-18T16:30:44.976296Z"
    }
   },
   "outputs": [],
   "source": [
    "# market_time = pd.concat([df1, df2], axis=1)"
   ]
  },
  {
   "cell_type": "code",
   "execution_count": 37,
   "metadata": {
    "ExecuteTime": {
     "end_time": "2025-01-18T16:30:45.006120Z",
     "start_time": "2025-01-18T16:30:45.003757Z"
    }
   },
   "outputs": [],
   "source": [
    "market_time = pivot_time"
   ]
  },
  {
   "cell_type": "code",
   "execution_count": 38,
   "metadata": {
    "ExecuteTime": {
     "end_time": "2025-01-18T16:30:45.026695Z",
     "start_time": "2025-01-18T16:30:45.022975Z"
    }
   },
   "outputs": [],
   "source": [
    "market_time = market_time.rename(columns={'предыдцщий_месяц' : 'предыдущий_месяц_время', 'текущий_месяц' : 'текущий_месяц_время'})"
   ]
  },
  {
   "cell_type": "code",
   "execution_count": 39,
   "metadata": {
    "ExecuteTime": {
     "end_time": "2025-01-18T16:30:45.079484Z",
     "start_time": "2025-01-18T16:30:45.075208Z"
    }
   },
   "outputs": [
    {
     "name": "stdout",
     "output_type": "stream",
     "text": [
      "Период  предыдущий_месяц_время  текущий_месяц_время\n",
      "id                                                 \n",
      "215348                      13                   14\n",
      "215349                      12                   10\n",
      "215350                       8                   13\n",
      "215351                      11                   13\n",
      "215352                       8                   11\n",
      "...                        ...                  ...\n",
      "216643                      14                    7\n",
      "216644                      12                   11\n",
      "216645                      12                   18\n",
      "216646                      18                    7\n",
      "216647                      15                   10\n",
      "\n",
      "[1300 rows x 2 columns]\n"
     ]
    }
   ],
   "source": [
    "print(market_time)"
   ]
  },
  {
   "cell_type": "markdown",
   "metadata": {},
   "source": [
    "Теперь размер данных соответствует основным"
   ]
  },
  {
   "cell_type": "markdown",
   "metadata": {},
   "source": [
    "Осталось проверить данные из money"
   ]
  },
  {
   "cell_type": "code",
   "execution_count": 40,
   "metadata": {
    "ExecuteTime": {
     "end_time": "2025-01-18T16:30:45.178551Z",
     "start_time": "2025-01-18T16:30:45.173242Z"
    }
   },
   "outputs": [
    {
     "name": "stdout",
     "output_type": "stream",
     "text": [
      "<class 'pandas.core.frame.DataFrame'>\n",
      "RangeIndex: 1300 entries, 0 to 1299\n",
      "Data columns (total 2 columns):\n",
      " #   Column   Non-Null Count  Dtype  \n",
      "---  ------   --------------  -----  \n",
      " 0   id       1300 non-null   int64  \n",
      " 1   Прибыль  1300 non-null   float64\n",
      "dtypes: float64(1), int64(1)\n",
      "memory usage: 20.4 KB\n"
     ]
    }
   ],
   "source": [
    "money.info()"
   ]
  },
  {
   "cell_type": "code",
   "execution_count": 41,
   "metadata": {
    "ExecuteTime": {
     "end_time": "2025-01-18T16:30:45.265264Z",
     "start_time": "2025-01-18T16:30:45.261581Z"
    }
   },
   "outputs": [
    {
     "name": "stdout",
     "output_type": "stream",
     "text": [
      "id         1300\n",
      "Прибыль     400\n",
      "dtype: int64\n"
     ]
    }
   ],
   "source": [
    "print(money.nunique())"
   ]
  },
  {
   "cell_type": "code",
   "execution_count": 42,
   "metadata": {
    "ExecuteTime": {
     "end_time": "2025-01-18T16:30:45.328593Z",
     "start_time": "2025-01-18T16:30:45.325368Z"
    }
   },
   "outputs": [
    {
     "name": "stdout",
     "output_type": "stream",
     "text": [
      "id         0\n",
      "Прибыль    0\n",
      "dtype: int64\n"
     ]
    }
   ],
   "source": [
    "print(money.isna().sum())"
   ]
  },
  {
   "cell_type": "code",
   "execution_count": 43,
   "metadata": {
    "ExecuteTime": {
     "end_time": "2025-01-18T16:30:45.369889Z",
     "start_time": "2025-01-18T16:30:45.365967Z"
    }
   },
   "outputs": [
    {
     "name": "stdout",
     "output_type": "stream",
     "text": [
      "0\n"
     ]
    }
   ],
   "source": [
    "print(money.duplicated().sum())"
   ]
  },
  {
   "cell_type": "code",
   "execution_count": 44,
   "metadata": {
    "ExecuteTime": {
     "end_time": "2025-01-18T16:30:45.463584Z",
     "start_time": "2025-01-18T16:30:45.459688Z"
    },
    "scrolled": true
   },
   "outputs": [
    {
     "name": "stdout",
     "output_type": "stream",
     "text": [
      "          id  Прибыль\n",
      "0     215348     0.98\n",
      "1     215349     4.16\n",
      "2     215350     3.13\n",
      "3     215351     4.87\n",
      "4     215352     4.21\n",
      "...      ...      ...\n",
      "1295  216643     4.44\n",
      "1296  216644     6.11\n",
      "1297  216645     3.29\n",
      "1298  216646     4.03\n",
      "1299  216647     3.28\n",
      "\n",
      "[1300 rows x 2 columns]\n"
     ]
    }
   ],
   "source": [
    "print(money)"
   ]
  },
  {
   "cell_type": "markdown",
   "metadata": {},
   "source": [
    "<font color='blue'><b>Комментарий ревьюера: </b></font> ❌\\\n",
    "<font color='red'>~~Здесь заканчивается структурный блок работы - стоит сделать промежуточные выводы о проделанной работе в блоке.~~</font>"
   ]
  },
  {
   "cell_type": "markdown",
   "metadata": {},
   "source": [
    "Комментарий студента: </span><br><span style=\"color: purple; font-weight: bold\">Добавляю выводы</span>"
   ]
  },
  {
   "cell_type": "markdown",
   "metadata": {},
   "source": [
    "<font color='blue'><b>Комментарий ревьюера 2: </b></font> ✔️ <br>\n",
    "<font color='green'>Здорово, что не забываешь про промежуточные выводы.</font>"
   ]
  },
  {
   "cell_type": "markdown",
   "metadata": {},
   "source": [
    "В результате проведённой предобработки можно сделать следующие выводы:\n",
    "- Всего имеется 1300 записей\n",
    "- В общей записи дупликатов и пропусков не найдено, id совпадают\n",
    "- Данные из market_money и market_time перегруппировали так, чтобы в калонках были данные за текущий, предыдущий и предпредыдущий месяцы. Сами значения будут выручкой и временем соответственно\n",
    "\n"
   ]
  },
  {
   "cell_type": "markdown",
   "metadata": {},
   "source": [
    "## Шаг 3 Исследовательский анализ данных"
   ]
  },
  {
   "cell_type": "markdown",
   "metadata": {},
   "source": [
    "Для того чтобы понять что с данными всё в порядке проведём следующие операции:\n",
    "- Построим гистограммы для всех признаков\n",
    "- Про проведём анализ целевого признака\n",
    "- Выберем покупателей с активностью не менее 3 месяцев"
   ]
  },
  {
   "cell_type": "code",
   "execution_count": 45,
   "metadata": {
    "ExecuteTime": {
     "end_time": "2025-01-18T16:30:46.894090Z",
     "start_time": "2025-01-18T16:30:46.890398Z"
    }
   },
   "outputs": [],
   "source": [
    "market = market.set_index('id')"
   ]
  },
  {
   "cell_type": "code",
   "execution_count": 46,
   "metadata": {
    "ExecuteTime": {
     "end_time": "2025-01-18T16:30:47.405519Z",
     "start_time": "2025-01-18T16:30:47.399648Z"
    }
   },
   "outputs": [
    {
     "name": "stdout",
     "output_type": "stream",
     "text": [
      "       Покупательская_активность Тип_сервиса Разрешить_сообщать  \\\n",
      "id                                                                \n",
      "215348                 Снизилась     премиум                 да   \n",
      "215349                 Снизилась     премиум                 да   \n",
      "215350                 Снизилась    стандарт                нет   \n",
      "215351                 Снизилась    стандарт                 да   \n",
      "215352                 Снизилась    стандарт                нет   \n",
      "...                          ...         ...                ...   \n",
      "216643           Прежний уровень    стандарт                 да   \n",
      "216644           Прежний уровень    стандарт                нет   \n",
      "216645           Прежний уровень    стандарт                 да   \n",
      "216646           Прежний уровень    стандарт                 да   \n",
      "216647           Прежний уровень     премиум                 да   \n",
      "\n",
      "        Маркет_актив_6_мес  Маркет_актив_тек_мес  Длительность  \\\n",
      "id                                                               \n",
      "215348                 3.4                     5           121   \n",
      "215349                 4.4                     4           819   \n",
      "215350                 4.9                     3           539   \n",
      "215351                 3.2                     5           896   \n",
      "215352                 5.1                     3          1064   \n",
      "...                    ...                   ...           ...   \n",
      "216643                 6.6                     3           318   \n",
      "216644                 5.1                     4           454   \n",
      "216645                 4.1                     3           586   \n",
      "216646                 6.3                     5           645   \n",
      "216647                 4.0                     5           906   \n",
      "\n",
      "        Акционные_покупки            Популярная_категория  \\\n",
      "id                                                          \n",
      "215348               0.00                Товары для детей   \n",
      "215349               0.75                Товары для детей   \n",
      "215350               0.14               Домашний текстиль   \n",
      "215351               0.99                Товары для детей   \n",
      "215352               0.94                Товары для детей   \n",
      "...                   ...                             ...   \n",
      "216643               0.24  Техника для красоты и здоровья   \n",
      "216644               0.21               Домашний текстиль   \n",
      "216645               0.20               Домашний текстиль   \n",
      "216646               0.12  Техника для красоты и здоровья   \n",
      "216647               0.94  Техника для красоты и здоровья   \n",
      "\n",
      "        Средний_просмотр_категорий_за_визит  \\\n",
      "id                                            \n",
      "215348                                    6   \n",
      "215349                                    4   \n",
      "215350                                    5   \n",
      "215351                                    5   \n",
      "215352                                    3   \n",
      "...                                     ...   \n",
      "216643                                    5   \n",
      "216644                                    6   \n",
      "216645                                    3   \n",
      "216646                                    3   \n",
      "216647                                    4   \n",
      "\n",
      "        Неоплаченные_продукты_штук_квартал  Ошибка_сервиса  Страниц_за_визит  \n",
      "id                                                                            \n",
      "215348                                   2               1                 5  \n",
      "215349                                   4               2                 5  \n",
      "215350                                   2               1                 5  \n",
      "215351                                   0               6                 4  \n",
      "215352                                   2               3                 2  \n",
      "...                                    ...             ...               ...  \n",
      "216643                                   3               3                11  \n",
      "216644                                   2               3                 9  \n",
      "216645                                   2               5                 7  \n",
      "216646                                   3               5                 7  \n",
      "216647                                   5               3                12  \n",
      "\n",
      "[1300 rows x 12 columns]\n"
     ]
    }
   ],
   "source": [
    "print(market)"
   ]
  },
  {
   "cell_type": "code",
   "execution_count": 47,
   "metadata": {
    "ExecuteTime": {
     "end_time": "2025-01-18T16:30:48.243732Z",
     "start_time": "2025-01-18T16:30:47.526602Z"
    }
   },
   "outputs": [
    {
     "data": {
      "text/plain": [
       "array([[<AxesSubplot:title={'center':'Маркет_актив_6_мес'}>,\n",
       "        <AxesSubplot:title={'center':'Маркет_актив_тек_мес'}>,\n",
       "        <AxesSubplot:title={'center':'Длительность'}>],\n",
       "       [<AxesSubplot:title={'center':'Акционные_покупки'}>,\n",
       "        <AxesSubplot:title={'center':'Средний_просмотр_категорий_за_визит'}>,\n",
       "        <AxesSubplot:title={'center':'Неоплаченные_продукты_штук_квартал'}>],\n",
       "       [<AxesSubplot:title={'center':'Ошибка_сервиса'}>,\n",
       "        <AxesSubplot:title={'center':'Страниц_за_визит'}>,\n",
       "        <AxesSubplot:>]], dtype=object)"
      ]
     },
     "execution_count": 47,
     "metadata": {},
     "output_type": "execute_result"
    },
    {
     "data": {
      "text/plain": [
       "<Figure size 432x288 with 0 Axes>"
      ]
     },
     "metadata": {},
     "output_type": "display_data"
    },
    {
     "data": {
      "image/png": "[encoded data removed]",
      "text/plain": [
       "<Figure size 1080x504 with 9 Axes>"
      ]
     },
     "metadata": {
      "needs_background": "light"
     },
     "output_type": "display_data"
    }
   ],
   "source": [
    "plt.figure()\n",
    "market.hist(figsize=(15,7))"
   ]
  },
  {
   "cell_type": "markdown",
   "metadata": {},
   "source": [
    "Распределения выглядят вполне нормально, распределение страниц за визит и неоплаченных продуктов похожи на Релеевское, акционные покупки имеет U shape."
   ]
  },
  {
   "cell_type": "markdown",
   "metadata": {},
   "source": [
    "<span style=\"color: blue; font-weight: bold\">Комментарий ревьюера : </span> ✔️\\\n",
    "<span style=\"color: green\"> 👍</span>"
   ]
  },
  {
   "cell_type": "markdown",
   "metadata": {},
   "source": [
    "Для нечисленных признаков можно проверить частоты"
   ]
  },
  {
   "cell_type": "code",
   "execution_count": 48,
   "metadata": {
    "ExecuteTime": {
     "end_time": "2025-01-18T16:30:48.279122Z",
     "start_time": "2025-01-18T16:30:48.276131Z"
    }
   },
   "outputs": [
    {
     "name": "stdout",
     "output_type": "stream",
     "text": [
      "стандарт    924\n",
      "премиум     376\n",
      "Name: Тип_сервиса, dtype: int64\n"
     ]
    }
   ],
   "source": [
    "print(market['Тип_сервиса'].value_counts())"
   ]
  },
  {
   "cell_type": "code",
   "execution_count": 49,
   "metadata": {
    "ExecuteTime": {
     "end_time": "2025-01-18T16:30:48.354248Z",
     "start_time": "2025-01-18T16:30:48.350353Z"
    }
   },
   "outputs": [
    {
     "name": "stdout",
     "output_type": "stream",
     "text": [
      "да     962\n",
      "нет    338\n",
      "Name: Разрешить_сообщать, dtype: int64\n"
     ]
    }
   ],
   "source": [
    "print(market['Разрешить_сообщать'].value_counts())"
   ]
  },
  {
   "cell_type": "markdown",
   "metadata": {},
   "source": [
    "По признакам Тип_сервиса и Разрешить_сообщать есть дисбаланс, нужно будет это учесть"
   ]
  },
  {
   "cell_type": "code",
   "execution_count": 50,
   "metadata": {
    "ExecuteTime": {
     "end_time": "2025-01-18T16:30:48.425320Z",
     "start_time": "2025-01-18T16:30:48.420646Z"
    }
   },
   "outputs": [
    {
     "name": "stdout",
     "output_type": "stream",
     "text": [
      "Товары для детей                        330\n",
      "Домашний текстиль                       251\n",
      "Косметика и аксесуары                   223\n",
      "Техника для красоты и здоровья          184\n",
      "Мелкая бытовая техника и электроника    174\n",
      "Кухонная посуда                         138\n",
      "Name: Популярная_категория, dtype: int64\n"
     ]
    }
   ],
   "source": [
    "print(market['Популярная_категория'].value_counts())"
   ]
  },
  {
   "cell_type": "markdown",
   "metadata": {},
   "source": [
    "Рассмотрим целевой признак"
   ]
  },
  {
   "cell_type": "code",
   "execution_count": 51,
   "metadata": {
    "ExecuteTime": {
     "end_time": "2025-01-18T16:30:48.496408Z",
     "start_time": "2025-01-18T16:30:48.492667Z"
    }
   },
   "outputs": [
    {
     "name": "stdout",
     "output_type": "stream",
     "text": [
      "Прежний уровень    802\n",
      "Снизилась          498\n",
      "Name: Покупательская_активность, dtype: int64\n"
     ]
    }
   ],
   "source": [
    "print(market['Покупательская_активность'].value_counts())"
   ]
  },
  {
   "cell_type": "markdown",
   "metadata": {},
   "source": [
    "Сильного дисбаланса не наблюдается"
   ]
  },
  {
   "cell_type": "markdown",
   "metadata": {},
   "source": [
    "Теперь проверим money и time"
   ]
  },
  {
   "cell_type": "code",
   "execution_count": 52,
   "metadata": {
    "ExecuteTime": {
     "end_time": "2025-01-18T16:30:48.766751Z",
     "start_time": "2025-01-18T16:30:48.542217Z"
    }
   },
   "outputs": [
    {
     "data": {
      "text/plain": [
       "array([[<AxesSubplot:title={'center':'предыдущий_месяц_время'}>,\n",
       "        <AxesSubplot:title={'center':'текущий_месяц_время'}>]],\n",
       "      dtype=object)"
      ]
     },
     "execution_count": 52,
     "metadata": {},
     "output_type": "execute_result"
    },
    {
     "data": {
      "image/png": "[encoded data removed]",
      "text/plain": [
       "<Figure size 1080x504 with 2 Axes>"
      ]
     },
     "metadata": {
      "needs_background": "light"
     },
     "output_type": "display_data"
    }
   ],
   "source": [
    "market_time.hist(figsize=(15, 7))"
   ]
  },
  {
   "cell_type": "code",
   "execution_count": 53,
   "metadata": {
    "ExecuteTime": {
     "end_time": "2025-01-18T16:30:49.110555Z",
     "start_time": "2025-01-18T16:30:48.786217Z"
    }
   },
   "outputs": [
    {
     "data": {
      "text/plain": [
       "array([[<AxesSubplot:title={'center':'предыдущий_месяц'}>,\n",
       "        <AxesSubplot:title={'center':'препредыдущий_месяц'}>],\n",
       "       [<AxesSubplot:title={'center':'текущий_месяц'}>, <AxesSubplot:>]],\n",
       "      dtype=object)"
      ]
     },
     "execution_count": 53,
     "metadata": {},
     "output_type": "execute_result"
    },
    {
     "data": {
      "image/png": "[encoded data removed]",
      "text/plain": [
       "<Figure size 1080x504 with 4 Axes>"
      ]
     },
     "metadata": {
      "needs_background": "light"
     },
     "output_type": "display_data"
    }
   ],
   "source": [
    "market_money.hist(figsize=(15, 7), bins=30)"
   ]
  },
  {
   "cell_type": "code",
   "execution_count": 54,
   "metadata": {
    "ExecuteTime": {
     "end_time": "2025-01-18T16:30:49.142823Z",
     "start_time": "2025-01-18T16:30:49.133484Z"
    }
   },
   "outputs": [
    {
     "data": {
      "text/html": [
       "<div>\n",
       "<style scoped>\n",
       "    .dataframe tbody tr th:only-of-type {\n",
       "        vertical-align: middle;\n",
       "    }\n",
       "\n",
       "    .dataframe tbody tr th {\n",
       "        vertical-align: top;\n",
       "    }\n",
       "\n",
       "    .dataframe thead th {\n",
       "        text-align: right;\n",
       "    }\n",
       "</style>\n",
       "<table border=\"1\" class=\"dataframe\">\n",
       "  <thead>\n",
       "    <tr style=\"text-align: right;\">\n",
       "      <th>Период</th>\n",
       "      <th>предыдущий_месяц</th>\n",
       "      <th>препредыдущий_месяц</th>\n",
       "      <th>текущий_месяц</th>\n",
       "    </tr>\n",
       "  </thead>\n",
       "  <tbody>\n",
       "    <tr>\n",
       "      <th>count</th>\n",
       "      <td>1300.000000</td>\n",
       "      <td>1300.000000</td>\n",
       "      <td>1300.000000</td>\n",
       "    </tr>\n",
       "    <tr>\n",
       "      <th>mean</th>\n",
       "      <td>4936.920385</td>\n",
       "      <td>4825.206923</td>\n",
       "      <td>5314.960846</td>\n",
       "    </tr>\n",
       "    <tr>\n",
       "      <th>std</th>\n",
       "      <td>739.597997</td>\n",
       "      <td>405.979663</td>\n",
       "      <td>2939.708156</td>\n",
       "    </tr>\n",
       "    <tr>\n",
       "      <th>min</th>\n",
       "      <td>0.000000</td>\n",
       "      <td>0.000000</td>\n",
       "      <td>2758.700000</td>\n",
       "    </tr>\n",
       "    <tr>\n",
       "      <th>25%</th>\n",
       "      <td>4496.750000</td>\n",
       "      <td>4583.000000</td>\n",
       "      <td>4706.050000</td>\n",
       "    </tr>\n",
       "    <tr>\n",
       "      <th>50%</th>\n",
       "      <td>5005.000000</td>\n",
       "      <td>4809.000000</td>\n",
       "      <td>5179.950000</td>\n",
       "    </tr>\n",
       "    <tr>\n",
       "      <th>75%</th>\n",
       "      <td>5405.625000</td>\n",
       "      <td>5053.500000</td>\n",
       "      <td>5761.725000</td>\n",
       "    </tr>\n",
       "    <tr>\n",
       "      <th>max</th>\n",
       "      <td>6869.500000</td>\n",
       "      <td>5663.000000</td>\n",
       "      <td>106862.200000</td>\n",
       "    </tr>\n",
       "  </tbody>\n",
       "</table>\n",
       "</div>"
      ],
      "text/plain": [
       "Период  предыдущий_месяц  препредыдущий_месяц  текущий_месяц\n",
       "count        1300.000000          1300.000000    1300.000000\n",
       "mean         4936.920385          4825.206923    5314.960846\n",
       "std           739.597997           405.979663    2939.708156\n",
       "min             0.000000             0.000000    2758.700000\n",
       "25%          4496.750000          4583.000000    4706.050000\n",
       "50%          5005.000000          4809.000000    5179.950000\n",
       "75%          5405.625000          5053.500000    5761.725000\n",
       "max          6869.500000          5663.000000  106862.200000"
      ]
     },
     "execution_count": 54,
     "metadata": {},
     "output_type": "execute_result"
    }
   ],
   "source": [
    "market_money.describe()"
   ]
  },
  {
   "cell_type": "markdown",
   "metadata": {},
   "source": [
    "Моксимальные данные по текущему месяцу слишком велики, проверим что это за выброс"
   ]
  },
  {
   "cell_type": "code",
   "execution_count": 55,
   "metadata": {
    "ExecuteTime": {
     "end_time": "2025-01-18T16:30:49.196699Z",
     "start_time": "2025-01-18T16:30:49.190774Z"
    }
   },
   "outputs": [
    {
     "data": {
      "text/html": [
       "<div>\n",
       "<style scoped>\n",
       "    .dataframe tbody tr th:only-of-type {\n",
       "        vertical-align: middle;\n",
       "    }\n",
       "\n",
       "    .dataframe tbody tr th {\n",
       "        vertical-align: top;\n",
       "    }\n",
       "\n",
       "    .dataframe thead th {\n",
       "        text-align: right;\n",
       "    }\n",
       "</style>\n",
       "<table border=\"1\" class=\"dataframe\">\n",
       "  <thead>\n",
       "    <tr style=\"text-align: right;\">\n",
       "      <th>Период</th>\n",
       "      <th>предыдущий_месяц</th>\n",
       "      <th>препредыдущий_месяц</th>\n",
       "      <th>текущий_месяц</th>\n",
       "    </tr>\n",
       "    <tr>\n",
       "      <th>id</th>\n",
       "      <th></th>\n",
       "      <th></th>\n",
       "      <th></th>\n",
       "    </tr>\n",
       "  </thead>\n",
       "  <tbody>\n",
       "    <tr>\n",
       "      <th>215380</th>\n",
       "      <td>6077.0</td>\n",
       "      <td>5051</td>\n",
       "      <td>106862.2</td>\n",
       "    </tr>\n",
       "  </tbody>\n",
       "</table>\n",
       "</div>"
      ],
      "text/plain": [
       "Период  предыдущий_месяц  препредыдущий_месяц  текущий_месяц\n",
       "id                                                          \n",
       "215380            6077.0                 5051       106862.2"
      ]
     },
     "execution_count": 55,
     "metadata": {},
     "output_type": "execute_result"
    }
   ],
   "source": [
    "market_money.loc[market_money['текущий_месяц'] > 10000]"
   ]
  },
  {
   "cell_type": "markdown",
   "metadata": {},
   "source": [
    "Вероятность того что клиент внезапно потратил в 20 раз больше средних значений невелика, лучше присвоить этому значению медианное"
   ]
  },
  {
   "cell_type": "markdown",
   "metadata": {},
   "source": [
    "<font color='blue'><b>Комментарий ревьюера : </b></font> ✔️\\\n",
    "<font color='green'>Действительно явный выброс.\n",
    "Можно удалить, а можно и заполнить, например значением предыдущего месяца.</font>"
   ]
  },
  {
   "cell_type": "code",
   "execution_count": 56,
   "metadata": {
    "ExecuteTime": {
     "end_time": "2025-01-18T16:30:49.257426Z",
     "start_time": "2025-01-18T16:30:49.254136Z"
    }
   },
   "outputs": [],
   "source": [
    "market_money.loc[market_money['текущий_месяц'] > 10000, 'текущий_месяц'] = market_money['текущий_месяц'].median()"
   ]
  },
  {
   "cell_type": "code",
   "execution_count": 57,
   "metadata": {
    "ExecuteTime": {
     "end_time": "2025-01-18T16:30:50.430425Z",
     "start_time": "2025-01-18T16:30:50.325623Z"
    }
   },
   "outputs": [
    {
     "data": {
      "text/plain": [
       "<AxesSubplot:>"
      ]
     },
     "execution_count": 57,
     "metadata": {},
     "output_type": "execute_result"
    },
    {
     "data": {
      "image/png": "[encoded data removed]",
      "text/plain": [
       "<Figure size 504x360 with 1 Axes>"
      ]
     },
     "metadata": {
      "needs_background": "light"
     },
     "output_type": "display_data"
    }
   ],
   "source": [
    "market_money['текущий_месяц'].hist(figsize=(7, 5), bins=30)"
   ]
  },
  {
   "cell_type": "code",
   "execution_count": 58,
   "metadata": {
    "ExecuteTime": {
     "end_time": "2025-01-18T16:30:50.813801Z",
     "start_time": "2025-01-18T16:30:50.709134Z"
    }
   },
   "outputs": [
    {
     "data": {
      "text/plain": [
       "<AxesSubplot:>"
      ]
     },
     "execution_count": 58,
     "metadata": {},
     "output_type": "execute_result"
    },
    {
     "data": {
      "image/png": "[encoded data removed]",
      "text/plain": [
       "<Figure size 504x360 with 1 Axes>"
      ]
     },
     "metadata": {
      "needs_background": "light"
     },
     "output_type": "display_data"
    }
   ],
   "source": [
    "money['Прибыль'].hist(figsize=(7, 5), bins=30)"
   ]
  },
  {
   "cell_type": "markdown",
   "metadata": {},
   "source": [
    "Комментарий студента: </span><br><span style=\"color: purple; font-weight: bold\">Удаляю пользователей</span>"
   ]
  },
  {
   "cell_type": "markdown",
   "metadata": {},
   "source": [
    "Следует удалить пользователей с отсутствием покупок хотя бы за один из трёх месяцев"
   ]
  },
  {
   "cell_type": "code",
   "execution_count": 59,
   "metadata": {
    "ExecuteTime": {
     "end_time": "2025-01-18T16:30:51.239872Z",
     "start_time": "2025-01-18T16:30:51.232374Z"
    }
   },
   "outputs": [
    {
     "data": {
      "text/html": [
       "<div>\n",
       "<style scoped>\n",
       "    .dataframe tbody tr th:only-of-type {\n",
       "        vertical-align: middle;\n",
       "    }\n",
       "\n",
       "    .dataframe tbody tr th {\n",
       "        vertical-align: top;\n",
       "    }\n",
       "\n",
       "    .dataframe thead th {\n",
       "        text-align: right;\n",
       "    }\n",
       "</style>\n",
       "<table border=\"1\" class=\"dataframe\">\n",
       "  <thead>\n",
       "    <tr style=\"text-align: right;\">\n",
       "      <th>Период</th>\n",
       "      <th>предыдущий_месяц</th>\n",
       "      <th>препредыдущий_месяц</th>\n",
       "      <th>текущий_месяц</th>\n",
       "    </tr>\n",
       "    <tr>\n",
       "      <th>id</th>\n",
       "      <th></th>\n",
       "      <th></th>\n",
       "      <th></th>\n",
       "    </tr>\n",
       "  </thead>\n",
       "  <tbody>\n",
       "    <tr>\n",
       "      <th>215348</th>\n",
       "      <td>0.0</td>\n",
       "      <td>0</td>\n",
       "      <td>3293.1</td>\n",
       "    </tr>\n",
       "    <tr>\n",
       "      <th>215357</th>\n",
       "      <td>0.0</td>\n",
       "      <td>0</td>\n",
       "      <td>5986.3</td>\n",
       "    </tr>\n",
       "    <tr>\n",
       "      <th>215359</th>\n",
       "      <td>0.0</td>\n",
       "      <td>0</td>\n",
       "      <td>4735.0</td>\n",
       "    </tr>\n",
       "  </tbody>\n",
       "</table>\n",
       "</div>"
      ],
      "text/plain": [
       "Период  предыдущий_месяц  препредыдущий_месяц  текущий_месяц\n",
       "id                                                          \n",
       "215348               0.0                    0         3293.1\n",
       "215357               0.0                    0         5986.3\n",
       "215359               0.0                    0         4735.0"
      ]
     },
     "execution_count": 59,
     "metadata": {},
     "output_type": "execute_result"
    }
   ],
   "source": [
    "market_money.query('(предыдущий_месяц == 0) or (препредыдущий_месяц == 0) or (текущий_месяц == 0)')"
   ]
  },
  {
   "cell_type": "code",
   "execution_count": 60,
   "metadata": {
    "ExecuteTime": {
     "end_time": "2025-01-18T16:30:51.438724Z",
     "start_time": "2025-01-18T16:30:51.435295Z"
    }
   },
   "outputs": [],
   "source": [
    "market_money.drop(215348, axis=0, inplace=True)"
   ]
  },
  {
   "cell_type": "code",
   "execution_count": 61,
   "metadata": {
    "ExecuteTime": {
     "end_time": "2025-01-18T16:30:51.614664Z",
     "start_time": "2025-01-18T16:30:51.609856Z"
    }
   },
   "outputs": [],
   "source": [
    "market_money.drop(215357, axis=0, inplace=True)\n",
    "market_money.drop(215359, axis=0, inplace=True)"
   ]
  },
  {
   "cell_type": "code",
   "execution_count": 62,
   "metadata": {
    "ExecuteTime": {
     "end_time": "2025-01-18T16:30:51.788498Z",
     "start_time": "2025-01-18T16:30:51.784240Z"
    }
   },
   "outputs": [],
   "source": [
    "market_time.drop(215348, axis=0, inplace=True)\n",
    "market_time.drop(215357, axis=0, inplace=True)\n",
    "market_time.drop(215359, axis=0, inplace=True)"
   ]
  },
  {
   "cell_type": "code",
   "execution_count": 63,
   "metadata": {
    "ExecuteTime": {
     "end_time": "2025-01-18T16:30:51.985212Z",
     "start_time": "2025-01-18T16:30:51.980764Z"
    }
   },
   "outputs": [],
   "source": [
    "market.drop(215348, axis=0, inplace=True)\n",
    "market.drop(215357, axis=0, inplace=True)\n",
    "market.drop(215359, axis=0, inplace=True)"
   ]
  },
  {
   "cell_type": "code",
   "execution_count": 64,
   "metadata": {
    "ExecuteTime": {
     "end_time": "2025-01-18T17:19:13.123763Z",
     "start_time": "2025-01-18T17:19:13.118382Z"
    }
   },
   "outputs": [
    {
     "ename": "KeyError",
     "evalue": "'[215348] not found in axis'",
     "output_type": "error",
     "traceback": [
      "\u001b[0;31m---------------------------------------------------------------------------\u001b[0m",
      "\u001b[0;31mKeyError\u001b[0m                                  Traceback (most recent call last)",
      "\u001b[0;32m/tmp/ipykernel_236/1284613329.py\u001b[0m in \u001b[0;36m<module>\u001b[0;34m\u001b[0m\n\u001b[0;32m----> 1\u001b[0;31m \u001b[0mmoney\u001b[0m\u001b[0;34m.\u001b[0m\u001b[0mdrop\u001b[0m\u001b[0;34m(\u001b[0m\u001b[0;36m215348\u001b[0m\u001b[0;34m,\u001b[0m \u001b[0maxis\u001b[0m\u001b[0;34m=\u001b[0m\u001b[0;36m0\u001b[0m\u001b[0;34m,\u001b[0m \u001b[0minplace\u001b[0m\u001b[0;34m=\u001b[0m\u001b[0;32mTrue\u001b[0m\u001b[0;34m)\u001b[0m\u001b[0;34m\u001b[0m\u001b[0;34m\u001b[0m\u001b[0m\n\u001b[0m\u001b[1;32m      2\u001b[0m \u001b[0mmoney\u001b[0m\u001b[0;34m.\u001b[0m\u001b[0mdrop\u001b[0m\u001b[0;34m(\u001b[0m\u001b[0;36m215357\u001b[0m\u001b[0;34m,\u001b[0m \u001b[0maxis\u001b[0m\u001b[0;34m=\u001b[0m\u001b[0;36m0\u001b[0m\u001b[0;34m,\u001b[0m \u001b[0minplace\u001b[0m\u001b[0;34m=\u001b[0m\u001b[0;32mTrue\u001b[0m\u001b[0;34m)\u001b[0m\u001b[0;34m\u001b[0m\u001b[0;34m\u001b[0m\u001b[0m\n\u001b[1;32m      3\u001b[0m \u001b[0mmoney\u001b[0m\u001b[0;34m.\u001b[0m\u001b[0mdrop\u001b[0m\u001b[0;34m(\u001b[0m\u001b[0;36m215359\u001b[0m\u001b[0;34m,\u001b[0m \u001b[0maxis\u001b[0m\u001b[0;34m=\u001b[0m\u001b[0;36m0\u001b[0m\u001b[0;34m,\u001b[0m \u001b[0minplace\u001b[0m\u001b[0;34m=\u001b[0m\u001b[0;32mTrue\u001b[0m\u001b[0;34m)\u001b[0m\u001b[0;34m\u001b[0m\u001b[0;34m\u001b[0m\u001b[0m\n",
      "\u001b[0;32m/opt/conda/lib/python3.9/site-packages/pandas/core/frame.py\u001b[0m in \u001b[0;36mdrop\u001b[0;34m(self, labels, axis, index, columns, level, inplace, errors)\u001b[0m\n\u001b[1;32m   4306\u001b[0m                 \u001b[0mweight\u001b[0m  \u001b[0;36m1.0\u001b[0m     \u001b[0;36m0.8\u001b[0m\u001b[0;34m\u001b[0m\u001b[0;34m\u001b[0m\u001b[0m\n\u001b[1;32m   4307\u001b[0m         \"\"\"\n\u001b[0;32m-> 4308\u001b[0;31m         return super().drop(\n\u001b[0m\u001b[1;32m   4309\u001b[0m             \u001b[0mlabels\u001b[0m\u001b[0;34m=\u001b[0m\u001b[0mlabels\u001b[0m\u001b[0;34m,\u001b[0m\u001b[0;34m\u001b[0m\u001b[0;34m\u001b[0m\u001b[0m\n\u001b[1;32m   4310\u001b[0m             \u001b[0maxis\u001b[0m\u001b[0;34m=\u001b[0m\u001b[0maxis\u001b[0m\u001b[0;34m,\u001b[0m\u001b[0;34m\u001b[0m\u001b[0;34m\u001b[0m\u001b[0m\n",
      "\u001b[0;32m/opt/conda/lib/python3.9/site-packages/pandas/core/generic.py\u001b[0m in \u001b[0;36mdrop\u001b[0;34m(self, labels, axis, index, columns, level, inplace, errors)\u001b[0m\n\u001b[1;32m   4151\u001b[0m         \u001b[0;32mfor\u001b[0m \u001b[0maxis\u001b[0m\u001b[0;34m,\u001b[0m \u001b[0mlabels\u001b[0m \u001b[0;32min\u001b[0m \u001b[0maxes\u001b[0m\u001b[0;34m.\u001b[0m\u001b[0mitems\u001b[0m\u001b[0;34m(\u001b[0m\u001b[0;34m)\u001b[0m\u001b[0;34m:\u001b[0m\u001b[0;34m\u001b[0m\u001b[0;34m\u001b[0m\u001b[0m\n\u001b[1;32m   4152\u001b[0m             \u001b[0;32mif\u001b[0m \u001b[0mlabels\u001b[0m \u001b[0;32mis\u001b[0m \u001b[0;32mnot\u001b[0m \u001b[0;32mNone\u001b[0m\u001b[0;34m:\u001b[0m\u001b[0;34m\u001b[0m\u001b[0;34m\u001b[0m\u001b[0m\n\u001b[0;32m-> 4153\u001b[0;31m                 \u001b[0mobj\u001b[0m \u001b[0;34m=\u001b[0m \u001b[0mobj\u001b[0m\u001b[0;34m.\u001b[0m\u001b[0m_drop_axis\u001b[0m\u001b[0;34m(\u001b[0m\u001b[0mlabels\u001b[0m\u001b[0;34m,\u001b[0m \u001b[0maxis\u001b[0m\u001b[0;34m,\u001b[0m \u001b[0mlevel\u001b[0m\u001b[0;34m=\u001b[0m\u001b[0mlevel\u001b[0m\u001b[0;34m,\u001b[0m \u001b[0merrors\u001b[0m\u001b[0;34m=\u001b[0m\u001b[0merrors\u001b[0m\u001b[0;34m)\u001b[0m\u001b[0;34m\u001b[0m\u001b[0;34m\u001b[0m\u001b[0m\n\u001b[0m\u001b[1;32m   4154\u001b[0m \u001b[0;34m\u001b[0m\u001b[0m\n\u001b[1;32m   4155\u001b[0m         \u001b[0;32mif\u001b[0m \u001b[0minplace\u001b[0m\u001b[0;34m:\u001b[0m\u001b[0;34m\u001b[0m\u001b[0;34m\u001b[0m\u001b[0m\n",
      "\u001b[0;32m/opt/conda/lib/python3.9/site-packages/pandas/core/generic.py\u001b[0m in \u001b[0;36m_drop_axis\u001b[0;34m(self, labels, axis, level, errors)\u001b[0m\n\u001b[1;32m   4186\u001b[0m                 \u001b[0mnew_axis\u001b[0m \u001b[0;34m=\u001b[0m \u001b[0maxis\u001b[0m\u001b[0;34m.\u001b[0m\u001b[0mdrop\u001b[0m\u001b[0;34m(\u001b[0m\u001b[0mlabels\u001b[0m\u001b[0;34m,\u001b[0m \u001b[0mlevel\u001b[0m\u001b[0;34m=\u001b[0m\u001b[0mlevel\u001b[0m\u001b[0;34m,\u001b[0m \u001b[0merrors\u001b[0m\u001b[0;34m=\u001b[0m\u001b[0merrors\u001b[0m\u001b[0;34m)\u001b[0m\u001b[0;34m\u001b[0m\u001b[0;34m\u001b[0m\u001b[0m\n\u001b[1;32m   4187\u001b[0m             \u001b[0;32melse\u001b[0m\u001b[0;34m:\u001b[0m\u001b[0;34m\u001b[0m\u001b[0;34m\u001b[0m\u001b[0m\n\u001b[0;32m-> 4188\u001b[0;31m                 \u001b[0mnew_axis\u001b[0m \u001b[0;34m=\u001b[0m \u001b[0maxis\u001b[0m\u001b[0;34m.\u001b[0m\u001b[0mdrop\u001b[0m\u001b[0;34m(\u001b[0m\u001b[0mlabels\u001b[0m\u001b[0;34m,\u001b[0m \u001b[0merrors\u001b[0m\u001b[0;34m=\u001b[0m\u001b[0merrors\u001b[0m\u001b[0;34m)\u001b[0m\u001b[0;34m\u001b[0m\u001b[0;34m\u001b[0m\u001b[0m\n\u001b[0m\u001b[1;32m   4189\u001b[0m             \u001b[0mresult\u001b[0m \u001b[0;34m=\u001b[0m \u001b[0mself\u001b[0m\u001b[0;34m.\u001b[0m\u001b[0mreindex\u001b[0m\u001b[0;34m(\u001b[0m\u001b[0;34m**\u001b[0m\u001b[0;34m{\u001b[0m\u001b[0maxis_name\u001b[0m\u001b[0;34m:\u001b[0m \u001b[0mnew_axis\u001b[0m\u001b[0;34m}\u001b[0m\u001b[0;34m)\u001b[0m\u001b[0;34m\u001b[0m\u001b[0;34m\u001b[0m\u001b[0m\n\u001b[1;32m   4190\u001b[0m \u001b[0;34m\u001b[0m\u001b[0m\n",
      "\u001b[0;32m/opt/conda/lib/python3.9/site-packages/pandas/core/indexes/base.py\u001b[0m in \u001b[0;36mdrop\u001b[0;34m(self, labels, errors)\u001b[0m\n\u001b[1;32m   5589\u001b[0m         \u001b[0;32mif\u001b[0m \u001b[0mmask\u001b[0m\u001b[0;34m.\u001b[0m\u001b[0many\u001b[0m\u001b[0;34m(\u001b[0m\u001b[0;34m)\u001b[0m\u001b[0;34m:\u001b[0m\u001b[0;34m\u001b[0m\u001b[0;34m\u001b[0m\u001b[0m\n\u001b[1;32m   5590\u001b[0m             \u001b[0;32mif\u001b[0m \u001b[0merrors\u001b[0m \u001b[0;34m!=\u001b[0m \u001b[0;34m\"ignore\"\u001b[0m\u001b[0;34m:\u001b[0m\u001b[0;34m\u001b[0m\u001b[0;34m\u001b[0m\u001b[0m\n\u001b[0;32m-> 5591\u001b[0;31m                 \u001b[0;32mraise\u001b[0m \u001b[0mKeyError\u001b[0m\u001b[0;34m(\u001b[0m\u001b[0;34mf\"{labels[mask]} not found in axis\"\u001b[0m\u001b[0;34m)\u001b[0m\u001b[0;34m\u001b[0m\u001b[0;34m\u001b[0m\u001b[0m\n\u001b[0m\u001b[1;32m   5592\u001b[0m             \u001b[0mindexer\u001b[0m \u001b[0;34m=\u001b[0m \u001b[0mindexer\u001b[0m\u001b[0;34m[\u001b[0m\u001b[0;34m~\u001b[0m\u001b[0mmask\u001b[0m\u001b[0;34m]\u001b[0m\u001b[0;34m\u001b[0m\u001b[0;34m\u001b[0m\u001b[0m\n\u001b[1;32m   5593\u001b[0m         \u001b[0;32mreturn\u001b[0m \u001b[0mself\u001b[0m\u001b[0;34m.\u001b[0m\u001b[0mdelete\u001b[0m\u001b[0;34m(\u001b[0m\u001b[0mindexer\u001b[0m\u001b[0;34m)\u001b[0m\u001b[0;34m\u001b[0m\u001b[0;34m\u001b[0m\u001b[0m\n",
      "\u001b[0;31mKeyError\u001b[0m: '[215348] not found in axis'"
     ]
    }
   ],
   "source": [
    "money.drop(215348, axis=0, inplace=True)\n",
    "money.drop(215357, axis=0, inplace=True)\n",
    "money.drop(215359, axis=0, inplace=True)"
   ]
  },
  {
   "cell_type": "markdown",
   "metadata": {},
   "source": [
    "<span style=\"color: blue; font-weight: bold\">Комментарий ревьюера 2: </span>  ❌\\\n",
    "<span style=\"color: red\"> Ошибка исполнения кода. </span>"
   ]
  },
  {
   "cell_type": "code",
   "execution_count": 65,
   "metadata": {
    "ExecuteTime": {
     "end_time": "2025-01-18T16:30:52.165713Z",
     "start_time": "2025-01-18T16:30:52.162151Z"
    }
   },
   "outputs": [
    {
     "data": {
      "text/plain": [
       "(1297, 3)"
      ]
     },
     "execution_count": 65,
     "metadata": {},
     "output_type": "execute_result"
    }
   ],
   "source": [
    "market_money.shape"
   ]
  },
  {
   "cell_type": "markdown",
   "metadata": {},
   "source": [
    "<font color='blue'><b>Комментарий ревьюера 2: </b></font> ✔️\\\n",
    "<font color='green'>Неактивные удалены 👌</font>"
   ]
  },
  {
   "cell_type": "markdown",
   "metadata": {},
   "source": [
    "Выводы по анализу:\n",
    "---\n",
    "Сильных выбросов или неадекватных значений не наблюдается. Распределения либо нормальные либо Релеевские. У признака акционные покупки U образное распределение. В категориальных данных сильный дисбаланс наблюдается у Тип_сервиса и Разрешить_сообщать. Данные по длительности значительно выше в абсолютных значениях. Значения признаков по времени и выручке тоже похожи на нормальные, значения выручки велики в абсолютных значениях. Для данных из money не потребовалось дополнительной обработки"
   ]
  },
  {
   "cell_type": "markdown",
   "metadata": {},
   "source": [
    "<span style=\"color: blue; font-weight: bold\">Комментарий ревьюера 2: </span> ✔️\\\n",
    "<span style=\"color: green\"> 👍</span>"
   ]
  },
  {
   "cell_type": "markdown",
   "metadata": {},
   "source": [
    "<font color='blue'><b>Комментарий ревьюера: </b></font> ❌\\\n",
    "<font color='red'> ~~Нужно удалить пользователей без покупок хотя бы в одном из трёх месяцев, у них активность менее трёх месяцев. Это можно проявить по выручке.~~</font>"
   ]
  },
  {
   "cell_type": "markdown",
   "metadata": {},
   "source": [
    "## Шаг 4 Объединение таблиц"
   ]
  },
  {
   "cell_type": "markdown",
   "metadata": {},
   "source": [
    "Объединим все таблицы кроме финансовых показателей"
   ]
  },
  {
   "cell_type": "code",
   "execution_count": 65,
   "metadata": {
    "ExecuteTime": {
     "end_time": "2025-01-18T16:30:53.565133Z",
     "start_time": "2025-01-18T16:30:53.558692Z"
    }
   },
   "outputs": [],
   "source": [
    "market_all = pd.merge(market, market_money, on='id', how='left')\n",
    "market_all = pd.merge(market_all, market_time, on='id', how='left')"
   ]
  },
  {
   "cell_type": "markdown",
   "metadata": {},
   "source": [
    "<font color='blue'><b>Комментарий ревьюера : </b></font> ✔️\\\n",
    "<font color='green'> Верно, при объединении таблиц нужно привязаться к уникальному `\"id\"`.</font>"
   ]
  },
  {
   "cell_type": "code",
   "execution_count": 66,
   "metadata": {
    "ExecuteTime": {
     "end_time": "2025-01-18T16:30:53.945331Z",
     "start_time": "2025-01-18T16:30:53.934669Z"
    }
   },
   "outputs": [
    {
     "data": {
      "text/html": [
       "<div>\n",
       "<style scoped>\n",
       "    .dataframe tbody tr th:only-of-type {\n",
       "        vertical-align: middle;\n",
       "    }\n",
       "\n",
       "    .dataframe tbody tr th {\n",
       "        vertical-align: top;\n",
       "    }\n",
       "\n",
       "    .dataframe thead th {\n",
       "        text-align: right;\n",
       "    }\n",
       "</style>\n",
       "<table border=\"1\" class=\"dataframe\">\n",
       "  <thead>\n",
       "    <tr style=\"text-align: right;\">\n",
       "      <th></th>\n",
       "      <th>Покупательская_активность</th>\n",
       "      <th>Тип_сервиса</th>\n",
       "      <th>Разрешить_сообщать</th>\n",
       "      <th>Маркет_актив_6_мес</th>\n",
       "      <th>Маркет_актив_тек_мес</th>\n",
       "      <th>Длительность</th>\n",
       "      <th>Акционные_покупки</th>\n",
       "      <th>Популярная_категория</th>\n",
       "      <th>Средний_просмотр_категорий_за_визит</th>\n",
       "      <th>Неоплаченные_продукты_штук_квартал</th>\n",
       "      <th>Ошибка_сервиса</th>\n",
       "      <th>Страниц_за_визит</th>\n",
       "      <th>предыдущий_месяц</th>\n",
       "      <th>препредыдущий_месяц</th>\n",
       "      <th>текущий_месяц</th>\n",
       "      <th>предыдущий_месяц_время</th>\n",
       "      <th>текущий_месяц_время</th>\n",
       "    </tr>\n",
       "    <tr>\n",
       "      <th>id</th>\n",
       "      <th></th>\n",
       "      <th></th>\n",
       "      <th></th>\n",
       "      <th></th>\n",
       "      <th></th>\n",
       "      <th></th>\n",
       "      <th></th>\n",
       "      <th></th>\n",
       "      <th></th>\n",
       "      <th></th>\n",
       "      <th></th>\n",
       "      <th></th>\n",
       "      <th></th>\n",
       "      <th></th>\n",
       "      <th></th>\n",
       "      <th></th>\n",
       "      <th></th>\n",
       "    </tr>\n",
       "  </thead>\n",
       "  <tbody>\n",
       "    <tr>\n",
       "      <th>215349</th>\n",
       "      <td>Снизилась</td>\n",
       "      <td>премиум</td>\n",
       "      <td>да</td>\n",
       "      <td>4.4</td>\n",
       "      <td>4</td>\n",
       "      <td>819</td>\n",
       "      <td>0.75</td>\n",
       "      <td>Товары для детей</td>\n",
       "      <td>4</td>\n",
       "      <td>4</td>\n",
       "      <td>2</td>\n",
       "      <td>5</td>\n",
       "      <td>5216.0</td>\n",
       "      <td>4472</td>\n",
       "      <td>4971.6</td>\n",
       "      <td>12</td>\n",
       "      <td>10</td>\n",
       "    </tr>\n",
       "    <tr>\n",
       "      <th>215350</th>\n",
       "      <td>Снизилась</td>\n",
       "      <td>стандарт</td>\n",
       "      <td>нет</td>\n",
       "      <td>4.9</td>\n",
       "      <td>3</td>\n",
       "      <td>539</td>\n",
       "      <td>0.14</td>\n",
       "      <td>Домашний текстиль</td>\n",
       "      <td>5</td>\n",
       "      <td>2</td>\n",
       "      <td>1</td>\n",
       "      <td>5</td>\n",
       "      <td>5457.5</td>\n",
       "      <td>4826</td>\n",
       "      <td>5058.4</td>\n",
       "      <td>8</td>\n",
       "      <td>13</td>\n",
       "    </tr>\n",
       "    <tr>\n",
       "      <th>215351</th>\n",
       "      <td>Снизилась</td>\n",
       "      <td>стандарт</td>\n",
       "      <td>да</td>\n",
       "      <td>3.2</td>\n",
       "      <td>5</td>\n",
       "      <td>896</td>\n",
       "      <td>0.99</td>\n",
       "      <td>Товары для детей</td>\n",
       "      <td>5</td>\n",
       "      <td>0</td>\n",
       "      <td>6</td>\n",
       "      <td>4</td>\n",
       "      <td>6158.0</td>\n",
       "      <td>4793</td>\n",
       "      <td>6610.4</td>\n",
       "      <td>11</td>\n",
       "      <td>13</td>\n",
       "    </tr>\n",
       "    <tr>\n",
       "      <th>215352</th>\n",
       "      <td>Снизилась</td>\n",
       "      <td>стандарт</td>\n",
       "      <td>нет</td>\n",
       "      <td>5.1</td>\n",
       "      <td>3</td>\n",
       "      <td>1064</td>\n",
       "      <td>0.94</td>\n",
       "      <td>Товары для детей</td>\n",
       "      <td>3</td>\n",
       "      <td>2</td>\n",
       "      <td>3</td>\n",
       "      <td>2</td>\n",
       "      <td>5807.5</td>\n",
       "      <td>4594</td>\n",
       "      <td>5872.5</td>\n",
       "      <td>8</td>\n",
       "      <td>11</td>\n",
       "    </tr>\n",
       "    <tr>\n",
       "      <th>215353</th>\n",
       "      <td>Снизилась</td>\n",
       "      <td>стандарт</td>\n",
       "      <td>да</td>\n",
       "      <td>3.3</td>\n",
       "      <td>4</td>\n",
       "      <td>762</td>\n",
       "      <td>0.26</td>\n",
       "      <td>Домашний текстиль</td>\n",
       "      <td>4</td>\n",
       "      <td>1</td>\n",
       "      <td>1</td>\n",
       "      <td>4</td>\n",
       "      <td>4738.5</td>\n",
       "      <td>5124</td>\n",
       "      <td>5388.5</td>\n",
       "      <td>10</td>\n",
       "      <td>10</td>\n",
       "    </tr>\n",
       "    <tr>\n",
       "      <th>...</th>\n",
       "      <td>...</td>\n",
       "      <td>...</td>\n",
       "      <td>...</td>\n",
       "      <td>...</td>\n",
       "      <td>...</td>\n",
       "      <td>...</td>\n",
       "      <td>...</td>\n",
       "      <td>...</td>\n",
       "      <td>...</td>\n",
       "      <td>...</td>\n",
       "      <td>...</td>\n",
       "      <td>...</td>\n",
       "      <td>...</td>\n",
       "      <td>...</td>\n",
       "      <td>...</td>\n",
       "      <td>...</td>\n",
       "      <td>...</td>\n",
       "    </tr>\n",
       "    <tr>\n",
       "      <th>216643</th>\n",
       "      <td>Прежний уровень</td>\n",
       "      <td>стандарт</td>\n",
       "      <td>да</td>\n",
       "      <td>6.6</td>\n",
       "      <td>3</td>\n",
       "      <td>318</td>\n",
       "      <td>0.24</td>\n",
       "      <td>Техника для красоты и здоровья</td>\n",
       "      <td>5</td>\n",
       "      <td>3</td>\n",
       "      <td>3</td>\n",
       "      <td>11</td>\n",
       "      <td>3664.0</td>\n",
       "      <td>4704</td>\n",
       "      <td>4741.7</td>\n",
       "      <td>14</td>\n",
       "      <td>7</td>\n",
       "    </tr>\n",
       "    <tr>\n",
       "      <th>216644</th>\n",
       "      <td>Прежний уровень</td>\n",
       "      <td>стандарт</td>\n",
       "      <td>нет</td>\n",
       "      <td>5.1</td>\n",
       "      <td>4</td>\n",
       "      <td>454</td>\n",
       "      <td>0.21</td>\n",
       "      <td>Домашний текстиль</td>\n",
       "      <td>6</td>\n",
       "      <td>2</td>\n",
       "      <td>3</td>\n",
       "      <td>9</td>\n",
       "      <td>4729.0</td>\n",
       "      <td>5299</td>\n",
       "      <td>5353.0</td>\n",
       "      <td>12</td>\n",
       "      <td>11</td>\n",
       "    </tr>\n",
       "    <tr>\n",
       "      <th>216645</th>\n",
       "      <td>Прежний уровень</td>\n",
       "      <td>стандарт</td>\n",
       "      <td>да</td>\n",
       "      <td>4.1</td>\n",
       "      <td>3</td>\n",
       "      <td>586</td>\n",
       "      <td>0.20</td>\n",
       "      <td>Домашний текстиль</td>\n",
       "      <td>3</td>\n",
       "      <td>2</td>\n",
       "      <td>5</td>\n",
       "      <td>7</td>\n",
       "      <td>5160.0</td>\n",
       "      <td>5334</td>\n",
       "      <td>5139.2</td>\n",
       "      <td>12</td>\n",
       "      <td>18</td>\n",
       "    </tr>\n",
       "    <tr>\n",
       "      <th>216646</th>\n",
       "      <td>Прежний уровень</td>\n",
       "      <td>стандарт</td>\n",
       "      <td>да</td>\n",
       "      <td>6.3</td>\n",
       "      <td>5</td>\n",
       "      <td>645</td>\n",
       "      <td>0.12</td>\n",
       "      <td>Техника для красоты и здоровья</td>\n",
       "      <td>3</td>\n",
       "      <td>3</td>\n",
       "      <td>5</td>\n",
       "      <td>7</td>\n",
       "      <td>4923.0</td>\n",
       "      <td>4725</td>\n",
       "      <td>5224.6</td>\n",
       "      <td>18</td>\n",
       "      <td>7</td>\n",
       "    </tr>\n",
       "    <tr>\n",
       "      <th>216647</th>\n",
       "      <td>Прежний уровень</td>\n",
       "      <td>премиум</td>\n",
       "      <td>да</td>\n",
       "      <td>4.0</td>\n",
       "      <td>5</td>\n",
       "      <td>906</td>\n",
       "      <td>0.94</td>\n",
       "      <td>Техника для красоты и здоровья</td>\n",
       "      <td>4</td>\n",
       "      <td>5</td>\n",
       "      <td>3</td>\n",
       "      <td>12</td>\n",
       "      <td>4720.0</td>\n",
       "      <td>5183</td>\n",
       "      <td>4448.3</td>\n",
       "      <td>15</td>\n",
       "      <td>10</td>\n",
       "    </tr>\n",
       "  </tbody>\n",
       "</table>\n",
       "<p>1297 rows × 17 columns</p>\n",
       "</div>"
      ],
      "text/plain": [
       "       Покупательская_активность Тип_сервиса Разрешить_сообщать  \\\n",
       "id                                                                \n",
       "215349                 Снизилась     премиум                 да   \n",
       "215350                 Снизилась    стандарт                нет   \n",
       "215351                 Снизилась    стандарт                 да   \n",
       "215352                 Снизилась    стандарт                нет   \n",
       "215353                 Снизилась    стандарт                 да   \n",
       "...                          ...         ...                ...   \n",
       "216643           Прежний уровень    стандарт                 да   \n",
       "216644           Прежний уровень    стандарт                нет   \n",
       "216645           Прежний уровень    стандарт                 да   \n",
       "216646           Прежний уровень    стандарт                 да   \n",
       "216647           Прежний уровень     премиум                 да   \n",
       "\n",
       "        Маркет_актив_6_мес  Маркет_актив_тек_мес  Длительность  \\\n",
       "id                                                               \n",
       "215349                 4.4                     4           819   \n",
       "215350                 4.9                     3           539   \n",
       "215351                 3.2                     5           896   \n",
       "215352                 5.1                     3          1064   \n",
       "215353                 3.3                     4           762   \n",
       "...                    ...                   ...           ...   \n",
       "216643                 6.6                     3           318   \n",
       "216644                 5.1                     4           454   \n",
       "216645                 4.1                     3           586   \n",
       "216646                 6.3                     5           645   \n",
       "216647                 4.0                     5           906   \n",
       "\n",
       "        Акционные_покупки            Популярная_категория  \\\n",
       "id                                                          \n",
       "215349               0.75                Товары для детей   \n",
       "215350               0.14               Домашний текстиль   \n",
       "215351               0.99                Товары для детей   \n",
       "215352               0.94                Товары для детей   \n",
       "215353               0.26               Домашний текстиль   \n",
       "...                   ...                             ...   \n",
       "216643               0.24  Техника для красоты и здоровья   \n",
       "216644               0.21               Домашний текстиль   \n",
       "216645               0.20               Домашний текстиль   \n",
       "216646               0.12  Техника для красоты и здоровья   \n",
       "216647               0.94  Техника для красоты и здоровья   \n",
       "\n",
       "        Средний_просмотр_категорий_за_визит  \\\n",
       "id                                            \n",
       "215349                                    4   \n",
       "215350                                    5   \n",
       "215351                                    5   \n",
       "215352                                    3   \n",
       "215353                                    4   \n",
       "...                                     ...   \n",
       "216643                                    5   \n",
       "216644                                    6   \n",
       "216645                                    3   \n",
       "216646                                    3   \n",
       "216647                                    4   \n",
       "\n",
       "        Неоплаченные_продукты_штук_квартал  Ошибка_сервиса  Страниц_за_визит  \\\n",
       "id                                                                             \n",
       "215349                                   4               2                 5   \n",
       "215350                                   2               1                 5   \n",
       "215351                                   0               6                 4   \n",
       "215352                                   2               3                 2   \n",
       "215353                                   1               1                 4   \n",
       "...                                    ...             ...               ...   \n",
       "216643                                   3               3                11   \n",
       "216644                                   2               3                 9   \n",
       "216645                                   2               5                 7   \n",
       "216646                                   3               5                 7   \n",
       "216647                                   5               3                12   \n",
       "\n",
       "        предыдущий_месяц  препредыдущий_месяц  текущий_месяц  \\\n",
       "id                                                             \n",
       "215349            5216.0                 4472         4971.6   \n",
       "215350            5457.5                 4826         5058.4   \n",
       "215351            6158.0                 4793         6610.4   \n",
       "215352            5807.5                 4594         5872.5   \n",
       "215353            4738.5                 5124         5388.5   \n",
       "...                  ...                  ...            ...   \n",
       "216643            3664.0                 4704         4741.7   \n",
       "216644            4729.0                 5299         5353.0   \n",
       "216645            5160.0                 5334         5139.2   \n",
       "216646            4923.0                 4725         5224.6   \n",
       "216647            4720.0                 5183         4448.3   \n",
       "\n",
       "        предыдущий_месяц_время  текущий_месяц_время  \n",
       "id                                                   \n",
       "215349                      12                   10  \n",
       "215350                       8                   13  \n",
       "215351                      11                   13  \n",
       "215352                       8                   11  \n",
       "215353                      10                   10  \n",
       "...                        ...                  ...  \n",
       "216643                      14                    7  \n",
       "216644                      12                   11  \n",
       "216645                      12                   18  \n",
       "216646                      18                    7  \n",
       "216647                      15                   10  \n",
       "\n",
       "[1297 rows x 17 columns]"
      ]
     },
     "execution_count": 66,
     "metadata": {},
     "output_type": "execute_result"
    }
   ],
   "source": [
    "market_all"
   ]
  },
  {
   "cell_type": "markdown",
   "metadata": {},
   "source": [
    "Теперь у нас есть единый фрэйм, приступим к анализу"
   ]
  },
  {
   "cell_type": "markdown",
   "metadata": {},
   "source": [
    "## Шаг 5 Корреляционный анализ"
   ]
  },
  {
   "cell_type": "markdown",
   "metadata": {},
   "source": [
    "Посчитаем корреляцию используя рекомендованный в уроках phik"
   ]
  },
  {
   "cell_type": "code",
   "execution_count": 67,
   "metadata": {
    "ExecuteTime": {
     "end_time": "2025-01-18T16:30:56.968811Z",
     "start_time": "2025-01-18T16:30:54.762680Z"
    }
   },
   "outputs": [
    {
     "data": {
      "image/png": "[encoded data removed]",
      "text/plain": [
       "<Figure size 1440x1080 with 2 Axes>"
      ]
     },
     "metadata": {
      "needs_background": "light"
     },
     "output_type": "display_data"
    }
   ],
   "source": [
    "interval_cols = ['Длительность', 'Акционные_покупки', 'Маркет_актив_6_мес', 'препредыдущий_месяц', 'предыдущий_месяц', 'текущий_месяц',\n",
    "                 'Маркет_актив_тек_мес', ]\n",
    "phik_overview = market_all.phik_matrix(interval_cols=interval_cols)\n",
    "\n",
    "plot_correlation_matrix(\n",
    "    phik_overview.values,\n",
    "    x_labels=phik_overview.columns,\n",
    "    y_labels=phik_overview.index,\n",
    "    figsize=(20, 15)\n",
    ")"
   ]
  },
  {
   "cell_type": "markdown",
   "metadata": {},
   "source": [
    "Целевой признак - покупательская активность - имеет высокую корреляцию с количеством страниц за визит. Также у целевого признака есть корреляция с  временем проведённым на сайте в текущий и предыдущий месяц, средним просмотром категорий, акционными покупками и маркетинговой активностью за последние 6 месяцев. Мультиколлинеарности"
   ]
  },
  {
   "cell_type": "markdown",
   "metadata": {},
   "source": [
    "<font color='blue'><b>Комментарий ревьюера : </b></font> ✔️\\\n",
    "<font color='green'>Здорово,что применена `phik` для анализа и нелинейных зависимостей</font>"
   ]
  },
  {
   "cell_type": "markdown",
   "metadata": {},
   "source": [
    "## Шаг 6 Использование пайплайнов"
   ]
  },
  {
   "cell_type": "markdown",
   "metadata": {},
   "source": [
    "### 6.1 ColumnTransformer"
   ]
  },
  {
   "cell_type": "markdown",
   "metadata": {},
   "source": [
    "Приступим к работе с данными. Для этого разделим данные на тестовую и тренировочную выборки. Зададим скэйлер и энкодер"
   ]
  },
  {
   "cell_type": "code",
   "execution_count": 68,
   "metadata": {
    "ExecuteTime": {
     "end_time": "2025-01-18T16:30:56.979734Z",
     "start_time": "2025-01-18T16:30:56.976402Z"
    }
   },
   "outputs": [],
   "source": [
    "X = market_all.drop(columns=['Покупательская_активность'])  # Features\n",
    "y = market_all['Покупательская_активность']  # Target"
   ]
  },
  {
   "cell_type": "code",
   "execution_count": 69,
   "metadata": {
    "ExecuteTime": {
     "end_time": "2025-01-18T16:30:58.264466Z",
     "start_time": "2025-01-18T16:30:58.261133Z"
    }
   },
   "outputs": [],
   "source": [
    "RANDOM_STATE = 42"
   ]
  },
  {
   "cell_type": "code",
   "execution_count": 70,
   "metadata": {
    "ExecuteTime": {
     "end_time": "2025-01-18T16:30:59.366653Z",
     "start_time": "2025-01-18T16:30:59.361324Z"
    }
   },
   "outputs": [],
   "source": [
    "X_train, X_test, y_train, y_test = train_test_split(X, y, test_size=0.2, random_state=RANDOM_STATE)"
   ]
  },
  {
   "cell_type": "code",
   "execution_count": 71,
   "metadata": {
    "ExecuteTime": {
     "end_time": "2025-01-18T16:30:59.622483Z",
     "start_time": "2025-01-18T16:30:59.610616Z"
    }
   },
   "outputs": [
    {
     "data": {
      "text/html": [
       "<div>\n",
       "<style scoped>\n",
       "    .dataframe tbody tr th:only-of-type {\n",
       "        vertical-align: middle;\n",
       "    }\n",
       "\n",
       "    .dataframe tbody tr th {\n",
       "        vertical-align: top;\n",
       "    }\n",
       "\n",
       "    .dataframe thead th {\n",
       "        text-align: right;\n",
       "    }\n",
       "</style>\n",
       "<table border=\"1\" class=\"dataframe\">\n",
       "  <thead>\n",
       "    <tr style=\"text-align: right;\">\n",
       "      <th></th>\n",
       "      <th>Тип_сервиса</th>\n",
       "      <th>Разрешить_сообщать</th>\n",
       "      <th>Маркет_актив_6_мес</th>\n",
       "      <th>Маркет_актив_тек_мес</th>\n",
       "      <th>Длительность</th>\n",
       "      <th>Акционные_покупки</th>\n",
       "      <th>Популярная_категория</th>\n",
       "      <th>Средний_просмотр_категорий_за_визит</th>\n",
       "      <th>Неоплаченные_продукты_штук_квартал</th>\n",
       "      <th>Ошибка_сервиса</th>\n",
       "      <th>Страниц_за_визит</th>\n",
       "      <th>предыдущий_месяц</th>\n",
       "      <th>препредыдущий_месяц</th>\n",
       "      <th>текущий_месяц</th>\n",
       "      <th>предыдущий_месяц_время</th>\n",
       "      <th>текущий_месяц_время</th>\n",
       "    </tr>\n",
       "    <tr>\n",
       "      <th>id</th>\n",
       "      <th></th>\n",
       "      <th></th>\n",
       "      <th></th>\n",
       "      <th></th>\n",
       "      <th></th>\n",
       "      <th></th>\n",
       "      <th></th>\n",
       "      <th></th>\n",
       "      <th></th>\n",
       "      <th></th>\n",
       "      <th></th>\n",
       "      <th></th>\n",
       "      <th></th>\n",
       "      <th></th>\n",
       "      <th></th>\n",
       "      <th></th>\n",
       "    </tr>\n",
       "  </thead>\n",
       "  <tbody>\n",
       "    <tr>\n",
       "      <th>215690</th>\n",
       "      <td>стандарт</td>\n",
       "      <td>да</td>\n",
       "      <td>4.8</td>\n",
       "      <td>4</td>\n",
       "      <td>907</td>\n",
       "      <td>0.30</td>\n",
       "      <td>Косметика и аксесуары</td>\n",
       "      <td>2</td>\n",
       "      <td>1</td>\n",
       "      <td>1</td>\n",
       "      <td>6</td>\n",
       "      <td>5005.5</td>\n",
       "      <td>5241</td>\n",
       "      <td>4931.4</td>\n",
       "      <td>13</td>\n",
       "      <td>14</td>\n",
       "    </tr>\n",
       "    <tr>\n",
       "      <th>216619</th>\n",
       "      <td>стандарт</td>\n",
       "      <td>нет</td>\n",
       "      <td>3.9</td>\n",
       "      <td>4</td>\n",
       "      <td>140</td>\n",
       "      <td>0.17</td>\n",
       "      <td>Техника для красоты и здоровья</td>\n",
       "      <td>4</td>\n",
       "      <td>2</td>\n",
       "      <td>8</td>\n",
       "      <td>11</td>\n",
       "      <td>5009.5</td>\n",
       "      <td>4342</td>\n",
       "      <td>5718.0</td>\n",
       "      <td>16</td>\n",
       "      <td>17</td>\n",
       "    </tr>\n",
       "    <tr>\n",
       "      <th>216631</th>\n",
       "      <td>стандарт</td>\n",
       "      <td>да</td>\n",
       "      <td>3.0</td>\n",
       "      <td>3</td>\n",
       "      <td>455</td>\n",
       "      <td>0.24</td>\n",
       "      <td>Кухонная посуда</td>\n",
       "      <td>5</td>\n",
       "      <td>0</td>\n",
       "      <td>7</td>\n",
       "      <td>7</td>\n",
       "      <td>4582.0</td>\n",
       "      <td>4735</td>\n",
       "      <td>4844.6</td>\n",
       "      <td>17</td>\n",
       "      <td>17</td>\n",
       "    </tr>\n",
       "    <tr>\n",
       "      <th>216056</th>\n",
       "      <td>премиум</td>\n",
       "      <td>да</td>\n",
       "      <td>4.6</td>\n",
       "      <td>4</td>\n",
       "      <td>871</td>\n",
       "      <td>0.39</td>\n",
       "      <td>Мелкая бытовая техника и электроника</td>\n",
       "      <td>5</td>\n",
       "      <td>2</td>\n",
       "      <td>2</td>\n",
       "      <td>10</td>\n",
       "      <td>4636.5</td>\n",
       "      <td>5442</td>\n",
       "      <td>4068.4</td>\n",
       "      <td>10</td>\n",
       "      <td>16</td>\n",
       "    </tr>\n",
       "    <tr>\n",
       "      <th>215702</th>\n",
       "      <td>стандарт</td>\n",
       "      <td>нет</td>\n",
       "      <td>1.7</td>\n",
       "      <td>4</td>\n",
       "      <td>188</td>\n",
       "      <td>0.89</td>\n",
       "      <td>Товары для детей</td>\n",
       "      <td>2</td>\n",
       "      <td>0</td>\n",
       "      <td>4</td>\n",
       "      <td>2</td>\n",
       "      <td>5078.5</td>\n",
       "      <td>4546</td>\n",
       "      <td>4860.1</td>\n",
       "      <td>8</td>\n",
       "      <td>7</td>\n",
       "    </tr>\n",
       "    <tr>\n",
       "      <th>...</th>\n",
       "      <td>...</td>\n",
       "      <td>...</td>\n",
       "      <td>...</td>\n",
       "      <td>...</td>\n",
       "      <td>...</td>\n",
       "      <td>...</td>\n",
       "      <td>...</td>\n",
       "      <td>...</td>\n",
       "      <td>...</td>\n",
       "      <td>...</td>\n",
       "      <td>...</td>\n",
       "      <td>...</td>\n",
       "      <td>...</td>\n",
       "      <td>...</td>\n",
       "      <td>...</td>\n",
       "      <td>...</td>\n",
       "    </tr>\n",
       "    <tr>\n",
       "      <th>216446</th>\n",
       "      <td>стандарт</td>\n",
       "      <td>да</td>\n",
       "      <td>5.3</td>\n",
       "      <td>5</td>\n",
       "      <td>433</td>\n",
       "      <td>0.91</td>\n",
       "      <td>Техника для красоты и здоровья</td>\n",
       "      <td>1</td>\n",
       "      <td>1</td>\n",
       "      <td>0</td>\n",
       "      <td>7</td>\n",
       "      <td>4712.0</td>\n",
       "      <td>5160</td>\n",
       "      <td>5230.7</td>\n",
       "      <td>15</td>\n",
       "      <td>20</td>\n",
       "    </tr>\n",
       "    <tr>\n",
       "      <th>216481</th>\n",
       "      <td>премиум</td>\n",
       "      <td>да</td>\n",
       "      <td>4.4</td>\n",
       "      <td>5</td>\n",
       "      <td>862</td>\n",
       "      <td>0.17</td>\n",
       "      <td>Техника для красоты и здоровья</td>\n",
       "      <td>4</td>\n",
       "      <td>4</td>\n",
       "      <td>8</td>\n",
       "      <td>10</td>\n",
       "      <td>4914.0</td>\n",
       "      <td>4872</td>\n",
       "      <td>5007.6</td>\n",
       "      <td>16</td>\n",
       "      <td>20</td>\n",
       "    </tr>\n",
       "    <tr>\n",
       "      <th>216645</th>\n",
       "      <td>стандарт</td>\n",
       "      <td>да</td>\n",
       "      <td>4.1</td>\n",
       "      <td>3</td>\n",
       "      <td>586</td>\n",
       "      <td>0.20</td>\n",
       "      <td>Домашний текстиль</td>\n",
       "      <td>3</td>\n",
       "      <td>2</td>\n",
       "      <td>5</td>\n",
       "      <td>7</td>\n",
       "      <td>5160.0</td>\n",
       "      <td>5334</td>\n",
       "      <td>5139.2</td>\n",
       "      <td>12</td>\n",
       "      <td>18</td>\n",
       "    </tr>\n",
       "    <tr>\n",
       "      <th>216211</th>\n",
       "      <td>премиум</td>\n",
       "      <td>да</td>\n",
       "      <td>6.3</td>\n",
       "      <td>3</td>\n",
       "      <td>1030</td>\n",
       "      <td>0.13</td>\n",
       "      <td>Домашний текстиль</td>\n",
       "      <td>4</td>\n",
       "      <td>2</td>\n",
       "      <td>5</td>\n",
       "      <td>9</td>\n",
       "      <td>5782.0</td>\n",
       "      <td>5083</td>\n",
       "      <td>6517.8</td>\n",
       "      <td>14</td>\n",
       "      <td>17</td>\n",
       "    </tr>\n",
       "    <tr>\n",
       "      <th>216477</th>\n",
       "      <td>стандарт</td>\n",
       "      <td>да</td>\n",
       "      <td>4.8</td>\n",
       "      <td>3</td>\n",
       "      <td>611</td>\n",
       "      <td>0.24</td>\n",
       "      <td>Домашний текстиль</td>\n",
       "      <td>5</td>\n",
       "      <td>4</td>\n",
       "      <td>0</td>\n",
       "      <td>10</td>\n",
       "      <td>5206.0</td>\n",
       "      <td>4750</td>\n",
       "      <td>5731.2</td>\n",
       "      <td>14</td>\n",
       "      <td>17</td>\n",
       "    </tr>\n",
       "  </tbody>\n",
       "</table>\n",
       "<p>1037 rows × 16 columns</p>\n",
       "</div>"
      ],
      "text/plain": [
       "       Тип_сервиса Разрешить_сообщать  Маркет_актив_6_мес  \\\n",
       "id                                                          \n",
       "215690    стандарт                 да                 4.8   \n",
       "216619    стандарт                нет                 3.9   \n",
       "216631    стандарт                 да                 3.0   \n",
       "216056     премиум                 да                 4.6   \n",
       "215702    стандарт                нет                 1.7   \n",
       "...            ...                ...                 ...   \n",
       "216446    стандарт                 да                 5.3   \n",
       "216481     премиум                 да                 4.4   \n",
       "216645    стандарт                 да                 4.1   \n",
       "216211     премиум                 да                 6.3   \n",
       "216477    стандарт                 да                 4.8   \n",
       "\n",
       "        Маркет_актив_тек_мес  Длительность  Акционные_покупки  \\\n",
       "id                                                              \n",
       "215690                     4           907               0.30   \n",
       "216619                     4           140               0.17   \n",
       "216631                     3           455               0.24   \n",
       "216056                     4           871               0.39   \n",
       "215702                     4           188               0.89   \n",
       "...                      ...           ...                ...   \n",
       "216446                     5           433               0.91   \n",
       "216481                     5           862               0.17   \n",
       "216645                     3           586               0.20   \n",
       "216211                     3          1030               0.13   \n",
       "216477                     3           611               0.24   \n",
       "\n",
       "                        Популярная_категория  \\\n",
       "id                                             \n",
       "215690                 Косметика и аксесуары   \n",
       "216619        Техника для красоты и здоровья   \n",
       "216631                       Кухонная посуда   \n",
       "216056  Мелкая бытовая техника и электроника   \n",
       "215702                      Товары для детей   \n",
       "...                                      ...   \n",
       "216446        Техника для красоты и здоровья   \n",
       "216481        Техника для красоты и здоровья   \n",
       "216645                     Домашний текстиль   \n",
       "216211                     Домашний текстиль   \n",
       "216477                     Домашний текстиль   \n",
       "\n",
       "        Средний_просмотр_категорий_за_визит  \\\n",
       "id                                            \n",
       "215690                                    2   \n",
       "216619                                    4   \n",
       "216631                                    5   \n",
       "216056                                    5   \n",
       "215702                                    2   \n",
       "...                                     ...   \n",
       "216446                                    1   \n",
       "216481                                    4   \n",
       "216645                                    3   \n",
       "216211                                    4   \n",
       "216477                                    5   \n",
       "\n",
       "        Неоплаченные_продукты_штук_квартал  Ошибка_сервиса  Страниц_за_визит  \\\n",
       "id                                                                             \n",
       "215690                                   1               1                 6   \n",
       "216619                                   2               8                11   \n",
       "216631                                   0               7                 7   \n",
       "216056                                   2               2                10   \n",
       "215702                                   0               4                 2   \n",
       "...                                    ...             ...               ...   \n",
       "216446                                   1               0                 7   \n",
       "216481                                   4               8                10   \n",
       "216645                                   2               5                 7   \n",
       "216211                                   2               5                 9   \n",
       "216477                                   4               0                10   \n",
       "\n",
       "        предыдущий_месяц  препредыдущий_месяц  текущий_месяц  \\\n",
       "id                                                             \n",
       "215690            5005.5                 5241         4931.4   \n",
       "216619            5009.5                 4342         5718.0   \n",
       "216631            4582.0                 4735         4844.6   \n",
       "216056            4636.5                 5442         4068.4   \n",
       "215702            5078.5                 4546         4860.1   \n",
       "...                  ...                  ...            ...   \n",
       "216446            4712.0                 5160         5230.7   \n",
       "216481            4914.0                 4872         5007.6   \n",
       "216645            5160.0                 5334         5139.2   \n",
       "216211            5782.0                 5083         6517.8   \n",
       "216477            5206.0                 4750         5731.2   \n",
       "\n",
       "        предыдущий_месяц_время  текущий_месяц_время  \n",
       "id                                                   \n",
       "215690                      13                   14  \n",
       "216619                      16                   17  \n",
       "216631                      17                   17  \n",
       "216056                      10                   16  \n",
       "215702                       8                    7  \n",
       "...                        ...                  ...  \n",
       "216446                      15                   20  \n",
       "216481                      16                   20  \n",
       "216645                      12                   18  \n",
       "216211                      14                   17  \n",
       "216477                      14                   17  \n",
       "\n",
       "[1037 rows x 16 columns]"
      ]
     },
     "execution_count": 71,
     "metadata": {},
     "output_type": "execute_result"
    }
   ],
   "source": [
    "X_train"
   ]
  },
  {
   "cell_type": "code",
   "execution_count": 72,
   "metadata": {
    "ExecuteTime": {
     "end_time": "2025-01-18T16:31:00.447243Z",
     "start_time": "2025-01-18T16:31:00.442434Z"
    }
   },
   "outputs": [
    {
     "name": "stdout",
     "output_type": "stream",
     "text": [
      "Тип_сервиса                               2\n",
      "Разрешить_сообщать                        2\n",
      "Маркет_актив_6_мес                       41\n",
      "Маркет_актив_тек_мес                      3\n",
      "Длительность                            593\n",
      "Акционные_покупки                        41\n",
      "Популярная_категория                      6\n",
      "Средний_просмотр_категорий_за_визит       6\n",
      "Неоплаченные_продукты_штук_квартал       11\n",
      "Ошибка_сервиса                           10\n",
      "Страниц_за_визит                         20\n",
      "предыдущий_месяц                        908\n",
      "препредыдущий_месяц                     692\n",
      "текущий_месяц                          1000\n",
      "предыдущий_месяц_время                   19\n",
      "текущий_месяц_время                      20\n",
      "dtype: int64\n"
     ]
    }
   ],
   "source": [
    "print(X_train.nunique())"
   ]
  },
  {
   "cell_type": "code",
   "execution_count": 73,
   "metadata": {
    "ExecuteTime": {
     "end_time": "2025-01-18T16:31:01.190402Z",
     "start_time": "2025-01-18T16:31:01.186130Z"
    }
   },
   "outputs": [],
   "source": [
    "ohe_cols = ['Тип_сервиса', 'Разрешить_сообщать', 'Популярная_категория']\n",
    "ord_cols = ['Маркет_актив_тек_мес','Средний_просмотр_категорий_за_визит']\n",
    "num_cols = ['Маркет_актив_6_мес', 'Длительность', 'Акционные_покупки', 'Страниц_за_визит', 'препредыдущий_месяц',\n",
    "            'предыдущий_месяц', 'текущий_месяц', 'предыдущий_месяц_время', 'текущий_месяц_время',\n",
    "            'Неоплаченные_продукты_штук_квартал', 'Ошибка_сервиса']"
   ]
  },
  {
   "cell_type": "markdown",
   "metadata": {},
   "source": [
    "<font color='blue'><b>Комментарий ревьюера: </b></font> ❌\\\n",
    "<font color='red'> ~~Обрати внимание, 'Популярная_категория' - не может быть порядковым признаком. Он не выстраивается по рангу ни по какому фактору.\\\n",
    "Некоторые модели могут работать только с OE (деревья), но для Линейки это нужно кодировать в OHE.~~</font>"
   ]
  },
  {
   "cell_type": "markdown",
   "metadata": {},
   "source": [
    "Комментарий студента: </span><br><span style=\"color: purple; font-weight: bold\">Перевёл поплулярные категории в ohe. С аргументами согласен</span>"
   ]
  },
  {
   "cell_type": "code",
   "execution_count": 74,
   "metadata": {
    "ExecuteTime": {
     "end_time": "2025-01-18T16:31:03.787834Z",
     "start_time": "2025-01-18T16:31:03.785023Z"
    }
   },
   "outputs": [
    {
     "ename": "TypeError",
     "evalue": "__init__() got an unexpected keyword argument 'sparse_output'",
     "output_type": "error",
     "traceback": [
      "\u001b[0;31m---------------------------------------------------------------------------\u001b[0m",
      "\u001b[0;31mTypeError\u001b[0m                                 Traceback (most recent call last)",
      "\u001b[0;32m/tmp/ipykernel_236/2301265197.py\u001b[0m in \u001b[0;36m<module>\u001b[0;34m\u001b[0m\n\u001b[1;32m      8\u001b[0m         (\n\u001b[1;32m      9\u001b[0m             \u001b[0;34m'ohe'\u001b[0m\u001b[0;34m,\u001b[0m\u001b[0;34m\u001b[0m\u001b[0;34m\u001b[0m\u001b[0m\n\u001b[0;32m---> 10\u001b[0;31m             \u001b[0mOneHotEncoder\u001b[0m\u001b[0;34m(\u001b[0m\u001b[0mdrop\u001b[0m\u001b[0;34m=\u001b[0m\u001b[0;34m'first'\u001b[0m\u001b[0;34m,\u001b[0m \u001b[0mhandle_unknown\u001b[0m\u001b[0;34m=\u001b[0m\u001b[0;34m'ignore'\u001b[0m\u001b[0;34m,\u001b[0m \u001b[0msparse_output\u001b[0m\u001b[0;34m=\u001b[0m\u001b[0;32mFalse\u001b[0m\u001b[0;34m)\u001b[0m\u001b[0;34m\u001b[0m\u001b[0;34m\u001b[0m\u001b[0m\n\u001b[0m\u001b[1;32m     11\u001b[0m         )\n\u001b[1;32m     12\u001b[0m     ]\n",
      "\u001b[0;32m/opt/conda/lib/python3.9/site-packages/sklearn/utils/validation.py\u001b[0m in \u001b[0;36minner_f\u001b[0;34m(*args, **kwargs)\u001b[0m\n\u001b[1;32m     61\u001b[0m             \u001b[0mextra_args\u001b[0m \u001b[0;34m=\u001b[0m \u001b[0mlen\u001b[0m\u001b[0;34m(\u001b[0m\u001b[0margs\u001b[0m\u001b[0;34m)\u001b[0m \u001b[0;34m-\u001b[0m \u001b[0mlen\u001b[0m\u001b[0;34m(\u001b[0m\u001b[0mall_args\u001b[0m\u001b[0;34m)\u001b[0m\u001b[0;34m\u001b[0m\u001b[0;34m\u001b[0m\u001b[0m\n\u001b[1;32m     62\u001b[0m             \u001b[0;32mif\u001b[0m \u001b[0mextra_args\u001b[0m \u001b[0;34m<=\u001b[0m \u001b[0;36m0\u001b[0m\u001b[0;34m:\u001b[0m\u001b[0;34m\u001b[0m\u001b[0;34m\u001b[0m\u001b[0m\n\u001b[0;32m---> 63\u001b[0;31m                 \u001b[0;32mreturn\u001b[0m \u001b[0mf\u001b[0m\u001b[0;34m(\u001b[0m\u001b[0;34m*\u001b[0m\u001b[0margs\u001b[0m\u001b[0;34m,\u001b[0m \u001b[0;34m**\u001b[0m\u001b[0mkwargs\u001b[0m\u001b[0;34m)\u001b[0m\u001b[0;34m\u001b[0m\u001b[0;34m\u001b[0m\u001b[0m\n\u001b[0m\u001b[1;32m     64\u001b[0m \u001b[0;34m\u001b[0m\u001b[0m\n\u001b[1;32m     65\u001b[0m             \u001b[0;31m# extra_args > 0\u001b[0m\u001b[0;34m\u001b[0m\u001b[0;34m\u001b[0m\u001b[0;34m\u001b[0m\u001b[0m\n",
      "\u001b[0;31mTypeError\u001b[0m: __init__() got an unexpected keyword argument 'sparse_output'"
     ]
    }
   ],
   "source": [
    "# SimpleImputer + OHE\n",
    "ohe_pipe = Pipeline(\n",
    "    [\n",
    "        (\n",
    "            'simpleImputer_ohe',\n",
    "            SimpleImputer(missing_values=np.nan, strategy='most_frequent')\n",
    "        ),\n",
    "        (\n",
    "            'ohe',\n",
    "            OneHotEncoder(drop='first', handle_unknown='ignore', sparse_output=False)\n",
    "        )\n",
    "    ]\n",
    ")"
   ]
  },
  {
   "cell_type": "markdown",
   "metadata": {},
   "source": [
    "<font color='blue'><b>Комментарий ревьюера : </b></font> ❌\\\n",
    "<font color='red'> Здесь не соответствие версии sklearn. В окружении Практикума стоит 0.24.1, в этой версии этот метод называется `sparse`. Посмотреть версию библиотеки можно так:\n",
    "```python\n",
    "import sklearn\n",
    "sklearn.__version__\n",
    "```\n",
    "Обновить до последней версии:</font>\n",
    "```\n",
    "!pip install -Uq scikit-learn\n",
    "```"
   ]
  },
  {
   "cell_type": "markdown",
   "metadata": {},
   "source": [
    "Комментарий студента: </span><br><span style=\"color: purple; font-weight: bold\">Исправил</span>"
   ]
  },
  {
   "cell_type": "markdown",
   "metadata": {},
   "source": [
    "<span style=\"color: blue; font-weight: bold\">Комментарий ревьюера : </span>  ❌\\\n",
    "<span style=\"color: red\"> Проблема осталась. Среда исполнения Практикума постоянно возвращается к дефолтной. Нужно прописать установку обновлённой версии sklearn в тетрадку перед импортами.</span>"
   ]
  },
  {
   "cell_type": "code",
   "execution_count": 76,
   "metadata": {
    "ExecuteTime": {
     "end_time": "2025-01-18T16:31:06.288230Z",
     "start_time": "2025-01-18T16:31:06.285331Z"
    }
   },
   "outputs": [],
   "source": [
    "ord_pipe = Pipeline(\n",
    "    [\n",
    "        (\n",
    "            'simpleImputer_before_ord',\n",
    "            SimpleImputer(missing_values=np.nan, strategy='most_frequent')\n",
    "        ),\n",
    "        (\n",
    "            'ord',\n",
    "            OrdinalEncoder(\n",
    "                handle_unknown='use_encoded_value', unknown_value=np.nan\n",
    "            )\n",
    "        ),\n",
    "        (\n",
    "            'simpleImputer_after_ord',\n",
    "            SimpleImputer(missing_values=np.nan, strategy='most_frequent')\n",
    "        )\n",
    "    ]\n",
    ")"
   ]
  },
  {
   "cell_type": "code",
   "execution_count": 77,
   "metadata": {
    "ExecuteTime": {
     "end_time": "2025-01-18T16:31:06.896984Z",
     "start_time": "2025-01-18T16:31:06.894327Z"
    }
   },
   "outputs": [],
   "source": [
    "data_preprocessor = ColumnTransformer(\n",
    "    [\n",
    "        ('ohe', ohe_pipe, ohe_cols),\n",
    "        ('ord', ord_pipe, ord_cols),\n",
    "        ('num', StandardScaler(), num_cols)\n",
    "    ],\n",
    "    remainder='passthrough'\n",
    ")"
   ]
  },
  {
   "cell_type": "code",
   "execution_count": 78,
   "metadata": {
    "ExecuteTime": {
     "end_time": "2025-01-18T16:31:07.430564Z",
     "start_time": "2025-01-18T16:31:07.427437Z"
    }
   },
   "outputs": [],
   "source": [
    "pipe_final= Pipeline(\n",
    "    [\n",
    "        ('preprocessor', data_preprocessor),\n",
    "        ('models', DecisionTreeClassifier(random_state=RANDOM_STATE))\n",
    "    ]\n",
    ")"
   ]
  },
  {
   "cell_type": "markdown",
   "metadata": {},
   "source": [
    "## 6.2 Обучим 4 модели"
   ]
  },
  {
   "cell_type": "markdown",
   "metadata": {},
   "source": [
    "Важный аспект - выбор метрики. Мы можем использовать разные метрики - roc_auc, f1, precision, recall. Целевой признак - покупательская активность, если мы неправильно определим снижение покупательской способности или, наоборот, признаем сохранение покупательской способности - в обоих случаях это приведёт к финансовым потерям. В первом случае будут предложены какие-то скидки или акционные товары хотя пользователь и так бы совершил покупку, во втором - пользователь не получит специальные предложения и потеряет лояльность. Между\n",
    "этими событиями нет существенной разницы с точки зрения финансового ущерба. Также нам хотелось получить метрику не зависящую от порогов поэтому будем использовать roc_auc"
   ]
  },
  {
   "cell_type": "markdown",
   "metadata": {},
   "source": [
    "<span style=\"color: blue; font-weight: bold\">Комментарий ревьюера : </span> ✔️\\\n",
    "<span style=\"color: green\"> 👍</span>"
   ]
  },
  {
   "cell_type": "markdown",
   "metadata": {},
   "source": [
    "Сперва попробуем каждую модель по отдельности"
   ]
  },
  {
   "cell_type": "markdown",
   "metadata": {},
   "source": [
    "DecisionTreeClassifier модель. Поиск можно проводить по параметрам max_depth и max_features, min_samples_leaf и min_samples_split"
   ]
  },
  {
   "cell_type": "code",
   "execution_count": 87,
   "metadata": {
    "ExecuteTime": {
     "end_time": "2025-01-18T16:31:10.803331Z",
     "start_time": "2025-01-18T16:31:10.798598Z"
    }
   },
   "outputs": [],
   "source": [
    "param_grid = [\n",
    "    {\n",
    "        'models': [DecisionTreeClassifier(random_state=RANDOM_STATE)],\n",
    "        'models__max_depth': range(2, 6),\n",
    "        'models__max_features': range(2, 6),\n",
    "        'models__min_samples_leaf': range(1, 6),\n",
    "        'models__min_samples_split': range(2, 7),\n",
    "        'preprocessor__num': [StandardScaler(), MinMaxScaler(), RobustScaler(), 'passthrough']\n",
    "    },\n",
    "    {\n",
    "        'models': [KNeighborsClassifier()],\n",
    "        'models__n_neighbors': range(2, 10),\n",
    "        'preprocessor__num': [StandardScaler(), MinMaxScaler(), RobustScaler(), 'passthrough']\n",
    "    },\n",
    "    {\n",
    "        'models': [LogisticRegression(\n",
    "            random_state=RANDOM_STATE,\n",
    "            solver='liblinear',\n",
    "            penalty='l1'\n",
    "        )],\n",
    "        'models__C': range(1, 5),\n",
    "        'preprocessor__num': [StandardScaler(), MinMaxScaler(), RobustScaler(), 'passthrough']\n",
    "    },\n",
    "    {\n",
    "        'models': [SVC(probability=True, random_state=RANDOM_STATE)],\n",
    "        'models__kernel': ['linear', 'rbf'],\n",
    "        'models__C': range(1, 7),\n",
    "        'preprocessor__num': [StandardScaler(), MinMaxScaler(), RobustScaler(), 'passthrough']\n",
    "    }\n",
    "\n",
    "]"
   ]
  },
  {
   "cell_type": "code",
   "execution_count": 88,
   "metadata": {
    "ExecuteTime": {
     "end_time": "2025-01-18T16:31:11.559945Z",
     "start_time": "2025-01-18T16:31:11.555819Z"
    }
   },
   "outputs": [],
   "source": [
    "grid = GridSearchCV(\n",
    "    pipe_final,\n",
    "    param_grid=param_grid,\n",
    "    cv=5,\n",
    "    scoring='roc_auc',\n",
    "    n_jobs=-1\n",
    ")\n"
   ]
  },
  {
   "cell_type": "code",
   "execution_count": 89,
   "metadata": {
    "ExecuteTime": {
     "end_time": "2025-01-18T16:31:12.514Z",
     "start_time": "2025-01-18T16:31:12.502826Z"
    }
   },
   "outputs": [
    {
     "data": {
      "text/html": [
       "<div>\n",
       "<style scoped>\n",
       "    .dataframe tbody tr th:only-of-type {\n",
       "        vertical-align: middle;\n",
       "    }\n",
       "\n",
       "    .dataframe tbody tr th {\n",
       "        vertical-align: top;\n",
       "    }\n",
       "\n",
       "    .dataframe thead th {\n",
       "        text-align: right;\n",
       "    }\n",
       "</style>\n",
       "<table border=\"1\" class=\"dataframe\">\n",
       "  <thead>\n",
       "    <tr style=\"text-align: right;\">\n",
       "      <th></th>\n",
       "      <th>Тип_сервиса</th>\n",
       "      <th>Разрешить_сообщать</th>\n",
       "      <th>Маркет_актив_6_мес</th>\n",
       "      <th>Маркет_актив_тек_мес</th>\n",
       "      <th>Длительность</th>\n",
       "      <th>Акционные_покупки</th>\n",
       "      <th>Популярная_категория</th>\n",
       "      <th>Средний_просмотр_категорий_за_визит</th>\n",
       "      <th>Неоплаченные_продукты_штук_квартал</th>\n",
       "      <th>Ошибка_сервиса</th>\n",
       "      <th>Страниц_за_визит</th>\n",
       "      <th>предыдущий_месяц</th>\n",
       "      <th>препредыдущий_месяц</th>\n",
       "      <th>текущий_месяц</th>\n",
       "      <th>предыдущий_месяц_время</th>\n",
       "      <th>текущий_месяц_время</th>\n",
       "    </tr>\n",
       "    <tr>\n",
       "      <th>id</th>\n",
       "      <th></th>\n",
       "      <th></th>\n",
       "      <th></th>\n",
       "      <th></th>\n",
       "      <th></th>\n",
       "      <th></th>\n",
       "      <th></th>\n",
       "      <th></th>\n",
       "      <th></th>\n",
       "      <th></th>\n",
       "      <th></th>\n",
       "      <th></th>\n",
       "      <th></th>\n",
       "      <th></th>\n",
       "      <th></th>\n",
       "      <th></th>\n",
       "    </tr>\n",
       "  </thead>\n",
       "  <tbody>\n",
       "    <tr>\n",
       "      <th>215690</th>\n",
       "      <td>стандарт</td>\n",
       "      <td>да</td>\n",
       "      <td>4.8</td>\n",
       "      <td>4</td>\n",
       "      <td>907</td>\n",
       "      <td>0.30</td>\n",
       "      <td>Косметика и аксесуары</td>\n",
       "      <td>2</td>\n",
       "      <td>1</td>\n",
       "      <td>1</td>\n",
       "      <td>6</td>\n",
       "      <td>5005.5</td>\n",
       "      <td>5241</td>\n",
       "      <td>4931.4</td>\n",
       "      <td>13</td>\n",
       "      <td>14</td>\n",
       "    </tr>\n",
       "    <tr>\n",
       "      <th>216619</th>\n",
       "      <td>стандарт</td>\n",
       "      <td>нет</td>\n",
       "      <td>3.9</td>\n",
       "      <td>4</td>\n",
       "      <td>140</td>\n",
       "      <td>0.17</td>\n",
       "      <td>Техника для красоты и здоровья</td>\n",
       "      <td>4</td>\n",
       "      <td>2</td>\n",
       "      <td>8</td>\n",
       "      <td>11</td>\n",
       "      <td>5009.5</td>\n",
       "      <td>4342</td>\n",
       "      <td>5718.0</td>\n",
       "      <td>16</td>\n",
       "      <td>17</td>\n",
       "    </tr>\n",
       "    <tr>\n",
       "      <th>216631</th>\n",
       "      <td>стандарт</td>\n",
       "      <td>да</td>\n",
       "      <td>3.0</td>\n",
       "      <td>3</td>\n",
       "      <td>455</td>\n",
       "      <td>0.24</td>\n",
       "      <td>Кухонная посуда</td>\n",
       "      <td>5</td>\n",
       "      <td>0</td>\n",
       "      <td>7</td>\n",
       "      <td>7</td>\n",
       "      <td>4582.0</td>\n",
       "      <td>4735</td>\n",
       "      <td>4844.6</td>\n",
       "      <td>17</td>\n",
       "      <td>17</td>\n",
       "    </tr>\n",
       "    <tr>\n",
       "      <th>216056</th>\n",
       "      <td>премиум</td>\n",
       "      <td>да</td>\n",
       "      <td>4.6</td>\n",
       "      <td>4</td>\n",
       "      <td>871</td>\n",
       "      <td>0.39</td>\n",
       "      <td>Мелкая бытовая техника и электроника</td>\n",
       "      <td>5</td>\n",
       "      <td>2</td>\n",
       "      <td>2</td>\n",
       "      <td>10</td>\n",
       "      <td>4636.5</td>\n",
       "      <td>5442</td>\n",
       "      <td>4068.4</td>\n",
       "      <td>10</td>\n",
       "      <td>16</td>\n",
       "    </tr>\n",
       "    <tr>\n",
       "      <th>215702</th>\n",
       "      <td>стандарт</td>\n",
       "      <td>нет</td>\n",
       "      <td>1.7</td>\n",
       "      <td>4</td>\n",
       "      <td>188</td>\n",
       "      <td>0.89</td>\n",
       "      <td>Товары для детей</td>\n",
       "      <td>2</td>\n",
       "      <td>0</td>\n",
       "      <td>4</td>\n",
       "      <td>2</td>\n",
       "      <td>5078.5</td>\n",
       "      <td>4546</td>\n",
       "      <td>4860.1</td>\n",
       "      <td>8</td>\n",
       "      <td>7</td>\n",
       "    </tr>\n",
       "    <tr>\n",
       "      <th>...</th>\n",
       "      <td>...</td>\n",
       "      <td>...</td>\n",
       "      <td>...</td>\n",
       "      <td>...</td>\n",
       "      <td>...</td>\n",
       "      <td>...</td>\n",
       "      <td>...</td>\n",
       "      <td>...</td>\n",
       "      <td>...</td>\n",
       "      <td>...</td>\n",
       "      <td>...</td>\n",
       "      <td>...</td>\n",
       "      <td>...</td>\n",
       "      <td>...</td>\n",
       "      <td>...</td>\n",
       "      <td>...</td>\n",
       "    </tr>\n",
       "    <tr>\n",
       "      <th>216446</th>\n",
       "      <td>стандарт</td>\n",
       "      <td>да</td>\n",
       "      <td>5.3</td>\n",
       "      <td>5</td>\n",
       "      <td>433</td>\n",
       "      <td>0.91</td>\n",
       "      <td>Техника для красоты и здоровья</td>\n",
       "      <td>1</td>\n",
       "      <td>1</td>\n",
       "      <td>0</td>\n",
       "      <td>7</td>\n",
       "      <td>4712.0</td>\n",
       "      <td>5160</td>\n",
       "      <td>5230.7</td>\n",
       "      <td>15</td>\n",
       "      <td>20</td>\n",
       "    </tr>\n",
       "    <tr>\n",
       "      <th>216481</th>\n",
       "      <td>премиум</td>\n",
       "      <td>да</td>\n",
       "      <td>4.4</td>\n",
       "      <td>5</td>\n",
       "      <td>862</td>\n",
       "      <td>0.17</td>\n",
       "      <td>Техника для красоты и здоровья</td>\n",
       "      <td>4</td>\n",
       "      <td>4</td>\n",
       "      <td>8</td>\n",
       "      <td>10</td>\n",
       "      <td>4914.0</td>\n",
       "      <td>4872</td>\n",
       "      <td>5007.6</td>\n",
       "      <td>16</td>\n",
       "      <td>20</td>\n",
       "    </tr>\n",
       "    <tr>\n",
       "      <th>216645</th>\n",
       "      <td>стандарт</td>\n",
       "      <td>да</td>\n",
       "      <td>4.1</td>\n",
       "      <td>3</td>\n",
       "      <td>586</td>\n",
       "      <td>0.20</td>\n",
       "      <td>Домашний текстиль</td>\n",
       "      <td>3</td>\n",
       "      <td>2</td>\n",
       "      <td>5</td>\n",
       "      <td>7</td>\n",
       "      <td>5160.0</td>\n",
       "      <td>5334</td>\n",
       "      <td>5139.2</td>\n",
       "      <td>12</td>\n",
       "      <td>18</td>\n",
       "    </tr>\n",
       "    <tr>\n",
       "      <th>216211</th>\n",
       "      <td>премиум</td>\n",
       "      <td>да</td>\n",
       "      <td>6.3</td>\n",
       "      <td>3</td>\n",
       "      <td>1030</td>\n",
       "      <td>0.13</td>\n",
       "      <td>Домашний текстиль</td>\n",
       "      <td>4</td>\n",
       "      <td>2</td>\n",
       "      <td>5</td>\n",
       "      <td>9</td>\n",
       "      <td>5782.0</td>\n",
       "      <td>5083</td>\n",
       "      <td>6517.8</td>\n",
       "      <td>14</td>\n",
       "      <td>17</td>\n",
       "    </tr>\n",
       "    <tr>\n",
       "      <th>216477</th>\n",
       "      <td>стандарт</td>\n",
       "      <td>да</td>\n",
       "      <td>4.8</td>\n",
       "      <td>3</td>\n",
       "      <td>611</td>\n",
       "      <td>0.24</td>\n",
       "      <td>Домашний текстиль</td>\n",
       "      <td>5</td>\n",
       "      <td>4</td>\n",
       "      <td>0</td>\n",
       "      <td>10</td>\n",
       "      <td>5206.0</td>\n",
       "      <td>4750</td>\n",
       "      <td>5731.2</td>\n",
       "      <td>14</td>\n",
       "      <td>17</td>\n",
       "    </tr>\n",
       "  </tbody>\n",
       "</table>\n",
       "<p>1037 rows × 16 columns</p>\n",
       "</div>"
      ],
      "text/plain": [
       "       Тип_сервиса Разрешить_сообщать  Маркет_актив_6_мес  \\\n",
       "id                                                          \n",
       "215690    стандарт                 да                 4.8   \n",
       "216619    стандарт                нет                 3.9   \n",
       "216631    стандарт                 да                 3.0   \n",
       "216056     премиум                 да                 4.6   \n",
       "215702    стандарт                нет                 1.7   \n",
       "...            ...                ...                 ...   \n",
       "216446    стандарт                 да                 5.3   \n",
       "216481     премиум                 да                 4.4   \n",
       "216645    стандарт                 да                 4.1   \n",
       "216211     премиум                 да                 6.3   \n",
       "216477    стандарт                 да                 4.8   \n",
       "\n",
       "        Маркет_актив_тек_мес  Длительность  Акционные_покупки  \\\n",
       "id                                                              \n",
       "215690                     4           907               0.30   \n",
       "216619                     4           140               0.17   \n",
       "216631                     3           455               0.24   \n",
       "216056                     4           871               0.39   \n",
       "215702                     4           188               0.89   \n",
       "...                      ...           ...                ...   \n",
       "216446                     5           433               0.91   \n",
       "216481                     5           862               0.17   \n",
       "216645                     3           586               0.20   \n",
       "216211                     3          1030               0.13   \n",
       "216477                     3           611               0.24   \n",
       "\n",
       "                        Популярная_категория  \\\n",
       "id                                             \n",
       "215690                 Косметика и аксесуары   \n",
       "216619        Техника для красоты и здоровья   \n",
       "216631                       Кухонная посуда   \n",
       "216056  Мелкая бытовая техника и электроника   \n",
       "215702                      Товары для детей   \n",
       "...                                      ...   \n",
       "216446        Техника для красоты и здоровья   \n",
       "216481        Техника для красоты и здоровья   \n",
       "216645                     Домашний текстиль   \n",
       "216211                     Домашний текстиль   \n",
       "216477                     Домашний текстиль   \n",
       "\n",
       "        Средний_просмотр_категорий_за_визит  \\\n",
       "id                                            \n",
       "215690                                    2   \n",
       "216619                                    4   \n",
       "216631                                    5   \n",
       "216056                                    5   \n",
       "215702                                    2   \n",
       "...                                     ...   \n",
       "216446                                    1   \n",
       "216481                                    4   \n",
       "216645                                    3   \n",
       "216211                                    4   \n",
       "216477                                    5   \n",
       "\n",
       "        Неоплаченные_продукты_штук_квартал  Ошибка_сервиса  Страниц_за_визит  \\\n",
       "id                                                                             \n",
       "215690                                   1               1                 6   \n",
       "216619                                   2               8                11   \n",
       "216631                                   0               7                 7   \n",
       "216056                                   2               2                10   \n",
       "215702                                   0               4                 2   \n",
       "...                                    ...             ...               ...   \n",
       "216446                                   1               0                 7   \n",
       "216481                                   4               8                10   \n",
       "216645                                   2               5                 7   \n",
       "216211                                   2               5                 9   \n",
       "216477                                   4               0                10   \n",
       "\n",
       "        предыдущий_месяц  препредыдущий_месяц  текущий_месяц  \\\n",
       "id                                                             \n",
       "215690            5005.5                 5241         4931.4   \n",
       "216619            5009.5                 4342         5718.0   \n",
       "216631            4582.0                 4735         4844.6   \n",
       "216056            4636.5                 5442         4068.4   \n",
       "215702            5078.5                 4546         4860.1   \n",
       "...                  ...                  ...            ...   \n",
       "216446            4712.0                 5160         5230.7   \n",
       "216481            4914.0                 4872         5007.6   \n",
       "216645            5160.0                 5334         5139.2   \n",
       "216211            5782.0                 5083         6517.8   \n",
       "216477            5206.0                 4750         5731.2   \n",
       "\n",
       "        предыдущий_месяц_время  текущий_месяц_время  \n",
       "id                                                   \n",
       "215690                      13                   14  \n",
       "216619                      16                   17  \n",
       "216631                      17                   17  \n",
       "216056                      10                   16  \n",
       "215702                       8                    7  \n",
       "...                        ...                  ...  \n",
       "216446                      15                   20  \n",
       "216481                      16                   20  \n",
       "216645                      12                   18  \n",
       "216211                      14                   17  \n",
       "216477                      14                   17  \n",
       "\n",
       "[1037 rows x 16 columns]"
      ]
     },
     "execution_count": 89,
     "metadata": {},
     "output_type": "execute_result"
    }
   ],
   "source": [
    "X_train"
   ]
  },
  {
   "cell_type": "code",
   "execution_count": 90,
   "metadata": {
    "ExecuteTime": {
     "end_time": "2025-01-18T16:35:51.528731Z",
     "start_time": "2025-01-18T16:31:13.507516Z"
    }
   },
   "outputs": [
    {
     "data": {
      "text/html": [
       "<style>#sk-container-id-1 {\n",
       "  /* Definition of color scheme common for light and dark mode */\n",
       "  --sklearn-color-text: #000;\n",
       "  --sklearn-color-text-muted: #666;\n",
       "  --sklearn-color-line: gray;\n",
       "  /* Definition of color scheme for unfitted estimators */\n",
       "  --sklearn-color-unfitted-level-0: #fff5e6;\n",
       "  --sklearn-color-unfitted-level-1: #f6e4d2;\n",
       "  --sklearn-color-unfitted-level-2: #ffe0b3;\n",
       "  --sklearn-color-unfitted-level-3: chocolate;\n",
       "  /* Definition of color scheme for fitted estimators */\n",
       "  --sklearn-color-fitted-level-0: #f0f8ff;\n",
       "  --sklearn-color-fitted-level-1: #d4ebff;\n",
       "  --sklearn-color-fitted-level-2: #b3dbfd;\n",
       "  --sklearn-color-fitted-level-3: cornflowerblue;\n",
       "\n",
       "  /* Specific color for light theme */\n",
       "  --sklearn-color-text-on-default-background: var(--sg-text-color, var(--theme-code-foreground, var(--jp-content-font-color1, black)));\n",
       "  --sklearn-color-background: var(--sg-background-color, var(--theme-background, var(--jp-layout-color0, white)));\n",
       "  --sklearn-color-border-box: var(--sg-text-color, var(--theme-code-foreground, var(--jp-content-font-color1, black)));\n",
       "  --sklearn-color-icon: #696969;\n",
       "\n",
       "  @media (prefers-color-scheme: dark) {\n",
       "    /* Redefinition of color scheme for dark theme */\n",
       "    --sklearn-color-text-on-default-background: var(--sg-text-color, var(--theme-code-foreground, var(--jp-content-font-color1, white)));\n",
       "    --sklearn-color-background: var(--sg-background-color, var(--theme-background, var(--jp-layout-color0, #111)));\n",
       "    --sklearn-color-border-box: var(--sg-text-color, var(--theme-code-foreground, var(--jp-content-font-color1, white)));\n",
       "    --sklearn-color-icon: #878787;\n",
       "  }\n",
       "}\n",
       "\n",
       "#sk-container-id-1 {\n",
       "  color: var(--sklearn-color-text);\n",
       "}\n",
       "\n",
       "#sk-container-id-1 pre {\n",
       "  padding: 0;\n",
       "}\n",
       "\n",
       "#sk-container-id-1 input.sk-hidden--visually {\n",
       "  border: 0;\n",
       "  clip: rect(1px 1px 1px 1px);\n",
       "  clip: rect(1px, 1px, 1px, 1px);\n",
       "  height: 1px;\n",
       "  margin: -1px;\n",
       "  overflow: hidden;\n",
       "  padding: 0;\n",
       "  position: absolute;\n",
       "  width: 1px;\n",
       "}\n",
       "\n",
       "#sk-container-id-1 div.sk-dashed-wrapped {\n",
       "  border: 1px dashed var(--sklearn-color-line);\n",
       "  margin: 0 0.4em 0.5em 0.4em;\n",
       "  box-sizing: border-box;\n",
       "  padding-bottom: 0.4em;\n",
       "  background-color: var(--sklearn-color-background);\n",
       "}\n",
       "\n",
       "#sk-container-id-1 div.sk-container {\n",
       "  /* jupyter's `normalize.less` sets `[hidden] { display: none; }`\n",
       "     but bootstrap.min.css set `[hidden] { display: none !important; }`\n",
       "     so we also need the `!important` here to be able to override the\n",
       "     default hidden behavior on the sphinx rendered scikit-learn.org.\n",
       "     See: https://github.com/scikit-learn/scikit-learn/issues/21755 */\n",
       "  display: inline-block !important;\n",
       "  position: relative;\n",
       "}\n",
       "\n",
       "#sk-container-id-1 div.sk-text-repr-fallback {\n",
       "  display: none;\n",
       "}\n",
       "\n",
       "div.sk-parallel-item,\n",
       "div.sk-serial,\n",
       "div.sk-item {\n",
       "  /* draw centered vertical line to link estimators */\n",
       "  background-image: linear-gradient(var(--sklearn-color-text-on-default-background), var(--sklearn-color-text-on-default-background));\n",
       "  background-size: 2px 100%;\n",
       "  background-repeat: no-repeat;\n",
       "  background-position: center center;\n",
       "}\n",
       "\n",
       "/* Parallel-specific style estimator block */\n",
       "\n",
       "#sk-container-id-1 div.sk-parallel-item::after {\n",
       "  content: \"\";\n",
       "  width: 100%;\n",
       "  border-bottom: 2px solid var(--sklearn-color-text-on-default-background);\n",
       "  flex-grow: 1;\n",
       "}\n",
       "\n",
       "#sk-container-id-1 div.sk-parallel {\n",
       "  display: flex;\n",
       "  align-items: stretch;\n",
       "  justify-content: center;\n",
       "  background-color: var(--sklearn-color-background);\n",
       "  position: relative;\n",
       "}\n",
       "\n",
       "#sk-container-id-1 div.sk-parallel-item {\n",
       "  display: flex;\n",
       "  flex-direction: column;\n",
       "}\n",
       "\n",
       "#sk-container-id-1 div.sk-parallel-item:first-child::after {\n",
       "  align-self: flex-end;\n",
       "  width: 50%;\n",
       "}\n",
       "\n",
       "#sk-container-id-1 div.sk-parallel-item:last-child::after {\n",
       "  align-self: flex-start;\n",
       "  width: 50%;\n",
       "}\n",
       "\n",
       "#sk-container-id-1 div.sk-parallel-item:only-child::after {\n",
       "  width: 0;\n",
       "}\n",
       "\n",
       "/* Serial-specific style estimator block */\n",
       "\n",
       "#sk-container-id-1 div.sk-serial {\n",
       "  display: flex;\n",
       "  flex-direction: column;\n",
       "  align-items: center;\n",
       "  background-color: var(--sklearn-color-background);\n",
       "  padding-right: 1em;\n",
       "  padding-left: 1em;\n",
       "}\n",
       "\n",
       "\n",
       "/* Toggleable style: style used for estimator/Pipeline/ColumnTransformer box that is\n",
       "clickable and can be expanded/collapsed.\n",
       "- Pipeline and ColumnTransformer use this feature and define the default style\n",
       "- Estimators will overwrite some part of the style using the `sk-estimator` class\n",
       "*/\n",
       "\n",
       "/* Pipeline and ColumnTransformer style (default) */\n",
       "\n",
       "#sk-container-id-1 div.sk-toggleable {\n",
       "  /* Default theme specific background. It is overwritten whether we have a\n",
       "  specific estimator or a Pipeline/ColumnTransformer */\n",
       "  background-color: var(--sklearn-color-background);\n",
       "}\n",
       "\n",
       "/* Toggleable label */\n",
       "#sk-container-id-1 label.sk-toggleable__label {\n",
       "  cursor: pointer;\n",
       "  display: flex;\n",
       "  width: 100%;\n",
       "  margin-bottom: 0;\n",
       "  padding: 0.5em;\n",
       "  box-sizing: border-box;\n",
       "  text-align: center;\n",
       "  align-items: start;\n",
       "  justify-content: space-between;\n",
       "  gap: 0.5em;\n",
       "}\n",
       "\n",
       "#sk-container-id-1 label.sk-toggleable__label .caption {\n",
       "  font-size: 0.6rem;\n",
       "  font-weight: lighter;\n",
       "  color: var(--sklearn-color-text-muted);\n",
       "}\n",
       "\n",
       "#sk-container-id-1 label.sk-toggleable__label-arrow:before {\n",
       "  /* Arrow on the left of the label */\n",
       "  content: \"▸\";\n",
       "  float: left;\n",
       "  margin-right: 0.25em;\n",
       "  color: var(--sklearn-color-icon);\n",
       "}\n",
       "\n",
       "#sk-container-id-1 label.sk-toggleable__label-arrow:hover:before {\n",
       "  color: var(--sklearn-color-text);\n",
       "}\n",
       "\n",
       "/* Toggleable content - dropdown */\n",
       "\n",
       "#sk-container-id-1 div.sk-toggleable__content {\n",
       "  max-height: 0;\n",
       "  max-width: 0;\n",
       "  overflow: hidden;\n",
       "  text-align: left;\n",
       "  /* unfitted */\n",
       "  background-color: var(--sklearn-color-unfitted-level-0);\n",
       "}\n",
       "\n",
       "#sk-container-id-1 div.sk-toggleable__content.fitted {\n",
       "  /* fitted */\n",
       "  background-color: var(--sklearn-color-fitted-level-0);\n",
       "}\n",
       "\n",
       "#sk-container-id-1 div.sk-toggleable__content pre {\n",
       "  margin: 0.2em;\n",
       "  border-radius: 0.25em;\n",
       "  color: var(--sklearn-color-text);\n",
       "  /* unfitted */\n",
       "  background-color: var(--sklearn-color-unfitted-level-0);\n",
       "}\n",
       "\n",
       "#sk-container-id-1 div.sk-toggleable__content.fitted pre {\n",
       "  /* unfitted */\n",
       "  background-color: var(--sklearn-color-fitted-level-0);\n",
       "}\n",
       "\n",
       "#sk-container-id-1 input.sk-toggleable__control:checked~div.sk-toggleable__content {\n",
       "  /* Expand drop-down */\n",
       "  max-height: 200px;\n",
       "  max-width: 100%;\n",
       "  overflow: auto;\n",
       "}\n",
       "\n",
       "#sk-container-id-1 input.sk-toggleable__control:checked~label.sk-toggleable__label-arrow:before {\n",
       "  content: \"▾\";\n",
       "}\n",
       "\n",
       "/* Pipeline/ColumnTransformer-specific style */\n",
       "\n",
       "#sk-container-id-1 div.sk-label input.sk-toggleable__control:checked~label.sk-toggleable__label {\n",
       "  color: var(--sklearn-color-text);\n",
       "  background-color: var(--sklearn-color-unfitted-level-2);\n",
       "}\n",
       "\n",
       "#sk-container-id-1 div.sk-label.fitted input.sk-toggleable__control:checked~label.sk-toggleable__label {\n",
       "  background-color: var(--sklearn-color-fitted-level-2);\n",
       "}\n",
       "\n",
       "/* Estimator-specific style */\n",
       "\n",
       "/* Colorize estimator box */\n",
       "#sk-container-id-1 div.sk-estimator input.sk-toggleable__control:checked~label.sk-toggleable__label {\n",
       "  /* unfitted */\n",
       "  background-color: var(--sklearn-color-unfitted-level-2);\n",
       "}\n",
       "\n",
       "#sk-container-id-1 div.sk-estimator.fitted input.sk-toggleable__control:checked~label.sk-toggleable__label {\n",
       "  /* fitted */\n",
       "  background-color: var(--sklearn-color-fitted-level-2);\n",
       "}\n",
       "\n",
       "#sk-container-id-1 div.sk-label label.sk-toggleable__label,\n",
       "#sk-container-id-1 div.sk-label label {\n",
       "  /* The background is the default theme color */\n",
       "  color: var(--sklearn-color-text-on-default-background);\n",
       "}\n",
       "\n",
       "/* On hover, darken the color of the background */\n",
       "#sk-container-id-1 div.sk-label:hover label.sk-toggleable__label {\n",
       "  color: var(--sklearn-color-text);\n",
       "  background-color: var(--sklearn-color-unfitted-level-2);\n",
       "}\n",
       "\n",
       "/* Label box, darken color on hover, fitted */\n",
       "#sk-container-id-1 div.sk-label.fitted:hover label.sk-toggleable__label.fitted {\n",
       "  color: var(--sklearn-color-text);\n",
       "  background-color: var(--sklearn-color-fitted-level-2);\n",
       "}\n",
       "\n",
       "/* Estimator label */\n",
       "\n",
       "#sk-container-id-1 div.sk-label label {\n",
       "  font-family: monospace;\n",
       "  font-weight: bold;\n",
       "  display: inline-block;\n",
       "  line-height: 1.2em;\n",
       "}\n",
       "\n",
       "#sk-container-id-1 div.sk-label-container {\n",
       "  text-align: center;\n",
       "}\n",
       "\n",
       "/* Estimator-specific */\n",
       "#sk-container-id-1 div.sk-estimator {\n",
       "  font-family: monospace;\n",
       "  border: 1px dotted var(--sklearn-color-border-box);\n",
       "  border-radius: 0.25em;\n",
       "  box-sizing: border-box;\n",
       "  margin-bottom: 0.5em;\n",
       "  /* unfitted */\n",
       "  background-color: var(--sklearn-color-unfitted-level-0);\n",
       "}\n",
       "\n",
       "#sk-container-id-1 div.sk-estimator.fitted {\n",
       "  /* fitted */\n",
       "  background-color: var(--sklearn-color-fitted-level-0);\n",
       "}\n",
       "\n",
       "/* on hover */\n",
       "#sk-container-id-1 div.sk-estimator:hover {\n",
       "  /* unfitted */\n",
       "  background-color: var(--sklearn-color-unfitted-level-2);\n",
       "}\n",
       "\n",
       "#sk-container-id-1 div.sk-estimator.fitted:hover {\n",
       "  /* fitted */\n",
       "  background-color: var(--sklearn-color-fitted-level-2);\n",
       "}\n",
       "\n",
       "/* Specification for estimator info (e.g. \"i\" and \"?\") */\n",
       "\n",
       "/* Common style for \"i\" and \"?\" */\n",
       "\n",
       ".sk-estimator-doc-link,\n",
       "a:link.sk-estimator-doc-link,\n",
       "a:visited.sk-estimator-doc-link {\n",
       "  float: right;\n",
       "  font-size: smaller;\n",
       "  line-height: 1em;\n",
       "  font-family: monospace;\n",
       "  background-color: var(--sklearn-color-background);\n",
       "  border-radius: 1em;\n",
       "  height: 1em;\n",
       "  width: 1em;\n",
       "  text-decoration: none !important;\n",
       "  margin-left: 0.5em;\n",
       "  text-align: center;\n",
       "  /* unfitted */\n",
       "  border: var(--sklearn-color-unfitted-level-1) 1pt solid;\n",
       "  color: var(--sklearn-color-unfitted-level-1);\n",
       "}\n",
       "\n",
       ".sk-estimator-doc-link.fitted,\n",
       "a:link.sk-estimator-doc-link.fitted,\n",
       "a:visited.sk-estimator-doc-link.fitted {\n",
       "  /* fitted */\n",
       "  border: var(--sklearn-color-fitted-level-1) 1pt solid;\n",
       "  color: var(--sklearn-color-fitted-level-1);\n",
       "}\n",
       "\n",
       "/* On hover */\n",
       "div.sk-estimator:hover .sk-estimator-doc-link:hover,\n",
       ".sk-estimator-doc-link:hover,\n",
       "div.sk-label-container:hover .sk-estimator-doc-link:hover,\n",
       ".sk-estimator-doc-link:hover {\n",
       "  /* unfitted */\n",
       "  background-color: var(--sklearn-color-unfitted-level-3);\n",
       "  color: var(--sklearn-color-background);\n",
       "  text-decoration: none;\n",
       "}\n",
       "\n",
       "div.sk-estimator.fitted:hover .sk-estimator-doc-link.fitted:hover,\n",
       ".sk-estimator-doc-link.fitted:hover,\n",
       "div.sk-label-container:hover .sk-estimator-doc-link.fitted:hover,\n",
       ".sk-estimator-doc-link.fitted:hover {\n",
       "  /* fitted */\n",
       "  background-color: var(--sklearn-color-fitted-level-3);\n",
       "  color: var(--sklearn-color-background);\n",
       "  text-decoration: none;\n",
       "}\n",
       "\n",
       "/* Span, style for the box shown on hovering the info icon */\n",
       ".sk-estimator-doc-link span {\n",
       "  display: none;\n",
       "  z-index: 9999;\n",
       "  position: relative;\n",
       "  font-weight: normal;\n",
       "  right: .2ex;\n",
       "  padding: .5ex;\n",
       "  margin: .5ex;\n",
       "  width: min-content;\n",
       "  min-width: 20ex;\n",
       "  max-width: 50ex;\n",
       "  color: var(--sklearn-color-text);\n",
       "  box-shadow: 2pt 2pt 4pt #999;\n",
       "  /* unfitted */\n",
       "  background: var(--sklearn-color-unfitted-level-0);\n",
       "  border: .5pt solid var(--sklearn-color-unfitted-level-3);\n",
       "}\n",
       "\n",
       ".sk-estimator-doc-link.fitted span {\n",
       "  /* fitted */\n",
       "  background: var(--sklearn-color-fitted-level-0);\n",
       "  border: var(--sklearn-color-fitted-level-3);\n",
       "}\n",
       "\n",
       ".sk-estimator-doc-link:hover span {\n",
       "  display: block;\n",
       "}\n",
       "\n",
       "/* \"?\"-specific style due to the `<a>` HTML tag */\n",
       "\n",
       "#sk-container-id-1 a.estimator_doc_link {\n",
       "  float: right;\n",
       "  font-size: 1rem;\n",
       "  line-height: 1em;\n",
       "  font-family: monospace;\n",
       "  background-color: var(--sklearn-color-background);\n",
       "  border-radius: 1rem;\n",
       "  height: 1rem;\n",
       "  width: 1rem;\n",
       "  text-decoration: none;\n",
       "  /* unfitted */\n",
       "  color: var(--sklearn-color-unfitted-level-1);\n",
       "  border: var(--sklearn-color-unfitted-level-1) 1pt solid;\n",
       "}\n",
       "\n",
       "#sk-container-id-1 a.estimator_doc_link.fitted {\n",
       "  /* fitted */\n",
       "  border: var(--sklearn-color-fitted-level-1) 1pt solid;\n",
       "  color: var(--sklearn-color-fitted-level-1);\n",
       "}\n",
       "\n",
       "/* On hover */\n",
       "#sk-container-id-1 a.estimator_doc_link:hover {\n",
       "  /* unfitted */\n",
       "  background-color: var(--sklearn-color-unfitted-level-3);\n",
       "  color: var(--sklearn-color-background);\n",
       "  text-decoration: none;\n",
       "}\n",
       "\n",
       "#sk-container-id-1 a.estimator_doc_link.fitted:hover {\n",
       "  /* fitted */\n",
       "  background-color: var(--sklearn-color-fitted-level-3);\n",
       "}\n",
       "</style><div id=\"sk-container-id-1\" class=\"sk-top-container\"><div class=\"sk-text-repr-fallback\"><pre>GridSearchCV(cv=5,\n",
       "             estimator=Pipeline(steps=[(&#x27;preprocessor&#x27;,\n",
       "                                        ColumnTransformer(remainder=&#x27;passthrough&#x27;,\n",
       "                                                          transformers=[(&#x27;ohe&#x27;,\n",
       "                                                                         Pipeline(steps=[(&#x27;simpleImputer_ohe&#x27;,\n",
       "                                                                                          SimpleImputer(strategy=&#x27;most_frequent&#x27;)),\n",
       "                                                                                         (&#x27;ohe&#x27;,\n",
       "                                                                                          OneHotEncoder(drop=&#x27;first&#x27;,\n",
       "                                                                                                        handle_unknown=&#x27;ignore&#x27;,\n",
       "                                                                                                        sparse_output=False))]),\n",
       "                                                                         [&#x27;Тип_сервиса&#x27;,\n",
       "                                                                          &#x27;Разрешить_сообщать&#x27;,\n",
       "                                                                          &#x27;Популярная_категория&#x27;]),\n",
       "                                                                        (&#x27;ord&#x27;...\n",
       "                                                                          &#x27;предыдущий_месяц_время&#x27;,\n",
       "                                                                          &#x27;текущий_месяц_время&#x27;,\n",
       "                                                                          &#x27;Неоплаченные_продукты_штук_квартал&#x27;,\n",
       "                                                                          &#x27;Ошибка_сервиса&#x27;])])),\n",
       "                                       (&#x27;models&#x27;,\n",
       "                                        DecisionTreeClassifier(random_state=42))]),\n",
       "             n_jobs=-1,\n",
       "             param_grid=[{&#x27;models&#x27;: [SVC(probability=True, random_state=42)],\n",
       "                          &#x27;models__C&#x27;: [4],\n",
       "                          &#x27;preprocessor__num&#x27;: [StandardScaler(),\n",
       "                                                MinMaxScaler(), RobustScaler(),\n",
       "                                                &#x27;passthrough&#x27;]}],\n",
       "             scoring=&#x27;roc_auc&#x27;)</pre><b>In a Jupyter environment, please rerun this cell to show the HTML representation or trust the notebook. <br />On GitHub, the HTML representation is unable to render, please try loading this page with nbviewer.org.</b></div><div class=\"sk-container\" hidden><div class=\"sk-item sk-dashed-wrapped\"><div class=\"sk-label-container\"><div class=\"sk-label fitted sk-toggleable\"><input class=\"sk-toggleable__control sk-hidden--visually\" id=\"sk-estimator-id-1\" type=\"checkbox\" ><label for=\"sk-estimator-id-1\" class=\"sk-toggleable__label fitted sk-toggleable__label-arrow\"><div><div>GridSearchCV</div></div><div><a class=\"sk-estimator-doc-link fitted\" rel=\"noreferrer\" target=\"_blank\" href=\"https://scikit-learn.org/1.6/modules/generated/sklearn.model_selection.GridSearchCV.html\">?<span>Documentation for GridSearchCV</span></a><span class=\"sk-estimator-doc-link fitted\">i<span>Fitted</span></span></div></label><div class=\"sk-toggleable__content fitted\"><pre>GridSearchCV(cv=5,\n",
       "             estimator=Pipeline(steps=[(&#x27;preprocessor&#x27;,\n",
       "                                        ColumnTransformer(remainder=&#x27;passthrough&#x27;,\n",
       "                                                          transformers=[(&#x27;ohe&#x27;,\n",
       "                                                                         Pipeline(steps=[(&#x27;simpleImputer_ohe&#x27;,\n",
       "                                                                                          SimpleImputer(strategy=&#x27;most_frequent&#x27;)),\n",
       "                                                                                         (&#x27;ohe&#x27;,\n",
       "                                                                                          OneHotEncoder(drop=&#x27;first&#x27;,\n",
       "                                                                                                        handle_unknown=&#x27;ignore&#x27;,\n",
       "                                                                                                        sparse_output=False))]),\n",
       "                                                                         [&#x27;Тип_сервиса&#x27;,\n",
       "                                                                          &#x27;Разрешить_сообщать&#x27;,\n",
       "                                                                          &#x27;Популярная_категория&#x27;]),\n",
       "                                                                        (&#x27;ord&#x27;...\n",
       "                                                                          &#x27;предыдущий_месяц_время&#x27;,\n",
       "                                                                          &#x27;текущий_месяц_время&#x27;,\n",
       "                                                                          &#x27;Неоплаченные_продукты_штук_квартал&#x27;,\n",
       "                                                                          &#x27;Ошибка_сервиса&#x27;])])),\n",
       "                                       (&#x27;models&#x27;,\n",
       "                                        DecisionTreeClassifier(random_state=42))]),\n",
       "             n_jobs=-1,\n",
       "             param_grid=[{&#x27;models&#x27;: [SVC(probability=True, random_state=42)],\n",
       "                          &#x27;models__C&#x27;: [4],\n",
       "                          &#x27;preprocessor__num&#x27;: [StandardScaler(),\n",
       "                                                MinMaxScaler(), RobustScaler(),\n",
       "                                                &#x27;passthrough&#x27;]}],\n",
       "             scoring=&#x27;roc_auc&#x27;)</pre></div> </div></div><div class=\"sk-parallel\"><div class=\"sk-parallel-item\"><div class=\"sk-item\"><div class=\"sk-label-container\"><div class=\"sk-label fitted sk-toggleable\"><input class=\"sk-toggleable__control sk-hidden--visually\" id=\"sk-estimator-id-2\" type=\"checkbox\" ><label for=\"sk-estimator-id-2\" class=\"sk-toggleable__label fitted sk-toggleable__label-arrow\"><div><div>best_estimator_: Pipeline</div></div></label><div class=\"sk-toggleable__content fitted\"><pre>Pipeline(steps=[(&#x27;preprocessor&#x27;,\n",
       "                 ColumnTransformer(remainder=&#x27;passthrough&#x27;,\n",
       "                                   transformers=[(&#x27;ohe&#x27;,\n",
       "                                                  Pipeline(steps=[(&#x27;simpleImputer_ohe&#x27;,\n",
       "                                                                   SimpleImputer(strategy=&#x27;most_frequent&#x27;)),\n",
       "                                                                  (&#x27;ohe&#x27;,\n",
       "                                                                   OneHotEncoder(drop=&#x27;first&#x27;,\n",
       "                                                                                 handle_unknown=&#x27;ignore&#x27;,\n",
       "                                                                                 sparse_output=False))]),\n",
       "                                                  [&#x27;Тип_сервиса&#x27;,\n",
       "                                                   &#x27;Разрешить_сообщать&#x27;,\n",
       "                                                   &#x27;Популярная_категория&#x27;]),\n",
       "                                                 (&#x27;ord&#x27;,\n",
       "                                                  Pipeline(steps=[(&#x27;simpleImp...\n",
       "                                                   &#x27;Средний_просмотр_категорий_за_визит&#x27;]),\n",
       "                                                 (&#x27;num&#x27;, RobustScaler(),\n",
       "                                                  [&#x27;Маркет_актив_6_мес&#x27;,\n",
       "                                                   &#x27;Длительность&#x27;,\n",
       "                                                   &#x27;Акционные_покупки&#x27;,\n",
       "                                                   &#x27;Страниц_за_визит&#x27;,\n",
       "                                                   &#x27;препредыдущий_месяц&#x27;,\n",
       "                                                   &#x27;предыдущий_месяц&#x27;,\n",
       "                                                   &#x27;текущий_месяц&#x27;,\n",
       "                                                   &#x27;предыдущий_месяц_время&#x27;,\n",
       "                                                   &#x27;текущий_месяц_время&#x27;,\n",
       "                                                   &#x27;Неоплаченные_продукты_штук_квартал&#x27;,\n",
       "                                                   &#x27;Ошибка_сервиса&#x27;])])),\n",
       "                (&#x27;models&#x27;, SVC(C=4, probability=True, random_state=42))])</pre></div> </div></div><div class=\"sk-serial\"><div class=\"sk-item\"><div class=\"sk-serial\"><div class=\"sk-item sk-dashed-wrapped\"><div class=\"sk-label-container\"><div class=\"sk-label fitted sk-toggleable\"><input class=\"sk-toggleable__control sk-hidden--visually\" id=\"sk-estimator-id-3\" type=\"checkbox\" ><label for=\"sk-estimator-id-3\" class=\"sk-toggleable__label fitted sk-toggleable__label-arrow\"><div><div>preprocessor: ColumnTransformer</div></div><div><a class=\"sk-estimator-doc-link fitted\" rel=\"noreferrer\" target=\"_blank\" href=\"https://scikit-learn.org/1.6/modules/generated/sklearn.compose.ColumnTransformer.html\">?<span>Documentation for preprocessor: ColumnTransformer</span></a></div></label><div class=\"sk-toggleable__content fitted\"><pre>ColumnTransformer(remainder=&#x27;passthrough&#x27;,\n",
       "                  transformers=[(&#x27;ohe&#x27;,\n",
       "                                 Pipeline(steps=[(&#x27;simpleImputer_ohe&#x27;,\n",
       "                                                  SimpleImputer(strategy=&#x27;most_frequent&#x27;)),\n",
       "                                                 (&#x27;ohe&#x27;,\n",
       "                                                  OneHotEncoder(drop=&#x27;first&#x27;,\n",
       "                                                                handle_unknown=&#x27;ignore&#x27;,\n",
       "                                                                sparse_output=False))]),\n",
       "                                 [&#x27;Тип_сервиса&#x27;, &#x27;Разрешить_сообщать&#x27;,\n",
       "                                  &#x27;Популярная_категория&#x27;]),\n",
       "                                (&#x27;ord&#x27;,\n",
       "                                 Pipeline(steps=[(&#x27;simpleImputer_before_ord&#x27;,\n",
       "                                                  SimpleImputer(s...\n",
       "                                                  SimpleImputer(strategy=&#x27;most_frequent&#x27;))]),\n",
       "                                 [&#x27;Маркет_актив_тек_мес&#x27;,\n",
       "                                  &#x27;Средний_просмотр_категорий_за_визит&#x27;]),\n",
       "                                (&#x27;num&#x27;, RobustScaler(),\n",
       "                                 [&#x27;Маркет_актив_6_мес&#x27;, &#x27;Длительность&#x27;,\n",
       "                                  &#x27;Акционные_покупки&#x27;, &#x27;Страниц_за_визит&#x27;,\n",
       "                                  &#x27;препредыдущий_месяц&#x27;, &#x27;предыдущий_месяц&#x27;,\n",
       "                                  &#x27;текущий_месяц&#x27;, &#x27;предыдущий_месяц_время&#x27;,\n",
       "                                  &#x27;текущий_месяц_время&#x27;,\n",
       "                                  &#x27;Неоплаченные_продукты_штук_квартал&#x27;,\n",
       "                                  &#x27;Ошибка_сервиса&#x27;])])</pre></div> </div></div><div class=\"sk-parallel\"><div class=\"sk-parallel-item\"><div class=\"sk-item\"><div class=\"sk-label-container\"><div class=\"sk-label fitted sk-toggleable\"><input class=\"sk-toggleable__control sk-hidden--visually\" id=\"sk-estimator-id-4\" type=\"checkbox\" ><label for=\"sk-estimator-id-4\" class=\"sk-toggleable__label fitted sk-toggleable__label-arrow\"><div><div>ohe</div></div></label><div class=\"sk-toggleable__content fitted\"><pre>[&#x27;Тип_сервиса&#x27;, &#x27;Разрешить_сообщать&#x27;, &#x27;Популярная_категория&#x27;]</pre></div> </div></div><div class=\"sk-serial\"><div class=\"sk-item\"><div class=\"sk-serial\"><div class=\"sk-item\"><div class=\"sk-estimator fitted sk-toggleable\"><input class=\"sk-toggleable__control sk-hidden--visually\" id=\"sk-estimator-id-5\" type=\"checkbox\" ><label for=\"sk-estimator-id-5\" class=\"sk-toggleable__label fitted sk-toggleable__label-arrow\"><div><div>SimpleImputer</div></div><div><a class=\"sk-estimator-doc-link fitted\" rel=\"noreferrer\" target=\"_blank\" href=\"https://scikit-learn.org/1.6/modules/generated/sklearn.impute.SimpleImputer.html\">?<span>Documentation for SimpleImputer</span></a></div></label><div class=\"sk-toggleable__content fitted\"><pre>SimpleImputer(strategy=&#x27;most_frequent&#x27;)</pre></div> </div></div><div class=\"sk-item\"><div class=\"sk-estimator fitted sk-toggleable\"><input class=\"sk-toggleable__control sk-hidden--visually\" id=\"sk-estimator-id-6\" type=\"checkbox\" ><label for=\"sk-estimator-id-6\" class=\"sk-toggleable__label fitted sk-toggleable__label-arrow\"><div><div>OneHotEncoder</div></div><div><a class=\"sk-estimator-doc-link fitted\" rel=\"noreferrer\" target=\"_blank\" href=\"https://scikit-learn.org/1.6/modules/generated/sklearn.preprocessing.OneHotEncoder.html\">?<span>Documentation for OneHotEncoder</span></a></div></label><div class=\"sk-toggleable__content fitted\"><pre>OneHotEncoder(drop=&#x27;first&#x27;, handle_unknown=&#x27;ignore&#x27;, sparse_output=False)</pre></div> </div></div></div></div></div></div></div><div class=\"sk-parallel-item\"><div class=\"sk-item\"><div class=\"sk-label-container\"><div class=\"sk-label fitted sk-toggleable\"><input class=\"sk-toggleable__control sk-hidden--visually\" id=\"sk-estimator-id-7\" type=\"checkbox\" ><label for=\"sk-estimator-id-7\" class=\"sk-toggleable__label fitted sk-toggleable__label-arrow\"><div><div>ord</div></div></label><div class=\"sk-toggleable__content fitted\"><pre>[&#x27;Маркет_актив_тек_мес&#x27;, &#x27;Средний_просмотр_категорий_за_визит&#x27;]</pre></div> </div></div><div class=\"sk-serial\"><div class=\"sk-item\"><div class=\"sk-serial\"><div class=\"sk-item\"><div class=\"sk-estimator fitted sk-toggleable\"><input class=\"sk-toggleable__control sk-hidden--visually\" id=\"sk-estimator-id-8\" type=\"checkbox\" ><label for=\"sk-estimator-id-8\" class=\"sk-toggleable__label fitted sk-toggleable__label-arrow\"><div><div>SimpleImputer</div></div><div><a class=\"sk-estimator-doc-link fitted\" rel=\"noreferrer\" target=\"_blank\" href=\"https://scikit-learn.org/1.6/modules/generated/sklearn.impute.SimpleImputer.html\">?<span>Documentation for SimpleImputer</span></a></div></label><div class=\"sk-toggleable__content fitted\"><pre>SimpleImputer(strategy=&#x27;most_frequent&#x27;)</pre></div> </div></div><div class=\"sk-item\"><div class=\"sk-estimator fitted sk-toggleable\"><input class=\"sk-toggleable__control sk-hidden--visually\" id=\"sk-estimator-id-9\" type=\"checkbox\" ><label for=\"sk-estimator-id-9\" class=\"sk-toggleable__label fitted sk-toggleable__label-arrow\"><div><div>OrdinalEncoder</div></div><div><a class=\"sk-estimator-doc-link fitted\" rel=\"noreferrer\" target=\"_blank\" href=\"https://scikit-learn.org/1.6/modules/generated/sklearn.preprocessing.OrdinalEncoder.html\">?<span>Documentation for OrdinalEncoder</span></a></div></label><div class=\"sk-toggleable__content fitted\"><pre>OrdinalEncoder(handle_unknown=&#x27;use_encoded_value&#x27;, unknown_value=nan)</pre></div> </div></div><div class=\"sk-item\"><div class=\"sk-estimator fitted sk-toggleable\"><input class=\"sk-toggleable__control sk-hidden--visually\" id=\"sk-estimator-id-10\" type=\"checkbox\" ><label for=\"sk-estimator-id-10\" class=\"sk-toggleable__label fitted sk-toggleable__label-arrow\"><div><div>SimpleImputer</div></div><div><a class=\"sk-estimator-doc-link fitted\" rel=\"noreferrer\" target=\"_blank\" href=\"https://scikit-learn.org/1.6/modules/generated/sklearn.impute.SimpleImputer.html\">?<span>Documentation for SimpleImputer</span></a></div></label><div class=\"sk-toggleable__content fitted\"><pre>SimpleImputer(strategy=&#x27;most_frequent&#x27;)</pre></div> </div></div></div></div></div></div></div><div class=\"sk-parallel-item\"><div class=\"sk-item\"><div class=\"sk-label-container\"><div class=\"sk-label fitted sk-toggleable\"><input class=\"sk-toggleable__control sk-hidden--visually\" id=\"sk-estimator-id-11\" type=\"checkbox\" ><label for=\"sk-estimator-id-11\" class=\"sk-toggleable__label fitted sk-toggleable__label-arrow\"><div><div>num</div></div></label><div class=\"sk-toggleable__content fitted\"><pre>[&#x27;Маркет_актив_6_мес&#x27;, &#x27;Длительность&#x27;, &#x27;Акционные_покупки&#x27;, &#x27;Страниц_за_визит&#x27;, &#x27;препредыдущий_месяц&#x27;, &#x27;предыдущий_месяц&#x27;, &#x27;текущий_месяц&#x27;, &#x27;предыдущий_месяц_время&#x27;, &#x27;текущий_месяц_время&#x27;, &#x27;Неоплаченные_продукты_штук_квартал&#x27;, &#x27;Ошибка_сервиса&#x27;]</pre></div> </div></div><div class=\"sk-serial\"><div class=\"sk-item\"><div class=\"sk-estimator fitted sk-toggleable\"><input class=\"sk-toggleable__control sk-hidden--visually\" id=\"sk-estimator-id-12\" type=\"checkbox\" ><label for=\"sk-estimator-id-12\" class=\"sk-toggleable__label fitted sk-toggleable__label-arrow\"><div><div>RobustScaler</div></div><div><a class=\"sk-estimator-doc-link fitted\" rel=\"noreferrer\" target=\"_blank\" href=\"https://scikit-learn.org/1.6/modules/generated/sklearn.preprocessing.RobustScaler.html\">?<span>Documentation for RobustScaler</span></a></div></label><div class=\"sk-toggleable__content fitted\"><pre>RobustScaler()</pre></div> </div></div></div></div></div><div class=\"sk-parallel-item\"><div class=\"sk-item\"><div class=\"sk-label-container\"><div class=\"sk-label fitted sk-toggleable\"><input class=\"sk-toggleable__control sk-hidden--visually\" id=\"sk-estimator-id-13\" type=\"checkbox\" ><label for=\"sk-estimator-id-13\" class=\"sk-toggleable__label fitted sk-toggleable__label-arrow\"><div><div>remainder</div></div></label><div class=\"sk-toggleable__content fitted\"><pre>[]</pre></div> </div></div><div class=\"sk-serial\"><div class=\"sk-item\"><div class=\"sk-estimator fitted sk-toggleable\"><input class=\"sk-toggleable__control sk-hidden--visually\" id=\"sk-estimator-id-14\" type=\"checkbox\" ><label for=\"sk-estimator-id-14\" class=\"sk-toggleable__label fitted sk-toggleable__label-arrow\"><div><div>passthrough</div></div></label><div class=\"sk-toggleable__content fitted\"><pre>passthrough</pre></div> </div></div></div></div></div></div></div><div class=\"sk-item\"><div class=\"sk-estimator fitted sk-toggleable\"><input class=\"sk-toggleable__control sk-hidden--visually\" id=\"sk-estimator-id-15\" type=\"checkbox\" ><label for=\"sk-estimator-id-15\" class=\"sk-toggleable__label fitted sk-toggleable__label-arrow\"><div><div>SVC</div></div><div><a class=\"sk-estimator-doc-link fitted\" rel=\"noreferrer\" target=\"_blank\" href=\"https://scikit-learn.org/1.6/modules/generated/sklearn.svm.SVC.html\">?<span>Documentation for SVC</span></a></div></label><div class=\"sk-toggleable__content fitted\"><pre>SVC(C=4, probability=True, random_state=42)</pre></div> </div></div></div></div></div></div></div></div></div></div></div>"
      ],
      "text/plain": [
       "GridSearchCV(cv=5,\n",
       "             estimator=Pipeline(steps=[('preprocessor',\n",
       "                                        ColumnTransformer(remainder='passthrough',\n",
       "                                                          transformers=[('ohe',\n",
       "                                                                         Pipeline(steps=[('simpleImputer_ohe',\n",
       "                                                                                          SimpleImputer(strategy='most_frequent')),\n",
       "                                                                                         ('ohe',\n",
       "                                                                                          OneHotEncoder(drop='first',\n",
       "                                                                                                        handle_unknown='ignore',\n",
       "                                                                                                        sparse_output=False))]),\n",
       "                                                                         ['Тип_сервиса',\n",
       "                                                                          'Разрешить_сообщать',\n",
       "                                                                          'Популярная_категория']),\n",
       "                                                                        ('ord'...\n",
       "                                                                          'предыдущий_месяц_время',\n",
       "                                                                          'текущий_месяц_время',\n",
       "                                                                          'Неоплаченные_продукты_штук_квартал',\n",
       "                                                                          'Ошибка_сервиса'])])),\n",
       "                                       ('models',\n",
       "                                        DecisionTreeClassifier(random_state=42))]),\n",
       "             n_jobs=-1,\n",
       "             param_grid=[{'models': [SVC(probability=True, random_state=42)],\n",
       "                          'models__C': [4],\n",
       "                          'preprocessor__num': [StandardScaler(),\n",
       "                                                MinMaxScaler(), RobustScaler(),\n",
       "                                                'passthrough']}],\n",
       "             scoring='roc_auc')"
      ]
     },
     "execution_count": 90,
     "metadata": {},
     "output_type": "execute_result"
    }
   ],
   "source": [
    "grid.fit(X_train, y_train)"
   ]
  },
  {
   "cell_type": "markdown",
   "metadata": {},
   "source": [
    "<font color='blue'><b>Комментарий ревьюера : </b></font> ✔️\\\n",
    "<font color='green'>Подбор гиперпараметров проведён верно. Использована целевая метрика, направление отбора верное ).</font>"
   ]
  },
  {
   "cell_type": "code",
   "execution_count": 91,
   "metadata": {
    "ExecuteTime": {
     "end_time": "2025-01-18T16:35:51.548511Z",
     "start_time": "2025-01-18T16:35:51.545257Z"
    }
   },
   "outputs": [
    {
     "data": {
      "text/plain": [
       "0.9053636637971161"
      ]
     },
     "execution_count": 91,
     "metadata": {},
     "output_type": "execute_result"
    }
   ],
   "source": [
    "grid.best_score_"
   ]
  },
  {
   "cell_type": "code",
   "execution_count": 92,
   "metadata": {
    "ExecuteTime": {
     "end_time": "2025-01-18T16:38:13.260930Z",
     "start_time": "2025-01-18T16:38:13.256461Z"
    }
   },
   "outputs": [
    {
     "data": {
      "text/plain": [
       "{'models': SVC(probability=True, random_state=42),\n",
       " 'models__C': 4,\n",
       " 'preprocessor__num': RobustScaler()}"
      ]
     },
     "execution_count": 92,
     "metadata": {},
     "output_type": "execute_result"
    }
   ],
   "source": [
    "grid.best_params_"
   ]
  },
  {
   "cell_type": "code",
   "execution_count": 93,
   "metadata": {
    "ExecuteTime": {
     "end_time": "2025-01-18T16:38:14.184610Z",
     "start_time": "2025-01-18T16:38:14.169929Z"
    }
   },
   "outputs": [
    {
     "data": {
      "text/plain": [
       "0.8821667907669397"
      ]
     },
     "execution_count": 93,
     "metadata": {},
     "output_type": "execute_result"
    }
   ],
   "source": [
    "grid.score(X_test, y_test)"
   ]
  },
  {
   "cell_type": "markdown",
   "metadata": {},
   "source": [
    "Комментарий студента: </span><br><span style=\"color: purple; font-weight: bold\">Исправляю</span>"
   ]
  },
  {
   "cell_type": "code",
   "execution_count": 94,
   "metadata": {
    "ExecuteTime": {
     "end_time": "2025-01-18T16:38:14.582706Z",
     "start_time": "2025-01-18T16:38:14.568652Z"
    },
    "scrolled": true
   },
   "outputs": [
    {
     "name": "stdout",
     "output_type": "stream",
     "text": [
      "Площадь ROC-кривой: 0.88222884090345\n"
     ]
    }
   ],
   "source": [
    "probabilities = grid.best_estimator_.predict_proba(X_test)\n",
    "probabilities_one = probabilities[:, 1]\n",
    "print('Площадь ROC-кривой:', roc_auc_score(y_test, probabilities_one))"
   ]
  },
  {
   "cell_type": "markdown",
   "metadata": {},
   "source": [
    "<font color='blue'><b>Комментарий ревьюера 2: </b></font> ✔️\\\n",
    "<font color='green'>Тестирование проведено верно.</font>"
   ]
  },
  {
   "cell_type": "markdown",
   "metadata": {},
   "source": [
    "<font color='blue'><b>Комментарий ревьюера: </b></font> ❌\\\n",
    "<font color='red'>~~roc_auc нужно считать по вероятностям классов~~</font>\n",
    "```python\n",
    "probabilities = model.predict_proba(features)\n",
    "probabilities_one = probabilities[:, 1]\n",
    "print('Площадь ROC-кривой:', roc_auc_score(target, probabilities_one))\n",
    "```\n",
    "<font color='blue'>Самое подробное объяснение метрики, что я видел на русском языке, можно посмотреть здесь: https://alexanderdyakonov.wordpress.com/2017/07/28/auc-roc-площадь-под-кривой-ошибок \\\n",
    "А внутри кросс-валидации мы просто указываем метрику ROC_AUC и там никаких вероятностей нам не нужно. Так как эта метрика не дифференцируема на всем промежутке (кажется, разрыв в нуле), то там разработчики кросс-валидации хитро меняют ее на эквивалент Gini, так как Gini = 2 ×AUC_ROC – 1 (можно почитать по ссылке выше)\n",
    "</font>"
   ]
  },
  {
   "cell_type": "markdown",
   "metadata": {},
   "source": [
    "Лучшая точность - для StandartScaler, SVC модель, C=4, kernel='rbf'"
   ]
  },
  {
   "cell_type": "markdown",
   "metadata": {},
   "source": [
    "Мы провели тьюнинг гиперпараметров и нашли наилучшую модель с точки зрения устойчивого перфоманса. Можно перейти к выяснению важности фич"
   ]
  },
  {
   "cell_type": "markdown",
   "metadata": {},
   "source": [
    "## Шаг 7 Анализ важности признаков"
   ]
  },
  {
   "cell_type": "markdown",
   "metadata": {},
   "source": [
    "Необходимо выяснить какие признаки влияют на работу модели сильнее. Для этого построим график permutation importance."
   ]
  },
  {
   "cell_type": "code",
   "execution_count": 95,
   "metadata": {
    "ExecuteTime": {
     "end_time": "2025-01-18T16:38:16.544282Z",
     "start_time": "2025-01-18T16:38:16.540917Z"
    }
   },
   "outputs": [],
   "source": [
    "pipe_final= Pipeline(\n",
    "    [\n",
    "        ('preprocessor', data_preprocessor),\n",
    "        ('models', SVC(kernel='rbf', C=4, probability=True, random_state=42))\n",
    "    ]\n",
    ")"
   ]
  },
  {
   "cell_type": "code",
   "execution_count": 96,
   "metadata": {
    "ExecuteTime": {
     "end_time": "2025-01-18T16:38:17.120237Z",
     "start_time": "2025-01-18T16:38:16.972847Z"
    }
   },
   "outputs": [
    {
     "data": {
      "text/html": [
       "<style>#sk-container-id-2 {\n",
       "  /* Definition of color scheme common for light and dark mode */\n",
       "  --sklearn-color-text: #000;\n",
       "  --sklearn-color-text-muted: #666;\n",
       "  --sklearn-color-line: gray;\n",
       "  /* Definition of color scheme for unfitted estimators */\n",
       "  --sklearn-color-unfitted-level-0: #fff5e6;\n",
       "  --sklearn-color-unfitted-level-1: #f6e4d2;\n",
       "  --sklearn-color-unfitted-level-2: #ffe0b3;\n",
       "  --sklearn-color-unfitted-level-3: chocolate;\n",
       "  /* Definition of color scheme for fitted estimators */\n",
       "  --sklearn-color-fitted-level-0: #f0f8ff;\n",
       "  --sklearn-color-fitted-level-1: #d4ebff;\n",
       "  --sklearn-color-fitted-level-2: #b3dbfd;\n",
       "  --sklearn-color-fitted-level-3: cornflowerblue;\n",
       "\n",
       "  /* Specific color for light theme */\n",
       "  --sklearn-color-text-on-default-background: var(--sg-text-color, var(--theme-code-foreground, var(--jp-content-font-color1, black)));\n",
       "  --sklearn-color-background: var(--sg-background-color, var(--theme-background, var(--jp-layout-color0, white)));\n",
       "  --sklearn-color-border-box: var(--sg-text-color, var(--theme-code-foreground, var(--jp-content-font-color1, black)));\n",
       "  --sklearn-color-icon: #696969;\n",
       "\n",
       "  @media (prefers-color-scheme: dark) {\n",
       "    /* Redefinition of color scheme for dark theme */\n",
       "    --sklearn-color-text-on-default-background: var(--sg-text-color, var(--theme-code-foreground, var(--jp-content-font-color1, white)));\n",
       "    --sklearn-color-background: var(--sg-background-color, var(--theme-background, var(--jp-layout-color0, #111)));\n",
       "    --sklearn-color-border-box: var(--sg-text-color, var(--theme-code-foreground, var(--jp-content-font-color1, white)));\n",
       "    --sklearn-color-icon: #878787;\n",
       "  }\n",
       "}\n",
       "\n",
       "#sk-container-id-2 {\n",
       "  color: var(--sklearn-color-text);\n",
       "}\n",
       "\n",
       "#sk-container-id-2 pre {\n",
       "  padding: 0;\n",
       "}\n",
       "\n",
       "#sk-container-id-2 input.sk-hidden--visually {\n",
       "  border: 0;\n",
       "  clip: rect(1px 1px 1px 1px);\n",
       "  clip: rect(1px, 1px, 1px, 1px);\n",
       "  height: 1px;\n",
       "  margin: -1px;\n",
       "  overflow: hidden;\n",
       "  padding: 0;\n",
       "  position: absolute;\n",
       "  width: 1px;\n",
       "}\n",
       "\n",
       "#sk-container-id-2 div.sk-dashed-wrapped {\n",
       "  border: 1px dashed var(--sklearn-color-line);\n",
       "  margin: 0 0.4em 0.5em 0.4em;\n",
       "  box-sizing: border-box;\n",
       "  padding-bottom: 0.4em;\n",
       "  background-color: var(--sklearn-color-background);\n",
       "}\n",
       "\n",
       "#sk-container-id-2 div.sk-container {\n",
       "  /* jupyter's `normalize.less` sets `[hidden] { display: none; }`\n",
       "     but bootstrap.min.css set `[hidden] { display: none !important; }`\n",
       "     so we also need the `!important` here to be able to override the\n",
       "     default hidden behavior on the sphinx rendered scikit-learn.org.\n",
       "     See: https://github.com/scikit-learn/scikit-learn/issues/21755 */\n",
       "  display: inline-block !important;\n",
       "  position: relative;\n",
       "}\n",
       "\n",
       "#sk-container-id-2 div.sk-text-repr-fallback {\n",
       "  display: none;\n",
       "}\n",
       "\n",
       "div.sk-parallel-item,\n",
       "div.sk-serial,\n",
       "div.sk-item {\n",
       "  /* draw centered vertical line to link estimators */\n",
       "  background-image: linear-gradient(var(--sklearn-color-text-on-default-background), var(--sklearn-color-text-on-default-background));\n",
       "  background-size: 2px 100%;\n",
       "  background-repeat: no-repeat;\n",
       "  background-position: center center;\n",
       "}\n",
       "\n",
       "/* Parallel-specific style estimator block */\n",
       "\n",
       "#sk-container-id-2 div.sk-parallel-item::after {\n",
       "  content: \"\";\n",
       "  width: 100%;\n",
       "  border-bottom: 2px solid var(--sklearn-color-text-on-default-background);\n",
       "  flex-grow: 1;\n",
       "}\n",
       "\n",
       "#sk-container-id-2 div.sk-parallel {\n",
       "  display: flex;\n",
       "  align-items: stretch;\n",
       "  justify-content: center;\n",
       "  background-color: var(--sklearn-color-background);\n",
       "  position: relative;\n",
       "}\n",
       "\n",
       "#sk-container-id-2 div.sk-parallel-item {\n",
       "  display: flex;\n",
       "  flex-direction: column;\n",
       "}\n",
       "\n",
       "#sk-container-id-2 div.sk-parallel-item:first-child::after {\n",
       "  align-self: flex-end;\n",
       "  width: 50%;\n",
       "}\n",
       "\n",
       "#sk-container-id-2 div.sk-parallel-item:last-child::after {\n",
       "  align-self: flex-start;\n",
       "  width: 50%;\n",
       "}\n",
       "\n",
       "#sk-container-id-2 div.sk-parallel-item:only-child::after {\n",
       "  width: 0;\n",
       "}\n",
       "\n",
       "/* Serial-specific style estimator block */\n",
       "\n",
       "#sk-container-id-2 div.sk-serial {\n",
       "  display: flex;\n",
       "  flex-direction: column;\n",
       "  align-items: center;\n",
       "  background-color: var(--sklearn-color-background);\n",
       "  padding-right: 1em;\n",
       "  padding-left: 1em;\n",
       "}\n",
       "\n",
       "\n",
       "/* Toggleable style: style used for estimator/Pipeline/ColumnTransformer box that is\n",
       "clickable and can be expanded/collapsed.\n",
       "- Pipeline and ColumnTransformer use this feature and define the default style\n",
       "- Estimators will overwrite some part of the style using the `sk-estimator` class\n",
       "*/\n",
       "\n",
       "/* Pipeline and ColumnTransformer style (default) */\n",
       "\n",
       "#sk-container-id-2 div.sk-toggleable {\n",
       "  /* Default theme specific background. It is overwritten whether we have a\n",
       "  specific estimator or a Pipeline/ColumnTransformer */\n",
       "  background-color: var(--sklearn-color-background);\n",
       "}\n",
       "\n",
       "/* Toggleable label */\n",
       "#sk-container-id-2 label.sk-toggleable__label {\n",
       "  cursor: pointer;\n",
       "  display: flex;\n",
       "  width: 100%;\n",
       "  margin-bottom: 0;\n",
       "  padding: 0.5em;\n",
       "  box-sizing: border-box;\n",
       "  text-align: center;\n",
       "  align-items: start;\n",
       "  justify-content: space-between;\n",
       "  gap: 0.5em;\n",
       "}\n",
       "\n",
       "#sk-container-id-2 label.sk-toggleable__label .caption {\n",
       "  font-size: 0.6rem;\n",
       "  font-weight: lighter;\n",
       "  color: var(--sklearn-color-text-muted);\n",
       "}\n",
       "\n",
       "#sk-container-id-2 label.sk-toggleable__label-arrow:before {\n",
       "  /* Arrow on the left of the label */\n",
       "  content: \"▸\";\n",
       "  float: left;\n",
       "  margin-right: 0.25em;\n",
       "  color: var(--sklearn-color-icon);\n",
       "}\n",
       "\n",
       "#sk-container-id-2 label.sk-toggleable__label-arrow:hover:before {\n",
       "  color: var(--sklearn-color-text);\n",
       "}\n",
       "\n",
       "/* Toggleable content - dropdown */\n",
       "\n",
       "#sk-container-id-2 div.sk-toggleable__content {\n",
       "  max-height: 0;\n",
       "  max-width: 0;\n",
       "  overflow: hidden;\n",
       "  text-align: left;\n",
       "  /* unfitted */\n",
       "  background-color: var(--sklearn-color-unfitted-level-0);\n",
       "}\n",
       "\n",
       "#sk-container-id-2 div.sk-toggleable__content.fitted {\n",
       "  /* fitted */\n",
       "  background-color: var(--sklearn-color-fitted-level-0);\n",
       "}\n",
       "\n",
       "#sk-container-id-2 div.sk-toggleable__content pre {\n",
       "  margin: 0.2em;\n",
       "  border-radius: 0.25em;\n",
       "  color: var(--sklearn-color-text);\n",
       "  /* unfitted */\n",
       "  background-color: var(--sklearn-color-unfitted-level-0);\n",
       "}\n",
       "\n",
       "#sk-container-id-2 div.sk-toggleable__content.fitted pre {\n",
       "  /* unfitted */\n",
       "  background-color: var(--sklearn-color-fitted-level-0);\n",
       "}\n",
       "\n",
       "#sk-container-id-2 input.sk-toggleable__control:checked~div.sk-toggleable__content {\n",
       "  /* Expand drop-down */\n",
       "  max-height: 200px;\n",
       "  max-width: 100%;\n",
       "  overflow: auto;\n",
       "}\n",
       "\n",
       "#sk-container-id-2 input.sk-toggleable__control:checked~label.sk-toggleable__label-arrow:before {\n",
       "  content: \"▾\";\n",
       "}\n",
       "\n",
       "/* Pipeline/ColumnTransformer-specific style */\n",
       "\n",
       "#sk-container-id-2 div.sk-label input.sk-toggleable__control:checked~label.sk-toggleable__label {\n",
       "  color: var(--sklearn-color-text);\n",
       "  background-color: var(--sklearn-color-unfitted-level-2);\n",
       "}\n",
       "\n",
       "#sk-container-id-2 div.sk-label.fitted input.sk-toggleable__control:checked~label.sk-toggleable__label {\n",
       "  background-color: var(--sklearn-color-fitted-level-2);\n",
       "}\n",
       "\n",
       "/* Estimator-specific style */\n",
       "\n",
       "/* Colorize estimator box */\n",
       "#sk-container-id-2 div.sk-estimator input.sk-toggleable__control:checked~label.sk-toggleable__label {\n",
       "  /* unfitted */\n",
       "  background-color: var(--sklearn-color-unfitted-level-2);\n",
       "}\n",
       "\n",
       "#sk-container-id-2 div.sk-estimator.fitted input.sk-toggleable__control:checked~label.sk-toggleable__label {\n",
       "  /* fitted */\n",
       "  background-color: var(--sklearn-color-fitted-level-2);\n",
       "}\n",
       "\n",
       "#sk-container-id-2 div.sk-label label.sk-toggleable__label,\n",
       "#sk-container-id-2 div.sk-label label {\n",
       "  /* The background is the default theme color */\n",
       "  color: var(--sklearn-color-text-on-default-background);\n",
       "}\n",
       "\n",
       "/* On hover, darken the color of the background */\n",
       "#sk-container-id-2 div.sk-label:hover label.sk-toggleable__label {\n",
       "  color: var(--sklearn-color-text);\n",
       "  background-color: var(--sklearn-color-unfitted-level-2);\n",
       "}\n",
       "\n",
       "/* Label box, darken color on hover, fitted */\n",
       "#sk-container-id-2 div.sk-label.fitted:hover label.sk-toggleable__label.fitted {\n",
       "  color: var(--sklearn-color-text);\n",
       "  background-color: var(--sklearn-color-fitted-level-2);\n",
       "}\n",
       "\n",
       "/* Estimator label */\n",
       "\n",
       "#sk-container-id-2 div.sk-label label {\n",
       "  font-family: monospace;\n",
       "  font-weight: bold;\n",
       "  display: inline-block;\n",
       "  line-height: 1.2em;\n",
       "}\n",
       "\n",
       "#sk-container-id-2 div.sk-label-container {\n",
       "  text-align: center;\n",
       "}\n",
       "\n",
       "/* Estimator-specific */\n",
       "#sk-container-id-2 div.sk-estimator {\n",
       "  font-family: monospace;\n",
       "  border: 1px dotted var(--sklearn-color-border-box);\n",
       "  border-radius: 0.25em;\n",
       "  box-sizing: border-box;\n",
       "  margin-bottom: 0.5em;\n",
       "  /* unfitted */\n",
       "  background-color: var(--sklearn-color-unfitted-level-0);\n",
       "}\n",
       "\n",
       "#sk-container-id-2 div.sk-estimator.fitted {\n",
       "  /* fitted */\n",
       "  background-color: var(--sklearn-color-fitted-level-0);\n",
       "}\n",
       "\n",
       "/* on hover */\n",
       "#sk-container-id-2 div.sk-estimator:hover {\n",
       "  /* unfitted */\n",
       "  background-color: var(--sklearn-color-unfitted-level-2);\n",
       "}\n",
       "\n",
       "#sk-container-id-2 div.sk-estimator.fitted:hover {\n",
       "  /* fitted */\n",
       "  background-color: var(--sklearn-color-fitted-level-2);\n",
       "}\n",
       "\n",
       "/* Specification for estimator info (e.g. \"i\" and \"?\") */\n",
       "\n",
       "/* Common style for \"i\" and \"?\" */\n",
       "\n",
       ".sk-estimator-doc-link,\n",
       "a:link.sk-estimator-doc-link,\n",
       "a:visited.sk-estimator-doc-link {\n",
       "  float: right;\n",
       "  font-size: smaller;\n",
       "  line-height: 1em;\n",
       "  font-family: monospace;\n",
       "  background-color: var(--sklearn-color-background);\n",
       "  border-radius: 1em;\n",
       "  height: 1em;\n",
       "  width: 1em;\n",
       "  text-decoration: none !important;\n",
       "  margin-left: 0.5em;\n",
       "  text-align: center;\n",
       "  /* unfitted */\n",
       "  border: var(--sklearn-color-unfitted-level-1) 1pt solid;\n",
       "  color: var(--sklearn-color-unfitted-level-1);\n",
       "}\n",
       "\n",
       ".sk-estimator-doc-link.fitted,\n",
       "a:link.sk-estimator-doc-link.fitted,\n",
       "a:visited.sk-estimator-doc-link.fitted {\n",
       "  /* fitted */\n",
       "  border: var(--sklearn-color-fitted-level-1) 1pt solid;\n",
       "  color: var(--sklearn-color-fitted-level-1);\n",
       "}\n",
       "\n",
       "/* On hover */\n",
       "div.sk-estimator:hover .sk-estimator-doc-link:hover,\n",
       ".sk-estimator-doc-link:hover,\n",
       "div.sk-label-container:hover .sk-estimator-doc-link:hover,\n",
       ".sk-estimator-doc-link:hover {\n",
       "  /* unfitted */\n",
       "  background-color: var(--sklearn-color-unfitted-level-3);\n",
       "  color: var(--sklearn-color-background);\n",
       "  text-decoration: none;\n",
       "}\n",
       "\n",
       "div.sk-estimator.fitted:hover .sk-estimator-doc-link.fitted:hover,\n",
       ".sk-estimator-doc-link.fitted:hover,\n",
       "div.sk-label-container:hover .sk-estimator-doc-link.fitted:hover,\n",
       ".sk-estimator-doc-link.fitted:hover {\n",
       "  /* fitted */\n",
       "  background-color: var(--sklearn-color-fitted-level-3);\n",
       "  color: var(--sklearn-color-background);\n",
       "  text-decoration: none;\n",
       "}\n",
       "\n",
       "/* Span, style for the box shown on hovering the info icon */\n",
       ".sk-estimator-doc-link span {\n",
       "  display: none;\n",
       "  z-index: 9999;\n",
       "  position: relative;\n",
       "  font-weight: normal;\n",
       "  right: .2ex;\n",
       "  padding: .5ex;\n",
       "  margin: .5ex;\n",
       "  width: min-content;\n",
       "  min-width: 20ex;\n",
       "  max-width: 50ex;\n",
       "  color: var(--sklearn-color-text);\n",
       "  box-shadow: 2pt 2pt 4pt #999;\n",
       "  /* unfitted */\n",
       "  background: var(--sklearn-color-unfitted-level-0);\n",
       "  border: .5pt solid var(--sklearn-color-unfitted-level-3);\n",
       "}\n",
       "\n",
       ".sk-estimator-doc-link.fitted span {\n",
       "  /* fitted */\n",
       "  background: var(--sklearn-color-fitted-level-0);\n",
       "  border: var(--sklearn-color-fitted-level-3);\n",
       "}\n",
       "\n",
       ".sk-estimator-doc-link:hover span {\n",
       "  display: block;\n",
       "}\n",
       "\n",
       "/* \"?\"-specific style due to the `<a>` HTML tag */\n",
       "\n",
       "#sk-container-id-2 a.estimator_doc_link {\n",
       "  float: right;\n",
       "  font-size: 1rem;\n",
       "  line-height: 1em;\n",
       "  font-family: monospace;\n",
       "  background-color: var(--sklearn-color-background);\n",
       "  border-radius: 1rem;\n",
       "  height: 1rem;\n",
       "  width: 1rem;\n",
       "  text-decoration: none;\n",
       "  /* unfitted */\n",
       "  color: var(--sklearn-color-unfitted-level-1);\n",
       "  border: var(--sklearn-color-unfitted-level-1) 1pt solid;\n",
       "}\n",
       "\n",
       "#sk-container-id-2 a.estimator_doc_link.fitted {\n",
       "  /* fitted */\n",
       "  border: var(--sklearn-color-fitted-level-1) 1pt solid;\n",
       "  color: var(--sklearn-color-fitted-level-1);\n",
       "}\n",
       "\n",
       "/* On hover */\n",
       "#sk-container-id-2 a.estimator_doc_link:hover {\n",
       "  /* unfitted */\n",
       "  background-color: var(--sklearn-color-unfitted-level-3);\n",
       "  color: var(--sklearn-color-background);\n",
       "  text-decoration: none;\n",
       "}\n",
       "\n",
       "#sk-container-id-2 a.estimator_doc_link.fitted:hover {\n",
       "  /* fitted */\n",
       "  background-color: var(--sklearn-color-fitted-level-3);\n",
       "}\n",
       "</style><div id=\"sk-container-id-2\" class=\"sk-top-container\"><div class=\"sk-text-repr-fallback\"><pre>Pipeline(steps=[(&#x27;preprocessor&#x27;,\n",
       "                 ColumnTransformer(remainder=&#x27;passthrough&#x27;,\n",
       "                                   transformers=[(&#x27;ohe&#x27;,\n",
       "                                                  Pipeline(steps=[(&#x27;simpleImputer_ohe&#x27;,\n",
       "                                                                   SimpleImputer(strategy=&#x27;most_frequent&#x27;)),\n",
       "                                                                  (&#x27;ohe&#x27;,\n",
       "                                                                   OneHotEncoder(drop=&#x27;first&#x27;,\n",
       "                                                                                 handle_unknown=&#x27;ignore&#x27;,\n",
       "                                                                                 sparse_output=False))]),\n",
       "                                                  [&#x27;Тип_сервиса&#x27;,\n",
       "                                                   &#x27;Разрешить_сообщать&#x27;,\n",
       "                                                   &#x27;Популярная_категория&#x27;]),\n",
       "                                                 (&#x27;ord&#x27;,\n",
       "                                                  Pipeline(steps=[(&#x27;simpleImp...\n",
       "                                                   &#x27;Средний_просмотр_категорий_за_визит&#x27;]),\n",
       "                                                 (&#x27;num&#x27;, StandardScaler(),\n",
       "                                                  [&#x27;Маркет_актив_6_мес&#x27;,\n",
       "                                                   &#x27;Длительность&#x27;,\n",
       "                                                   &#x27;Акционные_покупки&#x27;,\n",
       "                                                   &#x27;Страниц_за_визит&#x27;,\n",
       "                                                   &#x27;препредыдущий_месяц&#x27;,\n",
       "                                                   &#x27;предыдущий_месяц&#x27;,\n",
       "                                                   &#x27;текущий_месяц&#x27;,\n",
       "                                                   &#x27;предыдущий_месяц_время&#x27;,\n",
       "                                                   &#x27;текущий_месяц_время&#x27;,\n",
       "                                                   &#x27;Неоплаченные_продукты_штук_квартал&#x27;,\n",
       "                                                   &#x27;Ошибка_сервиса&#x27;])])),\n",
       "                (&#x27;models&#x27;, SVC(C=4, probability=True, random_state=42))])</pre><b>In a Jupyter environment, please rerun this cell to show the HTML representation or trust the notebook. <br />On GitHub, the HTML representation is unable to render, please try loading this page with nbviewer.org.</b></div><div class=\"sk-container\" hidden><div class=\"sk-item sk-dashed-wrapped\"><div class=\"sk-label-container\"><div class=\"sk-label fitted sk-toggleable\"><input class=\"sk-toggleable__control sk-hidden--visually\" id=\"sk-estimator-id-16\" type=\"checkbox\" ><label for=\"sk-estimator-id-16\" class=\"sk-toggleable__label fitted sk-toggleable__label-arrow\"><div><div>Pipeline</div></div><div><a class=\"sk-estimator-doc-link fitted\" rel=\"noreferrer\" target=\"_blank\" href=\"https://scikit-learn.org/1.6/modules/generated/sklearn.pipeline.Pipeline.html\">?<span>Documentation for Pipeline</span></a><span class=\"sk-estimator-doc-link fitted\">i<span>Fitted</span></span></div></label><div class=\"sk-toggleable__content fitted\"><pre>Pipeline(steps=[(&#x27;preprocessor&#x27;,\n",
       "                 ColumnTransformer(remainder=&#x27;passthrough&#x27;,\n",
       "                                   transformers=[(&#x27;ohe&#x27;,\n",
       "                                                  Pipeline(steps=[(&#x27;simpleImputer_ohe&#x27;,\n",
       "                                                                   SimpleImputer(strategy=&#x27;most_frequent&#x27;)),\n",
       "                                                                  (&#x27;ohe&#x27;,\n",
       "                                                                   OneHotEncoder(drop=&#x27;first&#x27;,\n",
       "                                                                                 handle_unknown=&#x27;ignore&#x27;,\n",
       "                                                                                 sparse_output=False))]),\n",
       "                                                  [&#x27;Тип_сервиса&#x27;,\n",
       "                                                   &#x27;Разрешить_сообщать&#x27;,\n",
       "                                                   &#x27;Популярная_категория&#x27;]),\n",
       "                                                 (&#x27;ord&#x27;,\n",
       "                                                  Pipeline(steps=[(&#x27;simpleImp...\n",
       "                                                   &#x27;Средний_просмотр_категорий_за_визит&#x27;]),\n",
       "                                                 (&#x27;num&#x27;, StandardScaler(),\n",
       "                                                  [&#x27;Маркет_актив_6_мес&#x27;,\n",
       "                                                   &#x27;Длительность&#x27;,\n",
       "                                                   &#x27;Акционные_покупки&#x27;,\n",
       "                                                   &#x27;Страниц_за_визит&#x27;,\n",
       "                                                   &#x27;препредыдущий_месяц&#x27;,\n",
       "                                                   &#x27;предыдущий_месяц&#x27;,\n",
       "                                                   &#x27;текущий_месяц&#x27;,\n",
       "                                                   &#x27;предыдущий_месяц_время&#x27;,\n",
       "                                                   &#x27;текущий_месяц_время&#x27;,\n",
       "                                                   &#x27;Неоплаченные_продукты_штук_квартал&#x27;,\n",
       "                                                   &#x27;Ошибка_сервиса&#x27;])])),\n",
       "                (&#x27;models&#x27;, SVC(C=4, probability=True, random_state=42))])</pre></div> </div></div><div class=\"sk-serial\"><div class=\"sk-item sk-dashed-wrapped\"><div class=\"sk-label-container\"><div class=\"sk-label fitted sk-toggleable\"><input class=\"sk-toggleable__control sk-hidden--visually\" id=\"sk-estimator-id-17\" type=\"checkbox\" ><label for=\"sk-estimator-id-17\" class=\"sk-toggleable__label fitted sk-toggleable__label-arrow\"><div><div>preprocessor: ColumnTransformer</div></div><div><a class=\"sk-estimator-doc-link fitted\" rel=\"noreferrer\" target=\"_blank\" href=\"https://scikit-learn.org/1.6/modules/generated/sklearn.compose.ColumnTransformer.html\">?<span>Documentation for preprocessor: ColumnTransformer</span></a></div></label><div class=\"sk-toggleable__content fitted\"><pre>ColumnTransformer(remainder=&#x27;passthrough&#x27;,\n",
       "                  transformers=[(&#x27;ohe&#x27;,\n",
       "                                 Pipeline(steps=[(&#x27;simpleImputer_ohe&#x27;,\n",
       "                                                  SimpleImputer(strategy=&#x27;most_frequent&#x27;)),\n",
       "                                                 (&#x27;ohe&#x27;,\n",
       "                                                  OneHotEncoder(drop=&#x27;first&#x27;,\n",
       "                                                                handle_unknown=&#x27;ignore&#x27;,\n",
       "                                                                sparse_output=False))]),\n",
       "                                 [&#x27;Тип_сервиса&#x27;, &#x27;Разрешить_сообщать&#x27;,\n",
       "                                  &#x27;Популярная_категория&#x27;]),\n",
       "                                (&#x27;ord&#x27;,\n",
       "                                 Pipeline(steps=[(&#x27;simpleImputer_before_ord&#x27;,\n",
       "                                                  SimpleImputer(s...\n",
       "                                                  SimpleImputer(strategy=&#x27;most_frequent&#x27;))]),\n",
       "                                 [&#x27;Маркет_актив_тек_мес&#x27;,\n",
       "                                  &#x27;Средний_просмотр_категорий_за_визит&#x27;]),\n",
       "                                (&#x27;num&#x27;, StandardScaler(),\n",
       "                                 [&#x27;Маркет_актив_6_мес&#x27;, &#x27;Длительность&#x27;,\n",
       "                                  &#x27;Акционные_покупки&#x27;, &#x27;Страниц_за_визит&#x27;,\n",
       "                                  &#x27;препредыдущий_месяц&#x27;, &#x27;предыдущий_месяц&#x27;,\n",
       "                                  &#x27;текущий_месяц&#x27;, &#x27;предыдущий_месяц_время&#x27;,\n",
       "                                  &#x27;текущий_месяц_время&#x27;,\n",
       "                                  &#x27;Неоплаченные_продукты_штук_квартал&#x27;,\n",
       "                                  &#x27;Ошибка_сервиса&#x27;])])</pre></div> </div></div><div class=\"sk-parallel\"><div class=\"sk-parallel-item\"><div class=\"sk-item\"><div class=\"sk-label-container\"><div class=\"sk-label fitted sk-toggleable\"><input class=\"sk-toggleable__control sk-hidden--visually\" id=\"sk-estimator-id-18\" type=\"checkbox\" ><label for=\"sk-estimator-id-18\" class=\"sk-toggleable__label fitted sk-toggleable__label-arrow\"><div><div>ohe</div></div></label><div class=\"sk-toggleable__content fitted\"><pre>[&#x27;Тип_сервиса&#x27;, &#x27;Разрешить_сообщать&#x27;, &#x27;Популярная_категория&#x27;]</pre></div> </div></div><div class=\"sk-serial\"><div class=\"sk-item\"><div class=\"sk-serial\"><div class=\"sk-item\"><div class=\"sk-estimator fitted sk-toggleable\"><input class=\"sk-toggleable__control sk-hidden--visually\" id=\"sk-estimator-id-19\" type=\"checkbox\" ><label for=\"sk-estimator-id-19\" class=\"sk-toggleable__label fitted sk-toggleable__label-arrow\"><div><div>SimpleImputer</div></div><div><a class=\"sk-estimator-doc-link fitted\" rel=\"noreferrer\" target=\"_blank\" href=\"https://scikit-learn.org/1.6/modules/generated/sklearn.impute.SimpleImputer.html\">?<span>Documentation for SimpleImputer</span></a></div></label><div class=\"sk-toggleable__content fitted\"><pre>SimpleImputer(strategy=&#x27;most_frequent&#x27;)</pre></div> </div></div><div class=\"sk-item\"><div class=\"sk-estimator fitted sk-toggleable\"><input class=\"sk-toggleable__control sk-hidden--visually\" id=\"sk-estimator-id-20\" type=\"checkbox\" ><label for=\"sk-estimator-id-20\" class=\"sk-toggleable__label fitted sk-toggleable__label-arrow\"><div><div>OneHotEncoder</div></div><div><a class=\"sk-estimator-doc-link fitted\" rel=\"noreferrer\" target=\"_blank\" href=\"https://scikit-learn.org/1.6/modules/generated/sklearn.preprocessing.OneHotEncoder.html\">?<span>Documentation for OneHotEncoder</span></a></div></label><div class=\"sk-toggleable__content fitted\"><pre>OneHotEncoder(drop=&#x27;first&#x27;, handle_unknown=&#x27;ignore&#x27;, sparse_output=False)</pre></div> </div></div></div></div></div></div></div><div class=\"sk-parallel-item\"><div class=\"sk-item\"><div class=\"sk-label-container\"><div class=\"sk-label fitted sk-toggleable\"><input class=\"sk-toggleable__control sk-hidden--visually\" id=\"sk-estimator-id-21\" type=\"checkbox\" ><label for=\"sk-estimator-id-21\" class=\"sk-toggleable__label fitted sk-toggleable__label-arrow\"><div><div>ord</div></div></label><div class=\"sk-toggleable__content fitted\"><pre>[&#x27;Маркет_актив_тек_мес&#x27;, &#x27;Средний_просмотр_категорий_за_визит&#x27;]</pre></div> </div></div><div class=\"sk-serial\"><div class=\"sk-item\"><div class=\"sk-serial\"><div class=\"sk-item\"><div class=\"sk-estimator fitted sk-toggleable\"><input class=\"sk-toggleable__control sk-hidden--visually\" id=\"sk-estimator-id-22\" type=\"checkbox\" ><label for=\"sk-estimator-id-22\" class=\"sk-toggleable__label fitted sk-toggleable__label-arrow\"><div><div>SimpleImputer</div></div><div><a class=\"sk-estimator-doc-link fitted\" rel=\"noreferrer\" target=\"_blank\" href=\"https://scikit-learn.org/1.6/modules/generated/sklearn.impute.SimpleImputer.html\">?<span>Documentation for SimpleImputer</span></a></div></label><div class=\"sk-toggleable__content fitted\"><pre>SimpleImputer(strategy=&#x27;most_frequent&#x27;)</pre></div> </div></div><div class=\"sk-item\"><div class=\"sk-estimator fitted sk-toggleable\"><input class=\"sk-toggleable__control sk-hidden--visually\" id=\"sk-estimator-id-23\" type=\"checkbox\" ><label for=\"sk-estimator-id-23\" class=\"sk-toggleable__label fitted sk-toggleable__label-arrow\"><div><div>OrdinalEncoder</div></div><div><a class=\"sk-estimator-doc-link fitted\" rel=\"noreferrer\" target=\"_blank\" href=\"https://scikit-learn.org/1.6/modules/generated/sklearn.preprocessing.OrdinalEncoder.html\">?<span>Documentation for OrdinalEncoder</span></a></div></label><div class=\"sk-toggleable__content fitted\"><pre>OrdinalEncoder(handle_unknown=&#x27;use_encoded_value&#x27;, unknown_value=nan)</pre></div> </div></div><div class=\"sk-item\"><div class=\"sk-estimator fitted sk-toggleable\"><input class=\"sk-toggleable__control sk-hidden--visually\" id=\"sk-estimator-id-24\" type=\"checkbox\" ><label for=\"sk-estimator-id-24\" class=\"sk-toggleable__label fitted sk-toggleable__label-arrow\"><div><div>SimpleImputer</div></div><div><a class=\"sk-estimator-doc-link fitted\" rel=\"noreferrer\" target=\"_blank\" href=\"https://scikit-learn.org/1.6/modules/generated/sklearn.impute.SimpleImputer.html\">?<span>Documentation for SimpleImputer</span></a></div></label><div class=\"sk-toggleable__content fitted\"><pre>SimpleImputer(strategy=&#x27;most_frequent&#x27;)</pre></div> </div></div></div></div></div></div></div><div class=\"sk-parallel-item\"><div class=\"sk-item\"><div class=\"sk-label-container\"><div class=\"sk-label fitted sk-toggleable\"><input class=\"sk-toggleable__control sk-hidden--visually\" id=\"sk-estimator-id-25\" type=\"checkbox\" ><label for=\"sk-estimator-id-25\" class=\"sk-toggleable__label fitted sk-toggleable__label-arrow\"><div><div>num</div></div></label><div class=\"sk-toggleable__content fitted\"><pre>[&#x27;Маркет_актив_6_мес&#x27;, &#x27;Длительность&#x27;, &#x27;Акционные_покупки&#x27;, &#x27;Страниц_за_визит&#x27;, &#x27;препредыдущий_месяц&#x27;, &#x27;предыдущий_месяц&#x27;, &#x27;текущий_месяц&#x27;, &#x27;предыдущий_месяц_время&#x27;, &#x27;текущий_месяц_время&#x27;, &#x27;Неоплаченные_продукты_штук_квартал&#x27;, &#x27;Ошибка_сервиса&#x27;]</pre></div> </div></div><div class=\"sk-serial\"><div class=\"sk-item\"><div class=\"sk-estimator fitted sk-toggleable\"><input class=\"sk-toggleable__control sk-hidden--visually\" id=\"sk-estimator-id-26\" type=\"checkbox\" ><label for=\"sk-estimator-id-26\" class=\"sk-toggleable__label fitted sk-toggleable__label-arrow\"><div><div>StandardScaler</div></div><div><a class=\"sk-estimator-doc-link fitted\" rel=\"noreferrer\" target=\"_blank\" href=\"https://scikit-learn.org/1.6/modules/generated/sklearn.preprocessing.StandardScaler.html\">?<span>Documentation for StandardScaler</span></a></div></label><div class=\"sk-toggleable__content fitted\"><pre>StandardScaler()</pre></div> </div></div></div></div></div><div class=\"sk-parallel-item\"><div class=\"sk-item\"><div class=\"sk-label-container\"><div class=\"sk-label fitted sk-toggleable\"><input class=\"sk-toggleable__control sk-hidden--visually\" id=\"sk-estimator-id-27\" type=\"checkbox\" ><label for=\"sk-estimator-id-27\" class=\"sk-toggleable__label fitted sk-toggleable__label-arrow\"><div><div>remainder</div></div></label><div class=\"sk-toggleable__content fitted\"><pre>[]</pre></div> </div></div><div class=\"sk-serial\"><div class=\"sk-item\"><div class=\"sk-estimator fitted sk-toggleable\"><input class=\"sk-toggleable__control sk-hidden--visually\" id=\"sk-estimator-id-28\" type=\"checkbox\" ><label for=\"sk-estimator-id-28\" class=\"sk-toggleable__label fitted sk-toggleable__label-arrow\"><div><div>passthrough</div></div></label><div class=\"sk-toggleable__content fitted\"><pre>passthrough</pre></div> </div></div></div></div></div></div></div><div class=\"sk-item\"><div class=\"sk-estimator fitted sk-toggleable\"><input class=\"sk-toggleable__control sk-hidden--visually\" id=\"sk-estimator-id-29\" type=\"checkbox\" ><label for=\"sk-estimator-id-29\" class=\"sk-toggleable__label fitted sk-toggleable__label-arrow\"><div><div>SVC</div></div><div><a class=\"sk-estimator-doc-link fitted\" rel=\"noreferrer\" target=\"_blank\" href=\"https://scikit-learn.org/1.6/modules/generated/sklearn.svm.SVC.html\">?<span>Documentation for SVC</span></a></div></label><div class=\"sk-toggleable__content fitted\"><pre>SVC(C=4, probability=True, random_state=42)</pre></div> </div></div></div></div></div></div>"
      ],
      "text/plain": [
       "Pipeline(steps=[('preprocessor',\n",
       "                 ColumnTransformer(remainder='passthrough',\n",
       "                                   transformers=[('ohe',\n",
       "                                                  Pipeline(steps=[('simpleImputer_ohe',\n",
       "                                                                   SimpleImputer(strategy='most_frequent')),\n",
       "                                                                  ('ohe',\n",
       "                                                                   OneHotEncoder(drop='first',\n",
       "                                                                                 handle_unknown='ignore',\n",
       "                                                                                 sparse_output=False))]),\n",
       "                                                  ['Тип_сервиса',\n",
       "                                                   'Разрешить_сообщать',\n",
       "                                                   'Популярная_категория']),\n",
       "                                                 ('ord',\n",
       "                                                  Pipeline(steps=[('simpleImp...\n",
       "                                                   'Средний_просмотр_категорий_за_визит']),\n",
       "                                                 ('num', StandardScaler(),\n",
       "                                                  ['Маркет_актив_6_мес',\n",
       "                                                   'Длительность',\n",
       "                                                   'Акционные_покупки',\n",
       "                                                   'Страниц_за_визит',\n",
       "                                                   'препредыдущий_месяц',\n",
       "                                                   'предыдущий_месяц',\n",
       "                                                   'текущий_месяц',\n",
       "                                                   'предыдущий_месяц_время',\n",
       "                                                   'текущий_месяц_время',\n",
       "                                                   'Неоплаченные_продукты_штук_квартал',\n",
       "                                                   'Ошибка_сервиса'])])),\n",
       "                ('models', SVC(C=4, probability=True, random_state=42))])"
      ]
     },
     "execution_count": 96,
     "metadata": {},
     "output_type": "execute_result"
    }
   ],
   "source": [
    "pipe_final.fit(X_train, y_train)"
   ]
  },
  {
   "cell_type": "code",
   "execution_count": 97,
   "metadata": {
    "ExecuteTime": {
     "end_time": "2025-01-18T16:38:18.107238Z",
     "start_time": "2025-01-18T16:38:18.090565Z"
    }
   },
   "outputs": [
    {
     "data": {
      "text/plain": [
       "0.8807692307692307"
      ]
     },
     "execution_count": 97,
     "metadata": {},
     "output_type": "execute_result"
    }
   ],
   "source": [
    "pipe_final.score(X_test, y_test)"
   ]
  },
  {
   "cell_type": "code",
   "execution_count": 98,
   "metadata": {
    "ExecuteTime": {
     "end_time": "2025-01-18T16:38:19.598131Z",
     "start_time": "2025-01-18T16:38:18.927236Z"
    }
   },
   "outputs": [],
   "source": [
    "result = permutation_importance(pipe_final, X_test, y_test)"
   ]
  },
  {
   "cell_type": "code",
   "execution_count": 99,
   "metadata": {
    "ExecuteTime": {
     "end_time": "2025-01-18T16:38:20.829Z",
     "start_time": "2025-01-18T16:38:20.826101Z"
    }
   },
   "outputs": [],
   "source": [
    "features_names = X_test.columns"
   ]
  },
  {
   "cell_type": "code",
   "execution_count": 100,
   "metadata": {
    "ExecuteTime": {
     "end_time": "2025-01-18T16:38:21.185236Z",
     "start_time": "2025-01-18T16:38:21.036353Z"
    }
   },
   "outputs": [
    {
     "data": {
      "text/plain": [
       "<AxesSubplot:ylabel='Feature'>"
      ]
     },
     "execution_count": 100,
     "metadata": {},
     "output_type": "execute_result"
    },
    {
     "data": {
      "image/png": "[encoded data removed]",
      "text/plain": [
       "<Figure size 720x432 with 1 Axes>"
      ]
     },
     "metadata": {},
     "output_type": "display_data"
    }
   ],
   "source": [
    "feature_importance = pd.DataFrame({'Feature': features_names, 'Importance': result['importances_mean']})\n",
    "feature_importance = feature_importance.sort_values('Importance', ascending=True)\n",
    "sns.set_style('white')\n",
    "feature_importance.plot(x='Feature', y='Importance', kind='barh', figsize=(10, 6))"
   ]
  },
  {
   "cell_type": "markdown",
   "metadata": {},
   "source": [
    "Теперь проанализируем важность признаков с помощью инструмента shap. Базис модели нелинейный поэтому необходимо выбрать нелинейный explainer"
   ]
  },
  {
   "cell_type": "markdown",
   "metadata": {},
   "source": [
    "Комментарий студента: </span><br><span style=\"color: purple; font-weight: bold\">Беру preprocessor из лучшей модели></span>\n"
   ]
  },
  {
   "cell_type": "code",
   "execution_count": 101,
   "metadata": {
    "ExecuteTime": {
     "end_time": "2025-01-18T16:38:24.456611Z",
     "start_time": "2025-01-18T16:38:24.442013Z"
    }
   },
   "outputs": [],
   "source": [
    "X_train_scaled = grid.best_estimator_.named_steps['preprocessor'].fit_transform(X_train)"
   ]
  },
  {
   "cell_type": "markdown",
   "metadata": {},
   "source": [
    "<font color='blue'><b>Комментарий ревьюера 2: </b></font> ⚠️\\\n",
    "<font color='darkorange'> Препроцессор в `grid.best_estimator_` уже обученный.</font>"
   ]
  },
  {
   "cell_type": "markdown",
   "metadata": {},
   "source": [
    "<font color='blue'><b>Комментарий ревьюера : </b></font> ❌\\\n",
    "<font color='red'> ~~Препроцессор и классификатор (модель) нужно взять из Лучшей модели, выбранной выше (`grid.best_estimator_`)~~</font>"
   ]
  },
  {
   "cell_type": "code",
   "execution_count": 102,
   "metadata": {
    "ExecuteTime": {
     "end_time": "2025-01-18T16:38:27.228178Z",
     "start_time": "2025-01-18T16:38:26.982469Z"
    }
   },
   "outputs": [],
   "source": [
    "explainer = shap.KernelExplainer(grid.best_estimator_.named_steps['models'].predict_proba, shap.kmeans(X_train_scaled, 10))"
   ]
  },
  {
   "cell_type": "code",
   "execution_count": 104,
   "metadata": {
    "ExecuteTime": {
     "end_time": "2025-01-18T16:47:01.474918Z",
     "start_time": "2025-01-18T16:38:27.239781Z"
    }
   },
   "outputs": [
    {
     "data": {
      "application/vnd.jupyter.widget-view+json": {
       "model_id": "6675800068044b0b9799e35c314fc595",
       "version_major": 2,
       "version_minor": 0
      },
      "text/plain": [
       "  0%|          | 0/30 [00:00<?, ?it/s]"
      ]
     },
     "metadata": {},
     "output_type": "display_data"
    }
   ],
   "source": [
    "shap_values = explainer(X_train_scaled)"
   ]
  },
  {
   "cell_type": "code",
   "execution_count": 105,
   "metadata": {
    "ExecuteTime": {
     "end_time": "2025-01-18T17:17:37.135986Z",
     "start_time": "2025-01-18T17:17:37.133177Z"
    }
   },
   "outputs": [
    {
     "name": "stdout",
     "output_type": "stream",
     "text": [
      "(30, 20, 2)\n"
     ]
    }
   ],
   "source": [
    "print(shap_values.shape)"
   ]
  },
  {
   "cell_type": "code",
   "execution_count": 106,
   "metadata": {
    "ExecuteTime": {
     "end_time": "2025-01-18T17:17:42.853807Z",
     "start_time": "2025-01-18T17:17:42.845801Z"
    }
   },
   "outputs": [
    {
     "data": {
      "text/plain": [
       "(30, 20)"
      ]
     },
     "execution_count": 106,
     "metadata": {},
     "output_type": "execute_result"
    }
   ],
   "source": [
    "shap_values[:,:,0].shape"
   ]
  },
  {
   "cell_type": "markdown",
   "metadata": {},
   "source": [
    "<span style=\"color: blue; font-weight: bold\">Комментарий ревьюера 2: </span>  ❌\\\n",
    "<span style=\"color: red\"> Нас интересует снижение покупательской активности, а это класс 1 ! </span>"
   ]
  },
  {
   "cell_type": "code",
   "execution_count": 107,
   "metadata": {
    "ExecuteTime": {
     "end_time": "2025-01-18T17:17:43.612464Z",
     "start_time": "2025-01-18T17:17:43.609116Z"
    }
   },
   "outputs": [],
   "source": [
    "columns_preproc = grid.best_estimator_.named_steps['preprocessor'].get_feature_names_out()"
   ]
  },
  {
   "cell_type": "code",
   "execution_count": 108,
   "metadata": {
    "ExecuteTime": {
     "end_time": "2025-01-18T17:28:38.024786Z",
     "start_time": "2025-01-18T17:28:38.022261Z"
    }
   },
   "outputs": [],
   "source": [
    "plt.rcParams['axes.titlesize'] = 12\n",
    "\n",
    "plt.rcParams['axes.labelsize'] = 12\n",
    "\n",
    "plt.rcParams['legend.fontsize'] = 12\n",
    "\n",
    "plt.rcParams['lines.linewidth'] = 12\n",
    "\n",
    "plt.rcParams['xtick.labelsize'] = 12\n",
    "\n",
    "plt.rcParams['ytick.labelsize'] = 12"
   ]
  },
  {
   "cell_type": "code",
   "execution_count": 113,
   "metadata": {
    "ExecuteTime": {
     "end_time": "2025-01-18T17:17:45.746580Z",
     "start_time": "2025-01-18T17:17:45.407792Z"
    }
   },
   "outputs": [
    {
     "data": {
      "image/png": "[encoded data removed]",
      "text/plain": [
       "<Figure size 576x684 with 2 Axes>"
      ]
     },
     "metadata": {},
     "output_type": "display_data"
    }
   ],
   "source": [
    "plt.figure(figsize=(20, 6))\n",
    "\n",
    "shap.summary_plot(shap_values[:,:,0], X_train_scaled, feature_names=[f\"Feature {i}\" for i in columns_preproc])\n",
    "plt.show()"
   ]
  },
  {
   "cell_type": "markdown",
   "metadata": {},
   "source": [
    "<span style=\"color: blue; font-weight: bold\">Комментарий ревьюера : </span>  ❌\\\n",
    "<span style=\"color: red\"> ~~Обрати внимание, модель принимает данные после препроцессинга, а там другие имена признаков, не X_train.columns. Сначала идут То что закодировано в OHE, затем ord_cols и num_cols (как они были перечислены в ColumnTransformer)~~</span>"
   ]
  },
  {
   "cell_type": "markdown",
   "metadata": {},
   "source": [
    "Комментарий студента: </span><br><span style=\"color: purple; font-weight: bold\">Моя ошибка, исправил></span>\n"
   ]
  },
  {
   "cell_type": "markdown",
   "metadata": {},
   "source": [
    "<span style=\"color: blue; font-weight: bold\">Комментарий ревьюера 2: </span> ✔️\\\n",
    "<span style=\"color: green\"> 👍</span>"
   ]
  },
  {
   "cell_type": "markdown",
   "metadata": {},
   "source": [
    "Диаграмма shap показывает что наиболее значимыми признаками являются количество страниц за визит и время проведённое на сайте за предыдущий месяц. Также значимы средний просмотр за визит и акционные покупки. Анализ feature importance показал что ещё одной значимой категорией может быть неоплаченные продукты, но, судя по данных из shap анализа, этот признак имеет обратную корреляцию - чтобы увеличить покупательскую активность лучше этот признак уменьшить.\n",
    "Какие выводы и рекомендации можно сделать на основе этого анализа?\n",
    "\n",
    "- Человек который проводит много времени на сайте в конце концов что-нибудь закажет\n",
    "- Время проведённое на сайте за предыдущий месяц влияют на покупки в дальнейшем\n",
    "- Для увеличения выручки необходимо: стимулировать пользователя находится на сайте, просматривать товары."
   ]
  },
  {
   "cell_type": "markdown",
   "metadata": {},
   "source": [
    "## Сегментация"
   ]
  },
  {
   "cell_type": "markdown",
   "metadata": {},
   "source": [
    "Чтобы сегментировать покупателей построим график где по одной оси располагаются вероятности того что покупательская активность снизится а по другой оси будет выручка от покупателей. Для этого используем данные из money"
   ]
  },
  {
   "cell_type": "code",
   "execution_count": 114,
   "metadata": {
    "ExecuteTime": {
     "end_time": "2025-01-18T17:19:25.939422Z",
     "start_time": "2025-01-18T17:19:25.927989Z"
    },
    "scrolled": true
   },
   "outputs": [],
   "source": [
    "money.set_index('id', inplace=True)"
   ]
  },
  {
   "cell_type": "code",
   "execution_count": 115,
   "metadata": {
    "ExecuteTime": {
     "end_time": "2025-01-18T17:19:27.396281Z",
     "start_time": "2025-01-18T17:19:27.361431Z"
    }
   },
   "outputs": [],
   "source": [
    "probability = pd.DataFrame(pipe_final.predict_proba(X)[:,1])"
   ]
  },
  {
   "cell_type": "markdown",
   "metadata": {},
   "source": [
    "<span style=\"color: blue; font-weight: bold\">Комментарий ревьюера : </span>  ❌\\\n",
    "<span style=\"color: red\"> Здесь то же нужна модель выбраная в `grid` </span>"
   ]
  },
  {
   "cell_type": "markdown",
   "metadata": {},
   "source": [
    "Комментарий студента: </span><br><span style=\"color: purple; font-weight: bold\">Исправил</span>\n"
   ]
  },
  {
   "cell_type": "code",
   "execution_count": 116,
   "metadata": {
    "ExecuteTime": {
     "end_time": "2025-01-18T17:19:31.518966Z",
     "start_time": "2025-01-18T17:19:31.516762Z"
    }
   },
   "outputs": [],
   "source": [
    "# X_train_money, X_test_money, y_train_money, y_test_money = train_test_split(money, y, test_size=0.2, random_state=RANDOM_STATE)"
   ]
  },
  {
   "cell_type": "markdown",
   "metadata": {},
   "source": [
    "\n",
    "<span style=\"color: blue; font-weight: bold\">Комментарий ревьюера : </span> ⚠️\\\n",
    "<span style=\"color: darkorange\"> Зачем нам делить данные?</span>"
   ]
  },
  {
   "cell_type": "code",
   "execution_count": 117,
   "metadata": {
    "ExecuteTime": {
     "end_time": "2025-01-18T17:19:32.543938Z",
     "start_time": "2025-01-18T17:19:32.541352Z"
    }
   },
   "outputs": [
    {
     "ename": "ValueError",
     "evalue": "Length mismatch: Expected axis has 1297 elements, new values have 1300 elements",
     "output_type": "error",
     "traceback": [
      "\u001b[0;31m---------------------------------------------------------------------------\u001b[0m",
      "\u001b[0;31mValueError\u001b[0m                                Traceback (most recent call last)",
      "\u001b[0;32m/tmp/ipykernel_167/34841584.py\u001b[0m in \u001b[0;36m<module>\u001b[0;34m\u001b[0m\n\u001b[0;32m----> 1\u001b[0;31m \u001b[0mprobability\u001b[0m\u001b[0;34m.\u001b[0m\u001b[0mindex\u001b[0m \u001b[0;34m=\u001b[0m \u001b[0mmoney\u001b[0m\u001b[0;34m.\u001b[0m\u001b[0mindex\u001b[0m\u001b[0;34m\u001b[0m\u001b[0;34m\u001b[0m\u001b[0m\n\u001b[0m",
      "\u001b[0;32m/opt/conda/lib/python3.9/site-packages/pandas/core/generic.py\u001b[0m in \u001b[0;36m__setattr__\u001b[0;34m(self, name, value)\u001b[0m\n\u001b[1;32m   5476\u001b[0m         \u001b[0;32mtry\u001b[0m\u001b[0;34m:\u001b[0m\u001b[0;34m\u001b[0m\u001b[0;34m\u001b[0m\u001b[0m\n\u001b[1;32m   5477\u001b[0m             \u001b[0mobject\u001b[0m\u001b[0;34m.\u001b[0m\u001b[0m__getattribute__\u001b[0m\u001b[0;34m(\u001b[0m\u001b[0mself\u001b[0m\u001b[0;34m,\u001b[0m \u001b[0mname\u001b[0m\u001b[0;34m)\u001b[0m\u001b[0;34m\u001b[0m\u001b[0;34m\u001b[0m\u001b[0m\n\u001b[0;32m-> 5478\u001b[0;31m             \u001b[0;32mreturn\u001b[0m \u001b[0mobject\u001b[0m\u001b[0;34m.\u001b[0m\u001b[0m__setattr__\u001b[0m\u001b[0;34m(\u001b[0m\u001b[0mself\u001b[0m\u001b[0;34m,\u001b[0m \u001b[0mname\u001b[0m\u001b[0;34m,\u001b[0m \u001b[0mvalue\u001b[0m\u001b[0;34m)\u001b[0m\u001b[0;34m\u001b[0m\u001b[0;34m\u001b[0m\u001b[0m\n\u001b[0m\u001b[1;32m   5479\u001b[0m         \u001b[0;32mexcept\u001b[0m \u001b[0mAttributeError\u001b[0m\u001b[0;34m:\u001b[0m\u001b[0;34m\u001b[0m\u001b[0;34m\u001b[0m\u001b[0m\n\u001b[1;32m   5480\u001b[0m             \u001b[0;32mpass\u001b[0m\u001b[0;34m\u001b[0m\u001b[0;34m\u001b[0m\u001b[0m\n",
      "\u001b[0;32mpandas/_libs/properties.pyx\u001b[0m in \u001b[0;36mpandas._libs.properties.AxisProperty.__set__\u001b[0;34m()\u001b[0m\n",
      "\u001b[0;32m/opt/conda/lib/python3.9/site-packages/pandas/core/generic.py\u001b[0m in \u001b[0;36m_set_axis\u001b[0;34m(self, axis, labels)\u001b[0m\n\u001b[1;32m    668\u001b[0m     \u001b[0;32mdef\u001b[0m \u001b[0m_set_axis\u001b[0m\u001b[0;34m(\u001b[0m\u001b[0mself\u001b[0m\u001b[0;34m,\u001b[0m \u001b[0maxis\u001b[0m\u001b[0;34m:\u001b[0m \u001b[0mint\u001b[0m\u001b[0;34m,\u001b[0m \u001b[0mlabels\u001b[0m\u001b[0;34m:\u001b[0m \u001b[0mIndex\u001b[0m\u001b[0;34m)\u001b[0m \u001b[0;34m->\u001b[0m \u001b[0;32mNone\u001b[0m\u001b[0;34m:\u001b[0m\u001b[0;34m\u001b[0m\u001b[0;34m\u001b[0m\u001b[0m\n\u001b[1;32m    669\u001b[0m         \u001b[0mlabels\u001b[0m \u001b[0;34m=\u001b[0m \u001b[0mensure_index\u001b[0m\u001b[0;34m(\u001b[0m\u001b[0mlabels\u001b[0m\u001b[0;34m)\u001b[0m\u001b[0;34m\u001b[0m\u001b[0;34m\u001b[0m\u001b[0m\n\u001b[0;32m--> 670\u001b[0;31m         \u001b[0mself\u001b[0m\u001b[0;34m.\u001b[0m\u001b[0m_mgr\u001b[0m\u001b[0;34m.\u001b[0m\u001b[0mset_axis\u001b[0m\u001b[0;34m(\u001b[0m\u001b[0maxis\u001b[0m\u001b[0;34m,\u001b[0m \u001b[0mlabels\u001b[0m\u001b[0;34m)\u001b[0m\u001b[0;34m\u001b[0m\u001b[0;34m\u001b[0m\u001b[0m\n\u001b[0m\u001b[1;32m    671\u001b[0m         \u001b[0mself\u001b[0m\u001b[0;34m.\u001b[0m\u001b[0m_clear_item_cache\u001b[0m\u001b[0;34m(\u001b[0m\u001b[0;34m)\u001b[0m\u001b[0;34m\u001b[0m\u001b[0;34m\u001b[0m\u001b[0m\n\u001b[1;32m    672\u001b[0m \u001b[0;34m\u001b[0m\u001b[0m\n",
      "\u001b[0;32m/opt/conda/lib/python3.9/site-packages/pandas/core/internals/managers.py\u001b[0m in \u001b[0;36mset_axis\u001b[0;34m(self, axis, new_labels)\u001b[0m\n\u001b[1;32m    218\u001b[0m \u001b[0;34m\u001b[0m\u001b[0m\n\u001b[1;32m    219\u001b[0m         \u001b[0;32mif\u001b[0m \u001b[0mnew_len\u001b[0m \u001b[0;34m!=\u001b[0m \u001b[0mold_len\u001b[0m\u001b[0;34m:\u001b[0m\u001b[0;34m\u001b[0m\u001b[0;34m\u001b[0m\u001b[0m\n\u001b[0;32m--> 220\u001b[0;31m             raise ValueError(\n\u001b[0m\u001b[1;32m    221\u001b[0m                 \u001b[0;34mf\"Length mismatch: Expected axis has {old_len} elements, new \"\u001b[0m\u001b[0;34m\u001b[0m\u001b[0;34m\u001b[0m\u001b[0m\n\u001b[1;32m    222\u001b[0m                 \u001b[0;34mf\"values have {new_len} elements\"\u001b[0m\u001b[0;34m\u001b[0m\u001b[0;34m\u001b[0m\u001b[0m\n",
      "\u001b[0;31mValueError\u001b[0m: Length mismatch: Expected axis has 1297 elements, new values have 1300 elements"
     ]
    }
   ],
   "source": [
    "probability.index = money.index"
   ]
  },
  {
   "cell_type": "markdown",
   "metadata": {},
   "source": [
    "<span style=\"color: blue; font-weight: bold\">Комментарий ревьюера 2: </span>  ❌\\\n",
    "<span style=\"color: red\"> Ошибка исполнения кода. </span>"
   ]
  },
  {
   "cell_type": "code",
   "execution_count": 118,
   "metadata": {
    "ExecuteTime": {
     "end_time": "2025-01-18T17:19:35.418569Z",
     "start_time": "2025-01-18T17:19:35.413263Z"
    }
   },
   "outputs": [
    {
     "ename": "KeyError",
     "evalue": "'id'",
     "output_type": "error",
     "traceback": [
      "\u001b[0;31m---------------------------------------------------------------------------\u001b[0m",
      "\u001b[0;31mKeyError\u001b[0m                                  Traceback (most recent call last)",
      "\u001b[0;32m/tmp/ipykernel_167/794743553.py\u001b[0m in \u001b[0;36m<module>\u001b[0;34m\u001b[0m\n\u001b[0;32m----> 1\u001b[0;31m \u001b[0mprobability\u001b[0m \u001b[0;34m=\u001b[0m \u001b[0mprobability\u001b[0m\u001b[0;34m.\u001b[0m\u001b[0mmerge\u001b[0m\u001b[0;34m(\u001b[0m\u001b[0mmoney\u001b[0m\u001b[0;34m,\u001b[0m \u001b[0mon\u001b[0m\u001b[0;34m=\u001b[0m\u001b[0;34m'id'\u001b[0m\u001b[0;34m,\u001b[0m \u001b[0mhow\u001b[0m\u001b[0;34m=\u001b[0m\u001b[0;34m'left'\u001b[0m\u001b[0;34m)\u001b[0m\u001b[0;34m\u001b[0m\u001b[0;34m\u001b[0m\u001b[0m\n\u001b[0m",
      "\u001b[0;32m/opt/conda/lib/python3.9/site-packages/pandas/core/frame.py\u001b[0m in \u001b[0;36mmerge\u001b[0;34m(self, right, how, on, left_on, right_on, left_index, right_index, sort, suffixes, copy, indicator, validate)\u001b[0m\n\u001b[1;32m   8193\u001b[0m         \u001b[0;32mfrom\u001b[0m \u001b[0mpandas\u001b[0m\u001b[0;34m.\u001b[0m\u001b[0mcore\u001b[0m\u001b[0;34m.\u001b[0m\u001b[0mreshape\u001b[0m\u001b[0;34m.\u001b[0m\u001b[0mmerge\u001b[0m \u001b[0;32mimport\u001b[0m \u001b[0mmerge\u001b[0m\u001b[0;34m\u001b[0m\u001b[0;34m\u001b[0m\u001b[0m\n\u001b[1;32m   8194\u001b[0m \u001b[0;34m\u001b[0m\u001b[0m\n\u001b[0;32m-> 8195\u001b[0;31m         return merge(\n\u001b[0m\u001b[1;32m   8196\u001b[0m             \u001b[0mself\u001b[0m\u001b[0;34m,\u001b[0m\u001b[0;34m\u001b[0m\u001b[0;34m\u001b[0m\u001b[0m\n\u001b[1;32m   8197\u001b[0m             \u001b[0mright\u001b[0m\u001b[0;34m,\u001b[0m\u001b[0;34m\u001b[0m\u001b[0;34m\u001b[0m\u001b[0m\n",
      "\u001b[0;32m/opt/conda/lib/python3.9/site-packages/pandas/core/reshape/merge.py\u001b[0m in \u001b[0;36mmerge\u001b[0;34m(left, right, how, on, left_on, right_on, left_index, right_index, sort, suffixes, copy, indicator, validate)\u001b[0m\n\u001b[1;32m     72\u001b[0m     \u001b[0mvalidate\u001b[0m\u001b[0;34m=\u001b[0m\u001b[0;32mNone\u001b[0m\u001b[0;34m,\u001b[0m\u001b[0;34m\u001b[0m\u001b[0;34m\u001b[0m\u001b[0m\n\u001b[1;32m     73\u001b[0m ) -> \"DataFrame\":\n\u001b[0;32m---> 74\u001b[0;31m     op = _MergeOperation(\n\u001b[0m\u001b[1;32m     75\u001b[0m         \u001b[0mleft\u001b[0m\u001b[0;34m,\u001b[0m\u001b[0;34m\u001b[0m\u001b[0;34m\u001b[0m\u001b[0m\n\u001b[1;32m     76\u001b[0m         \u001b[0mright\u001b[0m\u001b[0;34m,\u001b[0m\u001b[0;34m\u001b[0m\u001b[0;34m\u001b[0m\u001b[0m\n",
      "\u001b[0;32m/opt/conda/lib/python3.9/site-packages/pandas/core/reshape/merge.py\u001b[0m in \u001b[0;36m__init__\u001b[0;34m(self, left, right, how, on, left_on, right_on, axis, left_index, right_index, sort, suffixes, copy, indicator, validate)\u001b[0m\n\u001b[1;32m    666\u001b[0m             \u001b[0mself\u001b[0m\u001b[0;34m.\u001b[0m\u001b[0mright_join_keys\u001b[0m\u001b[0;34m,\u001b[0m\u001b[0;34m\u001b[0m\u001b[0;34m\u001b[0m\u001b[0m\n\u001b[1;32m    667\u001b[0m             \u001b[0mself\u001b[0m\u001b[0;34m.\u001b[0m\u001b[0mjoin_names\u001b[0m\u001b[0;34m,\u001b[0m\u001b[0;34m\u001b[0m\u001b[0;34m\u001b[0m\u001b[0m\n\u001b[0;32m--> 668\u001b[0;31m         ) = self._get_merge_keys()\n\u001b[0m\u001b[1;32m    669\u001b[0m \u001b[0;34m\u001b[0m\u001b[0m\n\u001b[1;32m    670\u001b[0m         \u001b[0;31m# validate the merge keys dtypes. We may need to coerce\u001b[0m\u001b[0;34m\u001b[0m\u001b[0;34m\u001b[0m\u001b[0;34m\u001b[0m\u001b[0m\n",
      "\u001b[0;32m/opt/conda/lib/python3.9/site-packages/pandas/core/reshape/merge.py\u001b[0m in \u001b[0;36m_get_merge_keys\u001b[0;34m(self)\u001b[0m\n\u001b[1;32m   1044\u001b[0m                         \u001b[0mright_keys\u001b[0m\u001b[0;34m.\u001b[0m\u001b[0mappend\u001b[0m\u001b[0;34m(\u001b[0m\u001b[0mrk\u001b[0m\u001b[0;34m)\u001b[0m\u001b[0;34m\u001b[0m\u001b[0;34m\u001b[0m\u001b[0m\n\u001b[1;32m   1045\u001b[0m                     \u001b[0;32mif\u001b[0m \u001b[0mlk\u001b[0m \u001b[0;32mis\u001b[0m \u001b[0;32mnot\u001b[0m \u001b[0;32mNone\u001b[0m\u001b[0;34m:\u001b[0m\u001b[0;34m\u001b[0m\u001b[0;34m\u001b[0m\u001b[0m\n\u001b[0;32m-> 1046\u001b[0;31m                         \u001b[0mleft_keys\u001b[0m\u001b[0;34m.\u001b[0m\u001b[0mappend\u001b[0m\u001b[0;34m(\u001b[0m\u001b[0mleft\u001b[0m\u001b[0;34m.\u001b[0m\u001b[0m_get_label_or_level_values\u001b[0m\u001b[0;34m(\u001b[0m\u001b[0mlk\u001b[0m\u001b[0;34m)\u001b[0m\u001b[0;34m)\u001b[0m\u001b[0;34m\u001b[0m\u001b[0;34m\u001b[0m\u001b[0m\n\u001b[0m\u001b[1;32m   1047\u001b[0m                         \u001b[0mjoin_names\u001b[0m\u001b[0;34m.\u001b[0m\u001b[0mappend\u001b[0m\u001b[0;34m(\u001b[0m\u001b[0mlk\u001b[0m\u001b[0;34m)\u001b[0m\u001b[0;34m\u001b[0m\u001b[0;34m\u001b[0m\u001b[0m\n\u001b[1;32m   1048\u001b[0m                     \u001b[0;32melse\u001b[0m\u001b[0;34m:\u001b[0m\u001b[0;34m\u001b[0m\u001b[0;34m\u001b[0m\u001b[0m\n",
      "\u001b[0;32m/opt/conda/lib/python3.9/site-packages/pandas/core/generic.py\u001b[0m in \u001b[0;36m_get_label_or_level_values\u001b[0;34m(self, key, axis)\u001b[0m\n\u001b[1;32m   1682\u001b[0m             \u001b[0mvalues\u001b[0m \u001b[0;34m=\u001b[0m \u001b[0mself\u001b[0m\u001b[0;34m.\u001b[0m\u001b[0maxes\u001b[0m\u001b[0;34m[\u001b[0m\u001b[0maxis\u001b[0m\u001b[0;34m]\u001b[0m\u001b[0;34m.\u001b[0m\u001b[0mget_level_values\u001b[0m\u001b[0;34m(\u001b[0m\u001b[0mkey\u001b[0m\u001b[0;34m)\u001b[0m\u001b[0;34m.\u001b[0m\u001b[0m_values\u001b[0m\u001b[0;34m\u001b[0m\u001b[0;34m\u001b[0m\u001b[0m\n\u001b[1;32m   1683\u001b[0m         \u001b[0;32melse\u001b[0m\u001b[0;34m:\u001b[0m\u001b[0;34m\u001b[0m\u001b[0;34m\u001b[0m\u001b[0m\n\u001b[0;32m-> 1684\u001b[0;31m             \u001b[0;32mraise\u001b[0m \u001b[0mKeyError\u001b[0m\u001b[0;34m(\u001b[0m\u001b[0mkey\u001b[0m\u001b[0;34m)\u001b[0m\u001b[0;34m\u001b[0m\u001b[0;34m\u001b[0m\u001b[0m\n\u001b[0m\u001b[1;32m   1685\u001b[0m \u001b[0;34m\u001b[0m\u001b[0m\n\u001b[1;32m   1686\u001b[0m         \u001b[0;31m# Check for duplicates\u001b[0m\u001b[0;34m\u001b[0m\u001b[0;34m\u001b[0m\u001b[0;34m\u001b[0m\u001b[0m\n",
      "\u001b[0;31mKeyError\u001b[0m: 'id'"
     ]
    }
   ],
   "source": [
    "probability = probability.merge(money, on='id', how='left')"
   ]
  },
  {
   "cell_type": "code",
   "execution_count": 119,
   "metadata": {
    "ExecuteTime": {
     "end_time": "2025-01-18T17:19:36.475979Z",
     "start_time": "2025-01-18T17:19:36.472562Z"
    }
   },
   "outputs": [],
   "source": [
    "probability = probability.rename(columns={0 : 'prob'})"
   ]
  },
  {
   "cell_type": "code",
   "execution_count": 120,
   "metadata": {
    "ExecuteTime": {
     "end_time": "2025-01-18T17:19:37.869008Z",
     "start_time": "2025-01-18T17:19:37.858150Z"
    }
   },
   "outputs": [
    {
     "data": {
      "text/html": [
       "<div>\n",
       "<style scoped>\n",
       "    .dataframe tbody tr th:only-of-type {\n",
       "        vertical-align: middle;\n",
       "    }\n",
       "\n",
       "    .dataframe tbody tr th {\n",
       "        vertical-align: top;\n",
       "    }\n",
       "\n",
       "    .dataframe thead th {\n",
       "        text-align: right;\n",
       "    }\n",
       "</style>\n",
       "<table border=\"1\" class=\"dataframe\">\n",
       "  <thead>\n",
       "    <tr style=\"text-align: right;\">\n",
       "      <th></th>\n",
       "      <th>prob</th>\n",
       "    </tr>\n",
       "  </thead>\n",
       "  <tbody>\n",
       "    <tr>\n",
       "      <th>0</th>\n",
       "      <td>0.977988</td>\n",
       "    </tr>\n",
       "    <tr>\n",
       "      <th>1</th>\n",
       "      <td>0.442549</td>\n",
       "    </tr>\n",
       "    <tr>\n",
       "      <th>2</th>\n",
       "      <td>0.887354</td>\n",
       "    </tr>\n",
       "    <tr>\n",
       "      <th>3</th>\n",
       "      <td>0.968253</td>\n",
       "    </tr>\n",
       "    <tr>\n",
       "      <th>4</th>\n",
       "      <td>0.821263</td>\n",
       "    </tr>\n",
       "    <tr>\n",
       "      <th>...</th>\n",
       "      <td>...</td>\n",
       "    </tr>\n",
       "    <tr>\n",
       "      <th>1292</th>\n",
       "      <td>0.129632</td>\n",
       "    </tr>\n",
       "    <tr>\n",
       "      <th>1293</th>\n",
       "      <td>0.129695</td>\n",
       "    </tr>\n",
       "    <tr>\n",
       "      <th>1294</th>\n",
       "      <td>0.093487</td>\n",
       "    </tr>\n",
       "    <tr>\n",
       "      <th>1295</th>\n",
       "      <td>0.113085</td>\n",
       "    </tr>\n",
       "    <tr>\n",
       "      <th>1296</th>\n",
       "      <td>0.129664</td>\n",
       "    </tr>\n",
       "  </tbody>\n",
       "</table>\n",
       "<p>1297 rows × 1 columns</p>\n",
       "</div>"
      ],
      "text/plain": [
       "          prob\n",
       "0     0.977988\n",
       "1     0.442549\n",
       "2     0.887354\n",
       "3     0.968253\n",
       "4     0.821263\n",
       "...        ...\n",
       "1292  0.129632\n",
       "1293  0.129695\n",
       "1294  0.093487\n",
       "1295  0.113085\n",
       "1296  0.129664\n",
       "\n",
       "[1297 rows x 1 columns]"
      ]
     },
     "execution_count": 120,
     "metadata": {},
     "output_type": "execute_result"
    }
   ],
   "source": [
    "probability"
   ]
  },
  {
   "cell_type": "code",
   "execution_count": 121,
   "metadata": {
    "ExecuteTime": {
     "end_time": "2025-01-18T17:19:53.289619Z",
     "start_time": "2025-01-18T17:19:53.200418Z"
    }
   },
   "outputs": [
    {
     "ename": "KeyError",
     "evalue": "'Прибыль'",
     "output_type": "error",
     "traceback": [
      "\u001b[0;31m---------------------------------------------------------------------------\u001b[0m",
      "\u001b[0;31mKeyError\u001b[0m                                  Traceback (most recent call last)",
      "\u001b[0;32m/opt/conda/lib/python3.9/site-packages/pandas/core/indexes/base.py\u001b[0m in \u001b[0;36mget_loc\u001b[0;34m(self, key, method, tolerance)\u001b[0m\n\u001b[1;32m   3079\u001b[0m             \u001b[0;32mtry\u001b[0m\u001b[0;34m:\u001b[0m\u001b[0;34m\u001b[0m\u001b[0;34m\u001b[0m\u001b[0m\n\u001b[0;32m-> 3080\u001b[0;31m                 \u001b[0;32mreturn\u001b[0m \u001b[0mself\u001b[0m\u001b[0;34m.\u001b[0m\u001b[0m_engine\u001b[0m\u001b[0;34m.\u001b[0m\u001b[0mget_loc\u001b[0m\u001b[0;34m(\u001b[0m\u001b[0mcasted_key\u001b[0m\u001b[0;34m)\u001b[0m\u001b[0;34m\u001b[0m\u001b[0;34m\u001b[0m\u001b[0m\n\u001b[0m\u001b[1;32m   3081\u001b[0m             \u001b[0;32mexcept\u001b[0m \u001b[0mKeyError\u001b[0m \u001b[0;32mas\u001b[0m \u001b[0merr\u001b[0m\u001b[0;34m:\u001b[0m\u001b[0;34m\u001b[0m\u001b[0;34m\u001b[0m\u001b[0m\n",
      "\u001b[0;32mpandas/_libs/index.pyx\u001b[0m in \u001b[0;36mpandas._libs.index.IndexEngine.get_loc\u001b[0;34m()\u001b[0m\n",
      "\u001b[0;32mpandas/_libs/index.pyx\u001b[0m in \u001b[0;36mpandas._libs.index.IndexEngine.get_loc\u001b[0;34m()\u001b[0m\n",
      "\u001b[0;32mpandas/_libs/hashtable_class_helper.pxi\u001b[0m in \u001b[0;36mpandas._libs.hashtable.PyObjectHashTable.get_item\u001b[0;34m()\u001b[0m\n",
      "\u001b[0;32mpandas/_libs/hashtable_class_helper.pxi\u001b[0m in \u001b[0;36mpandas._libs.hashtable.PyObjectHashTable.get_item\u001b[0;34m()\u001b[0m\n",
      "\u001b[0;31mKeyError\u001b[0m: 'Прибыль'",
      "\nThe above exception was the direct cause of the following exception:\n",
      "\u001b[0;31mKeyError\u001b[0m                                  Traceback (most recent call last)",
      "\u001b[0;32m/tmp/ipykernel_167/278041546.py\u001b[0m in \u001b[0;36m<module>\u001b[0;34m\u001b[0m\n\u001b[1;32m      1\u001b[0m \u001b[0mplt\u001b[0m\u001b[0;34m.\u001b[0m\u001b[0mfigure\u001b[0m\u001b[0;34m(\u001b[0m\u001b[0mfigsize\u001b[0m\u001b[0;34m=\u001b[0m\u001b[0;34m(\u001b[0m\u001b[0;36m10\u001b[0m\u001b[0;34m,\u001b[0m \u001b[0;36m6\u001b[0m\u001b[0;34m)\u001b[0m\u001b[0;34m)\u001b[0m\u001b[0;34m\u001b[0m\u001b[0;34m\u001b[0m\u001b[0m\n\u001b[0;32m----> 2\u001b[0;31m \u001b[0mplt\u001b[0m\u001b[0;34m.\u001b[0m\u001b[0mscatter\u001b[0m\u001b[0;34m(\u001b[0m\u001b[0mprobability\u001b[0m\u001b[0;34m[\u001b[0m\u001b[0;34m'prob'\u001b[0m\u001b[0;34m]\u001b[0m\u001b[0;34m,\u001b[0m \u001b[0mprobability\u001b[0m\u001b[0;34m[\u001b[0m\u001b[0;34m'Прибыль'\u001b[0m\u001b[0;34m]\u001b[0m\u001b[0;34m)\u001b[0m\u001b[0;34m\u001b[0m\u001b[0;34m\u001b[0m\u001b[0m\n\u001b[0m\u001b[1;32m      3\u001b[0m \u001b[0mplt\u001b[0m\u001b[0;34m.\u001b[0m\u001b[0mxlabel\u001b[0m\u001b[0;34m(\u001b[0m\u001b[0;34m'Probability'\u001b[0m\u001b[0;34m)\u001b[0m\u001b[0;34m\u001b[0m\u001b[0;34m\u001b[0m\u001b[0m\n\u001b[1;32m      4\u001b[0m \u001b[0mplt\u001b[0m\u001b[0;34m.\u001b[0m\u001b[0mylabel\u001b[0m\u001b[0;34m(\u001b[0m\u001b[0;34m'Выручка'\u001b[0m\u001b[0;34m)\u001b[0m\u001b[0;34m\u001b[0m\u001b[0;34m\u001b[0m\u001b[0m\n\u001b[1;32m      5\u001b[0m \u001b[0mplt\u001b[0m\u001b[0;34m.\u001b[0m\u001b[0mshow\u001b[0m\u001b[0;34m(\u001b[0m\u001b[0;34m)\u001b[0m\u001b[0;34m\u001b[0m\u001b[0;34m\u001b[0m\u001b[0m\n",
      "\u001b[0;32m/opt/conda/lib/python3.9/site-packages/pandas/core/frame.py\u001b[0m in \u001b[0;36m__getitem__\u001b[0;34m(self, key)\u001b[0m\n\u001b[1;32m   3022\u001b[0m             \u001b[0;32mif\u001b[0m \u001b[0mself\u001b[0m\u001b[0;34m.\u001b[0m\u001b[0mcolumns\u001b[0m\u001b[0;34m.\u001b[0m\u001b[0mnlevels\u001b[0m \u001b[0;34m>\u001b[0m \u001b[0;36m1\u001b[0m\u001b[0;34m:\u001b[0m\u001b[0;34m\u001b[0m\u001b[0;34m\u001b[0m\u001b[0m\n\u001b[1;32m   3023\u001b[0m                 \u001b[0;32mreturn\u001b[0m \u001b[0mself\u001b[0m\u001b[0;34m.\u001b[0m\u001b[0m_getitem_multilevel\u001b[0m\u001b[0;34m(\u001b[0m\u001b[0mkey\u001b[0m\u001b[0;34m)\u001b[0m\u001b[0;34m\u001b[0m\u001b[0;34m\u001b[0m\u001b[0m\n\u001b[0;32m-> 3024\u001b[0;31m             \u001b[0mindexer\u001b[0m \u001b[0;34m=\u001b[0m \u001b[0mself\u001b[0m\u001b[0;34m.\u001b[0m\u001b[0mcolumns\u001b[0m\u001b[0;34m.\u001b[0m\u001b[0mget_loc\u001b[0m\u001b[0;34m(\u001b[0m\u001b[0mkey\u001b[0m\u001b[0;34m)\u001b[0m\u001b[0;34m\u001b[0m\u001b[0;34m\u001b[0m\u001b[0m\n\u001b[0m\u001b[1;32m   3025\u001b[0m             \u001b[0;32mif\u001b[0m \u001b[0mis_integer\u001b[0m\u001b[0;34m(\u001b[0m\u001b[0mindexer\u001b[0m\u001b[0;34m)\u001b[0m\u001b[0;34m:\u001b[0m\u001b[0;34m\u001b[0m\u001b[0;34m\u001b[0m\u001b[0m\n\u001b[1;32m   3026\u001b[0m                 \u001b[0mindexer\u001b[0m \u001b[0;34m=\u001b[0m \u001b[0;34m[\u001b[0m\u001b[0mindexer\u001b[0m\u001b[0;34m]\u001b[0m\u001b[0;34m\u001b[0m\u001b[0;34m\u001b[0m\u001b[0m\n",
      "\u001b[0;32m/opt/conda/lib/python3.9/site-packages/pandas/core/indexes/base.py\u001b[0m in \u001b[0;36mget_loc\u001b[0;34m(self, key, method, tolerance)\u001b[0m\n\u001b[1;32m   3080\u001b[0m                 \u001b[0;32mreturn\u001b[0m \u001b[0mself\u001b[0m\u001b[0;34m.\u001b[0m\u001b[0m_engine\u001b[0m\u001b[0;34m.\u001b[0m\u001b[0mget_loc\u001b[0m\u001b[0;34m(\u001b[0m\u001b[0mcasted_key\u001b[0m\u001b[0;34m)\u001b[0m\u001b[0;34m\u001b[0m\u001b[0;34m\u001b[0m\u001b[0m\n\u001b[1;32m   3081\u001b[0m             \u001b[0;32mexcept\u001b[0m \u001b[0mKeyError\u001b[0m \u001b[0;32mas\u001b[0m \u001b[0merr\u001b[0m\u001b[0;34m:\u001b[0m\u001b[0;34m\u001b[0m\u001b[0;34m\u001b[0m\u001b[0m\n\u001b[0;32m-> 3082\u001b[0;31m                 \u001b[0;32mraise\u001b[0m \u001b[0mKeyError\u001b[0m\u001b[0;34m(\u001b[0m\u001b[0mkey\u001b[0m\u001b[0;34m)\u001b[0m \u001b[0;32mfrom\u001b[0m \u001b[0merr\u001b[0m\u001b[0;34m\u001b[0m\u001b[0;34m\u001b[0m\u001b[0m\n\u001b[0m\u001b[1;32m   3083\u001b[0m \u001b[0;34m\u001b[0m\u001b[0m\n\u001b[1;32m   3084\u001b[0m         \u001b[0;32mif\u001b[0m \u001b[0mtolerance\u001b[0m \u001b[0;32mis\u001b[0m \u001b[0;32mnot\u001b[0m \u001b[0;32mNone\u001b[0m\u001b[0;34m:\u001b[0m\u001b[0;34m\u001b[0m\u001b[0;34m\u001b[0m\u001b[0m\n",
      "\u001b[0;31mKeyError\u001b[0m: 'Прибыль'"
     ]
    },
    {
     "data": {
      "text/plain": [
       "<Figure size 720x432 with 0 Axes>"
      ]
     },
     "metadata": {},
     "output_type": "display_data"
    }
   ],
   "source": [
    "plt.figure(figsize=(10, 6))\n",
    "plt.scatter(probability['prob'], probability['Прибыль'])\n",
    "plt.xlabel('Probability')\n",
    "plt.ylabel('Выручка')\n",
    "plt.show()"
   ]
  },
  {
   "cell_type": "markdown",
   "metadata": {},
   "source": [
    "Из графика видно, что можно сегментировать пользователей можно следующим образом - вероятность снижения активности больше 0.5 и выручка больше 4. Это самый выгодный сегмент и следует сконцентрироваться на нём"
   ]
  },
  {
   "cell_type": "code",
   "execution_count": null,
   "metadata": {
    "ExecuteTime": {
     "end_time": "2025-01-18T17:19:56.781773Z",
     "start_time": "2025-01-18T17:19:56.776321Z"
    }
   },
   "outputs": [],
   "source": [
    "to_improve = probability.query('prob > 0.5 and Прибыль > 3')"
   ]
  },
  {
   "cell_type": "markdown",
   "metadata": {},
   "source": [
    "<span style=\"color: blue; font-weight: bold\">Комментарий ревьюера : </span> ✔️\\\n",
    "<span style=\"color: green\"> 👍</span>"
   ]
  },
  {
   "cell_type": "code",
   "execution_count": null,
   "metadata": {
    "ExecuteTime": {
     "end_time": "2025-01-18T17:19:57.193233Z",
     "start_time": "2025-01-18T17:19:57.189344Z"
    }
   },
   "outputs": [],
   "source": [
    "to_improve['Прибыль'].sum() / probability['Прибыль'].sum()"
   ]
  },
  {
   "cell_type": "markdown",
   "metadata": {},
   "source": [
    "Тридцать процентов выручки включают себя пользователи выручка от которых > 3, но в соответствии с анализом у этих пользователей есть вероятность снизить активность."
   ]
  },
  {
   "cell_type": "markdown",
   "metadata": {},
   "source": [
    "<span style=\"color: blue; font-weight: bold\">Комментарий ревьюера : </span>  ❌\\\n",
    "<span style=\"color: red\">Далее следует определить группу клиентов из сегмента (например по акционным покупкам) и сравниваем этих клиентов со всеми остальньнымим по другим факторам, для выявления различий (можно строить парные графики или накладывать гистограммы). На основании сравнения формируем рекомендации.</span>"
   ]
  },
  {
   "cell_type": "code",
   "execution_count": null,
   "metadata": {
    "ExecuteTime": {
     "end_time": "2025-01-18T17:20:12.648099Z",
     "start_time": "2025-01-18T17:20:12.645656Z"
    }
   },
   "outputs": [],
   "source": [
    "X_money_improve = X.loc[to_improve.index]"
   ]
  },
  {
   "cell_type": "code",
   "execution_count": null,
   "metadata": {
    "ExecuteTime": {
     "end_time": "2025-01-18T17:20:17.674745Z",
     "start_time": "2025-01-18T17:20:17.664096Z"
    }
   },
   "outputs": [],
   "source": [
    "X_money_improve"
   ]
  },
  {
   "cell_type": "code",
   "execution_count": null,
   "metadata": {
    "ExecuteTime": {
     "end_time": "2025-01-18T17:20:23.912137Z",
     "start_time": "2025-01-18T17:20:23.893681Z"
    }
   },
   "outputs": [],
   "source": [
    "y_new = pipe_final.predict(X_money_improve)"
   ]
  },
  {
   "cell_type": "code",
   "execution_count": null,
   "metadata": {
    "ExecuteTime": {
     "end_time": "2025-01-18T17:20:27.870123Z",
     "start_time": "2025-01-18T17:20:27.865529Z"
    }
   },
   "outputs": [],
   "source": [
    "print(pd.DataFrame(y_new).value_counts(normalize=True))"
   ]
  },
  {
   "cell_type": "code",
   "execution_count": null,
   "metadata": {
    "ExecuteTime": {
     "end_time": "2025-01-18T17:21:04.216652Z",
     "start_time": "2025-01-18T17:21:04.213570Z"
    }
   },
   "outputs": [],
   "source": [
    "X_money_improve['Длительность'] += 1000"
   ]
  },
  {
   "cell_type": "code",
   "execution_count": null,
   "metadata": {
    "ExecuteTime": {
     "end_time": "2025-01-18T17:21:04.580543Z",
     "start_time": "2025-01-18T17:21:04.577832Z"
    }
   },
   "outputs": [],
   "source": [
    "X_money_improve['Неоплаченные_продукты_штук_квартал'] -= 5"
   ]
  },
  {
   "cell_type": "code",
   "execution_count": null,
   "metadata": {
    "ExecuteTime": {
     "end_time": "2025-01-18T17:21:04.919286Z",
     "start_time": "2025-01-18T17:21:04.916331Z"
    }
   },
   "outputs": [],
   "source": [
    "X_money_improve['препредыдущий_месяц'] += 1500"
   ]
  },
  {
   "cell_type": "code",
   "execution_count": null,
   "metadata": {
    "ExecuteTime": {
     "end_time": "2025-01-18T17:21:05.137738Z",
     "start_time": "2025-01-18T17:21:05.125201Z"
    }
   },
   "outputs": [],
   "source": [
    "X_money_improve"
   ]
  },
  {
   "cell_type": "code",
   "execution_count": null,
   "metadata": {
    "ExecuteTime": {
     "end_time": "2025-01-18T17:21:15.635952Z",
     "start_time": "2025-01-18T17:21:15.620895Z"
    }
   },
   "outputs": [],
   "source": [
    "y_new = pipe_final.predict(X_money_improve)"
   ]
  },
  {
   "cell_type": "code",
   "execution_count": null,
   "metadata": {
    "ExecuteTime": {
     "end_time": "2025-01-18T17:21:16.472885Z",
     "start_time": "2025-01-18T17:21:16.469149Z"
    }
   },
   "outputs": [],
   "source": [
    "print(pd.DataFrame(y_new).value_counts(normalize=True))"
   ]
  },
  {
   "cell_type": "markdown",
   "metadata": {},
   "source": [
    "Из анализа видно что при увеличении длительности нахождения на сайте, уменьшения количества неоплаченных продуктов (связь с неоплаченными продуктами оказалась обратной) и увеличении активности за предыдущий месяц можно уменьшить процент пользователей с высокой долей прибыли склонных к снижению активности примерно на 50%"
   ]
  },
  {
   "cell_type": "markdown",
   "metadata": {},
   "source": [
    "Комментарий студента: </span><br><span style=\"color: purple; font-weight: bold\">Провожу сегментацию данных</span>\n"
   ]
  },
  {
   "cell_type": "markdown",
   "metadata": {},
   "source": [
    "Проведём сегментирование клиентов по основным значимым признакам - страниц за визит, предыдущий месяц время и акционные покупки"
   ]
  },
  {
   "cell_type": "code",
   "execution_count": null,
   "metadata": {},
   "outputs": [],
   "source": []
  },
  {
   "cell_type": "code",
   "execution_count": null,
   "metadata": {
    "ExecuteTime": {
     "end_time": "2025-01-18T18:01:55.101385Z",
     "start_time": "2025-01-18T18:01:54.995801Z"
    }
   },
   "outputs": [],
   "source": [
    "plt.figure(figsize=(10, 6))\n",
    "market_all['Акционные_покупки'].hist(bins=100)\n",
    "plt.show()"
   ]
  },
  {
   "cell_type": "code",
   "execution_count": null,
   "metadata": {
    "ExecuteTime": {
     "end_time": "2025-01-18T17:51:37.870573Z",
     "start_time": "2025-01-18T17:51:37.859758Z"
    }
   },
   "outputs": [],
   "source": [
    "market_all"
   ]
  },
  {
   "cell_type": "code",
   "execution_count": null,
   "metadata": {
    "ExecuteTime": {
     "end_time": "2025-01-18T17:51:30.058737Z",
     "start_time": "2025-01-18T17:51:30.055206Z"
    }
   },
   "outputs": [],
   "source": [
    "bins = [0, 5, 7, 10, 30]\n",
    "labels = ['до 5', '5-7', '7-10', '10+']\n",
    "market_all['pages_group'] = pd.cut(market_all['Страниц_за_визит'], bins=bins, labels=labels)"
   ]
  },
  {
   "cell_type": "code",
   "execution_count": null,
   "metadata": {
    "ExecuteTime": {
     "end_time": "2025-01-18T18:01:26.513312Z",
     "start_time": "2025-01-18T18:01:26.509136Z"
    }
   },
   "outputs": [],
   "source": [
    "bins = [0, 7.5, 12.5, 20, 30]\n",
    "labels = ['до 7.5', '7.5-12.5', '12.5-20', '20+']\n",
    "market_all['time_group'] = pd.cut(market_all['предыдущий_месяц_время'], bins=bins, labels=labels)"
   ]
  },
  {
   "cell_type": "code",
   "execution_count": null,
   "metadata": {
    "ExecuteTime": {
     "end_time": "2025-01-18T18:03:09.797126Z",
     "start_time": "2025-01-18T18:03:09.792913Z"
    }
   },
   "outputs": [],
   "source": [
    "bins = [0, 0.2, 0.4, 10]\n",
    "labels = ['до 0.2', '0.2-0.4', '0.4+']\n",
    "market_all['act_group'] = pd.cut(market_all['Акционные_покупки'], bins=bins, labels=labels)"
   ]
  },
  {
   "cell_type": "code",
   "execution_count": null,
   "metadata": {
    "ExecuteTime": {
     "end_time": "2025-01-18T18:06:59.361029Z",
     "start_time": "2025-01-18T18:06:59.353664Z"
    }
   },
   "outputs": [],
   "source": [
    "pivot = market_all.pivot_table(\n",
    "    index=['time_group'],\n",
    "    columns='pages_group',\n",
    "    values=['текущий_месяц'],\n",
    "    aggfunc='mean',\n",
    "    fill_value=0\n",
    ")"
   ]
  },
  {
   "cell_type": "code",
   "execution_count": null,
   "metadata": {
    "ExecuteTime": {
     "end_time": "2025-01-18T18:06:59.896686Z",
     "start_time": "2025-01-18T18:06:59.890988Z"
    }
   },
   "outputs": [],
   "source": [
    "pivot"
   ]
  },
  {
   "cell_type": "code",
   "execution_count": null,
   "metadata": {
    "ExecuteTime": {
     "end_time": "2025-01-18T18:09:11.457453Z",
     "start_time": "2025-01-18T18:09:11.450419Z"
    }
   },
   "outputs": [],
   "source": [
    "pivot = market_all.pivot_table(\n",
    "    index=['act_group'],\n",
    "    columns='time_group',\n",
    "    values=['текущий_месяц'],\n",
    "    aggfunc='mean',\n",
    "    fill_value=0\n",
    ")"
   ]
  },
  {
   "cell_type": "code",
   "execution_count": null,
   "metadata": {
    "ExecuteTime": {
     "end_time": "2025-01-18T18:07:43.818793Z",
     "start_time": "2025-01-18T18:07:43.813749Z"
    }
   },
   "outputs": [],
   "source": [
    "pivot"
   ]
  },
  {
   "cell_type": "markdown",
   "metadata": {},
   "source": [
    "Анализ показывает что пользователи проводящие много времени на сайте и открывающие мало страниц наименее прибыльны. Напротив пользователи быстро принимающие решения просмотрев максимум страниц самые выгодные. Делаем вывод - наилучшая стратегия - предлагать пользователю несколько вариантов и стимулировать к быстрому принятию решения (скидки последний днь etc)"
   ]
  },
  {
   "cell_type": "markdown",
   "metadata": {},
   "source": [
    "## Общие выводы по работе"
   ]
  },
  {
   "cell_type": "markdown",
   "metadata": {},
   "source": [
    "В результате проведённой работы привожу выводы и рекомендации\n",
    "- После обработки данных и проведённого поиска подходящей модели была выбрана модель с наилучшей точности по валидационной и тестовой выборкам - SVC (support vector classifier). Точность - около 92%\n",
    "- После получения модели был проведён анализ важности признаков. Анализ показал что важность признаков - если её определять разными способами примерно одинакова. Важнейшие признаки - количество страниц за визит, время проведённое на сайте за предыдущий месяц и за текущий месяц. Также важны количество денег потраченное пользователем за предыдущий месяц и длительность времени проведённое на сайте\n",
    "- На основе анализа данных проведена сегментация, выделены наиболее важные с точки зрения выручки и лояльности пользователи, проведён анализ их активности, проведена симуляция различных стратегий улучшения их покупательской активности\n",
    "- Покупательскую активность таргетной группы можно увеличить - удерживать пользователя на сайте как можно дольше, стимулировать его не оставлять покупки в корзине. Также необходимо сконцентрироваться на лояльных покупателях - тех у кого велики траты в предыдущие и предпредыдущие месяцы\n",
    "- Анализ сегментов показал чточто пользователи проводящие много времени на сайте и открывающие мало страниц наименее прибыльны. Напротив пользователи быстро принимающие решения просмотрев максимум страниц самые выгодные. Делаем вывод - наилучшая стратегия - предлагать пользователю несколько вариантов и стимулировать к быстрому принятию решения (скидки последний днь etc)"
   ]
  },
  {
   "cell_type": "markdown",
   "metadata": {},
   "source": [
    "<font color='blue'><b>Комментарий ревьюера : </b></font> ✔️\\\n",
    "<font color='green'> Очень приятно видеть вывод в конце проекта!\\\n",
    "Приведены ответы на главные вопросы проекта.</font>"
   ]
  },
  {
   "cell_type": "markdown",
   "metadata": {},
   "source": [
    "<font color='blue'><b>Итоговый комментарий ревьюера</b></font>\\\n",
    "<font color='green'>Павел, хороший проект получился!\n",
    "Большое спасибо за проделанную работу. Видно, что приложено много усилий.\n",
    "Выводы и рассуждения получились содержательными, их было интересно читать.\n",
    "</font>\n",
    "\n",
    "<font color='steelblue'>Над проектом ещё стоит поработать - есть рекомендации по дополнению некоторых твоих шагов проекта. Такие рекомендации я отметил жёлтыми комментариями. Будет здорово, если ты учтёшь их - так проект станет структурно и содержательно более совершенным.\n",
    "\n",
    "Также в работе есть критические замечания. К этим замечаниям я оставил пояснительные комментарии красного цвета, в которых перечислил возможные варианты дальнейших действий. Уверен, ты быстро с этим управишься:)\n",
    "\n",
    "Если о том, что нужно сделать в рамках комментариев, будут возникать вопросы - оставь их, пожалуйста, в комментариях, и я отвечу на них во время следующего ревью.\n",
    "\n",
    "Также буду рад ответить на любые твои вопросы по проекту или на какие-либо другие, если они у тебя имеются - оставь их в комментариях, и я постараюсь ответить:)</font>\n",
    "\n",
    "<font color='blue'><b>Жду твой проект на повторном ревью. До встречи :) </b></font>"
   ]
  },
  {
   "cell_type": "markdown",
   "metadata": {},
   "source": [
    "<font color='blue'><b>Итоговый комментарий ревьюера</b></font>\\\n",
    "<font color='green'>Павел, большое спасибо за доработку.\n",
    "</font>\n",
    "\n",
    "<font color='steelblue'>Над проектом ещё стоит поработать - есть рекомендации по дополнению некоторых твоих шагов проекта. Такие рекомендации я отметил жёлтыми комментариями. Будет здорово, если ты учтёшь их - так проект станет структурно и содержательно более совершенным.\n",
    "\n",
    "Также в работе есть критические замечания. К этим замечаниям я оставил пояснительные комментарии красного цвета, в которых перечислил возможные варианты дальнейших действий. Уверен, ты быстро с этим управишься:)\n",
    "\n",
    "Если о том, что нужно сделать в рамках комментариев, будут возникать вопросы - оставь их, пожалуйста, в комментариях, и я отвечу на них во время следующего ревью.\n",
    "\n",
    "Также буду рад ответить на любые твои вопросы по проекту или на какие-либо другие, если они у тебя имеются - оставь их в комментариях, и я постараюсь ответить:)</font>\n",
    "\n",
    "<font color='blue'><b>Жду твой проект на повторном ревью. До встречи :) </b></font>"
   ]
  }
 ],
 "metadata": {
  "ExecuteTimeLog": [
   {
    "duration": 1162,
    "start_time": "2024-09-24T19:12:25.811Z"
   },
   {
    "duration": 147,
    "start_time": "2024-09-24T19:12:26.975Z"
   },
   {
    "duration": 66,
    "start_time": "2024-09-24T19:12:27.124Z"
   },
   {
    "duration": 13,
    "start_time": "2024-09-24T19:12:27.192Z"
   },
   {
    "duration": 5,
    "start_time": "2024-09-24T19:12:27.207Z"
   },
   {
    "duration": 5,
    "start_time": "2024-09-24T19:12:27.213Z"
   },
   {
    "duration": 573,
    "start_time": "2024-09-24T19:12:27.219Z"
   },
   {
    "duration": 16,
    "start_time": "2024-09-24T19:12:27.794Z"
   },
   {
    "duration": 7,
    "start_time": "2024-09-24T19:12:27.811Z"
   },
   {
    "duration": 8,
    "start_time": "2024-09-24T19:12:27.821Z"
   },
   {
    "duration": 9,
    "start_time": "2024-09-24T19:12:27.831Z"
   },
   {
    "duration": 15,
    "start_time": "2024-09-24T19:12:27.841Z"
   },
   {
    "duration": 13,
    "start_time": "2024-09-24T19:12:27.857Z"
   },
   {
    "duration": 9,
    "start_time": "2024-09-24T19:12:27.871Z"
   },
   {
    "duration": 14,
    "start_time": "2024-09-24T19:12:27.881Z"
   },
   {
    "duration": 6,
    "start_time": "2024-09-24T19:12:27.896Z"
   },
   {
    "duration": 4,
    "start_time": "2024-09-24T19:12:27.903Z"
   },
   {
    "duration": 11,
    "start_time": "2024-09-24T19:12:27.908Z"
   },
   {
    "duration": 5,
    "start_time": "2024-09-24T19:12:27.920Z"
   },
   {
    "duration": 30,
    "start_time": "2024-09-24T19:12:27.926Z"
   },
   {
    "duration": 4,
    "start_time": "2024-09-24T19:12:27.957Z"
   },
   {
    "duration": 34,
    "start_time": "2024-09-24T19:12:27.962Z"
   },
   {
    "duration": 15,
    "start_time": "2024-09-24T19:12:27.998Z"
   },
   {
    "duration": 6,
    "start_time": "2024-09-24T19:12:28.015Z"
   },
   {
    "duration": 33,
    "start_time": "2024-09-24T19:12:28.022Z"
   },
   {
    "duration": 8,
    "start_time": "2024-09-24T19:12:28.057Z"
   },
   {
    "duration": 6,
    "start_time": "2024-09-24T19:12:28.066Z"
   },
   {
    "duration": 3,
    "start_time": "2024-09-24T19:12:28.076Z"
   },
   {
    "duration": 31,
    "start_time": "2024-09-24T19:12:28.081Z"
   },
   {
    "duration": 44,
    "start_time": "2024-09-24T19:12:28.114Z"
   },
   {
    "duration": 1155,
    "start_time": "2024-09-24T19:12:28.160Z"
   },
   {
    "duration": 340,
    "start_time": "2024-09-24T19:12:29.316Z"
   },
   {
    "duration": 2,
    "start_time": "2024-09-24T19:12:29.658Z"
   },
   {
    "duration": 156,
    "start_time": "2024-09-24T19:12:29.662Z"
   },
   {
    "duration": 12,
    "start_time": "2024-09-24T19:12:29.819Z"
   },
   {
    "duration": 24,
    "start_time": "2024-09-24T19:12:29.832Z"
   },
   {
    "duration": 227,
    "start_time": "2024-09-24T19:12:29.857Z"
   },
   {
    "duration": 214,
    "start_time": "2024-09-24T19:12:30.086Z"
   },
   {
    "duration": 32,
    "start_time": "2024-09-24T19:12:30.302Z"
   },
   {
    "duration": 45,
    "start_time": "2024-09-24T19:12:30.335Z"
   },
   {
    "duration": 5,
    "start_time": "2024-09-24T19:12:30.381Z"
   },
   {
    "duration": 23,
    "start_time": "2024-09-24T19:12:30.388Z"
   },
   {
    "duration": 8,
    "start_time": "2024-09-24T19:12:30.412Z"
   },
   {
    "duration": 272,
    "start_time": "2024-09-24T19:12:30.422Z"
   },
   {
    "duration": 231,
    "start_time": "2024-09-24T19:12:30.695Z"
   },
   {
    "duration": 17,
    "start_time": "2024-09-24T19:12:30.927Z"
   },
   {
    "duration": 16,
    "start_time": "2024-09-24T19:12:30.945Z"
   },
   {
    "duration": 237,
    "start_time": "2024-09-24T19:12:30.962Z"
   },
   {
    "duration": 214,
    "start_time": "2024-09-24T19:12:31.200Z"
   },
   {
    "duration": 19,
    "start_time": "2024-09-24T19:12:31.415Z"
   },
   {
    "duration": 96,
    "start_time": "2024-09-24T19:12:31.436Z"
   },
   {
    "duration": 251,
    "start_time": "2024-09-24T19:12:31.533Z"
   },
   {
    "duration": 1305,
    "start_time": "2024-09-24T19:12:31.786Z"
   },
   {
    "duration": 239,
    "start_time": "2024-09-24T19:12:33.093Z"
   },
   {
    "duration": 4,
    "start_time": "2024-09-24T19:12:33.334Z"
   },
   {
    "duration": 109,
    "start_time": "2024-09-24T19:12:33.339Z"
   },
   {
    "duration": 17,
    "start_time": "2024-09-24T19:12:33.449Z"
   },
   {
    "duration": 77,
    "start_time": "2024-09-24T19:12:33.467Z"
   },
   {
    "duration": 16,
    "start_time": "2024-09-24T19:12:33.546Z"
   },
   {
    "duration": 14,
    "start_time": "2024-09-24T19:12:33.564Z"
   },
   {
    "duration": 496,
    "start_time": "2024-09-24T19:12:33.580Z"
   },
   {
    "duration": 11,
    "start_time": "2024-09-24T19:12:34.078Z"
   },
   {
    "duration": 24,
    "start_time": "2024-09-24T19:12:34.090Z"
   },
   {
    "duration": 376,
    "start_time": "2024-09-24T19:12:34.115Z"
   },
   {
    "duration": 13,
    "start_time": "2024-09-24T19:12:34.493Z"
   },
   {
    "duration": 3609,
    "start_time": "2024-09-24T19:12:34.507Z"
   },
   {
    "duration": 4,
    "start_time": "2024-09-24T19:12:38.118Z"
   },
   {
    "duration": 4,
    "start_time": "2024-09-24T19:12:38.123Z"
   },
   {
    "duration": 4,
    "start_time": "2024-09-24T19:12:38.152Z"
   },
   {
    "duration": 8,
    "start_time": "2024-09-24T19:12:38.157Z"
   },
   {
    "duration": 4,
    "start_time": "2024-09-24T19:12:38.166Z"
   },
   {
    "duration": 5417,
    "start_time": "2024-09-24T19:12:38.172Z"
   },
   {
    "duration": 3,
    "start_time": "2024-09-24T19:12:43.591Z"
   },
   {
    "duration": 78,
    "start_time": "2024-09-24T19:12:43.595Z"
   },
   {
    "duration": 6,
    "start_time": "2024-09-24T19:12:43.675Z"
   },
   {
    "duration": 5,
    "start_time": "2024-09-24T19:12:43.682Z"
   },
   {
    "duration": 10,
    "start_time": "2024-09-24T19:12:43.688Z"
   },
   {
    "duration": 276,
    "start_time": "2024-09-24T19:12:43.700Z"
   },
   {
    "duration": 0,
    "start_time": "2024-09-24T19:12:43.980Z"
   },
   {
    "duration": 0,
    "start_time": "2024-09-24T19:12:43.986Z"
   },
   {
    "duration": 0,
    "start_time": "2024-09-24T19:12:43.988Z"
   },
   {
    "duration": 0,
    "start_time": "2024-09-24T19:12:43.989Z"
   },
   {
    "duration": 0,
    "start_time": "2024-09-24T19:12:43.989Z"
   },
   {
    "duration": 0,
    "start_time": "2024-09-24T19:12:43.991Z"
   },
   {
    "duration": 0,
    "start_time": "2024-09-24T19:12:43.994Z"
   },
   {
    "duration": 0,
    "start_time": "2024-09-24T19:12:43.995Z"
   },
   {
    "duration": 0,
    "start_time": "2024-09-24T19:12:43.995Z"
   },
   {
    "duration": 0,
    "start_time": "2024-09-24T19:12:44.053Z"
   },
   {
    "duration": 0,
    "start_time": "2024-09-24T19:12:44.054Z"
   },
   {
    "duration": 0,
    "start_time": "2024-09-24T19:12:44.056Z"
   },
   {
    "duration": 0,
    "start_time": "2024-09-24T19:12:44.057Z"
   },
   {
    "duration": 0,
    "start_time": "2024-09-24T19:12:44.058Z"
   },
   {
    "duration": 0,
    "start_time": "2024-09-24T19:12:44.060Z"
   },
   {
    "duration": 0,
    "start_time": "2024-09-24T19:12:44.061Z"
   },
   {
    "duration": 0,
    "start_time": "2024-09-24T19:12:44.063Z"
   },
   {
    "duration": 0,
    "start_time": "2024-09-24T19:12:44.064Z"
   },
   {
    "duration": 1,
    "start_time": "2024-09-24T19:12:44.065Z"
   },
   {
    "duration": 0,
    "start_time": "2024-09-24T19:12:44.067Z"
   },
   {
    "duration": 0,
    "start_time": "2024-09-24T19:12:44.068Z"
   },
   {
    "duration": 0,
    "start_time": "2024-09-24T19:12:44.070Z"
   },
   {
    "duration": 0,
    "start_time": "2024-09-24T19:12:44.072Z"
   },
   {
    "duration": 0,
    "start_time": "2024-09-24T19:12:44.073Z"
   },
   {
    "duration": 0,
    "start_time": "2024-09-24T19:12:44.074Z"
   },
   {
    "duration": 0,
    "start_time": "2024-09-24T19:12:44.076Z"
   },
   {
    "duration": 0,
    "start_time": "2024-09-24T19:12:44.077Z"
   },
   {
    "duration": 0,
    "start_time": "2024-09-24T19:12:44.079Z"
   },
   {
    "duration": 0,
    "start_time": "2024-09-24T19:12:44.152Z"
   },
   {
    "duration": 0,
    "start_time": "2024-09-24T19:12:44.154Z"
   },
   {
    "duration": 0,
    "start_time": "2024-09-24T19:12:44.155Z"
   },
   {
    "duration": 0,
    "start_time": "2024-09-24T19:12:44.156Z"
   },
   {
    "duration": 0,
    "start_time": "2024-09-24T19:12:44.158Z"
   },
   {
    "duration": 0,
    "start_time": "2024-09-24T19:12:44.159Z"
   },
   {
    "duration": 0,
    "start_time": "2024-09-24T19:12:44.160Z"
   },
   {
    "duration": 0,
    "start_time": "2024-09-24T19:12:44.161Z"
   },
   {
    "duration": 0,
    "start_time": "2024-09-24T19:12:44.163Z"
   },
   {
    "duration": 0,
    "start_time": "2024-09-24T19:12:44.164Z"
   },
   {
    "duration": 0,
    "start_time": "2024-09-24T19:12:44.165Z"
   },
   {
    "duration": 0,
    "start_time": "2024-09-24T19:12:44.167Z"
   },
   {
    "duration": 0,
    "start_time": "2024-09-24T19:12:44.168Z"
   },
   {
    "duration": 0,
    "start_time": "2024-09-24T19:12:44.169Z"
   },
   {
    "duration": 0,
    "start_time": "2024-09-24T19:12:44.170Z"
   },
   {
    "duration": 0,
    "start_time": "2024-09-24T19:12:44.171Z"
   },
   {
    "duration": 0,
    "start_time": "2024-09-24T19:12:44.173Z"
   },
   {
    "duration": 0,
    "start_time": "2024-09-24T19:12:44.174Z"
   },
   {
    "duration": 0,
    "start_time": "2024-09-24T19:12:44.175Z"
   },
   {
    "duration": 0,
    "start_time": "2024-09-24T19:12:44.177Z"
   },
   {
    "duration": 1351,
    "start_time": "2024-09-25T07:42:20.527Z"
   },
   {
    "duration": 503,
    "start_time": "2024-09-25T07:42:21.880Z"
   },
   {
    "duration": 281,
    "start_time": "2024-09-25T07:42:22.384Z"
   },
   {
    "duration": 5,
    "start_time": "2024-09-25T07:42:24.991Z"
   },
   {
    "duration": 1070,
    "start_time": "2024-10-19T07:49:55.786Z"
   },
   {
    "duration": 107,
    "start_time": "2024-10-19T07:49:56.857Z"
   },
   {
    "duration": 56,
    "start_time": "2024-10-19T07:49:56.966Z"
   },
   {
    "duration": 14,
    "start_time": "2024-10-19T07:49:57.024Z"
   },
   {
    "duration": 7,
    "start_time": "2024-10-19T07:49:57.040Z"
   },
   {
    "duration": 8,
    "start_time": "2024-10-19T07:49:57.049Z"
   },
   {
    "duration": 4,
    "start_time": "2024-10-19T07:49:57.058Z"
   },
   {
    "duration": 11,
    "start_time": "2024-10-19T07:49:57.065Z"
   },
   {
    "duration": 7,
    "start_time": "2024-10-19T07:49:57.078Z"
   },
   {
    "duration": 554,
    "start_time": "2024-10-19T07:49:57.087Z"
   },
   {
    "duration": 16,
    "start_time": "2024-10-19T07:49:57.642Z"
   },
   {
    "duration": 7,
    "start_time": "2024-10-19T07:49:57.660Z"
   },
   {
    "duration": 10,
    "start_time": "2024-10-19T07:49:57.669Z"
   },
   {
    "duration": 6,
    "start_time": "2024-10-19T07:49:57.680Z"
   },
   {
    "duration": 12,
    "start_time": "2024-10-19T07:49:57.687Z"
   },
   {
    "duration": 7,
    "start_time": "2024-10-19T07:49:57.700Z"
   },
   {
    "duration": 1398,
    "start_time": "2024-10-20T15:12:11.666Z"
   },
   {
    "duration": 530,
    "start_time": "2024-10-20T15:12:13.066Z"
   },
   {
    "duration": 213,
    "start_time": "2024-10-20T15:12:13.598Z"
   },
   {
    "duration": 19,
    "start_time": "2024-10-20T15:12:13.814Z"
   },
   {
    "duration": 7,
    "start_time": "2024-10-20T15:12:13.835Z"
   },
   {
    "duration": 4,
    "start_time": "2024-10-20T15:12:13.843Z"
   },
   {
    "duration": 5,
    "start_time": "2024-10-20T15:12:13.848Z"
   },
   {
    "duration": 7,
    "start_time": "2024-10-20T15:12:13.854Z"
   },
   {
    "duration": 11,
    "start_time": "2024-10-20T15:12:13.863Z"
   },
   {
    "duration": 8,
    "start_time": "2024-10-20T15:12:13.876Z"
   },
   {
    "duration": 6,
    "start_time": "2024-10-20T15:12:13.885Z"
   },
   {
    "duration": 4,
    "start_time": "2024-10-20T15:12:13.892Z"
   },
   {
    "duration": 73,
    "start_time": "2024-10-20T15:12:13.898Z"
   },
   {
    "duration": 13,
    "start_time": "2024-10-20T15:12:13.973Z"
   },
   {
    "duration": 3,
    "start_time": "2024-10-20T15:12:13.988Z"
   },
   {
    "duration": 7,
    "start_time": "2024-10-20T15:12:13.992Z"
   },
   {
    "duration": 5,
    "start_time": "2024-10-20T15:12:14.000Z"
   },
   {
    "duration": 13,
    "start_time": "2024-10-20T15:12:14.006Z"
   },
   {
    "duration": 6,
    "start_time": "2024-10-20T15:12:14.021Z"
   },
   {
    "duration": 3,
    "start_time": "2024-10-20T15:12:14.028Z"
   },
   {
    "duration": 15,
    "start_time": "2024-10-20T15:12:14.032Z"
   },
   {
    "duration": 67,
    "start_time": "2024-10-20T15:12:14.048Z"
   },
   {
    "duration": 5,
    "start_time": "2024-10-20T15:12:14.116Z"
   },
   {
    "duration": 9,
    "start_time": "2024-10-20T15:12:14.123Z"
   },
   {
    "duration": 18,
    "start_time": "2024-10-20T15:12:14.134Z"
   },
   {
    "duration": 3,
    "start_time": "2024-10-20T15:12:14.154Z"
   },
   {
    "duration": 37,
    "start_time": "2024-10-20T15:12:14.158Z"
   },
   {
    "duration": 10,
    "start_time": "2024-10-20T15:12:14.199Z"
   },
   {
    "duration": 7,
    "start_time": "2024-10-20T15:12:14.210Z"
   },
   {
    "duration": 6,
    "start_time": "2024-10-20T15:12:14.219Z"
   },
   {
    "duration": 9,
    "start_time": "2024-10-20T15:12:14.227Z"
   },
   {
    "duration": 16,
    "start_time": "2024-10-20T15:12:14.243Z"
   },
   {
    "duration": 2,
    "start_time": "2024-10-20T15:12:14.261Z"
   },
   {
    "duration": 7,
    "start_time": "2024-10-20T15:12:14.264Z"
   },
   {
    "duration": 15,
    "start_time": "2024-10-20T15:12:14.272Z"
   },
   {
    "duration": 3,
    "start_time": "2024-10-20T15:12:14.288Z"
   },
   {
    "duration": 12,
    "start_time": "2024-10-20T15:12:14.292Z"
   },
   {
    "duration": 1337,
    "start_time": "2024-10-20T15:12:14.306Z"
   },
   {
    "duration": 262,
    "start_time": "2024-10-20T15:12:15.645Z"
   },
   {
    "duration": 4,
    "start_time": "2024-10-20T15:12:15.909Z"
   },
   {
    "duration": 192,
    "start_time": "2024-10-20T15:12:15.915Z"
   },
   {
    "duration": 14,
    "start_time": "2024-10-20T15:12:16.109Z"
   },
   {
    "duration": 19,
    "start_time": "2024-10-20T15:12:16.125Z"
   },
   {
    "duration": 297,
    "start_time": "2024-10-20T15:12:16.146Z"
   },
   {
    "duration": 235,
    "start_time": "2024-10-20T15:12:16.444Z"
   },
   {
    "duration": 3,
    "start_time": "2024-10-20T15:12:16.680Z"
   },
   {
    "duration": 13,
    "start_time": "2024-10-20T15:12:16.684Z"
   },
   {
    "duration": 17,
    "start_time": "2024-10-20T15:12:16.698Z"
   },
   {
    "duration": 4,
    "start_time": "2024-10-20T15:12:16.716Z"
   },
   {
    "duration": 6,
    "start_time": "2024-10-20T15:12:16.722Z"
   },
   {
    "duration": 3,
    "start_time": "2024-10-20T15:12:16.729Z"
   },
   {
    "duration": 7,
    "start_time": "2024-10-20T15:12:16.733Z"
   },
   {
    "duration": 1280,
    "start_time": "2024-10-20T15:12:16.742Z"
   },
   {
    "duration": 229,
    "start_time": "2024-10-20T15:12:18.024Z"
   },
   {
    "duration": 4,
    "start_time": "2024-10-20T15:12:18.255Z"
   },
   {
    "duration": 15,
    "start_time": "2024-10-20T15:12:18.261Z"
   },
   {
    "duration": 6,
    "start_time": "2024-10-20T15:12:18.278Z"
   },
   {
    "duration": 7,
    "start_time": "2024-10-20T15:12:18.286Z"
   },
   {
    "duration": 8,
    "start_time": "2024-10-20T15:12:18.294Z"
   },
   {
    "duration": 406,
    "start_time": "2024-10-20T15:12:18.304Z"
   },
   {
    "duration": 14,
    "start_time": "2024-10-20T15:12:18.712Z"
   },
   {
    "duration": 2371,
    "start_time": "2024-10-20T15:12:18.728Z"
   },
   {
    "duration": 4,
    "start_time": "2024-10-20T15:12:21.100Z"
   },
   {
    "duration": 15,
    "start_time": "2024-10-20T15:12:21.106Z"
   },
   {
    "duration": 10,
    "start_time": "2024-10-20T15:12:21.122Z"
   },
   {
    "duration": 9,
    "start_time": "2024-10-20T15:12:21.134Z"
   },
   {
    "duration": 9,
    "start_time": "2024-10-20T15:12:21.144Z"
   },
   {
    "duration": 5245,
    "start_time": "2024-10-20T15:12:21.154Z"
   },
   {
    "duration": 3,
    "start_time": "2024-10-20T15:12:26.401Z"
   },
   {
    "duration": 15,
    "start_time": "2024-10-20T15:12:26.405Z"
   },
   {
    "duration": 4,
    "start_time": "2024-10-20T15:12:26.422Z"
   },
   {
    "duration": 15,
    "start_time": "2024-10-20T15:12:26.428Z"
   },
   {
    "duration": 9,
    "start_time": "2024-10-20T15:12:26.445Z"
   },
   {
    "duration": 11,
    "start_time": "2024-10-20T15:12:26.455Z"
   },
   {
    "duration": 11,
    "start_time": "2024-10-20T15:12:26.468Z"
   },
   {
    "duration": 10,
    "start_time": "2024-10-20T15:12:26.480Z"
   },
   {
    "duration": 273,
    "start_time": "2024-10-20T15:12:26.492Z"
   },
   {
    "duration": 4,
    "start_time": "2024-10-20T15:12:26.766Z"
   },
   {
    "duration": 16,
    "start_time": "2024-10-20T15:12:26.772Z"
   },
   {
    "duration": 6,
    "start_time": "2024-10-20T15:12:26.790Z"
   },
   {
    "duration": 14,
    "start_time": "2024-10-20T15:12:26.798Z"
   },
   {
    "duration": 9,
    "start_time": "2024-10-20T15:12:26.818Z"
   },
   {
    "duration": 31,
    "start_time": "2024-10-20T15:12:26.829Z"
   },
   {
    "duration": 76,
    "start_time": "2024-10-20T15:12:26.862Z"
   },
   {
    "duration": 18,
    "start_time": "2024-10-20T15:12:26.940Z"
   },
   {
    "duration": 251,
    "start_time": "2024-10-20T15:12:26.960Z"
   },
   {
    "duration": 948,
    "start_time": "2024-10-20T15:12:27.213Z"
   },
   {
    "duration": 5,
    "start_time": "2024-10-20T15:12:28.162Z"
   },
   {
    "duration": 6,
    "start_time": "2024-10-20T15:12:28.169Z"
   },
   {
    "duration": 16,
    "start_time": "2024-10-20T15:12:28.176Z"
   },
   {
    "duration": 33,
    "start_time": "2024-10-20T15:12:28.193Z"
   },
   {
    "duration": 33,
    "start_time": "2024-10-20T15:12:28.228Z"
   },
   {
    "duration": 24,
    "start_time": "2024-10-20T15:12:28.262Z"
   },
   {
    "duration": 11,
    "start_time": "2024-10-20T15:12:28.288Z"
   },
   {
    "duration": 246,
    "start_time": "2024-10-20T15:12:28.300Z"
   },
   {
    "duration": 5,
    "start_time": "2024-10-20T15:12:28.548Z"
   },
   {
    "duration": 7,
    "start_time": "2024-10-20T15:12:28.555Z"
   },
   {
    "duration": 26,
    "start_time": "2024-10-20T15:12:28.564Z"
   },
   {
    "duration": 15,
    "start_time": "2024-10-20T15:12:28.591Z"
   },
   {
    "duration": 8,
    "start_time": "2024-10-20T15:12:28.607Z"
   },
   {
    "duration": 12,
    "start_time": "2024-10-20T15:12:28.616Z"
   },
   {
    "duration": 18,
    "start_time": "2024-10-20T15:12:28.630Z"
   },
   {
    "duration": 4,
    "start_time": "2024-10-20T15:12:28.649Z"
   },
   {
    "duration": 5,
    "start_time": "2024-10-20T15:12:28.654Z"
   },
   {
    "duration": 17,
    "start_time": "2024-10-20T15:12:28.660Z"
   },
   {
    "duration": 4,
    "start_time": "2024-10-20T15:12:28.678Z"
   },
   {
    "duration": 6,
    "start_time": "2024-10-20T15:12:28.684Z"
   },
   {
    "duration": 10,
    "start_time": "2024-10-20T15:12:28.691Z"
   },
   {
    "duration": 9,
    "start_time": "2024-10-20T15:12:28.703Z"
   },
   {
    "duration": 31,
    "start_time": "2024-10-20T15:12:28.714Z"
   },
   {
    "duration": 12,
    "start_time": "2024-10-20T15:12:28.747Z"
   },
   {
    "duration": 22,
    "start_time": "2024-10-20T15:12:28.760Z"
   },
   {
    "duration": 9,
    "start_time": "2024-10-20T15:12:28.783Z"
   },
   {
    "duration": 366,
    "start_time": "2024-10-20T15:12:28.794Z"
   },
   {
    "duration": 5,
    "start_time": "2024-10-20T15:12:29.162Z"
   },
   {
    "duration": 249,
    "start_time": "2024-10-20T15:12:29.169Z"
   },
   {
    "duration": 5,
    "start_time": "2024-10-20T15:12:29.419Z"
   },
   {
    "duration": 23,
    "start_time": "2024-10-20T15:12:29.426Z"
   },
   {
    "duration": 15,
    "start_time": "2024-10-20T15:12:29.451Z"
   },
   {
    "duration": 10,
    "start_time": "2024-10-20T15:12:29.468Z"
   },
   {
    "duration": 16,
    "start_time": "2024-10-20T15:12:29.480Z"
   },
   {
    "duration": 14,
    "start_time": "2024-10-20T15:12:29.498Z"
   },
   {
    "duration": 2924,
    "start_time": "2025-01-15T20:56:19.021Z"
   },
   {
    "duration": 0,
    "start_time": "2025-01-15T20:56:21.948Z"
   },
   {
    "duration": 0,
    "start_time": "2025-01-15T20:56:21.950Z"
   },
   {
    "duration": 0,
    "start_time": "2025-01-15T20:56:21.951Z"
   },
   {
    "duration": 0,
    "start_time": "2025-01-15T20:56:21.952Z"
   },
   {
    "duration": 0,
    "start_time": "2025-01-15T20:56:21.954Z"
   },
   {
    "duration": 0,
    "start_time": "2025-01-15T20:56:21.954Z"
   },
   {
    "duration": 0,
    "start_time": "2025-01-15T20:56:21.956Z"
   },
   {
    "duration": 0,
    "start_time": "2025-01-15T20:56:21.957Z"
   },
   {
    "duration": 0,
    "start_time": "2025-01-15T20:56:21.958Z"
   },
   {
    "duration": 0,
    "start_time": "2025-01-15T20:56:21.959Z"
   },
   {
    "duration": 0,
    "start_time": "2025-01-15T20:56:21.959Z"
   },
   {
    "duration": 0,
    "start_time": "2025-01-15T20:56:21.961Z"
   },
   {
    "duration": 0,
    "start_time": "2025-01-15T20:56:21.962Z"
   },
   {
    "duration": 0,
    "start_time": "2025-01-15T20:56:21.963Z"
   },
   {
    "duration": 0,
    "start_time": "2025-01-15T20:56:21.964Z"
   },
   {
    "duration": 0,
    "start_time": "2025-01-15T20:56:21.965Z"
   },
   {
    "duration": 0,
    "start_time": "2025-01-15T20:56:21.966Z"
   },
   {
    "duration": 0,
    "start_time": "2025-01-15T20:56:21.967Z"
   },
   {
    "duration": 0,
    "start_time": "2025-01-15T20:56:21.967Z"
   },
   {
    "duration": 0,
    "start_time": "2025-01-15T20:56:21.968Z"
   },
   {
    "duration": 0,
    "start_time": "2025-01-15T20:56:21.970Z"
   },
   {
    "duration": 0,
    "start_time": "2025-01-15T20:56:21.971Z"
   },
   {
    "duration": 0,
    "start_time": "2025-01-15T20:56:21.972Z"
   },
   {
    "duration": 0,
    "start_time": "2025-01-15T20:56:21.973Z"
   },
   {
    "duration": 1,
    "start_time": "2025-01-15T20:56:21.973Z"
   },
   {
    "duration": 0,
    "start_time": "2025-01-15T20:56:21.975Z"
   },
   {
    "duration": 0,
    "start_time": "2025-01-15T20:56:21.976Z"
   },
   {
    "duration": 0,
    "start_time": "2025-01-15T20:56:21.977Z"
   },
   {
    "duration": 0,
    "start_time": "2025-01-15T20:56:21.977Z"
   },
   {
    "duration": 0,
    "start_time": "2025-01-15T20:56:21.978Z"
   },
   {
    "duration": 0,
    "start_time": "2025-01-15T20:56:21.979Z"
   },
   {
    "duration": 0,
    "start_time": "2025-01-15T20:56:21.980Z"
   },
   {
    "duration": 0,
    "start_time": "2025-01-15T20:56:21.981Z"
   },
   {
    "duration": 0,
    "start_time": "2025-01-15T20:56:21.982Z"
   },
   {
    "duration": 0,
    "start_time": "2025-01-15T20:56:21.982Z"
   },
   {
    "duration": 0,
    "start_time": "2025-01-15T20:56:21.983Z"
   },
   {
    "duration": 0,
    "start_time": "2025-01-15T20:56:21.984Z"
   },
   {
    "duration": 1,
    "start_time": "2025-01-15T20:56:21.985Z"
   },
   {
    "duration": 0,
    "start_time": "2025-01-15T20:56:21.986Z"
   },
   {
    "duration": 0,
    "start_time": "2025-01-15T20:56:21.987Z"
   },
   {
    "duration": 0,
    "start_time": "2025-01-15T20:56:21.988Z"
   },
   {
    "duration": 0,
    "start_time": "2025-01-15T20:56:21.989Z"
   },
   {
    "duration": 0,
    "start_time": "2025-01-15T20:56:21.990Z"
   },
   {
    "duration": 0,
    "start_time": "2025-01-15T20:56:22.053Z"
   },
   {
    "duration": 0,
    "start_time": "2025-01-15T20:56:22.054Z"
   },
   {
    "duration": 0,
    "start_time": "2025-01-15T20:56:22.055Z"
   },
   {
    "duration": 0,
    "start_time": "2025-01-15T20:56:22.055Z"
   },
   {
    "duration": 0,
    "start_time": "2025-01-15T20:56:22.056Z"
   },
   {
    "duration": 0,
    "start_time": "2025-01-15T20:56:22.057Z"
   },
   {
    "duration": 0,
    "start_time": "2025-01-15T20:56:22.059Z"
   },
   {
    "duration": 0,
    "start_time": "2025-01-15T20:56:22.059Z"
   },
   {
    "duration": 0,
    "start_time": "2025-01-15T20:56:22.061Z"
   },
   {
    "duration": 0,
    "start_time": "2025-01-15T20:56:22.062Z"
   },
   {
    "duration": 0,
    "start_time": "2025-01-15T20:56:22.063Z"
   },
   {
    "duration": 0,
    "start_time": "2025-01-15T20:56:22.064Z"
   },
   {
    "duration": 0,
    "start_time": "2025-01-15T20:56:22.065Z"
   },
   {
    "duration": 0,
    "start_time": "2025-01-15T20:56:22.066Z"
   },
   {
    "duration": 0,
    "start_time": "2025-01-15T20:56:22.067Z"
   },
   {
    "duration": 0,
    "start_time": "2025-01-15T20:56:22.068Z"
   },
   {
    "duration": 0,
    "start_time": "2025-01-15T20:56:22.069Z"
   },
   {
    "duration": 0,
    "start_time": "2025-01-15T20:56:22.070Z"
   },
   {
    "duration": 0,
    "start_time": "2025-01-15T20:56:22.071Z"
   },
   {
    "duration": 71,
    "start_time": "2025-01-15T20:57:21.783Z"
   },
   {
    "duration": 40,
    "start_time": "2025-01-15T20:57:23.146Z"
   },
   {
    "duration": 331,
    "start_time": "2025-01-15T20:57:32.062Z"
   },
   {
    "duration": 31,
    "start_time": "2025-01-15T20:57:32.401Z"
   },
   {
    "duration": 12,
    "start_time": "2025-01-15T20:57:32.601Z"
   },
   {
    "duration": 12,
    "start_time": "2025-01-15T20:57:33.073Z"
   },
   {
    "duration": 12,
    "start_time": "2025-01-15T20:57:33.282Z"
   },
   {
    "duration": 11,
    "start_time": "2025-01-15T20:57:34.241Z"
   },
   {
    "duration": 3,
    "start_time": "2025-01-15T20:57:34.422Z"
   },
   {
    "duration": 7,
    "start_time": "2025-01-15T20:57:34.801Z"
   },
   {
    "duration": 5,
    "start_time": "2025-01-15T20:57:34.991Z"
   },
   {
    "duration": 4,
    "start_time": "2025-01-15T20:57:35.201Z"
   },
   {
    "duration": 4,
    "start_time": "2025-01-15T20:57:35.621Z"
   },
   {
    "duration": 5,
    "start_time": "2025-01-15T20:57:35.782Z"
   },
   {
    "duration": 7,
    "start_time": "2025-01-15T20:57:35.974Z"
   },
   {
    "duration": 9,
    "start_time": "2025-01-15T20:57:36.661Z"
   },
   {
    "duration": 6,
    "start_time": "2025-01-15T20:57:36.842Z"
   },
   {
    "duration": 5,
    "start_time": "2025-01-15T20:57:37.041Z"
   },
   {
    "duration": 4,
    "start_time": "2025-01-15T20:57:37.230Z"
   },
   {
    "duration": 7,
    "start_time": "2025-01-15T20:57:37.661Z"
   },
   {
    "duration": 3,
    "start_time": "2025-01-15T20:57:38.485Z"
   },
   {
    "duration": 9,
    "start_time": "2025-01-15T20:57:38.701Z"
   },
   {
    "duration": 4,
    "start_time": "2025-01-15T20:57:39.161Z"
   },
   {
    "duration": 11,
    "start_time": "2025-01-15T20:57:39.821Z"
   },
   {
    "duration": 5,
    "start_time": "2025-01-15T20:57:39.985Z"
   },
   {
    "duration": 5,
    "start_time": "2025-01-15T20:57:40.221Z"
   },
   {
    "duration": 5,
    "start_time": "2025-01-15T20:57:40.441Z"
   },
   {
    "duration": 6,
    "start_time": "2025-01-15T20:57:40.850Z"
   },
   {
    "duration": 4,
    "start_time": "2025-01-15T20:57:41.301Z"
   },
   {
    "duration": 7,
    "start_time": "2025-01-15T20:57:41.502Z"
   },
   {
    "duration": 4,
    "start_time": "2025-01-15T20:57:41.741Z"
   },
   {
    "duration": 3,
    "start_time": "2025-01-15T20:57:41.961Z"
   },
   {
    "duration": 6,
    "start_time": "2025-01-15T20:57:42.160Z"
   },
   {
    "duration": 10,
    "start_time": "2025-01-15T20:57:42.792Z"
   },
   {
    "duration": 5,
    "start_time": "2025-01-15T20:57:43.008Z"
   },
   {
    "duration": 5,
    "start_time": "2025-01-15T20:57:43.261Z"
   },
   {
    "duration": 4,
    "start_time": "2025-01-15T20:57:43.503Z"
   },
   {
    "duration": 6,
    "start_time": "2025-01-15T20:57:43.793Z"
   },
   {
    "duration": 3,
    "start_time": "2025-01-15T20:57:45.382Z"
   },
   {
    "duration": 10,
    "start_time": "2025-01-15T20:57:45.602Z"
   },
   {
    "duration": 711,
    "start_time": "2025-01-15T20:57:45.784Z"
   },
   {
    "duration": 4,
    "start_time": "2025-01-15T20:57:46.649Z"
   },
   {
    "duration": 4,
    "start_time": "2025-01-15T20:57:46.881Z"
   },
   {
    "duration": 4,
    "start_time": "2025-01-15T20:57:47.341Z"
   },
   {
    "duration": 4,
    "start_time": "2025-01-15T20:57:47.762Z"
   },
   {
    "duration": 234,
    "start_time": "2025-01-15T20:57:48.461Z"
   },
   {
    "duration": 396,
    "start_time": "2025-01-15T20:57:48.697Z"
   },
   {
    "duration": 15,
    "start_time": "2025-01-15T20:57:49.095Z"
   },
   {
    "duration": 8,
    "start_time": "2025-01-15T20:57:49.455Z"
   },
   {
    "duration": 3,
    "start_time": "2025-01-15T20:57:50.370Z"
   },
   {
    "duration": 131,
    "start_time": "2025-01-15T20:57:50.642Z"
   },
   {
    "duration": 128,
    "start_time": "2025-01-15T20:57:50.818Z"
   },
   {
    "duration": 11,
    "start_time": "2025-01-15T20:57:51.942Z"
   },
   {
    "duration": 22,
    "start_time": "2025-01-15T20:57:52.341Z"
   },
   {
    "duration": 14,
    "start_time": "2025-01-15T20:57:53.482Z"
   },
   {
    "duration": 4,
    "start_time": "2025-01-15T20:57:56.981Z"
   },
   {
    "duration": 3,
    "start_time": "2025-01-15T20:57:57.167Z"
   },
   {
    "duration": 5,
    "start_time": "2025-01-15T20:57:57.421Z"
   },
   {
    "duration": 20,
    "start_time": "2025-01-15T20:57:57.642Z"
   },
   {
    "duration": 8,
    "start_time": "2025-01-15T20:57:57.862Z"
   },
   {
    "duration": 3,
    "start_time": "2025-01-15T20:57:59.021Z"
   },
   {
    "duration": 9,
    "start_time": "2025-01-15T20:58:00.742Z"
   },
   {
    "duration": 3139,
    "start_time": "2025-01-18T19:54:48.925Z"
   },
   {
    "duration": 7060,
    "start_time": "2025-01-18T20:06:28.237Z"
   },
   {
    "duration": 9727,
    "start_time": "2025-01-18T20:07:37.707Z"
   },
   {
    "duration": 5978,
    "start_time": "2025-01-18T20:07:59.267Z"
   },
   {
    "duration": 1965,
    "start_time": "2025-01-18T20:08:05.247Z"
   },
   {
    "duration": 0,
    "start_time": "2025-01-18T20:08:07.220Z"
   },
   {
    "duration": 0,
    "start_time": "2025-01-18T20:08:07.221Z"
   },
   {
    "duration": 0,
    "start_time": "2025-01-18T20:08:07.223Z"
   },
   {
    "duration": 0,
    "start_time": "2025-01-18T20:08:07.225Z"
   },
   {
    "duration": 0,
    "start_time": "2025-01-18T20:08:07.226Z"
   },
   {
    "duration": 0,
    "start_time": "2025-01-18T20:08:07.228Z"
   },
   {
    "duration": 0,
    "start_time": "2025-01-18T20:08:07.229Z"
   },
   {
    "duration": 0,
    "start_time": "2025-01-18T20:08:07.231Z"
   },
   {
    "duration": 0,
    "start_time": "2025-01-18T20:08:07.232Z"
   },
   {
    "duration": 0,
    "start_time": "2025-01-18T20:08:07.260Z"
   },
   {
    "duration": 0,
    "start_time": "2025-01-18T20:08:07.264Z"
   },
   {
    "duration": 0,
    "start_time": "2025-01-18T20:08:07.269Z"
   },
   {
    "duration": 0,
    "start_time": "2025-01-18T20:08:07.277Z"
   },
   {
    "duration": 0,
    "start_time": "2025-01-18T20:08:07.278Z"
   },
   {
    "duration": 0,
    "start_time": "2025-01-18T20:08:07.280Z"
   },
   {
    "duration": 0,
    "start_time": "2025-01-18T20:08:07.281Z"
   },
   {
    "duration": 0,
    "start_time": "2025-01-18T20:08:07.282Z"
   },
   {
    "duration": 0,
    "start_time": "2025-01-18T20:08:07.283Z"
   },
   {
    "duration": 0,
    "start_time": "2025-01-18T20:08:07.285Z"
   },
   {
    "duration": 0,
    "start_time": "2025-01-18T20:08:07.287Z"
   },
   {
    "duration": 0,
    "start_time": "2025-01-18T20:08:07.288Z"
   },
   {
    "duration": 0,
    "start_time": "2025-01-18T20:08:07.290Z"
   },
   {
    "duration": 0,
    "start_time": "2025-01-18T20:08:07.291Z"
   },
   {
    "duration": 0,
    "start_time": "2025-01-18T20:08:07.293Z"
   },
   {
    "duration": 0,
    "start_time": "2025-01-18T20:08:07.295Z"
   },
   {
    "duration": 0,
    "start_time": "2025-01-18T20:08:07.296Z"
   },
   {
    "duration": 0,
    "start_time": "2025-01-18T20:08:07.297Z"
   },
   {
    "duration": 0,
    "start_time": "2025-01-18T20:08:07.299Z"
   },
   {
    "duration": 0,
    "start_time": "2025-01-18T20:08:07.300Z"
   },
   {
    "duration": 0,
    "start_time": "2025-01-18T20:08:07.301Z"
   },
   {
    "duration": 0,
    "start_time": "2025-01-18T20:08:07.303Z"
   },
   {
    "duration": 0,
    "start_time": "2025-01-18T20:08:07.304Z"
   },
   {
    "duration": 0,
    "start_time": "2025-01-18T20:08:07.306Z"
   },
   {
    "duration": 0,
    "start_time": "2025-01-18T20:08:07.358Z"
   },
   {
    "duration": 0,
    "start_time": "2025-01-18T20:08:07.358Z"
   },
   {
    "duration": 0,
    "start_time": "2025-01-18T20:08:07.359Z"
   },
   {
    "duration": 0,
    "start_time": "2025-01-18T20:08:07.359Z"
   },
   {
    "duration": 0,
    "start_time": "2025-01-18T20:08:07.361Z"
   },
   {
    "duration": 0,
    "start_time": "2025-01-18T20:08:07.362Z"
   },
   {
    "duration": 0,
    "start_time": "2025-01-18T20:08:07.363Z"
   },
   {
    "duration": 0,
    "start_time": "2025-01-18T20:08:07.363Z"
   },
   {
    "duration": 0,
    "start_time": "2025-01-18T20:08:07.368Z"
   },
   {
    "duration": 0,
    "start_time": "2025-01-18T20:08:07.369Z"
   },
   {
    "duration": 0,
    "start_time": "2025-01-18T20:08:07.370Z"
   },
   {
    "duration": 0,
    "start_time": "2025-01-18T20:08:07.371Z"
   },
   {
    "duration": 0,
    "start_time": "2025-01-18T20:08:07.372Z"
   },
   {
    "duration": 0,
    "start_time": "2025-01-18T20:08:07.372Z"
   },
   {
    "duration": 0,
    "start_time": "2025-01-18T20:08:07.375Z"
   },
   {
    "duration": 0,
    "start_time": "2025-01-18T20:08:07.376Z"
   },
   {
    "duration": 0,
    "start_time": "2025-01-18T20:08:07.378Z"
   },
   {
    "duration": 0,
    "start_time": "2025-01-18T20:08:07.380Z"
   },
   {
    "duration": 0,
    "start_time": "2025-01-18T20:08:07.382Z"
   },
   {
    "duration": 0,
    "start_time": "2025-01-18T20:08:07.383Z"
   },
   {
    "duration": 0,
    "start_time": "2025-01-18T20:08:07.385Z"
   },
   {
    "duration": 0,
    "start_time": "2025-01-18T20:08:07.386Z"
   },
   {
    "duration": 0,
    "start_time": "2025-01-18T20:08:07.387Z"
   },
   {
    "duration": 0,
    "start_time": "2025-01-18T20:08:07.388Z"
   },
   {
    "duration": 0,
    "start_time": "2025-01-18T20:08:07.390Z"
   },
   {
    "duration": 0,
    "start_time": "2025-01-18T20:08:07.391Z"
   },
   {
    "duration": 0,
    "start_time": "2025-01-18T20:08:07.392Z"
   },
   {
    "duration": 0,
    "start_time": "2025-01-18T20:08:07.394Z"
   },
   {
    "duration": 0,
    "start_time": "2025-01-18T20:08:07.395Z"
   },
   {
    "duration": 0,
    "start_time": "2025-01-18T20:08:07.397Z"
   },
   {
    "duration": 0,
    "start_time": "2025-01-18T20:08:07.398Z"
   },
   {
    "duration": 0,
    "start_time": "2025-01-18T20:08:07.399Z"
   },
   {
    "duration": 0,
    "start_time": "2025-01-18T20:08:07.400Z"
   },
   {
    "duration": 0,
    "start_time": "2025-01-18T20:08:07.454Z"
   },
   {
    "duration": 0,
    "start_time": "2025-01-18T20:08:07.455Z"
   },
   {
    "duration": 0,
    "start_time": "2025-01-18T20:08:07.455Z"
   },
   {
    "duration": 0,
    "start_time": "2025-01-18T20:08:07.456Z"
   },
   {
    "duration": 0,
    "start_time": "2025-01-18T20:08:07.457Z"
   },
   {
    "duration": 0,
    "start_time": "2025-01-18T20:08:07.458Z"
   },
   {
    "duration": 0,
    "start_time": "2025-01-18T20:08:07.459Z"
   },
   {
    "duration": 0,
    "start_time": "2025-01-18T20:08:07.459Z"
   },
   {
    "duration": 0,
    "start_time": "2025-01-18T20:08:07.460Z"
   },
   {
    "duration": 0,
    "start_time": "2025-01-18T20:08:07.461Z"
   },
   {
    "duration": 0,
    "start_time": "2025-01-18T20:08:07.462Z"
   },
   {
    "duration": 0,
    "start_time": "2025-01-18T20:08:07.463Z"
   },
   {
    "duration": 0,
    "start_time": "2025-01-18T20:08:07.464Z"
   },
   {
    "duration": 0,
    "start_time": "2025-01-18T20:08:07.464Z"
   },
   {
    "duration": 0,
    "start_time": "2025-01-18T20:08:07.465Z"
   },
   {
    "duration": 0,
    "start_time": "2025-01-18T20:08:07.466Z"
   },
   {
    "duration": 0,
    "start_time": "2025-01-18T20:08:07.467Z"
   },
   {
    "duration": 0,
    "start_time": "2025-01-18T20:08:07.470Z"
   },
   {
    "duration": 0,
    "start_time": "2025-01-18T20:08:07.470Z"
   },
   {
    "duration": 0,
    "start_time": "2025-01-18T20:08:07.471Z"
   },
   {
    "duration": 0,
    "start_time": "2025-01-18T20:08:07.472Z"
   },
   {
    "duration": 0,
    "start_time": "2025-01-18T20:08:07.473Z"
   },
   {
    "duration": 0,
    "start_time": "2025-01-18T20:08:07.474Z"
   },
   {
    "duration": 0,
    "start_time": "2025-01-18T20:08:07.475Z"
   },
   {
    "duration": 0,
    "start_time": "2025-01-18T20:08:07.476Z"
   },
   {
    "duration": 0,
    "start_time": "2025-01-18T20:08:07.478Z"
   },
   {
    "duration": 0,
    "start_time": "2025-01-18T20:08:07.479Z"
   },
   {
    "duration": 0,
    "start_time": "2025-01-18T20:08:07.480Z"
   },
   {
    "duration": 0,
    "start_time": "2025-01-18T20:08:07.481Z"
   },
   {
    "duration": 0,
    "start_time": "2025-01-18T20:08:07.482Z"
   },
   {
    "duration": 0,
    "start_time": "2025-01-18T20:08:07.483Z"
   },
   {
    "duration": 0,
    "start_time": "2025-01-18T20:08:07.484Z"
   },
   {
    "duration": 0,
    "start_time": "2025-01-18T20:08:07.485Z"
   },
   {
    "duration": 0,
    "start_time": "2025-01-18T20:08:07.486Z"
   },
   {
    "duration": 0,
    "start_time": "2025-01-18T20:08:07.487Z"
   },
   {
    "duration": 0,
    "start_time": "2025-01-18T20:08:07.488Z"
   },
   {
    "duration": 0,
    "start_time": "2025-01-18T20:08:07.490Z"
   },
   {
    "duration": 0,
    "start_time": "2025-01-18T20:08:07.491Z"
   },
   {
    "duration": 0,
    "start_time": "2025-01-18T20:08:07.492Z"
   },
   {
    "duration": 0,
    "start_time": "2025-01-18T20:08:07.494Z"
   },
   {
    "duration": 0,
    "start_time": "2025-01-18T20:08:07.495Z"
   },
   {
    "duration": 0,
    "start_time": "2025-01-18T20:08:07.496Z"
   },
   {
    "duration": 0,
    "start_time": "2025-01-18T20:08:07.497Z"
   },
   {
    "duration": 0,
    "start_time": "2025-01-18T20:08:07.497Z"
   },
   {
    "duration": 0,
    "start_time": "2025-01-18T20:08:07.555Z"
   },
   {
    "duration": 0,
    "start_time": "2025-01-18T20:08:07.556Z"
   },
   {
    "duration": 0,
    "start_time": "2025-01-18T20:08:07.557Z"
   },
   {
    "duration": 0,
    "start_time": "2025-01-18T20:08:07.558Z"
   },
   {
    "duration": 0,
    "start_time": "2025-01-18T20:08:07.559Z"
   },
   {
    "duration": 0,
    "start_time": "2025-01-18T20:08:07.560Z"
   },
   {
    "duration": 0,
    "start_time": "2025-01-18T20:08:07.561Z"
   },
   {
    "duration": 0,
    "start_time": "2025-01-18T20:08:07.562Z"
   },
   {
    "duration": 0,
    "start_time": "2025-01-18T20:08:07.563Z"
   },
   {
    "duration": 0,
    "start_time": "2025-01-18T20:08:07.564Z"
   },
   {
    "duration": 0,
    "start_time": "2025-01-18T20:08:07.565Z"
   },
   {
    "duration": 0,
    "start_time": "2025-01-18T20:08:07.568Z"
   },
   {
    "duration": 0,
    "start_time": "2025-01-18T20:08:07.569Z"
   },
   {
    "duration": 0,
    "start_time": "2025-01-18T20:08:07.570Z"
   },
   {
    "duration": 0,
    "start_time": "2025-01-18T20:08:07.571Z"
   },
   {
    "duration": 0,
    "start_time": "2025-01-18T20:08:07.572Z"
   },
   {
    "duration": 0,
    "start_time": "2025-01-18T20:08:07.574Z"
   },
   {
    "duration": 0,
    "start_time": "2025-01-18T20:08:07.575Z"
   },
   {
    "duration": 8576,
    "start_time": "2025-01-18T20:08:39.938Z"
   },
   {
    "duration": 5666,
    "start_time": "2025-01-18T20:08:54.048Z"
   },
   {
    "duration": 1721,
    "start_time": "2025-01-18T20:08:59.716Z"
   },
   {
    "duration": 21,
    "start_time": "2025-01-18T20:09:01.439Z"
   },
   {
    "duration": 347,
    "start_time": "2025-01-18T20:09:01.466Z"
   },
   {
    "duration": 267,
    "start_time": "2025-01-18T20:09:01.816Z"
   },
   {
    "duration": 37,
    "start_time": "2025-01-18T20:09:02.084Z"
   },
   {
    "duration": 14,
    "start_time": "2025-01-18T20:09:02.123Z"
   },
   {
    "duration": 32,
    "start_time": "2025-01-18T20:09:02.139Z"
   },
   {
    "duration": 16,
    "start_time": "2025-01-18T20:09:02.173Z"
   },
   {
    "duration": 16,
    "start_time": "2025-01-18T20:09:02.191Z"
   },
   {
    "duration": 7,
    "start_time": "2025-01-18T20:09:02.209Z"
   },
   {
    "duration": 37,
    "start_time": "2025-01-18T20:09:02.219Z"
   },
   {
    "duration": 30,
    "start_time": "2025-01-18T20:09:02.258Z"
   },
   {
    "duration": 4,
    "start_time": "2025-01-18T20:09:02.291Z"
   },
   {
    "duration": 19,
    "start_time": "2025-01-18T20:09:02.297Z"
   },
   {
    "duration": 5,
    "start_time": "2025-01-18T20:09:02.318Z"
   },
   {
    "duration": 10,
    "start_time": "2025-01-18T20:09:02.324Z"
   },
   {
    "duration": 9,
    "start_time": "2025-01-18T20:09:02.335Z"
   },
   {
    "duration": 27,
    "start_time": "2025-01-18T20:09:02.345Z"
   },
   {
    "duration": 11,
    "start_time": "2025-01-18T20:09:02.373Z"
   },
   {
    "duration": 4,
    "start_time": "2025-01-18T20:09:02.386Z"
   },
   {
    "duration": 9,
    "start_time": "2025-01-18T20:09:02.392Z"
   },
   {
    "duration": 160,
    "start_time": "2025-01-18T20:09:02.403Z"
   },
   {
    "duration": 0,
    "start_time": "2025-01-18T20:09:02.571Z"
   },
   {
    "duration": 0,
    "start_time": "2025-01-18T20:09:02.573Z"
   },
   {
    "duration": 0,
    "start_time": "2025-01-18T20:09:02.574Z"
   },
   {
    "duration": 0,
    "start_time": "2025-01-18T20:09:02.575Z"
   },
   {
    "duration": 0,
    "start_time": "2025-01-18T20:09:02.576Z"
   },
   {
    "duration": 0,
    "start_time": "2025-01-18T20:09:02.578Z"
   },
   {
    "duration": 0,
    "start_time": "2025-01-18T20:09:02.579Z"
   },
   {
    "duration": 0,
    "start_time": "2025-01-18T20:09:02.580Z"
   },
   {
    "duration": 0,
    "start_time": "2025-01-18T20:09:02.581Z"
   },
   {
    "duration": 0,
    "start_time": "2025-01-18T20:09:02.582Z"
   },
   {
    "duration": 0,
    "start_time": "2025-01-18T20:09:02.583Z"
   },
   {
    "duration": 0,
    "start_time": "2025-01-18T20:09:02.584Z"
   },
   {
    "duration": 0,
    "start_time": "2025-01-18T20:09:02.585Z"
   },
   {
    "duration": 0,
    "start_time": "2025-01-18T20:09:02.586Z"
   },
   {
    "duration": 0,
    "start_time": "2025-01-18T20:09:02.587Z"
   },
   {
    "duration": 0,
    "start_time": "2025-01-18T20:09:02.588Z"
   },
   {
    "duration": 0,
    "start_time": "2025-01-18T20:09:02.589Z"
   },
   {
    "duration": 0,
    "start_time": "2025-01-18T20:09:02.590Z"
   },
   {
    "duration": 0,
    "start_time": "2025-01-18T20:09:02.591Z"
   },
   {
    "duration": 0,
    "start_time": "2025-01-18T20:09:02.592Z"
   },
   {
    "duration": 0,
    "start_time": "2025-01-18T20:09:02.593Z"
   },
   {
    "duration": 0,
    "start_time": "2025-01-18T20:09:02.595Z"
   },
   {
    "duration": 0,
    "start_time": "2025-01-18T20:09:02.596Z"
   },
   {
    "duration": 0,
    "start_time": "2025-01-18T20:09:02.597Z"
   },
   {
    "duration": 0,
    "start_time": "2025-01-18T20:09:02.598Z"
   },
   {
    "duration": 0,
    "start_time": "2025-01-18T20:09:02.599Z"
   },
   {
    "duration": 0,
    "start_time": "2025-01-18T20:09:02.601Z"
   },
   {
    "duration": 0,
    "start_time": "2025-01-18T20:09:02.602Z"
   },
   {
    "duration": 0,
    "start_time": "2025-01-18T20:09:02.603Z"
   },
   {
    "duration": 0,
    "start_time": "2025-01-18T20:09:02.605Z"
   },
   {
    "duration": 0,
    "start_time": "2025-01-18T20:09:02.656Z"
   },
   {
    "duration": 0,
    "start_time": "2025-01-18T20:09:02.656Z"
   },
   {
    "duration": 0,
    "start_time": "2025-01-18T20:09:02.657Z"
   },
   {
    "duration": 0,
    "start_time": "2025-01-18T20:09:02.658Z"
   },
   {
    "duration": 0,
    "start_time": "2025-01-18T20:09:02.659Z"
   },
   {
    "duration": 0,
    "start_time": "2025-01-18T20:09:02.660Z"
   },
   {
    "duration": 0,
    "start_time": "2025-01-18T20:09:02.660Z"
   },
   {
    "duration": 0,
    "start_time": "2025-01-18T20:09:02.661Z"
   },
   {
    "duration": 0,
    "start_time": "2025-01-18T20:09:02.662Z"
   },
   {
    "duration": 0,
    "start_time": "2025-01-18T20:09:02.667Z"
   },
   {
    "duration": 0,
    "start_time": "2025-01-18T20:09:02.668Z"
   },
   {
    "duration": 0,
    "start_time": "2025-01-18T20:09:02.668Z"
   },
   {
    "duration": 0,
    "start_time": "2025-01-18T20:09:02.669Z"
   },
   {
    "duration": 0,
    "start_time": "2025-01-18T20:09:02.675Z"
   },
   {
    "duration": 0,
    "start_time": "2025-01-18T20:09:02.676Z"
   },
   {
    "duration": 0,
    "start_time": "2025-01-18T20:09:02.679Z"
   },
   {
    "duration": 0,
    "start_time": "2025-01-18T20:09:02.680Z"
   },
   {
    "duration": 0,
    "start_time": "2025-01-18T20:09:02.682Z"
   },
   {
    "duration": 0,
    "start_time": "2025-01-18T20:09:02.683Z"
   },
   {
    "duration": 0,
    "start_time": "2025-01-18T20:09:02.684Z"
   },
   {
    "duration": 0,
    "start_time": "2025-01-18T20:09:02.686Z"
   },
   {
    "duration": 0,
    "start_time": "2025-01-18T20:09:02.687Z"
   },
   {
    "duration": 0,
    "start_time": "2025-01-18T20:09:02.688Z"
   },
   {
    "duration": 0,
    "start_time": "2025-01-18T20:09:02.689Z"
   },
   {
    "duration": 0,
    "start_time": "2025-01-18T20:09:02.691Z"
   },
   {
    "duration": 0,
    "start_time": "2025-01-18T20:09:02.692Z"
   },
   {
    "duration": 0,
    "start_time": "2025-01-18T20:09:02.693Z"
   },
   {
    "duration": 0,
    "start_time": "2025-01-18T20:09:02.695Z"
   },
   {
    "duration": 0,
    "start_time": "2025-01-18T20:09:02.696Z"
   },
   {
    "duration": 0,
    "start_time": "2025-01-18T20:09:02.697Z"
   },
   {
    "duration": 0,
    "start_time": "2025-01-18T20:09:02.757Z"
   },
   {
    "duration": 0,
    "start_time": "2025-01-18T20:09:02.757Z"
   },
   {
    "duration": 0,
    "start_time": "2025-01-18T20:09:02.758Z"
   },
   {
    "duration": 0,
    "start_time": "2025-01-18T20:09:02.759Z"
   },
   {
    "duration": 0,
    "start_time": "2025-01-18T20:09:02.759Z"
   },
   {
    "duration": 0,
    "start_time": "2025-01-18T20:09:02.760Z"
   },
   {
    "duration": 0,
    "start_time": "2025-01-18T20:09:02.761Z"
   },
   {
    "duration": 0,
    "start_time": "2025-01-18T20:09:02.761Z"
   },
   {
    "duration": 0,
    "start_time": "2025-01-18T20:09:02.763Z"
   },
   {
    "duration": 0,
    "start_time": "2025-01-18T20:09:02.764Z"
   },
   {
    "duration": 0,
    "start_time": "2025-01-18T20:09:02.765Z"
   },
   {
    "duration": 0,
    "start_time": "2025-01-18T20:09:02.766Z"
   },
   {
    "duration": 0,
    "start_time": "2025-01-18T20:09:02.767Z"
   },
   {
    "duration": 0,
    "start_time": "2025-01-18T20:09:02.768Z"
   },
   {
    "duration": 0,
    "start_time": "2025-01-18T20:09:02.770Z"
   },
   {
    "duration": 0,
    "start_time": "2025-01-18T20:09:02.771Z"
   },
   {
    "duration": 0,
    "start_time": "2025-01-18T20:09:02.772Z"
   },
   {
    "duration": 0,
    "start_time": "2025-01-18T20:09:02.775Z"
   },
   {
    "duration": 0,
    "start_time": "2025-01-18T20:09:02.776Z"
   },
   {
    "duration": 0,
    "start_time": "2025-01-18T20:09:02.778Z"
   },
   {
    "duration": 0,
    "start_time": "2025-01-18T20:09:02.779Z"
   },
   {
    "duration": 0,
    "start_time": "2025-01-18T20:09:02.780Z"
   },
   {
    "duration": 0,
    "start_time": "2025-01-18T20:09:02.781Z"
   },
   {
    "duration": 0,
    "start_time": "2025-01-18T20:09:02.782Z"
   },
   {
    "duration": 0,
    "start_time": "2025-01-18T20:09:02.783Z"
   },
   {
    "duration": 0,
    "start_time": "2025-01-18T20:09:02.784Z"
   },
   {
    "duration": 0,
    "start_time": "2025-01-18T20:09:02.785Z"
   },
   {
    "duration": 0,
    "start_time": "2025-01-18T20:09:02.786Z"
   },
   {
    "duration": 0,
    "start_time": "2025-01-18T20:09:02.788Z"
   },
   {
    "duration": 0,
    "start_time": "2025-01-18T20:09:02.788Z"
   },
   {
    "duration": 0,
    "start_time": "2025-01-18T20:09:02.789Z"
   },
   {
    "duration": 0,
    "start_time": "2025-01-18T20:09:02.790Z"
   },
   {
    "duration": 0,
    "start_time": "2025-01-18T20:09:02.791Z"
   },
   {
    "duration": 0,
    "start_time": "2025-01-18T20:09:02.791Z"
   },
   {
    "duration": 0,
    "start_time": "2025-01-18T20:09:02.792Z"
   },
   {
    "duration": 0,
    "start_time": "2025-01-18T20:09:02.793Z"
   },
   {
    "duration": 0,
    "start_time": "2025-01-18T20:09:02.794Z"
   },
   {
    "duration": 0,
    "start_time": "2025-01-18T20:09:02.796Z"
   },
   {
    "duration": 0,
    "start_time": "2025-01-18T20:09:02.797Z"
   },
   {
    "duration": 0,
    "start_time": "2025-01-18T20:09:02.858Z"
   },
   {
    "duration": 0,
    "start_time": "2025-01-18T20:09:02.858Z"
   },
   {
    "duration": 0,
    "start_time": "2025-01-18T20:09:02.859Z"
   },
   {
    "duration": 0,
    "start_time": "2025-01-18T20:09:02.860Z"
   },
   {
    "duration": 0,
    "start_time": "2025-01-18T20:09:02.861Z"
   },
   {
    "duration": 0,
    "start_time": "2025-01-18T20:09:02.862Z"
   },
   {
    "duration": 0,
    "start_time": "2025-01-18T20:09:02.863Z"
   },
   {
    "duration": 0,
    "start_time": "2025-01-18T20:09:02.864Z"
   },
   {
    "duration": 1732,
    "start_time": "2025-01-18T20:17:48.917Z"
   },
   {
    "duration": 8,
    "start_time": "2025-01-18T20:17:52.787Z"
   },
   {
    "duration": 365,
    "start_time": "2025-01-18T20:17:53.527Z"
   },
   {
    "duration": 94,
    "start_time": "2025-01-18T20:17:54.877Z"
   },
   {
    "duration": 40,
    "start_time": "2025-01-18T20:17:56.017Z"
   },
   {
    "duration": 15,
    "start_time": "2025-01-18T20:17:56.696Z"
   },
   {
    "duration": 17,
    "start_time": "2025-01-18T20:17:57.364Z"
   },
   {
    "duration": 16,
    "start_time": "2025-01-18T20:17:57.948Z"
   },
   {
    "duration": 13,
    "start_time": "2025-01-18T20:18:00.517Z"
   },
   {
    "duration": 4,
    "start_time": "2025-01-18T20:18:01.119Z"
   },
   {
    "duration": 2,
    "start_time": "2025-01-18T20:18:01.718Z"
   },
   {
    "duration": 11,
    "start_time": "2025-01-18T20:18:06.345Z"
   },
   {
    "duration": 5,
    "start_time": "2025-01-18T20:18:06.907Z"
   },
   {
    "duration": 6,
    "start_time": "2025-01-18T20:18:08.951Z"
   },
   {
    "duration": 5,
    "start_time": "2025-01-18T20:18:10.238Z"
   },
   {
    "duration": 5,
    "start_time": "2025-01-18T20:18:10.777Z"
   },
   {
    "duration": 9,
    "start_time": "2025-01-18T20:18:11.328Z"
   },
   {
    "duration": 14,
    "start_time": "2025-01-18T20:18:12.668Z"
   },
   {
    "duration": 8,
    "start_time": "2025-01-18T20:18:13.160Z"
   },
   {
    "duration": 5,
    "start_time": "2025-01-18T20:18:14.093Z"
   },
   {
    "duration": 5,
    "start_time": "2025-01-18T20:18:14.888Z"
   },
   {
    "duration": 9,
    "start_time": "2025-01-18T20:18:16.410Z"
   },
   {
    "duration": 3,
    "start_time": "2025-01-18T20:18:21.518Z"
   },
   {
    "duration": 3,
    "start_time": "2025-01-18T20:18:21.528Z"
   },
   {
    "duration": 18,
    "start_time": "2025-01-18T20:18:21.533Z"
   },
   {
    "duration": 22,
    "start_time": "2025-01-18T20:18:21.553Z"
   },
   {
    "duration": 3,
    "start_time": "2025-01-18T20:18:21.577Z"
   },
   {
    "duration": 11,
    "start_time": "2025-01-18T20:18:21.582Z"
   },
   {
    "duration": 6,
    "start_time": "2025-01-18T20:18:21.594Z"
   },
   {
    "duration": 8,
    "start_time": "2025-01-18T20:18:21.601Z"
   },
   {
    "duration": 12,
    "start_time": "2025-01-18T20:18:21.654Z"
   },
   {
    "duration": 9,
    "start_time": "2025-01-18T20:18:21.668Z"
   },
   {
    "duration": 4,
    "start_time": "2025-01-18T20:18:21.679Z"
   },
   {
    "duration": 4,
    "start_time": "2025-01-18T20:18:21.684Z"
   },
   {
    "duration": 14,
    "start_time": "2025-01-18T20:18:21.689Z"
   },
   {
    "duration": 8,
    "start_time": "2025-01-18T20:18:21.704Z"
   },
   {
    "duration": 13,
    "start_time": "2025-01-18T20:18:21.715Z"
   },
   {
    "duration": 26,
    "start_time": "2025-01-18T20:18:21.730Z"
   },
   {
    "duration": 13,
    "start_time": "2025-01-18T20:18:21.763Z"
   },
   {
    "duration": 14,
    "start_time": "2025-01-18T20:18:21.778Z"
   },
   {
    "duration": 5,
    "start_time": "2025-01-18T20:18:21.794Z"
   },
   {
    "duration": 5,
    "start_time": "2025-01-18T20:18:21.801Z"
   },
   {
    "duration": 4,
    "start_time": "2025-01-18T20:18:21.808Z"
   },
   {
    "duration": 6,
    "start_time": "2025-01-18T20:18:21.814Z"
   },
   {
    "duration": 38,
    "start_time": "2025-01-18T20:18:21.821Z"
   },
   {
    "duration": 18,
    "start_time": "2025-01-18T20:18:21.860Z"
   },
   {
    "duration": 767,
    "start_time": "2025-01-18T20:18:21.879Z"
   },
   {
    "duration": 19,
    "start_time": "2025-01-18T20:18:22.648Z"
   },
   {
    "duration": 5,
    "start_time": "2025-01-18T20:18:22.674Z"
   },
   {
    "duration": 6,
    "start_time": "2025-01-18T20:18:22.681Z"
   },
   {
    "duration": 6,
    "start_time": "2025-01-18T20:18:22.688Z"
   },
   {
    "duration": 416,
    "start_time": "2025-01-18T20:18:22.695Z"
   },
   {
    "duration": 472,
    "start_time": "2025-01-18T20:18:23.113Z"
   },
   {
    "duration": 21,
    "start_time": "2025-01-18T20:18:23.586Z"
   },
   {
    "duration": 10,
    "start_time": "2025-01-18T20:18:23.609Z"
   },
   {
    "duration": 4,
    "start_time": "2025-01-18T20:18:23.621Z"
   },
   {
    "duration": 182,
    "start_time": "2025-01-18T20:18:23.627Z"
   },
   {
    "duration": 164,
    "start_time": "2025-01-18T20:18:23.811Z"
   },
   {
    "duration": 11,
    "start_time": "2025-01-18T20:18:23.977Z"
   },
   {
    "duration": 3,
    "start_time": "2025-01-18T20:18:23.990Z"
   },
   {
    "duration": 15,
    "start_time": "2025-01-18T20:18:23.995Z"
   },
   {
    "duration": 6,
    "start_time": "2025-01-18T20:18:24.012Z"
   },
   {
    "duration": 14,
    "start_time": "2025-01-18T20:18:24.020Z"
   },
   {
    "duration": 166,
    "start_time": "2025-01-18T20:18:24.041Z"
   },
   {
    "duration": 0,
    "start_time": "2025-01-18T20:18:24.209Z"
   },
   {
    "duration": 0,
    "start_time": "2025-01-18T20:18:24.210Z"
   },
   {
    "duration": 0,
    "start_time": "2025-01-18T20:18:24.212Z"
   },
   {
    "duration": 0,
    "start_time": "2025-01-18T20:18:24.214Z"
   },
   {
    "duration": 0,
    "start_time": "2025-01-18T20:18:24.215Z"
   },
   {
    "duration": 0,
    "start_time": "2025-01-18T20:18:24.217Z"
   },
   {
    "duration": 0,
    "start_time": "2025-01-18T20:18:24.218Z"
   },
   {
    "duration": 0,
    "start_time": "2025-01-18T20:18:24.220Z"
   },
   {
    "duration": 0,
    "start_time": "2025-01-18T20:18:24.221Z"
   },
   {
    "duration": 0,
    "start_time": "2025-01-18T20:18:24.223Z"
   },
   {
    "duration": 0,
    "start_time": "2025-01-18T20:18:24.224Z"
   },
   {
    "duration": 0,
    "start_time": "2025-01-18T20:18:24.227Z"
   },
   {
    "duration": 0,
    "start_time": "2025-01-18T20:18:24.228Z"
   },
   {
    "duration": 0,
    "start_time": "2025-01-18T20:18:24.254Z"
   },
   {
    "duration": 0,
    "start_time": "2025-01-18T20:18:24.259Z"
   },
   {
    "duration": 0,
    "start_time": "2025-01-18T20:18:24.259Z"
   },
   {
    "duration": 0,
    "start_time": "2025-01-18T20:18:24.260Z"
   },
   {
    "duration": 0,
    "start_time": "2025-01-18T20:18:24.261Z"
   },
   {
    "duration": 0,
    "start_time": "2025-01-18T20:18:24.262Z"
   },
   {
    "duration": 0,
    "start_time": "2025-01-18T20:18:24.263Z"
   },
   {
    "duration": 0,
    "start_time": "2025-01-18T20:18:24.264Z"
   },
   {
    "duration": 0,
    "start_time": "2025-01-18T20:18:24.271Z"
   },
   {
    "duration": 0,
    "start_time": "2025-01-18T20:18:24.272Z"
   },
   {
    "duration": 1,
    "start_time": "2025-01-18T20:18:24.273Z"
   },
   {
    "duration": 0,
    "start_time": "2025-01-18T20:18:24.275Z"
   },
   {
    "duration": 0,
    "start_time": "2025-01-18T20:18:24.276Z"
   },
   {
    "duration": 0,
    "start_time": "2025-01-18T20:18:24.278Z"
   },
   {
    "duration": 0,
    "start_time": "2025-01-18T20:18:24.279Z"
   },
   {
    "duration": 0,
    "start_time": "2025-01-18T20:18:24.280Z"
   },
   {
    "duration": 0,
    "start_time": "2025-01-18T20:18:24.281Z"
   },
   {
    "duration": 0,
    "start_time": "2025-01-18T20:18:24.282Z"
   },
   {
    "duration": 0,
    "start_time": "2025-01-18T20:18:24.284Z"
   },
   {
    "duration": 0,
    "start_time": "2025-01-18T20:18:24.285Z"
   },
   {
    "duration": 0,
    "start_time": "2025-01-18T20:18:24.286Z"
   },
   {
    "duration": 0,
    "start_time": "2025-01-18T20:18:24.287Z"
   },
   {
    "duration": 0,
    "start_time": "2025-01-18T20:18:24.289Z"
   },
   {
    "duration": 0,
    "start_time": "2025-01-18T20:18:24.290Z"
   },
   {
    "duration": 0,
    "start_time": "2025-01-18T20:18:24.292Z"
   },
   {
    "duration": 0,
    "start_time": "2025-01-18T20:18:24.293Z"
   },
   {
    "duration": 0,
    "start_time": "2025-01-18T20:18:24.295Z"
   },
   {
    "duration": 0,
    "start_time": "2025-01-18T20:18:24.296Z"
   },
   {
    "duration": 0,
    "start_time": "2025-01-18T20:18:24.298Z"
   },
   {
    "duration": 0,
    "start_time": "2025-01-18T20:18:24.299Z"
   },
   {
    "duration": 0,
    "start_time": "2025-01-18T20:18:24.301Z"
   },
   {
    "duration": 0,
    "start_time": "2025-01-18T20:18:24.356Z"
   },
   {
    "duration": 0,
    "start_time": "2025-01-18T20:18:24.357Z"
   },
   {
    "duration": 0,
    "start_time": "2025-01-18T20:18:24.358Z"
   },
   {
    "duration": 0,
    "start_time": "2025-01-18T20:18:24.359Z"
   },
   {
    "duration": 0,
    "start_time": "2025-01-18T20:18:24.360Z"
   },
   {
    "duration": 0,
    "start_time": "2025-01-18T20:18:24.361Z"
   },
   {
    "duration": 0,
    "start_time": "2025-01-18T20:18:24.362Z"
   },
   {
    "duration": 0,
    "start_time": "2025-01-18T20:18:24.363Z"
   },
   {
    "duration": 0,
    "start_time": "2025-01-18T20:18:24.364Z"
   },
   {
    "duration": 0,
    "start_time": "2025-01-18T20:18:24.365Z"
   },
   {
    "duration": 0,
    "start_time": "2025-01-18T20:18:24.367Z"
   },
   {
    "duration": 0,
    "start_time": "2025-01-18T20:18:24.368Z"
   },
   {
    "duration": 0,
    "start_time": "2025-01-18T20:18:24.368Z"
   },
   {
    "duration": 0,
    "start_time": "2025-01-18T20:18:24.369Z"
   },
   {
    "duration": 0,
    "start_time": "2025-01-18T20:18:24.372Z"
   },
   {
    "duration": 0,
    "start_time": "2025-01-18T20:18:24.373Z"
   },
   {
    "duration": 0,
    "start_time": "2025-01-18T20:18:24.374Z"
   },
   {
    "duration": 0,
    "start_time": "2025-01-18T20:18:24.375Z"
   },
   {
    "duration": 0,
    "start_time": "2025-01-18T20:18:24.375Z"
   },
   {
    "duration": 0,
    "start_time": "2025-01-18T20:18:24.376Z"
   },
   {
    "duration": 0,
    "start_time": "2025-01-18T20:18:24.377Z"
   },
   {
    "duration": 5,
    "start_time": "2025-01-18T20:18:57.876Z"
   },
   {
    "duration": 12,
    "start_time": "2025-01-18T20:19:03.771Z"
   },
   {
    "duration": 25,
    "start_time": "2025-01-18T20:19:04.570Z"
   },
   {
    "duration": 3292,
    "start_time": "2025-01-18T20:19:06.079Z"
   },
   {
    "duration": 5,
    "start_time": "2025-01-18T20:19:10.537Z"
   },
   {
    "duration": 2,
    "start_time": "2025-01-18T20:19:10.544Z"
   },
   {
    "duration": 9,
    "start_time": "2025-01-18T20:19:10.548Z"
   },
   {
    "duration": 25,
    "start_time": "2025-01-18T20:19:10.563Z"
   },
   {
    "duration": 9,
    "start_time": "2025-01-18T20:19:10.590Z"
   },
   {
    "duration": 3,
    "start_time": "2025-01-18T20:19:10.600Z"
   },
   {
    "duration": 3,
    "start_time": "2025-01-18T20:19:10.605Z"
   },
   {
    "duration": 4,
    "start_time": "2025-01-18T20:19:10.609Z"
   },
   {
    "duration": 46,
    "start_time": "2025-01-18T20:19:10.614Z"
   },
   {
    "duration": 9,
    "start_time": "2025-01-18T20:19:10.663Z"
   },
   {
    "duration": 6,
    "start_time": "2025-01-18T20:19:10.674Z"
   },
   {
    "duration": 6,
    "start_time": "2025-01-18T20:19:10.682Z"
   },
   {
    "duration": 28,
    "start_time": "2025-01-18T20:19:10.689Z"
   },
   {
    "duration": 682670,
    "start_time": "2025-01-18T20:19:10.720Z"
   },
   {
    "duration": 0,
    "start_time": "2025-01-18T20:30:33.393Z"
   },
   {
    "duration": 0,
    "start_time": "2025-01-18T20:30:33.394Z"
   },
   {
    "duration": 0,
    "start_time": "2025-01-18T20:30:33.396Z"
   },
   {
    "duration": 0,
    "start_time": "2025-01-18T20:30:33.397Z"
   },
   {
    "duration": 0,
    "start_time": "2025-01-18T20:30:33.398Z"
   },
   {
    "duration": 0,
    "start_time": "2025-01-18T20:30:33.399Z"
   },
   {
    "duration": 0,
    "start_time": "2025-01-18T20:30:33.400Z"
   },
   {
    "duration": 0,
    "start_time": "2025-01-18T20:30:33.401Z"
   },
   {
    "duration": 0,
    "start_time": "2025-01-18T20:30:33.402Z"
   },
   {
    "duration": 0,
    "start_time": "2025-01-18T20:30:33.403Z"
   },
   {
    "duration": 0,
    "start_time": "2025-01-18T20:30:33.404Z"
   },
   {
    "duration": 0,
    "start_time": "2025-01-18T20:30:33.405Z"
   },
   {
    "duration": 0,
    "start_time": "2025-01-18T20:30:33.406Z"
   },
   {
    "duration": 0,
    "start_time": "2025-01-18T20:30:33.407Z"
   },
   {
    "duration": 0,
    "start_time": "2025-01-18T20:30:33.408Z"
   },
   {
    "duration": 0,
    "start_time": "2025-01-18T20:30:33.410Z"
   },
   {
    "duration": 0,
    "start_time": "2025-01-18T20:30:33.411Z"
   },
   {
    "duration": 0,
    "start_time": "2025-01-18T20:30:33.412Z"
   },
   {
    "duration": 0,
    "start_time": "2025-01-18T20:30:33.457Z"
   },
   {
    "duration": 0,
    "start_time": "2025-01-18T20:30:33.458Z"
   },
   {
    "duration": 0,
    "start_time": "2025-01-18T20:30:33.459Z"
   },
   {
    "duration": 0,
    "start_time": "2025-01-18T20:30:33.460Z"
   },
   {
    "duration": 0,
    "start_time": "2025-01-18T20:30:33.461Z"
   },
   {
    "duration": 0,
    "start_time": "2025-01-18T20:30:33.462Z"
   },
   {
    "duration": 0,
    "start_time": "2025-01-18T20:30:33.463Z"
   },
   {
    "duration": 0,
    "start_time": "2025-01-18T20:30:33.464Z"
   },
   {
    "duration": 0,
    "start_time": "2025-01-18T20:30:33.465Z"
   },
   {
    "duration": 0,
    "start_time": "2025-01-18T20:30:33.466Z"
   },
   {
    "duration": 0,
    "start_time": "2025-01-18T20:30:33.467Z"
   },
   {
    "duration": 0,
    "start_time": "2025-01-18T20:30:33.468Z"
   },
   {
    "duration": 0,
    "start_time": "2025-01-18T20:30:33.469Z"
   },
   {
    "duration": 0,
    "start_time": "2025-01-18T20:30:33.470Z"
   },
   {
    "duration": 0,
    "start_time": "2025-01-18T20:30:33.471Z"
   },
   {
    "duration": 0,
    "start_time": "2025-01-18T20:30:33.472Z"
   },
   {
    "duration": 0,
    "start_time": "2025-01-18T20:30:33.473Z"
   },
   {
    "duration": 1,
    "start_time": "2025-01-18T20:30:33.474Z"
   },
   {
    "duration": 0,
    "start_time": "2025-01-18T20:30:33.476Z"
   },
   {
    "duration": 0,
    "start_time": "2025-01-18T20:30:33.477Z"
   },
   {
    "duration": 0,
    "start_time": "2025-01-18T20:30:33.478Z"
   },
   {
    "duration": 0,
    "start_time": "2025-01-18T20:30:33.479Z"
   },
   {
    "duration": 0,
    "start_time": "2025-01-18T20:30:33.480Z"
   },
   {
    "duration": 0,
    "start_time": "2025-01-18T20:30:33.481Z"
   },
   {
    "duration": 0,
    "start_time": "2025-01-18T20:30:33.482Z"
   },
   {
    "duration": 0,
    "start_time": "2025-01-18T20:30:33.483Z"
   },
   {
    "duration": 0,
    "start_time": "2025-01-18T20:30:33.484Z"
   },
   {
    "duration": 0,
    "start_time": "2025-01-18T20:30:33.485Z"
   },
   {
    "duration": 0,
    "start_time": "2025-01-18T20:30:33.488Z"
   },
   {
    "duration": 0,
    "start_time": "2025-01-18T20:30:33.499Z"
   },
   {
    "duration": 5,
    "start_time": "2025-01-18T20:30:35.289Z"
   },
   {
    "duration": 3,
    "start_time": "2025-01-18T20:30:36.083Z"
   },
   {
    "duration": 31,
    "start_time": "2025-01-18T20:30:36.886Z"
   },
   {
    "duration": 213018,
    "start_time": "2025-01-18T20:30:37.729Z"
   },
   {
    "duration": 0,
    "start_time": "2025-01-18T20:34:10.749Z"
   },
   {
    "duration": 0,
    "start_time": "2025-01-18T20:34:10.760Z"
   },
   {
    "duration": 0,
    "start_time": "2025-01-18T20:34:10.763Z"
   },
   {
    "duration": 0,
    "start_time": "2025-01-18T20:34:10.768Z"
   },
   {
    "duration": 4,
    "start_time": "2025-01-18T20:34:13.318Z"
   },
   {
    "duration": 3,
    "start_time": "2025-01-18T20:34:18.942Z"
   },
   {
    "duration": 36,
    "start_time": "2025-01-18T20:34:19.661Z"
   },
   {
    "duration": 3074,
    "start_time": "2025-01-18T20:34:24.661Z"
   },
   {
    "duration": 4,
    "start_time": "2025-01-18T20:34:41.184Z"
   },
   {
    "duration": 4,
    "start_time": "2025-01-18T20:34:41.782Z"
   },
   {
    "duration": 22,
    "start_time": "2025-01-18T20:34:42.381Z"
   },
   {
    "duration": 35,
    "start_time": "2025-01-18T20:34:44.262Z"
   },
   {
    "duration": 3,
    "start_time": "2025-01-18T20:34:48.089Z"
   },
   {
    "duration": 265,
    "start_time": "2025-01-18T20:34:48.094Z"
   },
   {
    "duration": 31,
    "start_time": "2025-01-18T20:34:48.365Z"
   },
   {
    "duration": 1341,
    "start_time": "2025-01-18T20:34:48.397Z"
   },
   {
    "duration": 3,
    "start_time": "2025-01-18T20:34:49.741Z"
   },
   {
    "duration": 297,
    "start_time": "2025-01-18T20:34:49.755Z"
   },
   {
    "duration": 35,
    "start_time": "2025-01-18T20:34:50.057Z"
   },
   {
    "duration": 762,
    "start_time": "2025-01-18T20:34:50.094Z"
   },
   {
    "duration": 28039,
    "start_time": "2025-01-18T20:34:50.860Z"
   },
   {
    "duration": 0,
    "start_time": "2025-01-18T20:35:18.902Z"
   },
   {
    "duration": 0,
    "start_time": "2025-01-18T20:35:18.903Z"
   },
   {
    "duration": 0,
    "start_time": "2025-01-18T20:35:18.905Z"
   },
   {
    "duration": 0,
    "start_time": "2025-01-18T20:35:18.906Z"
   },
   {
    "duration": 0,
    "start_time": "2025-01-18T20:35:18.908Z"
   },
   {
    "duration": 0,
    "start_time": "2025-01-18T20:35:18.909Z"
   },
   {
    "duration": 0,
    "start_time": "2025-01-18T20:35:18.910Z"
   },
   {
    "duration": 0,
    "start_time": "2025-01-18T20:35:18.911Z"
   },
   {
    "duration": 0,
    "start_time": "2025-01-18T20:35:18.913Z"
   },
   {
    "duration": 0,
    "start_time": "2025-01-18T20:35:18.914Z"
   },
   {
    "duration": 0,
    "start_time": "2025-01-18T20:35:18.915Z"
   },
   {
    "duration": 0,
    "start_time": "2025-01-18T20:35:18.916Z"
   },
   {
    "duration": 0,
    "start_time": "2025-01-18T20:35:18.917Z"
   },
   {
    "duration": 0,
    "start_time": "2025-01-18T20:35:18.918Z"
   },
   {
    "duration": 0,
    "start_time": "2025-01-18T20:35:18.919Z"
   },
   {
    "duration": 0,
    "start_time": "2025-01-18T20:35:18.921Z"
   },
   {
    "duration": 0,
    "start_time": "2025-01-18T20:35:18.922Z"
   },
   {
    "duration": 0,
    "start_time": "2025-01-18T20:35:18.934Z"
   },
   {
    "duration": 0,
    "start_time": "2025-01-18T20:35:18.935Z"
   },
   {
    "duration": 0,
    "start_time": "2025-01-18T20:35:18.937Z"
   },
   {
    "duration": 0,
    "start_time": "2025-01-18T20:35:18.939Z"
   },
   {
    "duration": 0,
    "start_time": "2025-01-18T20:35:18.939Z"
   },
   {
    "duration": 1,
    "start_time": "2025-01-18T20:35:18.940Z"
   },
   {
    "duration": 0,
    "start_time": "2025-01-18T20:35:18.953Z"
   },
   {
    "duration": 0,
    "start_time": "2025-01-18T20:35:18.954Z"
   },
   {
    "duration": 0,
    "start_time": "2025-01-18T20:35:18.955Z"
   },
   {
    "duration": 0,
    "start_time": "2025-01-18T20:35:18.955Z"
   },
   {
    "duration": 0,
    "start_time": "2025-01-18T20:35:18.956Z"
   },
   {
    "duration": 0,
    "start_time": "2025-01-18T20:35:18.961Z"
   },
   {
    "duration": 0,
    "start_time": "2025-01-18T20:35:18.962Z"
   },
   {
    "duration": 0,
    "start_time": "2025-01-18T20:35:18.962Z"
   },
   {
    "duration": 0,
    "start_time": "2025-01-18T20:35:18.963Z"
   },
   {
    "duration": 0,
    "start_time": "2025-01-18T20:35:18.968Z"
   },
   {
    "duration": 0,
    "start_time": "2025-01-18T20:35:18.969Z"
   },
   {
    "duration": 38246,
    "start_time": "2025-01-18T20:35:31.414Z"
   },
   {
    "duration": 4,
    "start_time": "2025-01-18T20:36:13.934Z"
   },
   {
    "duration": 7,
    "start_time": "2025-01-18T20:36:14.262Z"
   },
   {
    "duration": 5,
    "start_time": "2025-01-18T20:36:14.499Z"
   },
   {
    "duration": 3,
    "start_time": "2025-01-18T20:36:14.722Z"
   },
   {
    "duration": 286,
    "start_time": "2025-01-18T20:36:14.961Z"
   },
   {
    "duration": 4,
    "start_time": "2025-01-18T20:37:54.742Z"
   },
   {
    "duration": 277,
    "start_time": "2025-01-18T20:38:14.762Z"
   },
   {
    "duration": 335,
    "start_time": "2025-01-18T20:40:19.141Z"
   },
   {
    "duration": 950,
    "start_time": "2025-01-18T20:40:57.490Z"
   },
   {
    "duration": 3,
    "start_time": "2025-01-18T20:42:14.790Z"
   },
   {
    "duration": 66,
    "start_time": "2025-01-18T20:42:15.348Z"
   },
   {
    "duration": 3,
    "start_time": "2025-01-18T20:42:17.143Z"
   },
   {
    "duration": 412,
    "start_time": "2025-01-18T20:42:18.065Z"
   },
   {
    "duration": 0,
    "start_time": "2025-01-18T20:42:18.479Z"
   },
   {
    "duration": 30,
    "start_time": "2025-01-18T20:43:18.552Z"
   },
   {
    "duration": 4,
    "start_time": "2025-01-18T20:43:22.503Z"
   },
   {
    "duration": 12,
    "start_time": "2025-01-18T20:43:25.845Z"
   },
   {
    "duration": 1464,
    "start_time": "2025-01-18T20:43:28.183Z"
   },
   {
    "duration": 11703,
    "start_time": "2025-01-18T20:44:14.766Z"
   },
   {
    "duration": 3209,
    "start_time": "2025-01-18T20:44:41.943Z"
   },
   {
    "duration": 26,
    "start_time": "2025-01-18T20:44:45.154Z"
   },
   {
    "duration": 318,
    "start_time": "2025-01-18T20:44:45.182Z"
   },
   {
    "duration": 99,
    "start_time": "2025-01-18T20:44:45.503Z"
   },
   {
    "duration": 49,
    "start_time": "2025-01-18T20:44:45.604Z"
   },
   {
    "duration": 19,
    "start_time": "2025-01-18T20:44:45.659Z"
   },
   {
    "duration": 14,
    "start_time": "2025-01-18T20:44:45.679Z"
   },
   {
    "duration": 20,
    "start_time": "2025-01-18T20:44:45.695Z"
   },
   {
    "duration": 10,
    "start_time": "2025-01-18T20:44:45.718Z"
   },
   {
    "duration": 6,
    "start_time": "2025-01-18T20:44:45.753Z"
   },
   {
    "duration": 6,
    "start_time": "2025-01-18T20:44:45.761Z"
   },
   {
    "duration": 15,
    "start_time": "2025-01-18T20:44:46.166Z"
   },
   {
    "duration": 6,
    "start_time": "2025-01-18T20:44:46.383Z"
   },
   {
    "duration": 4,
    "start_time": "2025-01-18T20:44:46.603Z"
   },
   {
    "duration": 5,
    "start_time": "2025-01-18T20:44:47.004Z"
   },
   {
    "duration": 6,
    "start_time": "2025-01-18T20:44:47.182Z"
   },
   {
    "duration": 6,
    "start_time": "2025-01-18T20:44:47.384Z"
   },
   {
    "duration": 10,
    "start_time": "2025-01-18T20:44:48.023Z"
   },
   {
    "duration": 8,
    "start_time": "2025-01-18T20:44:48.264Z"
   },
   {
    "duration": 8,
    "start_time": "2025-01-18T20:44:48.466Z"
   },
   {
    "duration": 7,
    "start_time": "2025-01-18T20:44:48.663Z"
   },
   {
    "duration": 9,
    "start_time": "2025-01-18T20:44:49.106Z"
   },
   {
    "duration": 5,
    "start_time": "2025-01-18T20:44:50.366Z"
   },
   {
    "duration": 3,
    "start_time": "2025-01-18T20:44:50.583Z"
   },
   {
    "duration": 20,
    "start_time": "2025-01-18T20:44:50.764Z"
   },
   {
    "duration": 11,
    "start_time": "2025-01-18T20:44:51.025Z"
   },
   {
    "duration": 3,
    "start_time": "2025-01-18T20:44:52.086Z"
   },
   {
    "duration": 15,
    "start_time": "2025-01-18T20:44:52.723Z"
   },
   {
    "duration": 8,
    "start_time": "2025-01-18T20:44:52.923Z"
   },
   {
    "duration": 6,
    "start_time": "2025-01-18T20:44:53.120Z"
   },
   {
    "duration": 9,
    "start_time": "2025-01-18T20:44:53.365Z"
   },
   {
    "duration": 7,
    "start_time": "2025-01-18T20:44:53.803Z"
   },
   {
    "duration": 4,
    "start_time": "2025-01-18T20:44:54.483Z"
   },
   {
    "duration": 4,
    "start_time": "2025-01-18T20:44:54.684Z"
   },
   {
    "duration": 15,
    "start_time": "2025-01-18T20:44:54.904Z"
   },
   {
    "duration": 3,
    "start_time": "2025-01-18T20:44:55.087Z"
   },
   {
    "duration": 3,
    "start_time": "2025-01-18T20:44:55.324Z"
   },
   {
    "duration": 4,
    "start_time": "2025-01-18T20:44:55.512Z"
   },
   {
    "duration": 5,
    "start_time": "2025-01-18T20:44:55.743Z"
   },
   {
    "duration": 12,
    "start_time": "2025-01-18T20:44:56.664Z"
   },
   {
    "duration": 9,
    "start_time": "2025-01-18T20:44:56.886Z"
   },
   {
    "duration": 6,
    "start_time": "2025-01-18T20:44:57.080Z"
   },
   {
    "duration": 5,
    "start_time": "2025-01-18T20:44:57.303Z"
   },
   {
    "duration": 8,
    "start_time": "2025-01-18T20:44:57.521Z"
   },
   {
    "duration": 4,
    "start_time": "2025-01-18T20:45:01.304Z"
   },
   {
    "duration": 9,
    "start_time": "2025-01-18T20:45:01.471Z"
   },
   {
    "duration": 780,
    "start_time": "2025-01-18T20:45:01.664Z"
   },
   {
    "duration": 5,
    "start_time": "2025-01-18T20:45:02.583Z"
   },
   {
    "duration": 5,
    "start_time": "2025-01-18T20:45:02.825Z"
   },
   {
    "duration": 6,
    "start_time": "2025-01-18T20:45:03.267Z"
   },
   {
    "duration": 5,
    "start_time": "2025-01-18T20:45:03.723Z"
   },
   {
    "duration": 387,
    "start_time": "2025-01-18T20:45:04.423Z"
   },
   {
    "duration": 468,
    "start_time": "2025-01-18T20:45:04.811Z"
   },
   {
    "duration": 16,
    "start_time": "2025-01-18T20:45:05.280Z"
   },
   {
    "duration": 18,
    "start_time": "2025-01-18T20:45:05.323Z"
   },
   {
    "duration": 6,
    "start_time": "2025-01-18T20:45:06.022Z"
   },
   {
    "duration": 152,
    "start_time": "2025-01-18T20:45:06.223Z"
   },
   {
    "duration": 157,
    "start_time": "2025-01-18T20:45:07.221Z"
   },
   {
    "duration": 12,
    "start_time": "2025-01-18T20:45:09.266Z"
   },
   {
    "duration": 5,
    "start_time": "2025-01-18T20:45:09.623Z"
   },
   {
    "duration": 5,
    "start_time": "2025-01-18T20:45:10.103Z"
   },
   {
    "duration": 5,
    "start_time": "2025-01-18T20:45:10.503Z"
   },
   {
    "duration": 6,
    "start_time": "2025-01-18T20:45:10.902Z"
   },
   {
    "duration": 147,
    "start_time": "2025-01-18T20:45:11.283Z"
   },
   {
    "duration": 18,
    "start_time": "2025-01-18T20:45:50.243Z"
   },
   {
    "duration": 39,
    "start_time": "2025-01-18T20:45:50.924Z"
   },
   {
    "duration": 3375,
    "start_time": "2025-01-18T20:45:52.651Z"
   },
   {
    "duration": 6,
    "start_time": "2025-01-18T20:45:56.028Z"
   },
   {
    "duration": 7,
    "start_time": "2025-01-18T20:45:56.035Z"
   },
   {
    "duration": 8,
    "start_time": "2025-01-18T20:45:56.043Z"
   },
   {
    "duration": 24,
    "start_time": "2025-01-18T20:45:56.380Z"
   },
   {
    "duration": 8,
    "start_time": "2025-01-18T20:45:57.383Z"
   },
   {
    "duration": 4,
    "start_time": "2025-01-18T20:45:58.104Z"
   },
   {
    "duration": 12,
    "start_time": "2025-01-18T20:45:59.932Z"
   },
   {
    "duration": 1354,
    "start_time": "2025-01-18T20:48:27.674Z"
   },
   {
    "duration": 2940,
    "start_time": "2025-01-18T20:48:40.430Z"
   }
  ],
  "kernelspec": {
   "display_name": "Python 3 (ipykernel)",
   "language": "python",
   "name": "python3"
  },
  "language_info": {
   "codemirror_mode": {
    "name": "ipython",
    "version": 3
   },
   "file_extension": ".py",
   "mimetype": "text/x-python",
   "name": "python",
   "nbconvert_exporter": "python",
   "pygments_lexer": "ipython3",
   "version": "3.9.5"
  },
  "toc": {
   "base_numbering": 1,
   "nav_menu": {},
   "number_sections": true,
   "sideBar": true,
   "skip_h1_title": true,
   "title_cell": "Table of Contents",
   "title_sidebar": "Contents",
   "toc_cell": false,
   "toc_position": {
    "height": "calc(100% - 180px)",
    "left": "10px",
    "top": "150px",
    "width": "177px"
   },
   "toc_section_display": true,
   "toc_window_display": true
  }
 },
 "nbformat": 4,
 "nbformat_minor": 2
}
